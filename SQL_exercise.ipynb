{
  "nbformat": 4,
  "nbformat_minor": 0,
  "metadata": {
    "colab": {
      "name": "SQL_exercise",
      "provenance": [],
      "collapsed_sections": [],
      "toc_visible": true,
      "authorship_tag": "ABX9TyMJt6NSMf/PhCaKRYBrl04V",
      "include_colab_link": true
    },
    "kernelspec": {
      "name": "python3",
      "display_name": "Python 3"
    }
  },
  "cells": [
    {
      "cell_type": "markdown",
      "metadata": {
        "id": "view-in-github",
        "colab_type": "text"
      },
      "source": [
        "<a href=\"https://colab.research.google.com/github/bhouldridge/repertoire/blob/main/SQL_exercise.ipynb\" target=\"_parent\"><img src=\"https://colab.research.google.com/assets/colab-badge.svg\" alt=\"Open In Colab\"/></a>"
      ]
    },
    {
      "cell_type": "markdown",
      "metadata": {
        "id": "Int8OYAKX9cJ"
      },
      "source": [
        "# SQL Project Specifications"
      ]
    },
    {
      "cell_type": "markdown",
      "metadata": {
        "id": "4rUiohSdXshN"
      },
      "source": [
        "The goal of this project is to demonstrate the ability to pull data from an SQL database and to perform exploratory data analysis on that data. \n",
        "\n",
        "1. **Pick a dataset that interests you** (or multiple data sets) from the Open Data Sets available from Google BigQuery. \n",
        "1. **Come up with questions about your data**\n",
        "  - What sort of information is in this dataset?\n",
        "  - How many records are there?\n",
        "  - Have the number of bitcoin transactions increased year over year?\n",
        "  - Does New Mexico get more or less rain now than 20 years ago? \n",
        "  - How many different countries (states, counties, cities, etc) have records in this data set? \n",
        "1.  **Use SQL queries to pull the specific information for your questions.**  Make sure and use AT LEAST 13 of the 15 SQL options listed below.  (You may have to get creative and come up with more questions to ask/answer.)\n",
        "  - Basic Queries\n",
        "      -  SELECT  (with * and with column names)\n",
        "      -  WHERE \n",
        "      -  AND\n",
        "      -  OR\n",
        "      -  LIKE (with % or _ wildcard)\n",
        "      -  BETWEEN\n",
        "      -  LIMIT\n",
        "  - Sorting and Grouping\n",
        "      -  ORDER BY\n",
        "      -  DISTINCT\n",
        "      -  GROUP BY\n",
        "  - Aggregates\n",
        "      -  MAX\n",
        "      -  MIN\n",
        "      -  SUM\n",
        "      -  AVG\n",
        "      -  COUNT\n",
        "1. **Make some plots.** Make some cool plots to go with your data. Write SQL queries to get ONLY the information you need for each plot.  (Don't pull ALL the data and then just plot a few columns.)\n",
        "\n",
        "**EXTRA CREDIT:**  \n",
        "- Use a query that joins two tables.  \n"
      ]
    },
    {
      "cell_type": "markdown",
      "metadata": {
        "id": "5iU347yQ9I7w"
      },
      "source": [
        "#DataSet"
      ]
    },
    {
      "cell_type": "markdown",
      "metadata": {
        "id": "Sj8M4DexAnhf"
      },
      "source": [
        "##Imports and Authenticate"
      ]
    },
    {
      "cell_type": "code",
      "metadata": {
        "id": "gm3VyJJ89RNr"
      },
      "source": [
        "from google.cloud import bigquery\n",
        "from google.colab import auth\n",
        "import pandas as pd\n",
        "import plotly.express as px\n",
        "import plotly.graph_objects as go\n",
        "\n",
        "auth.authenticate_user()"
      ],
      "execution_count": null,
      "outputs": []
    },
    {
      "cell_type": "markdown",
      "metadata": {
        "id": "-EUv39KwAs9k"
      },
      "source": [
        "##Set Up Client"
      ]
    },
    {
      "cell_type": "code",
      "metadata": {
        "id": "BX31f8rWAl65"
      },
      "source": [
        "project_id = 'project-5-288217'\n",
        "client = bigquery.Client(project=project_id)"
      ],
      "execution_count": null,
      "outputs": []
    },
    {
      "cell_type": "markdown",
      "metadata": {
        "id": "tdgJCLw7nzbd"
      },
      "source": [
        "##About Dataset"
      ]
    },
    {
      "cell_type": "markdown",
      "metadata": {
        "id": "4617tTiKn2RP"
      },
      "source": [
        "Internet Archive eBook data includes the complete full text of all Internet Archive books published 1800-1922 and all books in the American Libraries collection for which English-language full text was available using the search “collection:(americana)”. These collections have been processed using the GDELT Global Knowledge Graph and are available in Google BigQuery. More than a billion pages stretching back 215 years have been examined to compile a list of all people, organizations, and other names, fulltext geocoded to render them fully mappable, and more than 4,500 emotions and themes compiled. All of this computed metadata is combined with all available book-level metadata, including title, author, publisher, and subject tags as provided by the contributing libraries.\n",
        "\n",
        "HathiTrust data includes all English language public domain books 1800-2015. They were provided as part of a special research extract and only public domain volumes are included."
      ]
    },
    {
      "cell_type": "markdown",
      "metadata": {
        "id": "1B_LAwwCBMgS"
      },
      "source": [
        "##Set Up Dataset Referance"
      ]
    },
    {
      "cell_type": "code",
      "metadata": {
        "id": "fxh9HFC9BTne"
      },
      "source": [
        "dataset_ref = client.dataset('internetarchivebooks', project='gdelt-bq')\n",
        "dataset = client.get_dataset(dataset_ref)"
      ],
      "execution_count": null,
      "outputs": []
    },
    {
      "cell_type": "markdown",
      "metadata": {
        "id": "ft_yMxhfhyXX"
      },
      "source": [
        "##Print Tables in Dataset"
      ]
    },
    {
      "cell_type": "code",
      "metadata": {
        "id": "d0CJIB2lCXb1",
        "outputId": "9e09be39-b49d-477d-b360-034aa69f2930",
        "colab": {
          "base_uri": "https://localhost:8080/",
          "height": 54
        }
      },
      "source": [
        "tables = list(client.list_tables(dataset))\n",
        "print([table.table_id for table in tables])"
      ],
      "execution_count": null,
      "outputs": [
        {
          "output_type": "stream",
          "text": [
            "['1800', '1801', '1802', '1803', '1804', '1805', '1806', '1807', '1808', '1809', '1810', '1811', '1812', '1813', '1814', '1815', '1816', '1817', '1818', '1819', '1820', '1821', '1822', '1823', '1824', '1825', '1826', '1827', '1828', '1829', '1830', '1831', '1832', '1833', '1834', '1835', '1836', '1837', '1838', '1839', '1840', '1841', '1842', '1843', '1844', '1845', '1846', '1847', '1848', '1849', '1850', '1851', '1852', '1853', '1854', '1855', '1856', '1857', '1858', '1859', '1860', '1861', '1862', '1863', '1864', '1865', '1866', '1867', '1868', '1869', '1870', '1871', '1872', '1873', '1874', '1875', '1876', '1877', '1878', '1879', '1880', '1881', '1882', '1883', '1884', '1885', '1886', '1887', '1888', '1889', '1890', '1891', '1892', '1893', '1894', '1895', '1896', '1897', '1898', '1899', '1900', '1901', '1902', '1903', '1904', '1905', '1906', '1907', '1908', '1909', '1910', '1911', '1912', '1913', '1914', '1915', '1916', '1917', '1918', '1919', '1920', '1921', '1922', '1923notxt', '1924notxt', '1925notxt', '1926notxt', '1927notxt', '1928notxt', '1929notxt', '1930notxt', '1931notxt', '1932notxt', '1933notxt', '1934notxt', '1935notxt', '1936notxt', '1937notxt', '1938notxt', '1939notxt', '1940notxt', '1941notxt', '1942notxt', '1943notxt', '1944notxt', '1945notxt', '1946notxt', '1947notxt', '1948notxt', '1949notxt', '1950notxt', '1951notxt', '1952notxt', '1953notxt', '1954notxt', '1955notxt', '1956notxt', '1957notxt', '1958notxt', '1959notxt', '1960notxt', '1961notxt', '1962notxt', '1963notxt', '1964notxt', '1965notxt', '1966notxt', '1967notxt', '1968notxt', '1969notxt', '1970notxt', '1971notxt', '1972notxt', '1973notxt', '1974notxt', '1975notxt', '1976notxt', '1977noftxt', '1978notxt', '1979notxt', '1980notxt', '1981notxt', '1982notxt', '1983notxt', '1984notxt', '1985notxt', '1986notxt', '1987notxt', '1988notxt', '1989notxt', '1990notxt', '1991notxt', '1992notxt', '1993notxt', '1994notxt', '1995notxt', '1996notxt', '1997notxt', '1998notxt', '1999notxt', '2000notxt', '2001notxt', '2002notxt', '2003notxt', '2004notxt', '2005notxt', '2006notxt', '2007notxt', '2008notxt', '2009notxt', '2010notxt', '2011notxt', '2012notxt', '2013notxt', '2014notxt']\n"
          ],
          "name": "stdout"
        }
      ]
    },
    {
      "cell_type": "markdown",
      "metadata": {
        "id": "W9uT1qheBR5x"
      },
      "source": [
        "##Set Up Table Referances"
      ]
    },
    {
      "cell_type": "code",
      "metadata": {
        "id": "RvjwYqbfBRc6"
      },
      "source": [
        "table_ref_1842 = dataset.table('1842')\n",
        "table_ref_1942notxt = dataset.table('1942notxt')"
      ],
      "execution_count": null,
      "outputs": []
    },
    {
      "cell_type": "markdown",
      "metadata": {
        "id": "w9GEdUnqoC7p"
      },
      "source": [
        "##Look at Schema"
      ]
    },
    {
      "cell_type": "code",
      "metadata": {
        "id": "eXiPxQDkQRi6",
        "outputId": "3e712afa-54f1-470b-cefd-5a598a311e72",
        "colab": {
          "base_uri": "https://localhost:8080/",
          "height": 816
        }
      },
      "source": [
        "table_1842 = client.get_table(table_ref_1842)\n",
        "table_1842.schema"
      ],
      "execution_count": null,
      "outputs": [
        {
          "output_type": "execute_result",
          "data": {
            "text/plain": [
              "[SchemaField('GKGRECORDID', 'STRING', 'NULLABLE', None, ()),\n",
              " SchemaField('DATE', 'INTEGER', 'NULLABLE', None, ()),\n",
              " SchemaField('SourceCollectionIdentifier', 'INTEGER', 'NULLABLE', None, ()),\n",
              " SchemaField('SourceCommonName', 'STRING', 'NULLABLE', None, ()),\n",
              " SchemaField('DocumentIdentifier', 'STRING', 'NULLABLE', None, ()),\n",
              " SchemaField('Counts', 'STRING', 'NULLABLE', None, ()),\n",
              " SchemaField('V2Counts', 'STRING', 'NULLABLE', None, ()),\n",
              " SchemaField('Themes', 'STRING', 'NULLABLE', None, ()),\n",
              " SchemaField('V2Themes', 'STRING', 'NULLABLE', None, ()),\n",
              " SchemaField('Locations', 'STRING', 'NULLABLE', None, ()),\n",
              " SchemaField('V2Locations', 'STRING', 'NULLABLE', None, ()),\n",
              " SchemaField('Persons', 'STRING', 'NULLABLE', None, ()),\n",
              " SchemaField('V2Persons', 'STRING', 'NULLABLE', None, ()),\n",
              " SchemaField('Organizations', 'STRING', 'NULLABLE', None, ()),\n",
              " SchemaField('V2Organizations', 'STRING', 'NULLABLE', None, ()),\n",
              " SchemaField('V2Tone', 'STRING', 'NULLABLE', None, ()),\n",
              " SchemaField('Dates', 'STRING', 'NULLABLE', None, ()),\n",
              " SchemaField('GCAM', 'STRING', 'NULLABLE', None, ()),\n",
              " SchemaField('SharingImage', 'STRING', 'NULLABLE', None, ()),\n",
              " SchemaField('RelatedImages', 'STRING', 'NULLABLE', None, ()),\n",
              " SchemaField('SocialImageEmbeds', 'STRING', 'NULLABLE', None, ()),\n",
              " SchemaField('SocialVideoEmbeds', 'STRING', 'NULLABLE', None, ()),\n",
              " SchemaField('Quotations', 'STRING', 'NULLABLE', None, ()),\n",
              " SchemaField('AllNames', 'STRING', 'NULLABLE', None, ()),\n",
              " SchemaField('Amounts', 'STRING', 'NULLABLE', None, ()),\n",
              " SchemaField('TranslationInfo', 'STRING', 'NULLABLE', None, ()),\n",
              " SchemaField('Extras', 'STRING', 'NULLABLE', None, ()),\n",
              " SchemaField('BookMeta_Identifier', 'STRING', 'NULLABLE', None, ()),\n",
              " SchemaField('BookMeta_Title', 'STRING', 'NULLABLE', None, ()),\n",
              " SchemaField('BookMeta_Creator', 'STRING', 'NULLABLE', None, ()),\n",
              " SchemaField('BookMeta_Subjects', 'STRING', 'NULLABLE', None, ()),\n",
              " SchemaField('BookMeta_Publisher', 'STRING', 'NULLABLE', None, ()),\n",
              " SchemaField('BookMeta_Language', 'STRING', 'NULLABLE', None, ()),\n",
              " SchemaField('BookMeta_Year', 'STRING', 'NULLABLE', None, ()),\n",
              " SchemaField('BookMeta_Date', 'STRING', 'NULLABLE', None, ()),\n",
              " SchemaField('BookMeta_Sponsor', 'STRING', 'NULLABLE', None, ()),\n",
              " SchemaField('BookMeta_Contributor', 'STRING', 'NULLABLE', None, ()),\n",
              " SchemaField('BookMeta_ScanningCenter', 'STRING', 'NULLABLE', None, ()),\n",
              " SchemaField('BookMeta_Collections', 'STRING', 'NULLABLE', None, ()),\n",
              " SchemaField('BookMeta_AddedDate', 'STRING', 'NULLABLE', None, ()),\n",
              " SchemaField('BookMeta_ScannedImages', 'INTEGER', 'NULLABLE', None, ()),\n",
              " SchemaField('BookMeta_DownloadsJune2015', 'INTEGER', 'NULLABLE', None, ()),\n",
              " SchemaField('BookMeta_CallNumber', 'STRING', 'NULLABLE', None, ()),\n",
              " SchemaField('BookMeta_IdentifierBib', 'STRING', 'NULLABLE', None, ()),\n",
              " SchemaField('BookMeta_IdentifierArk', 'STRING', 'NULLABLE', None, ()),\n",
              " SchemaField('BookMeta_OCLDID', 'STRING', 'NULLABLE', None, ()),\n",
              " SchemaField('BookMeta_FullText', 'STRING', 'NULLABLE', None, ())]"
            ]
          },
          "metadata": {
            "tags": []
          },
          "execution_count": 6
        }
      ]
    },
    {
      "cell_type": "code",
      "metadata": {
        "id": "hNv-zEZSoBmA",
        "outputId": "088ea72d-f906-4410-bb2d-599016b43c1b",
        "colab": {
          "base_uri": "https://localhost:8080/",
          "height": 799
        }
      },
      "source": [
        "table_1942notxt = client.get_table(table_ref_1942notxt)\n",
        "table_1942notxt.schema"
      ],
      "execution_count": null,
      "outputs": [
        {
          "output_type": "execute_result",
          "data": {
            "text/plain": [
              "[SchemaField('GKGRECORDID', 'STRING', 'NULLABLE', None, ()),\n",
              " SchemaField('DATE', 'INTEGER', 'NULLABLE', None, ()),\n",
              " SchemaField('SourceCollectionIdentifier', 'INTEGER', 'NULLABLE', None, ()),\n",
              " SchemaField('SourceCommonName', 'STRING', 'NULLABLE', None, ()),\n",
              " SchemaField('DocumentIdentifier', 'STRING', 'NULLABLE', None, ()),\n",
              " SchemaField('Counts', 'STRING', 'NULLABLE', None, ()),\n",
              " SchemaField('V2Counts', 'STRING', 'NULLABLE', None, ()),\n",
              " SchemaField('Themes', 'STRING', 'NULLABLE', None, ()),\n",
              " SchemaField('V2Themes', 'STRING', 'NULLABLE', None, ()),\n",
              " SchemaField('Locations', 'STRING', 'NULLABLE', None, ()),\n",
              " SchemaField('V2Locations', 'STRING', 'NULLABLE', None, ()),\n",
              " SchemaField('Persons', 'STRING', 'NULLABLE', None, ()),\n",
              " SchemaField('V2Persons', 'STRING', 'NULLABLE', None, ()),\n",
              " SchemaField('Organizations', 'STRING', 'NULLABLE', None, ()),\n",
              " SchemaField('V2Organizations', 'STRING', 'NULLABLE', None, ()),\n",
              " SchemaField('V2Tone', 'STRING', 'NULLABLE', None, ()),\n",
              " SchemaField('Dates', 'STRING', 'NULLABLE', None, ()),\n",
              " SchemaField('GCAM', 'STRING', 'NULLABLE', None, ()),\n",
              " SchemaField('SharingImage', 'STRING', 'NULLABLE', None, ()),\n",
              " SchemaField('RelatedImages', 'STRING', 'NULLABLE', None, ()),\n",
              " SchemaField('SocialImageEmbeds', 'STRING', 'NULLABLE', None, ()),\n",
              " SchemaField('SocialVideoEmbeds', 'STRING', 'NULLABLE', None, ()),\n",
              " SchemaField('Quotations', 'STRING', 'NULLABLE', None, ()),\n",
              " SchemaField('AllNames', 'STRING', 'NULLABLE', None, ()),\n",
              " SchemaField('Amounts', 'STRING', 'NULLABLE', None, ()),\n",
              " SchemaField('TranslationInfo', 'STRING', 'NULLABLE', None, ()),\n",
              " SchemaField('Extras', 'STRING', 'NULLABLE', None, ()),\n",
              " SchemaField('BookMeta_Identifier', 'STRING', 'NULLABLE', None, ()),\n",
              " SchemaField('BookMeta_Title', 'STRING', 'NULLABLE', None, ()),\n",
              " SchemaField('BookMeta_Creator', 'STRING', 'NULLABLE', None, ()),\n",
              " SchemaField('BookMeta_Subjects', 'STRING', 'NULLABLE', None, ()),\n",
              " SchemaField('BookMeta_Publisher', 'STRING', 'NULLABLE', None, ()),\n",
              " SchemaField('BookMeta_Language', 'STRING', 'NULLABLE', None, ()),\n",
              " SchemaField('BookMeta_Year', 'STRING', 'NULLABLE', None, ()),\n",
              " SchemaField('BookMeta_Date', 'STRING', 'NULLABLE', None, ()),\n",
              " SchemaField('BookMeta_Sponsor', 'STRING', 'NULLABLE', None, ()),\n",
              " SchemaField('BookMeta_Contributor', 'STRING', 'NULLABLE', None, ()),\n",
              " SchemaField('BookMeta_ScanningCenter', 'STRING', 'NULLABLE', None, ()),\n",
              " SchemaField('BookMeta_Collections', 'STRING', 'NULLABLE', None, ()),\n",
              " SchemaField('BookMeta_AddedDate', 'STRING', 'NULLABLE', None, ()),\n",
              " SchemaField('BookMeta_ScannedImages', 'INTEGER', 'NULLABLE', None, ()),\n",
              " SchemaField('BookMeta_DownloadsJune2015', 'INTEGER', 'NULLABLE', None, ()),\n",
              " SchemaField('BookMeta_CallNumber', 'STRING', 'NULLABLE', None, ()),\n",
              " SchemaField('BookMeta_IdentifierBib', 'STRING', 'NULLABLE', None, ()),\n",
              " SchemaField('BookMeta_IdentifierArk', 'STRING', 'NULLABLE', None, ()),\n",
              " SchemaField('BookMeta_OCLDID', 'STRING', 'NULLABLE', None, ())]"
            ]
          },
          "metadata": {
            "tags": []
          },
          "execution_count": 7
        }
      ]
    },
    {
      "cell_type": "markdown",
      "metadata": {
        "id": "r87zQOucyzZS"
      },
      "source": [
        "##Are 1842 and 1942 Schema Different?"
      ]
    },
    {
      "cell_type": "code",
      "metadata": {
        "id": "CENNRRfQzC0E",
        "outputId": "07539ab6-f66d-4c3f-8db7-88c2ce11d2ea",
        "colab": {
          "base_uri": "https://localhost:8080/",
          "height": 34
        }
      },
      "source": [
        "str(table_1942notxt.schema) == str(table_1842.schema)"
      ],
      "execution_count": null,
      "outputs": [
        {
          "output_type": "execute_result",
          "data": {
            "text/plain": [
              "False"
            ]
          },
          "metadata": {
            "tags": []
          },
          "execution_count": 8
        }
      ]
    },
    {
      "cell_type": "markdown",
      "metadata": {
        "id": "fFI-fB8JzS8h"
      },
      "source": [
        "Not the same schema but I'm not going to dig through to find out where."
      ]
    },
    {
      "cell_type": "markdown",
      "metadata": {
        "id": "DPJ_eKX9to3a"
      },
      "source": [
        "##Look at Some Entries"
      ]
    },
    {
      "cell_type": "code",
      "metadata": {
        "id": "2TGkR7Sltofq",
        "outputId": "faf212b2-daef-4e77-9b68-ff8ebd264978",
        "colab": {
          "base_uri": "https://localhost:8080/",
          "height": 513
        }
      },
      "source": [
        "query = \"\"\"\n",
        "        SELECT *\n",
        "        FROM `gdelt-bq.internetarchivebooks.1842`\n",
        "        LIMIT 5\n",
        "        \"\"\"\n",
        "df = client.query(query).to_dataframe()\n",
        "df.head(5)"
      ],
      "execution_count": null,
      "outputs": [
        {
          "output_type": "execute_result",
          "data": {
            "text/html": [
              "<div>\n",
              "<style scoped>\n",
              "    .dataframe tbody tr th:only-of-type {\n",
              "        vertical-align: middle;\n",
              "    }\n",
              "\n",
              "    .dataframe tbody tr th {\n",
              "        vertical-align: top;\n",
              "    }\n",
              "\n",
              "    .dataframe thead th {\n",
              "        text-align: right;\n",
              "    }\n",
              "</style>\n",
              "<table border=\"1\" class=\"dataframe\">\n",
              "  <thead>\n",
              "    <tr style=\"text-align: right;\">\n",
              "      <th></th>\n",
              "      <th>GKGRECORDID</th>\n",
              "      <th>DATE</th>\n",
              "      <th>SourceCollectionIdentifier</th>\n",
              "      <th>SourceCommonName</th>\n",
              "      <th>DocumentIdentifier</th>\n",
              "      <th>Counts</th>\n",
              "      <th>V2Counts</th>\n",
              "      <th>Themes</th>\n",
              "      <th>V2Themes</th>\n",
              "      <th>Locations</th>\n",
              "      <th>V2Locations</th>\n",
              "      <th>Persons</th>\n",
              "      <th>V2Persons</th>\n",
              "      <th>Organizations</th>\n",
              "      <th>V2Organizations</th>\n",
              "      <th>V2Tone</th>\n",
              "      <th>Dates</th>\n",
              "      <th>GCAM</th>\n",
              "      <th>SharingImage</th>\n",
              "      <th>RelatedImages</th>\n",
              "      <th>SocialImageEmbeds</th>\n",
              "      <th>SocialVideoEmbeds</th>\n",
              "      <th>Quotations</th>\n",
              "      <th>AllNames</th>\n",
              "      <th>Amounts</th>\n",
              "      <th>TranslationInfo</th>\n",
              "      <th>Extras</th>\n",
              "      <th>BookMeta_Identifier</th>\n",
              "      <th>BookMeta_Title</th>\n",
              "      <th>BookMeta_Creator</th>\n",
              "      <th>BookMeta_Subjects</th>\n",
              "      <th>BookMeta_Publisher</th>\n",
              "      <th>BookMeta_Language</th>\n",
              "      <th>BookMeta_Year</th>\n",
              "      <th>BookMeta_Date</th>\n",
              "      <th>BookMeta_Sponsor</th>\n",
              "      <th>BookMeta_Contributor</th>\n",
              "      <th>BookMeta_ScanningCenter</th>\n",
              "      <th>BookMeta_Collections</th>\n",
              "      <th>BookMeta_AddedDate</th>\n",
              "      <th>BookMeta_ScannedImages</th>\n",
              "      <th>BookMeta_DownloadsJune2015</th>\n",
              "      <th>BookMeta_CallNumber</th>\n",
              "      <th>BookMeta_IdentifierBib</th>\n",
              "      <th>BookMeta_IdentifierArk</th>\n",
              "      <th>BookMeta_OCLDID</th>\n",
              "      <th>BookMeta_FullText</th>\n",
              "    </tr>\n",
              "  </thead>\n",
              "  <tbody>\n",
              "    <tr>\n",
              "      <th>0</th>\n",
              "      <td>iabook-chapelhymnsselec00maso_0</td>\n",
              "      <td>1842</td>\n",
              "      <td>7</td>\n",
              "      <td>InternetArchiveBooks</td>\n",
              "      <td>chapelhymnsselec00maso_0</td>\n",
              "      <td>SEIZE#3##1#Egypt#EG#EG#27#30#EG;</td>\n",
              "      <td>SEIZE#3##1#Egypt#EG#EG#27#30#EG#25097;</td>\n",
              "      <td>RELIGION;TAX_FNCACT;TAX_FNCACT_MASON;GENERAL_G...</td>\n",
              "      <td>TAX_FNCACT_SHEPHERD,59544;TAX_FNCACT_SHEPHERD,...</td>\n",
              "      <td>1#United States#US#US#38#-97#US;4#South Sea, B...</td>\n",
              "      <td>3#Boston, Massachusetts, United States#US#USMA...</td>\n",
              "      <td>charles freemaa;william m koptts;georee w btae...</td>\n",
              "      <td>Charles Freemaa,66594;Lymaa Gilaert,66480;Zion...</td>\n",
              "      <td>granville college;clerk office;pastor of the b...</td>\n",
              "      <td>Granville College,70361;Clerk Office,620;Pasto...</td>\n",
              "      <td>1.17423966158559,6.73182116548756,5.5575815039...</td>\n",
              "      <td>1#0#0#1842#240;1#0#0#1842#429;2#5#0#1842#1650;...</td>\n",
              "      <td>wc:11465,c1.1:94,c1.2:3,c1.3:4,c1.4:51,c12.1:1...</td>\n",
              "      <td>None</td>\n",
              "      <td>None</td>\n",
              "      <td>None</td>\n",
              "      <td>None</td>\n",
              "      <td>None</td>\n",
              "      <td>District Conn,488;Church Psalmody,1569;Serious...</td>\n",
              "      <td>24,Cosgress STRtrr,197;24,Congress Street,371;...</td>\n",
              "      <td>None</td>\n",
              "      <td>None</td>\n",
              "      <td>chapelhymnsselec00maso_0</td>\n",
              "      <td>Chapel hymns : a selection of hymns, with appr...</td>\n",
              "      <td>Mason, Lowell,1792-1872.</td>\n",
              "      <td>Hymns, English</td>\n",
              "      <td>T.R. Marvin</td>\n",
              "      <td>Eng</td>\n",
              "      <td>None</td>\n",
              "      <td>1842</td>\n",
              "      <td>LYRASIS Members and Sloan Foundation</td>\n",
              "      <td>University of Maryland, College Park</td>\n",
              "      <td>nj</td>\n",
              "      <td>university_maryland_cp;americana</td>\n",
              "      <td>2014-08-26</td>\n",
              "      <td>94</td>\n",
              "      <td>23</td>\n",
              "      <td>MSCPA 72-36.1.2-9-28</td>\n",
              "      <td>None</td>\n",
              "      <td>ark:\\/13960\\/t8nc8rp2r</td>\n",
              "      <td>None</td>\n",
              "      <td>CHAPEL HYMNS: f SELECTION OF HYMNS. m «TTH ^f...</td>\n",
              "    </tr>\n",
              "    <tr>\n",
              "      <th>1</th>\n",
              "      <td>iabook-b1502917</td>\n",
              "      <td>1842</td>\n",
              "      <td>7</td>\n",
              "      <td>InternetArchiveBooks</td>\n",
              "      <td>b1502917</td>\n",
              "      <td>None</td>\n",
              "      <td>None</td>\n",
              "      <td>TAX_FNCACT;TAX_FNCACT_LIBRARIAN;TAX_FNCACT_GEN...</td>\n",
              "      <td>USPEC_AMERICANCIVILWAR_NATURALLANDSCAPE,2058;U...</td>\n",
              "      <td>4#Beaume, Picardie, France#FR#FRB6#49.8375#4.1...</td>\n",
              "      <td>1#Russia#RS#RS##60#100#RS#9077;1#Russia#RS#RS#...</td>\n",
              "      <td>edouard dubufe;si vernet;paul potter;virgin ma...</td>\n",
              "      <td>Edouard Dubufe,5440;Paul Potter,9226;Virgin Ma...</td>\n",
              "      <td>congress upon foreign paintings;recollections ...</td>\n",
              "      <td>Congress Upon Foreign Paintings,1059;Recollect...</td>\n",
              "      <td>4.91803278688525,6.26977279263733,1.3517400057...</td>\n",
              "      <td>1#0#0#1920#247;1#0#0#1842#572</td>\n",
              "      <td>wc:3023,c1.1:80,c1.4:3,c12.1:328,c12.10:214,c1...</td>\n",
              "      <td>None</td>\n",
              "      <td>None</td>\n",
              "      <td>None</td>\n",
              "      <td>None</td>\n",
              "      <td>None</td>\n",
              "      <td>Foreign Pictures,975;Louis Phillippe,2087;Thun...</td>\n",
              "      <td>2,Environs of Rouen,1539;3,The Thunder Storm,1...</td>\n",
              "      <td>None</td>\n",
              "      <td>None</td>\n",
              "      <td>b1502917</td>\n",
              "      <td>A catalouge [sic] of 250 splendid modern Europ...</td>\n",
              "      <td>Wever, Cannon &amp; Co</td>\n",
              "      <td>Auction catalogs;James Eddy</td>\n",
              "      <td>None</td>\n",
              "      <td>eng</td>\n",
              "      <td>None</td>\n",
              "      <td>1842</td>\n",
              "      <td>None</td>\n",
              "      <td>None</td>\n",
              "      <td>None</td>\n",
              "      <td>metmuseumlibraries;americana</td>\n",
              "      <td>2015-02-10</td>\n",
              "      <td>26</td>\n",
              "      <td>7</td>\n",
              "      <td>None</td>\n",
              "      <td>None</td>\n",
              "      <td>ark:\\/13960\\/t9477mw53</td>\n",
              "      <td>None</td>\n",
              "      <td>THE LIBRARY OF THE METROPOLITAN MUSEUM OF ART...</td>\n",
              "    </tr>\n",
              "    <tr>\n",
              "      <th>2</th>\n",
              "      <td>iabook-ASPC0001938500</td>\n",
              "      <td>1842</td>\n",
              "      <td>7</td>\n",
              "      <td>InternetArchiveBooks</td>\n",
              "      <td>ASPC0001938500</td>\n",
              "      <td>KILL#20000#poor creatures#1#Sudan#SU#SU#15#30#...</td>\n",
              "      <td>KILL#20000#poor creatures#1#Sudan#SU#SU#15#30#...</td>\n",
              "      <td>EDUCATION;TAX_FNCACT;TAX_FNCACT_PROFESSORS;TAX...</td>\n",
              "      <td>TAX_FNCACT_CHIEFTAIN,10598;TAX_FNCACT_CHIEFTAI...</td>\n",
              "      <td>4#Ilha Grande, Santa Catarina, Brazil#BR#BR26#...</td>\n",
              "      <td>1#Gambia#GA#GA##13.4667#-16.5667#GA#16633;1#Br...</td>\n",
              "      <td>commodore owen;jesus christ;thomas fowell buxt...</td>\n",
              "      <td>Commodore Owen,13633;Jesus Christ,1661;Jesus C...</td>\n",
              "      <td>american colonial society;mary college;falconb...</td>\n",
              "      <td>American Colonial Society,14654;Mary College,3...</td>\n",
              "      <td>-3.59368783980904,3.02347168810503,6.617159527...</td>\n",
              "      <td>1#0#0#1842#371;1#0#0#1841#7670;1#0#0#1807#9739...</td>\n",
              "      <td>wc:6863,c1.1:4,c1.2:3,c1.3:4,c1.4:11,c12.1:704...</td>\n",
              "      <td>None</td>\n",
              "      <td>None</td>\n",
              "      <td>None</td>\n",
              "      <td>None</td>\n",
              "      <td>None</td>\n",
              "      <td>Divine Master,380;Lord Jesus Christ,1733;Lord ...</td>\n",
              "      <td>5,By creation the whole,2459;50000,human being...</td>\n",
              "      <td>None</td>\n",
              "      <td>None</td>\n",
              "      <td>ASPC0001938500</td>\n",
              "      <td>An appeal to the professors of Christianity in...</td>\n",
              "      <td>Tobey, Samuel Boyd, 1805-1867;New England Year...</td>\n",
              "      <td>New England Yearly Meeting of Friends;Slavery ...</td>\n",
              "      <td>None</td>\n",
              "      <td>eng</td>\n",
              "      <td>None</td>\n",
              "      <td>1842</td>\n",
              "      <td>None</td>\n",
              "      <td>None</td>\n",
              "      <td>None</td>\n",
              "      <td>oberlincollege;americana</td>\n",
              "      <td>2014-07-15</td>\n",
              "      <td>24</td>\n",
              "      <td>9</td>\n",
              "      <td>None</td>\n",
              "      <td>None</td>\n",
              "      <td>ark:\\/13960\\/t73v29360</td>\n",
              "      <td>None</td>\n",
              "      <td>AN APPEAL TO THE PROFESSORS OF CHRISTIANITY, ...</td>\n",
              "    </tr>\n",
              "    <tr>\n",
              "      <th>3</th>\n",
              "      <td>iabook-ASPC0001981600</td>\n",
              "      <td>1842</td>\n",
              "      <td>7</td>\n",
              "      <td>InternetArchiveBooks</td>\n",
              "      <td>ASPC0001981600</td>\n",
              "      <td>None</td>\n",
              "      <td>None</td>\n",
              "      <td>USPEC_AMERICANCIVILWAR_SLAVEFREEDOM;USPEC_AMER...</td>\n",
              "      <td>WB_2048_COMPENSATION_CAREERS_AND_INCENTIVES,16...</td>\n",
              "      <td>1#United States#US#US#38#-97#US;4#Jerusalem, I...</td>\n",
              "      <td>3#Lenox, Massachusetts, United States#US#USMA#...</td>\n",
              "      <td>christian bystem;henry sedgwick;jesus christ;s...</td>\n",
              "      <td>Christian Bystem,53794;Henry Sedgwick,5003;Jes...</td>\n",
              "      <td>national governmeiit;united states;l society</td>\n",
              "      <td>National Governmeiit,64313;United States,128;U...</td>\n",
              "      <td>-1.19817700676272,5.22640399882388,6.424581005...</td>\n",
              "      <td>2#8#0#1842#135;4#10#7#0#530;3#8#9#1842#1668;3#...</td>\n",
              "      <td>wc:12474,c1.1:27,c1.2:15,c1.3:19,c1.4:55,c12.1...</td>\n",
              "      <td>None</td>\n",
              "      <td>None</td>\n",
              "      <td>None</td>\n",
              "      <td>None</td>\n",
              "      <td>None</td>\n",
              "      <td>British West India,1965;West India,2444;West I...</td>\n",
              "      <td>1,desire,1224;1,now render,2775;1,come ~,2786;...</td>\n",
              "      <td>None</td>\n",
              "      <td>None</td>\n",
              "      <td>ASPC0001981600</td>\n",
              "      <td>Dr. Channing's last address : delivered at Len...</td>\n",
              "      <td>Channing, William Ellery, 1780-1842</td>\n",
              "      <td>Slavery -- West Indies, British;Slaves -- Eman...</td>\n",
              "      <td>None</td>\n",
              "      <td>eng</td>\n",
              "      <td>None</td>\n",
              "      <td>1842</td>\n",
              "      <td>None</td>\n",
              "      <td>None</td>\n",
              "      <td>None</td>\n",
              "      <td>oberlincollege;americana</td>\n",
              "      <td>2014-07-15</td>\n",
              "      <td>25</td>\n",
              "      <td>7</td>\n",
              "      <td>None</td>\n",
              "      <td>None</td>\n",
              "      <td>ark:\\/13960\\/t3rv38k23</td>\n",
              "      <td>None</td>\n",
              "      <td>1)11. CllAJiNlNG'S LA.ST ADDlil^SB,'^ DEUVEiU...</td>\n",
              "    </tr>\n",
              "    <tr>\n",
              "      <th>4</th>\n",
              "      <td>iabook-ASPC0002432300</td>\n",
              "      <td>1842</td>\n",
              "      <td>7</td>\n",
              "      <td>InternetArchiveBooks</td>\n",
              "      <td>ASPC0002432300</td>\n",
              "      <td>KILL#65##1#United Kingdom#UK#UK#54#-2#UK;CRISI...</td>\n",
              "      <td>KILL#65##1#United Kingdom#UK#UK#54#-2#UK#360;C...</td>\n",
              "      <td>KILL;CRISISLEX_T03_DEAD;TAX_RELIGION;TAX_RELIG...</td>\n",
              "      <td>USPEC_AMERICANCIVILWAR_AFRICANAMERICAN,4455;US...</td>\n",
              "      <td>3#Charleston, South Carolina, United States#US...</td>\n",
              "      <td>1#America#US#US##38#-97#US#658;1#America#US#US...</td>\n",
              "      <td>tliomas godsden;bishop bowea;joshua soule;bish...</td>\n",
              "      <td>Tliomas Godsden,9420;Bishop Bowea,86984;Joshua...</td>\n",
              "      <td>bryan superior court;committee of corresponden...</td>\n",
              "      <td>Bryan Superior Court,9868;Committee Of Corresp...</td>\n",
              "      <td>-2.75774756426488,2.43298288104805,5.190730445...</td>\n",
              "      <td>3#2#13#1835#9436;2#8#0#1835#12812;1#0#0#1835#1...</td>\n",
              "      <td>wc:14629,c1.1:2,c1.2:6,c1.3:3,c1.4:41,c12.1:12...</td>\n",
              "      <td>None</td>\n",
              "      <td>None</td>\n",
              "      <td>None</td>\n",
              "      <td>None</td>\n",
              "      <td>None</td>\n",
              "      <td>Methodist Episcopal,920;Protestant Episcopal,9...</td>\n",
              "      <td>4,It Sa,56;95,OEEKIJN A,185;113,slaves,2516;06...</td>\n",
              "      <td>None</td>\n",
              "      <td>None</td>\n",
              "      <td>ASPC0002432300</td>\n",
              "      <td>The American churches, the bulwarks of America...</td>\n",
              "      <td>Birney, James Gillespie, 1792-1857</td>\n",
              "      <td>Slavery and the church;Slavery -- United States</td>\n",
              "      <td>None</td>\n",
              "      <td>eng</td>\n",
              "      <td>None</td>\n",
              "      <td>1842</td>\n",
              "      <td>None</td>\n",
              "      <td>None</td>\n",
              "      <td>None</td>\n",
              "      <td>oberlincollege;americana</td>\n",
              "      <td>2014-07-15</td>\n",
              "      <td>45</td>\n",
              "      <td>11</td>\n",
              "      <td>None</td>\n",
              "      <td>None</td>\n",
              "      <td>ark:\\/13960\\/t7mp7rg9k</td>\n",
              "      <td>None</td>\n",
              "      <td>'1 I 1* ^ 4 It S«a CAl.LENDER COLLECTION 'niE...</td>\n",
              "    </tr>\n",
              "  </tbody>\n",
              "</table>\n",
              "</div>"
            ],
            "text/plain": [
              "                       GKGRECORDID  ...                                  BookMeta_FullText\n",
              "0  iabook-chapelhymnsselec00maso_0  ...   CHAPEL HYMNS: f SELECTION OF HYMNS. m «TTH ^f...\n",
              "1                  iabook-b1502917  ...   THE LIBRARY OF THE METROPOLITAN MUSEUM OF ART...\n",
              "2            iabook-ASPC0001938500  ...   AN APPEAL TO THE PROFESSORS OF CHRISTIANITY, ...\n",
              "3            iabook-ASPC0001981600  ...   1)11. CllAJiNlNG'S LA.ST ADDlil^SB,'^ DEUVEiU...\n",
              "4            iabook-ASPC0002432300  ...   '1 I 1* ^ 4 It S«a CAl.LENDER COLLECTION 'niE...\n",
              "\n",
              "[5 rows x 47 columns]"
            ]
          },
          "metadata": {
            "tags": []
          },
          "execution_count": 9
        }
      ]
    },
    {
      "cell_type": "markdown",
      "metadata": {
        "id": "PjoT6ykkxc0T"
      },
      "source": [
        "Many of the columns such as V2Tone and Datees don't make intuitive sence, but colums like BookMeta_ScannedImages, and BookMeta_Added Date will be useful."
      ]
    },
    {
      "cell_type": "markdown",
      "metadata": {
        "id": "jcm9yKPA9SCF"
      },
      "source": [
        "#Questions & Queries"
      ]
    },
    {
      "cell_type": "markdown",
      "metadata": {
        "id": "jttdCt_LoffT"
      },
      "source": [
        "##Setup Safe Query"
      ]
    },
    {
      "cell_type": "code",
      "metadata": {
        "id": "KhhQkwP2qHyH"
      },
      "source": [
        "GB = 10 ** 9\n",
        "\n",
        "safe_config = bigquery.QueryJobConfig(maximum_bytes_billed=GB)"
      ],
      "execution_count": null,
      "outputs": []
    },
    {
      "cell_type": "markdown",
      "metadata": {
        "id": "nvpT_24lRPsD"
      },
      "source": [
        "##How many rows?"
      ]
    },
    {
      "cell_type": "code",
      "metadata": {
        "id": "_YAbHLZyAkbt",
        "outputId": "028d9892-1cfc-4631-8e9d-9d4da8cc2eb2",
        "colab": {
          "base_uri": "https://localhost:8080/",
          "height": 80
        }
      },
      "source": [
        "query = \"\"\"\n",
        "        SELECT COUNT(*) AS total_books\n",
        "        FROM `gdelt-bq.internetarchivebooks.1842`\n",
        "        \"\"\"\n",
        "row_count = client.query(query).to_dataframe()\n",
        "row_count"
      ],
      "execution_count": null,
      "outputs": [
        {
          "output_type": "execute_result",
          "data": {
            "text/html": [
              "<div>\n",
              "<style scoped>\n",
              "    .dataframe tbody tr th:only-of-type {\n",
              "        vertical-align: middle;\n",
              "    }\n",
              "\n",
              "    .dataframe tbody tr th {\n",
              "        vertical-align: top;\n",
              "    }\n",
              "\n",
              "    .dataframe thead th {\n",
              "        text-align: right;\n",
              "    }\n",
              "</style>\n",
              "<table border=\"1\" class=\"dataframe\">\n",
              "  <thead>\n",
              "    <tr style=\"text-align: right;\">\n",
              "      <th></th>\n",
              "      <th>total_books</th>\n",
              "    </tr>\n",
              "  </thead>\n",
              "  <tbody>\n",
              "    <tr>\n",
              "      <th>0</th>\n",
              "      <td>3133</td>\n",
              "    </tr>\n",
              "  </tbody>\n",
              "</table>\n",
              "</div>"
            ],
            "text/plain": [
              "   total_books\n",
              "0         3133"
            ]
          },
          "metadata": {
            "tags": []
          },
          "execution_count": 11
        }
      ]
    },
    {
      "cell_type": "markdown",
      "metadata": {
        "id": "H10OrW1hyBXL"
      },
      "source": [
        "3133 books are found in this table."
      ]
    },
    {
      "cell_type": "markdown",
      "metadata": {
        "id": "svWGFB7wyHbP"
      },
      "source": [
        "##Most downloads for a book?"
      ]
    },
    {
      "cell_type": "code",
      "metadata": {
        "id": "E-T8G0qgAmqo",
        "outputId": "81a14941-5d8f-4a7b-f1bc-da6af68aff23",
        "colab": {
          "base_uri": "https://localhost:8080/",
          "height": 51
        }
      },
      "source": [
        "query = \"\"\"\n",
        "        SELECT MAX(BookMeta_DownloadsJune2015) AS max_downloads\n",
        "        FROM `gdelt-bq.internetarchivebooks.1842`\n",
        "        \"\"\"\n",
        "df = client.query(query).to_dataframe()\n",
        "print(df)"
      ],
      "execution_count": null,
      "outputs": [
        {
          "output_type": "stream",
          "text": [
            "   max_downloads\n",
            "0           3079\n"
          ],
          "name": "stdout"
        }
      ]
    },
    {
      "cell_type": "markdown",
      "metadata": {
        "id": "uJr342FhIuWq"
      },
      "source": [
        "It looks like one of the books has been downloaded 3079 times!"
      ]
    },
    {
      "cell_type": "markdown",
      "metadata": {
        "id": "xbZ1U2vE06kF"
      },
      "source": [
        "##Which book has the most downloads?"
      ]
    },
    {
      "cell_type": "code",
      "metadata": {
        "id": "Go8s_kdUI0Eb",
        "outputId": "5f141b18-6f8b-4d1a-b00c-a9d477227b85",
        "colab": {
          "base_uri": "https://localhost:8080/",
          "height": 51
        }
      },
      "source": [
        "query = \"\"\"\n",
        "        SELECT BookMeta_Title AS popular_book\n",
        "        FROM `gdelt-bq.internetarchivebooks.1842`\n",
        "        WHERE BookMeta_DownloadsJune2015 = 3079\n",
        "        \"\"\"\n",
        "df = client.query(query).to_dataframe()\n",
        "print(df)"
      ],
      "execution_count": null,
      "outputs": [
        {
          "output_type": "stream",
          "text": [
            "                                        popular_book\n",
            "0  The banquet of Dun na n-Gedh and The battle of...\n"
          ],
          "name": "stdout"
        }
      ]
    },
    {
      "cell_type": "markdown",
      "metadata": {
        "id": "mEc1rcS-J6FK"
      },
      "source": [
        "\"The Banquet of Dun Na N-Gedh and the Battle of Magh Rath\" is the most downloaded book from 1842. "
      ]
    },
    {
      "cell_type": "markdown",
      "metadata": {
        "id": "ol6_NjcJKdPT"
      },
      "source": [
        "##Which book has the least downloads?"
      ]
    },
    {
      "cell_type": "code",
      "metadata": {
        "id": "gUOQD9epKdCg",
        "outputId": "52489477-b6c7-41f8-8efd-a0113c3dd86e",
        "colab": {
          "base_uri": "https://localhost:8080/",
          "height": 51
        }
      },
      "source": [
        "query = \"\"\"\n",
        "        SELECT MIN(BookMeta_DownloadsJune2015) AS min_downloads\n",
        "        FROM `gdelt-bq.internetarchivebooks.1842`\n",
        "        \"\"\"\n",
        "df = client.query(query).to_dataframe()\n",
        "print(df)"
      ],
      "execution_count": null,
      "outputs": [
        {
          "output_type": "stream",
          "text": [
            "   min_downloads\n",
            "0              1\n"
          ],
          "name": "stdout"
        }
      ]
    },
    {
      "cell_type": "code",
      "metadata": {
        "id": "Uf99SjoNKz-6",
        "outputId": "f8ccf50c-837c-4c66-b1e8-16d9a2b1e692",
        "colab": {
          "base_uri": "https://localhost:8080/",
          "height": 119
        }
      },
      "source": [
        "query = \"\"\"\n",
        "        SELECT BookMeta_Title AS forgetten_books\n",
        "        FROM `gdelt-bq.internetarchivebooks.1842`\n",
        "        WHERE BookMeta_DownloadsJune2015 = 1\n",
        "        \"\"\"\n",
        "df = client.query(query).to_dataframe()\n",
        "print(df)"
      ],
      "execution_count": null,
      "outputs": [
        {
          "output_type": "stream",
          "text": [
            "                                     forgetten_books\n",
            "0                    The Baptist missionary magazine\n",
            "1           Lowell Cemetery deeds by year, 1842-1864\n",
            "2  The lives of the fathers, martyrs, and other p...\n",
            "3  The lives of the fathers, martyrs, and other p...\n",
            "4                    The Baptist missionary magazine\n"
          ],
          "name": "stdout"
        }
      ]
    },
    {
      "cell_type": "markdown",
      "metadata": {
        "id": "cytH1VWzK7Ih"
      },
      "source": [
        "Five of the books in this table have been downloaded only once. All the books have been downloaded at least once."
      ]
    },
    {
      "cell_type": "markdown",
      "metadata": {
        "id": "bzf9Hn1uNo_x"
      },
      "source": [
        "##What is the average downloads for a book?"
      ]
    },
    {
      "cell_type": "code",
      "metadata": {
        "id": "JaU44EzsNtj4",
        "outputId": "3f3e1b3e-964f-49f9-9512-93161b5cd146",
        "colab": {
          "base_uri": "https://localhost:8080/",
          "height": 51
        }
      },
      "source": [
        "query = \"\"\"\n",
        "        SELECT AVG(BookMeta_DownloadsJune2015) AS avg_downloads\n",
        "        FROM `gdelt-bq.internetarchivebooks.1842`\n",
        "        \"\"\"\n",
        "df = client.query(query).to_dataframe()\n",
        "print(df)"
      ],
      "execution_count": null,
      "outputs": [
        {
          "output_type": "stream",
          "text": [
            "   avg_downloads\n",
            "0     279.865341\n"
          ],
          "name": "stdout"
        }
      ]
    },
    {
      "cell_type": "markdown",
      "metadata": {
        "id": "-fmtzsZFN0M7"
      },
      "source": [
        "The average book is downloaded about 280 times."
      ]
    },
    {
      "cell_type": "markdown",
      "metadata": {
        "id": "D6YpdvBJMIaH"
      },
      "source": [
        "##Which books have been downloaded between 250 and 300 times?"
      ]
    },
    {
      "cell_type": "code",
      "metadata": {
        "id": "TAtl8BvHMO7P",
        "outputId": "d4844463-c3ce-4f87-9c55-36b90e259640",
        "colab": {
          "base_uri": "https://localhost:8080/",
          "height": 255
        }
      },
      "source": [
        "query = \"\"\"\n",
        "        SELECT BookMeta_Title AS Books, BookMeta_DownloadsJune2015 AS downloads\n",
        "        FROM `gdelt-bq.internetarchivebooks.1842`\n",
        "        WHERE BookMeta_DownloadsJune2015 BETWEEN 250 AND 300\n",
        "        ORDER BY BookMeta_DownloadsJune2015\n",
        "        \"\"\"\n",
        "df = client.query(query).to_dataframe()\n",
        "print(df)"
      ],
      "execution_count": null,
      "outputs": [
        {
          "output_type": "stream",
          "text": [
            "                                                 Books  downloads\n",
            "0         The nabob at home; or, The return to England        250\n",
            "1    A treatise on the incarnation of the Eternal Word        250\n",
            "2    A Dictionary of Two Thousand Italian, French, ...        250\n",
            "3              Moral agency : and man as a moral agent        250\n",
            "4    An address on the early settlement of the vall...        250\n",
            "..                                                 ...        ...\n",
            "233  Wealth and pedigree of the wealthy citizens of...        299\n",
            "234  The life of George Washington : written for th...        299\n",
            "235  Observations on the salmon fisheries of Ulster...        299\n",
            "236  View of Ancient and Modern Egypt: With an Outl...        300\n",
            "237  An essay on the means and importance of introd...        300\n",
            "\n",
            "[238 rows x 2 columns]\n"
          ],
          "name": "stdout"
        }
      ]
    },
    {
      "cell_type": "markdown",
      "metadata": {
        "id": "Or82zkvRNcJ5"
      },
      "source": [
        "238 of the books have been downloaded between 250 and 300 times.\n"
      ]
    },
    {
      "cell_type": "markdown",
      "metadata": {
        "id": "SrnHGMu6Lv12"
      },
      "source": [
        "##What values are in TranslationInfo?"
      ]
    },
    {
      "cell_type": "code",
      "metadata": {
        "id": "6uwKiW6kL6Fv",
        "outputId": "d4cdf854-c3b8-4ed0-c3b5-b53b097ef414",
        "colab": {
          "base_uri": "https://localhost:8080/",
          "height": 51
        }
      },
      "source": [
        "query = \"\"\"\n",
        "        SELECT DISTINCT TranslationInfo\n",
        "        FROM `gdelt-bq.internetarchivebooks.1842`\n",
        "        \"\"\"\n",
        "df = client.query(query, job_config=safe_config).to_dataframe()\n",
        "print(df)"
      ],
      "execution_count": null,
      "outputs": [
        {
          "output_type": "stream",
          "text": [
            "  TranslationInfo\n",
            "0            None\n"
          ],
          "name": "stdout"
        }
      ]
    },
    {
      "cell_type": "markdown",
      "metadata": {
        "id": "ESDCf1cfOA9X"
      },
      "source": [
        "There is no Translation Info for 1842."
      ]
    },
    {
      "cell_type": "markdown",
      "metadata": {
        "id": "ah-WYzUXOWiw"
      },
      "source": [
        "##What is the total number of scanned images for 1842?"
      ]
    },
    {
      "cell_type": "code",
      "metadata": {
        "id": "_VdkQEWfOdpH",
        "outputId": "0a577b66-554e-499d-81fc-a638e2707a87",
        "colab": {
          "base_uri": "https://localhost:8080/",
          "height": 80
        }
      },
      "source": [
        "query = \"\"\"\n",
        "        SELECT SUM(BookMeta_ScannedImages) AS total_images\n",
        "        FROM `gdelt-bq.internetarchivebooks.1842`\n",
        "        \"\"\"\n",
        "client.query(query).to_dataframe()"
      ],
      "execution_count": null,
      "outputs": [
        {
          "output_type": "execute_result",
          "data": {
            "text/html": [
              "<div>\n",
              "<style scoped>\n",
              "    .dataframe tbody tr th:only-of-type {\n",
              "        vertical-align: middle;\n",
              "    }\n",
              "\n",
              "    .dataframe tbody tr th {\n",
              "        vertical-align: top;\n",
              "    }\n",
              "\n",
              "    .dataframe thead th {\n",
              "        text-align: right;\n",
              "    }\n",
              "</style>\n",
              "<table border=\"1\" class=\"dataframe\">\n",
              "  <thead>\n",
              "    <tr style=\"text-align: right;\">\n",
              "      <th></th>\n",
              "      <th>total_images</th>\n",
              "    </tr>\n",
              "  </thead>\n",
              "  <tbody>\n",
              "    <tr>\n",
              "      <th>0</th>\n",
              "      <td>911002</td>\n",
              "    </tr>\n",
              "  </tbody>\n",
              "</table>\n",
              "</div>"
            ],
            "text/plain": [
              "   total_images\n",
              "0        911002"
            ]
          },
          "metadata": {
            "tags": []
          },
          "execution_count": 19
        }
      ]
    },
    {
      "cell_type": "markdown",
      "metadata": {
        "id": "00ezvlvIUT2Q"
      },
      "source": [
        "The number of images in all the books is 911,002"
      ]
    },
    {
      "cell_type": "markdown",
      "metadata": {
        "id": "I1Py_tpqVPxH"
      },
      "source": [
        "##Who are the most prolific creators in 1842?"
      ]
    },
    {
      "cell_type": "code",
      "metadata": {
        "id": "5pFUWaXiVgWh",
        "outputId": "ad580b95-5671-4e2c-d379-a5f377f8ddf1",
        "colab": {
          "base_uri": "https://localhost:8080/",
          "height": 204
        }
      },
      "source": [
        "query = \"\"\"\n",
        "        SELECT  BookMeta_Creator AS creator, COUNT(1) AS books\n",
        "        FROM `gdelt-bq.internetarchivebooks.1842`\n",
        "        GROUP BY BookMeta_Creator\n",
        "        ORDER BY books DESC\n",
        "        \"\"\"\n",
        "df = client.query(query).to_dataframe()\n",
        "df.head(5)"
      ],
      "execution_count": null,
      "outputs": [
        {
          "output_type": "execute_result",
          "data": {
            "text/html": [
              "<div>\n",
              "<style scoped>\n",
              "    .dataframe tbody tr th:only-of-type {\n",
              "        vertical-align: middle;\n",
              "    }\n",
              "\n",
              "    .dataframe tbody tr th {\n",
              "        vertical-align: top;\n",
              "    }\n",
              "\n",
              "    .dataframe thead th {\n",
              "        text-align: right;\n",
              "    }\n",
              "</style>\n",
              "<table border=\"1\" class=\"dataframe\">\n",
              "  <thead>\n",
              "    <tr style=\"text-align: right;\">\n",
              "      <th></th>\n",
              "      <th>creator</th>\n",
              "      <th>books</th>\n",
              "    </tr>\n",
              "  </thead>\n",
              "  <tbody>\n",
              "    <tr>\n",
              "      <th>0</th>\n",
              "      <td>None</td>\n",
              "      <td>146</td>\n",
              "    </tr>\n",
              "    <tr>\n",
              "      <th>1</th>\n",
              "      <td>New York (N.Y.). Common Council;Willis, Samuel...</td>\n",
              "      <td>16</td>\n",
              "    </tr>\n",
              "    <tr>\n",
              "      <th>2</th>\n",
              "      <td>Beveridge, William, 1637-1708</td>\n",
              "      <td>15</td>\n",
              "    </tr>\n",
              "    <tr>\n",
              "      <th>3</th>\n",
              "      <td>Gore, Mrs. (Catherine Grace Frances), 1799-1861</td>\n",
              "      <td>12</td>\n",
              "    </tr>\n",
              "    <tr>\n",
              "      <th>4</th>\n",
              "      <td>American Baptist Missionary Union. Executive C...</td>\n",
              "      <td>12</td>\n",
              "    </tr>\n",
              "  </tbody>\n",
              "</table>\n",
              "</div>"
            ],
            "text/plain": [
              "                                             creator  books\n",
              "0                                               None    146\n",
              "1  New York (N.Y.). Common Council;Willis, Samuel...     16\n",
              "2                      Beveridge, William, 1637-1708     15\n",
              "3    Gore, Mrs. (Catherine Grace Frances), 1799-1861     12\n",
              "4  American Baptist Missionary Union. Executive C...     12"
            ]
          },
          "metadata": {
            "tags": []
          },
          "execution_count": 20
        }
      ]
    },
    {
      "cell_type": "markdown",
      "metadata": {
        "id": "WZcsPXNjag7Z"
      },
      "source": [
        "There are many books without a creator. Other Than that New York Common Council and Beveridge, William are the most common."
      ]
    },
    {
      "cell_type": "markdown",
      "metadata": {
        "id": "tDc4AFGqlzeX"
      },
      "source": [
        "##What books did they contriute?"
      ]
    },
    {
      "cell_type": "code",
      "metadata": {
        "id": "m2oBk82iWKd9",
        "outputId": "3d44db00-7e9b-4f22-a2c1-31f12f476c96",
        "colab": {
          "base_uri": "https://localhost:8080/",
          "height": 629
        }
      },
      "source": [
        "query = \"\"\"\n",
        "        SELECT BookMeta_Creator AS creator, BookMeta_Title AS book\n",
        "        FROM `gdelt-bq.internetarchivebooks.1842`\n",
        "        WHERE BookMeta_Creator = 'Beveridge, William, 1637-1708' OR\n",
        "              BookMeta_Creator LIKE 'New York (N.Y.). Common Council;Willis, Samuel%'\n",
        "              ORDER BY creator\n",
        "        \"\"\"\n",
        "df = client.query(query).to_dataframe()\n",
        "print(df)"
      ],
      "execution_count": null,
      "outputs": [
        {
          "output_type": "stream",
          "text": [
            "                                              creator                                               book\n",
            "0                       Beveridge, William, 1637-1708         The theological works of William Beveridge\n",
            "1                       Beveridge, William, 1637-1708  The theological works of William Beveridge, D....\n",
            "2                       Beveridge, William, 1637-1708  The theological works of William Beveridge, D....\n",
            "3                       Beveridge, William, 1637-1708         The theological works of William Beveridge\n",
            "4                       Beveridge, William, 1637-1708  The theological works of William Beveridge, D....\n",
            "5                       Beveridge, William, 1637-1708  The theological works of William Beveridge, D....\n",
            "6                       Beveridge, William, 1637-1708  The theological works of William Beveridge, D....\n",
            "7                       Beveridge, William, 1637-1708  The theological works of William Beveridge, D....\n",
            "8                       Beveridge, William, 1637-1708  The theological works of William Beveridge, D....\n",
            "9                       Beveridge, William, 1637-1708  The theological works of William Beveridge, D....\n",
            "10                      Beveridge, William, 1637-1708  The theological works of William Beveridge, D....\n",
            "11                      Beveridge, William, 1637-1708  The theological works of William Beveridge, D....\n",
            "12                      Beveridge, William, 1637-1708  The theological works of William Beveridge, D....\n",
            "13                      Beveridge, William, 1637-1708  The theological works of William Beveridge, D....\n",
            "14                      Beveridge, William, 1637-1708         The theological works of William Beveridge\n",
            "15  New York (N.Y.). Common Council;Willis, Samuel...  Manual of the corporation of the city of New Y...\n",
            "16  New York (N.Y.). Common Council;Willis, Samuel...  Manual of the corporation of the city of New Y...\n",
            "17  New York (N.Y.). Common Council;Willis, Samuel...  Manual of the corporation of the city of New Y...\n",
            "18  New York (N.Y.). Common Council;Willis, Samuel...  Manual of the corporation of the city of New Y...\n",
            "19  New York (N.Y.). Common Council;Willis, Samuel...  Manual of the corporation of the city of New Y...\n",
            "20  New York (N.Y.). Common Council;Willis, Samuel...  Manual of the corporation of the city of New Y...\n",
            "21  New York (N.Y.). Common Council;Willis, Samuel...  Manual of the corporation of the city of New Y...\n",
            "22  New York (N.Y.). Common Council;Willis, Samuel...  Manual of the corporation of the city of New Y...\n",
            "23  New York (N.Y.). Common Council;Willis, Samuel...  Manual of the corporation of the city of New Y...\n",
            "24  New York (N.Y.). Common Council;Willis, Samuel...  Manual of the corporation of the city of New Y...\n",
            "25  New York (N.Y.). Common Council;Willis, Samuel...  Manual of the corporation of the city of New Y...\n",
            "26  New York (N.Y.). Common Council;Willis, Samuel...  Manual of the corporation of the city of New Y...\n",
            "27  New York (N.Y.). Common Council;Willis, Samuel...  Manual of the corporation of the city of New Y...\n",
            "28  New York (N.Y.). Common Council;Willis, Samuel...  Manual of the corporation of the city of New Y...\n",
            "29  New York (N.Y.). Common Council;Willis, Samuel...  Manual of the corporation of the city of New Y...\n",
            "30  New York (N.Y.). Common Council;Willis, Samuel...  Manual of the corporation of the city of New Y...\n",
            "31  New York (N.Y.). Common Council;Willis, Samuel...  Manual of the corporation of the city of New York\n",
            "32  New York (N.Y.). Common Council;Willis, Samuel...  Manual of the corporation of the city of New York\n",
            "33  New York (N.Y.). Common Council;Willis, Samuel...  Manual of the corporation of the city of New York\n",
            "34  New York (N.Y.). Common Council;Willis, Samuel...  Manual of the corporation of the city of New York\n"
          ],
          "name": "stdout"
        }
      ]
    },
    {
      "cell_type": "markdown",
      "metadata": {
        "id": "tXRhWdEQo_Yz"
      },
      "source": [
        "Looks like the Common Council of New York produced Manuals and William Beveridge has several editions of his Theological works represented. "
      ]
    },
    {
      "cell_type": "markdown",
      "metadata": {
        "id": "4FElBNOYVf9M"
      },
      "source": [
        "##When were books added to the dataset? "
      ]
    },
    {
      "cell_type": "code",
      "metadata": {
        "id": "EHHppG-forER",
        "outputId": "0c8fdc39-9685-4b1e-90a1-2a1ff6b7b6a0",
        "colab": {
          "base_uri": "https://localhost:8080/",
          "height": 255
        }
      },
      "source": [
        "query = \"\"\"\n",
        "        SELECT  BookMeta_AddedDate, COUNT(1) AS number_of_books\n",
        "        FROM `gdelt-bq.internetarchivebooks.1842`\n",
        "        GROUP BY BookMeta_AddedDate\n",
        "        ORDER BY number_of_books DESC\n",
        "        \"\"\"\n",
        "df = client.query(query).to_dataframe()\n",
        "print(df)"
      ],
      "execution_count": null,
      "outputs": [
        {
          "output_type": "stream",
          "text": [
            "    BookMeta_AddedDate  number_of_books\n",
            "0                 None             1345\n",
            "1           2009-10-07               39\n",
            "2           2014-07-15               19\n",
            "3           2012-09-27               13\n",
            "4           2015-05-14               12\n",
            "..                 ...              ...\n",
            "840         2012-03-22                1\n",
            "841         2012-12-11                1\n",
            "842         2012-09-10                1\n",
            "843         2010-01-05                1\n",
            "844         2009-03-19                1\n",
            "\n",
            "[845 rows x 2 columns]\n"
          ],
          "name": "stdout"
        }
      ]
    },
    {
      "cell_type": "markdown",
      "metadata": {
        "id": "--lmlPjLr-ty"
      },
      "source": [
        "Looks like the date added was not recorded for most of the books."
      ]
    },
    {
      "cell_type": "markdown",
      "metadata": {
        "id": "oeXw_Z-PAVcH"
      },
      "source": [
        "#Plots"
      ]
    },
    {
      "cell_type": "markdown",
      "metadata": {
        "id": "W239WLhGVK_9"
      },
      "source": [
        "##Plot a histogram of how many times the books have been downloaded.  "
      ]
    },
    {
      "cell_type": "markdown",
      "metadata": {
        "id": "ROa2J1GI3N_X"
      },
      "source": [
        "Create data frame for graph."
      ]
    },
    {
      "cell_type": "code",
      "metadata": {
        "id": "H8ZcgRGaAm-1",
        "outputId": "ba53a930-8602-4c44-fce9-61b00ff63997",
        "colab": {
          "base_uri": "https://localhost:8080/",
          "height": 255
        }
      },
      "source": [
        "query = \"\"\"\n",
        "        SELECT BookMeta_DownloadsJune2015 AS downloads\n",
        "        FROM `gdelt-bq.internetarchivebooks.1842`\n",
        "        \"\"\"\n",
        "df_downloads = client.query(query).to_dataframe()\n",
        "print(df_downloads)"
      ],
      "execution_count": null,
      "outputs": [
        {
          "output_type": "stream",
          "text": [
            "      downloads\n",
            "0          12.0\n",
            "1         204.0\n",
            "2         204.0\n",
            "3         133.0\n",
            "4         111.0\n",
            "...         ...\n",
            "3128      212.0\n",
            "3129      128.0\n",
            "3130      103.0\n",
            "3131      131.0\n",
            "3132       27.0\n",
            "\n",
            "[3133 rows x 1 columns]\n"
          ],
          "name": "stdout"
        }
      ]
    },
    {
      "cell_type": "markdown",
      "metadata": {
        "id": "k11sZ26e3QRx"
      },
      "source": [
        "Plot downloads"
      ]
    },
    {
      "cell_type": "code",
      "metadata": {
        "id": "AJimkL6ZkP7o",
        "outputId": "577824ea-e949-4d51-fb69-b5a4c3478787",
        "colab": {
          "base_uri": "https://localhost:8080/",
          "height": 542
        }
      },
      "source": [
        "fig = px.histogram(df_downloads,\n",
        "                   x = 'downloads',\n",
        "                   title= 'Distribution of Downloads',\n",
        "                   nbins=1000)\n",
        "fig.show()"
      ],
      "execution_count": null,
      "outputs": [
        {
          "output_type": "display_data",
          "data": {
            "text/html": [
              "<html>\n",
              "<head><meta charset=\"utf-8\" /></head>\n",
              "<body>\n",
              "    <div>\n",
              "            <script src=\"https://cdnjs.cloudflare.com/ajax/libs/mathjax/2.7.5/MathJax.js?config=TeX-AMS-MML_SVG\"></script><script type=\"text/javascript\">if (window.MathJax) {MathJax.Hub.Config({SVG: {font: \"STIX-Web\"}});}</script>\n",
              "                <script type=\"text/javascript\">window.PlotlyConfig = {MathJaxConfig: 'local'};</script>\n",
              "        <script src=\"https://cdn.plot.ly/plotly-latest.min.js\"></script>    \n",
              "            <div id=\"e8ae1fc8-5aeb-4939-a81a-6819b8aef2c4\" class=\"plotly-graph-div\" style=\"height:525px; width:100%;\"></div>\n",
              "            <script type=\"text/javascript\">\n",
              "                \n",
              "                    window.PLOTLYENV=window.PLOTLYENV || {};\n",
              "                    \n",
              "                if (document.getElementById(\"e8ae1fc8-5aeb-4939-a81a-6819b8aef2c4\")) {\n",
              "                    Plotly.newPlot(\n",
              "                        'e8ae1fc8-5aeb-4939-a81a-6819b8aef2c4',\n",
              "                        [{\"alignmentgroup\": \"True\", \"bingroup\": \"x\", \"hoverlabel\": {\"namelength\": 0}, \"hovertemplate\": \"downloads=%{x}<br>count=%{y}\", \"legendgroup\": \"\", \"marker\": {\"color\": \"#636efa\"}, \"name\": \"\", \"nbinsx\": 1000, \"offsetgroup\": \"\", \"orientation\": \"v\", \"showlegend\": false, \"type\": \"histogram\", \"x\": [12.0, 204.0, 204.0, 133.0, 111.0, 192.0, 502.0, 53.0, 230.0, 224.0, 432.0, 118.0, 156.0, 327.0, 145.0, 216.0, 230.0, 388.0, 668.0, 267.0, 597.0, 121.0, 775.0, 508.0, 313.0, 536.0, 228.0, 188.0, 96.0, 104.0, 96.0, 166.0, 138.0, 170.0, 123.0, 94.0, 296.0, 135.0, 227.0, 199.0, 222.0, 246.0, 390.0, 495.0, 249.0, 114.0, 156.0, 257.0, 64.0, 219.0, 1141.0, 250.0, 67.0, 707.0, 320.0, 424.0, 109.0, 244.0, 1.0, null, 164.0, 6.0, 594.0, 188.0, 230.0, 200.0, 554.0, 543.0, 119.0, 131.0, 225.0, 137.0, 84.0, 111.0, 264.0, 186.0, 284.0, 650.0, 275.0, 260.0, 331.0, 520.0, 359.0, 821.0, 1634.0, 318.0, 164.0, 347.0, 429.0, 263.0, 282.0, 200.0, 262.0, 439.0, 443.0, 1.0, 52.0, 72.0, 51.0, 230.0, 515.0, 187.0, 1212.0, 1252.0, 682.0, 1953.0, 130.0, 146.0, 4.0, 455.0, 22.0, 61.0, 350.0, 135.0, 225.0, 347.0, 159.0, 201.0, 97.0, 275.0, 104.0, 140.0, 423.0, 253.0, 81.0, 223.0, 90.0, 240.0, 238.0, 223.0, 236.0, 138.0, 308.0, 112.0, 75.0, 210.0, 240.0, 11.0, 183.0, 206.0, 199.0, 14.0, 78.0, 137.0, 134.0, 90.0, 98.0, 122.0, 287.0, 146.0, 125.0, 77.0, 346.0, 142.0, 57.0, 128.0, 217.0, 163.0, 63.0, 343.0, 139.0, 64.0, 80.0, 93.0, 244.0, 113.0, 328.0, 111.0, 211.0, 63.0, 75.0, 207.0, 68.0, 383.0, 236.0, 132.0, 208.0, 236.0, 72.0, 98.0, 894.0, 87.0, 210.0, 106.0, 110.0, 154.0, 125.0, 122.0, 158.0, 102.0, 168.0, 268.0, 560.0, 169.0, 177.0, 6.0, 83.0, 386.0, 161.0, 160.0, 170.0, 116.0, 341.0, 180.0, 135.0, 455.0, 1656.0, 215.0, 174.0, 215.0, 178.0, 94.0, 288.0, 260.0, 239.0, 96.0, 232.0, 198.0, 108.0, 218.0, 134.0, 142.0, 88.0, 99.0, 190.0, 442.0, 1242.0, 13.0, 12.0, 492.0, 180.0, 508.0, 236.0, 452.0, 236.0, 392.0, 187.0, 175.0, 1582.0, 341.0, 191.0, 238.0, 180.0, 140.0, 165.0, 1624.0, 256.0, 5.0, 187.0, 228.0, 952.0, 98.0, 131.0, 416.0, 204.0, 185.0, 161.0, 218.0, 452.0, 151.0, 156.0, 71.0, 15.0, 112.0, 101.0, 246.0, 98.0, 203.0, 234.0, 389.0, 289.0, 197.0, 381.0, 186.0, 940.0, null, 473.0, 135.0, 1226.0, 416.0, 91.0, 14.0, 14.0, 262.0, 256.0, 165.0, 272.0, 677.0, 443.0, 500.0, 522.0, 268.0, 121.0, 106.0, 88.0, 115.0, 441.0, 586.0, 171.0, 724.0, 1371.0, 316.0, 522.0, 413.0, 621.0, 313.0, 599.0, 512.0, 1605.0, 274.0, 321.0, 603.0, 425.0, 575.0, 598.0, 299.0, 1194.0, 364.0, 195.0, 464.0, 171.0, 659.0, 1042.0, 645.0, 99.0, 254.0, 273.0, 493.0, 149.0, 226.0, 185.0, 184.0, 386.0, 1299.0, 1502.0, 161.0, 68.0, 213.0, 194.0, 16.0, 47.0, 21.0, 125.0, 347.0, 127.0, 155.0, 97.0, 203.0, 227.0, 165.0, 193.0, 89.0, 75.0, 149.0, 147.0, 117.0, 395.0, 102.0, 167.0, 53.0, 197.0, 146.0, 179.0, 841.0, 434.0, 159.0, 152.0, 140.0, 1272.0, 158.0, 113.0, 96.0, 111.0, 245.0, 143.0, 211.0, 154.0, 591.0, 311.0, 111.0, 126.0, 156.0, 187.0, 319.0, 940.0, 141.0, 2166.0, 98.0, 228.0, 91.0, 322.0, 154.0, 134.0, 128.0, 271.0, 111.0, 178.0, 251.0, 142.0, 323.0, 187.0, 116.0, 103.0, 693.0, 126.0, 135.0, 160.0, 132.0, 82.0, 215.0, 149.0, 188.0, 233.0, 131.0, 322.0, 318.0, 184.0, 163.0, 116.0, 526.0, 220.0, 235.0, 130.0, 182.0, 61.0, 233.0, 139.0, 652.0, 120.0, 140.0, 269.0, 179.0, 190.0, 112.0, 207.0, 224.0, 1286.0, 176.0, 12.0, 12.0, 272.0, 218.0, 121.0, 148.0, 191.0, 141.0, 225.0, 188.0, 196.0, 160.0, 295.0, 34.0, 1269.0, 109.0, 437.0, 146.0, 632.0, 145.0, 232.0, 523.0, 222.0, 209.0, 115.0, 266.0, 299.0, 129.0, 112.0, 234.0, 137.0, 172.0, 244.0, 198.0, 166.0, 419.0, 81.0, 53.0, 8.0, 21.0, 97.0, 248.0, 132.0, 144.0, 803.0, 289.0, 356.0, 219.0, 71.0, 230.0, 183.0, 131.0, 286.0, 260.0, 62.0, 33.0, 100.0, 127.0, 296.0, 200.0, 6.0, 114.0, 76.0, 804.0, 234.0, 311.0, 53.0, 276.0, 494.0, 5.0, 275.0, 117.0, 293.0, 97.0, 277.0, 221.0, 193.0, 93.0, 246.0, 159.0, 246.0, 337.0, 186.0, 250.0, 327.0, 464.0, 287.0, 240.0, 244.0, 389.0, 340.0, 325.0, 434.0, 205.0, 47.0, 55.0, 72.0, 140.0, 76.0, 36.0, 1185.0, 211.0, 465.0, 188.0, 307.0, 535.0, 351.0, 35.0, 86.0, 93.0, 469.0, 239.0, 61.0, 171.0, 7.0, 382.0, 1027.0, 142.0, 110.0, 103.0, 109.0, 120.0, 74.0, 141.0, 48.0, 509.0, 57.0, 157.0, 64.0, 519.0, 188.0, 171.0, 80.0, 28.0, 170.0, 178.0, 94.0, 119.0, 203.0, 49.0, 857.0, 328.0, 266.0, 248.0, 355.0, 158.0, 101.0, 394.0, 1028.0, 122.0, 185.0, 115.0, 51.0, 101.0, 322.0, 204.0, 184.0, 193.0, 250.0, 151.0, 178.0, 107.0, 76.0, 105.0, 151.0, 147.0, 124.0, 117.0, 100.0, 119.0, 215.0, 459.0, 214.0, 448.0, 216.0, 97.0, 517.0, 144.0, 404.0, 344.0, 194.0, 937.0, 114.0, 171.0, 248.0, 144.0, 171.0, 427.0, 157.0, 190.0, 520.0, 432.0, 136.0, 201.0, 157.0, 110.0, 141.0, 135.0, 190.0, 131.0, 184.0, 180.0, 221.0, 179.0, 280.0, 235.0, 275.0, 174.0, 483.0, 100.0, 136.0, 305.0, 120.0, 71.0, 233.0, 323.0, 245.0, 188.0, 113.0, 146.0, 110.0, 285.0, 222.0, 119.0, 369.0, 464.0, 224.0, 81.0, 127.0, 258.0, 676.0, 95.0, 101.0, 393.0, 398.0, 76.0, 225.0, 396.0, 171.0, 157.0, 155.0, 81.0, 106.0, 114.0, 275.0, 95.0, 86.0, 151.0, 193.0, 111.0, 121.0, 729.0, 133.0, 143.0, 855.0, 9.0, 112.0, 98.0, 108.0, 154.0, 326.0, 137.0, 96.0, 258.0, 100.0, 240.0, 183.0, 386.0, 111.0, 114.0, 7.0, 244.0, 120.0, 153.0, 254.0, 151.0, 329.0, 301.0, 172.0, 148.0, 169.0, 242.0, 505.0, 129.0, 104.0, 61.0, 1104.0, 170.0, 488.0, 109.0, 72.0, 144.0, 231.0, 104.0, 186.0, 76.0, 17.0, 216.0, 200.0, 115.0, 116.0, 148.0, 226.0, 137.0, 132.0, 278.0, 290.0, 86.0, 61.0, 54.0, 362.0, 459.0, 567.0, 1221.0, 386.0, 65.0, 82.0, 36.0, 63.0, 27.0, 37.0, 307.0, 253.0, 250.0, 337.0, 33.0, 117.0, 134.0, 847.0, 152.0, 8.0, 83.0, 315.0, 219.0, 331.0, 229.0, 427.0, 276.0, 269.0, 319.0, 106.0, 103.0, 323.0, 205.0, 190.0, 112.0, 527.0, 195.0, 411.0, 581.0, 390.0, 422.0, 615.0, 2301.0, 425.0, 560.0, 330.0, 422.0, 339.0, 350.0, 225.0, 142.0, 232.0, 90.0, 101.0, 20.0, 212.0, 528.0, 108.0, 28.0, 62.0, 79.0, 144.0, 683.0, 1862.0, 2.0, 66.0, 260.0, 356.0, 1.0, 146.0, 139.0, 238.0, 194.0, 380.0, 101.0, 304.0, 145.0, 210.0, 265.0, 31.0, 83.0, 78.0, 120.0, 410.0, 116.0, 200.0, 113.0, 105.0, 110.0, 192.0, 193.0, 103.0, 145.0, 120.0, 171.0, 48.0, 65.0, 145.0, 228.0, 141.0, 117.0, 137.0, 106.0, 161.0, 76.0, 220.0, 54.0, 23.0, 7.0, 9.0, 7.0, 11.0, 634.0, 316.0, 268.0, 221.0, 550.0, 331.0, 552.0, 741.0, 648.0, 192.0, 861.0, 248.0, 257.0, 1139.0, 450.0, 1716.0, 283.0, 246.0, 623.0, 344.0, 334.0, 229.0, 977.0, 296.0, 399.0, 709.0, 1797.0, 304.0, 211.0, 400.0, 166.0, 225.0, 14.0, 441.0, 280.0, 168.0, 137.0, 330.0, 256.0, 1628.0, 831.0, 154.0, 154.0, 348.0, 202.0, 258.0, 214.0, 148.0, 127.0, 851.0, 554.0, 58.0, 267.0, 138.0, 174.0, 512.0, 413.0, 363.0, 141.0, 107.0, 178.0, 178.0, 106.0, 23.0, 632.0, 243.0, 319.0, 175.0, 290.0, 80.0, 1191.0, 199.0, 568.0, 288.0, 239.0, 245.0, 172.0, 218.0, 236.0, 154.0, 178.0, 245.0, 692.0, 331.0, 313.0, 1226.0, 147.0, 111.0, 29.0, 758.0, 110.0, 18.0, 32.0, 160.0, 324.0, 75.0, 87.0, 251.0, 89.0, 54.0, 90.0, 48.0, 185.0, 123.0, 67.0, 71.0, 229.0, 569.0, 141.0, 70.0, 609.0, 129.0, 110.0, 264.0, 101.0, 79.0, 91.0, 112.0, 92.0, 95.0, 1342.0, 1736.0, 198.0, 685.0, 506.0, 136.0, 192.0, 10.0, null, 106.0, 717.0, 32.0, 316.0, 5.0, 294.0, 336.0, 217.0, 167.0, 248.0, 141.0, 217.0, 75.0, 75.0, 83.0, 104.0, 72.0, 208.0, 102.0, 96.0, 104.0, 81.0, 460.0, 207.0, 339.0, 135.0, 267.0, 44.0, 176.0, 114.0, 179.0, 132.0, 310.0, 110.0, 195.0, 257.0, 147.0, 188.0, 531.0, 114.0, 144.0, 97.0, 102.0, 672.0, 552.0, 1155.0, 321.0, 346.0, 123.0, 81.0, 165.0, 484.0, 180.0, 91.0, 217.0, 77.0, 91.0, 166.0, 345.0, 108.0, 83.0, 260.0, 396.0, 164.0, 287.0, 124.0, 340.0, 347.0, 146.0, 87.0, 204.0, 95.0, 397.0, 70.0, 177.0, 82.0, 173.0, 162.0, 1767.0, 487.0, 282.0, 90.0, 788.0, 110.0, 216.0, 124.0, 152.0, 163.0, 1866.0, 16.0, 790.0, 46.0, 8.0, 212.0, 268.0, 144.0, 153.0, 141.0, 243.0, 173.0, 244.0, 277.0, 175.0, 382.0, 2456.0, 148.0, 125.0, 248.0, 162.0, 533.0, 219.0, 165.0, 423.0, 102.0, 81.0, 36.0, 249.0, 150.0, 119.0, 107.0, 159.0, 261.0, 162.0, 113.0, 206.0, 148.0, 56.0, 429.0, 1820.0, 480.0, 174.0, 2063.0, 289.0, 160.0, 82.0, 100.0, 636.0, 353.0, 8.0, 443.0, 206.0, 8.0, 30.0, 587.0, 137.0, 143.0, 104.0, 92.0, 719.0, 448.0, 498.0, 204.0, 117.0, 237.0, 737.0, 360.0, 497.0, 996.0, 334.0, 441.0, 211.0, 251.0, 435.0, 616.0, 615.0, 226.0, 252.0, 234.0, 186.0, 785.0, 142.0, 131.0, 133.0, null, 93.0, 22.0, 173.0, 51.0, 400.0, 533.0, 337.0, 556.0, 24.0, 166.0, 177.0, 1329.0, 1882.0, 2428.0, 1147.0, 1344.0, 161.0, 657.0, 5.0, 15.0, 86.0, 85.0, 4.0, 17.0, 119.0, 79.0, 104.0, 79.0, 168.0, 359.0, 109.0, 48.0, 120.0, 75.0, 405.0, 247.0, 87.0, 63.0, 190.0, 63.0, 111.0, 103.0, 142.0, 34.0, 128.0, 80.0, 117.0, 78.0, 161.0, 218.0, 130.0, 140.0, 217.0, 429.0, 301.0, 345.0, 121.0, 148.0, 166.0, 101.0, 203.0, 154.0, 219.0, 103.0, 208.0, 1008.0, 142.0, 415.0, 90.0, 132.0, 75.0, 131.0, 177.0, 129.0, 108.0, 356.0, 102.0, 591.0, 93.0, 217.0, 115.0, 688.0, 117.0, 85.0, 147.0, 188.0, 232.0, 474.0, 200.0, 146.0, 152.0, 87.0, 239.0, 260.0, 72.0, 134.0, 339.0, 361.0, 140.0, 562.0, 94.0, 312.0, 657.0, 374.0, 1020.0, 76.0, 89.0, 246.0, 350.0, 107.0, 74.0, 346.0, 189.0, 78.0, 531.0, 87.0, 744.0, 91.0, 24.0, 1092.0, 367.0, 205.0, 274.0, 1608.0, 327.0, 200.0, 692.0, 435.0, 626.0, 209.0, 1237.0, 295.0, 430.0, 300.0, 427.0, 863.0, 291.0, 343.0, 301.0, 1171.0, 273.0, 341.0, 653.0, 196.0, 107.0, 339.0, 1087.0, 313.0, 234.0, 279.0, 332.0, 1124.0, 358.0, 138.0, 249.0, 375.0, 171.0, 238.0, 323.0, 264.0, 516.0, 116.0, 112.0, 653.0, 836.0, 178.0, 185.0, 171.0, 399.0, 158.0, 156.0, null, 80.0, 299.0, 95.0, 292.0, 447.0, 253.0, 297.0, 199.0, 183.0, 152.0, 161.0, 337.0, 123.0, 213.0, 241.0, 114.0, 1198.0, 47.0, 184.0, 109.0, 54.0, 51.0, 160.0, 181.0, 121.0, 63.0, 191.0, 314.0, 549.0, 101.0, 91.0, 185.0, 144.0, 105.0, 89.0, 509.0, 315.0, 27.0, 467.0, 523.0, 447.0, 178.0, 794.0, 248.0, 4.0, 132.0, 141.0, 297.0, 159.0, 246.0, 131.0, 153.0, 182.0, 246.0, 113.0, 154.0, 85.0, 65.0, 64.0, 102.0, 283.0, 323.0, 99.0, 21.0, 58.0, 111.0, 126.0, 138.0, 213.0, 477.0, 210.0, 324.0, 141.0, 401.0, 91.0, 164.0, 141.0, 141.0, 453.0, 200.0, 122.0, 101.0, 142.0, 95.0, 130.0, 78.0, 157.0, 124.0, 85.0, 238.0, 164.0, 98.0, 99.0, 140.0, 246.0, 210.0, 124.0, 312.0, 87.0, 97.0, 120.0, 159.0, 102.0, 87.0, 82.0, 208.0, 222.0, 168.0, 113.0, 96.0, 1499.0, 388.0, 176.0, 221.0, 76.0, 278.0, 186.0, 105.0, 535.0, 234.0, 145.0, 145.0, 296.0, 88.0, 118.0, 270.0, 653.0, 96.0, 245.0, 165.0, 529.0, 401.0, 118.0, 11.0, 9.0, 26.0, 527.0, 243.0, 268.0, 289.0, 163.0, 144.0, 236.0, 231.0, 1675.0, 176.0, 151.0, 140.0, 270.0, 11.0, null, 80.0, 181.0, 321.0, 242.0, 149.0, 142.0, 1123.0, 1416.0, 12.0, 44.0, 166.0, 425.0, 409.0, 191.0, 287.0, 245.0, 143.0, 179.0, 188.0, 495.0, 270.0, 249.0, 337.0, 264.0, 185.0, 565.0, 129.0, 185.0, 225.0, 72.0, 90.0, 111.0, 20.0, 104.0, 261.0, 210.0, 97.0, 177.0, 135.0, 147.0, 99.0, 54.0, 203.0, 107.0, 41.0, 173.0, 313.0, 7.0, 176.0, 252.0, 280.0, 45.0, 180.0, 106.0, 260.0, 232.0, 66.0, 141.0, 168.0, 354.0, 321.0, 427.0, 234.0, 185.0, 635.0, 1961.0, 372.0, 653.0, 601.0, 624.0, 442.0, 274.0, 327.0, 651.0, 208.0, 336.0, 334.0, 200.0, 792.0, 98.0, 131.0, 83.0, 302.0, 305.0, 244.0, 161.0, 188.0, 198.0, 261.0, 96.0, 99.0, 259.0, 262.0, 11.0, 167.0, null, null, 11.0, 432.0, 158.0, 233.0, 171.0, 195.0, 256.0, 7.0, 17.0, 99.0, 21.0, 668.0, 132.0, 700.0, 521.0, 101.0, 13.0, 132.0, 213.0, 183.0, 425.0, 2262.0, 314.0, 172.0, 166.0, 864.0, 1031.0, 6.0, 98.0, 83.0, 112.0, 103.0, 186.0, 426.0, 174.0, 167.0, 165.0, 101.0, 154.0, 95.0, 239.0, 174.0, 243.0, 92.0, 131.0, 540.0, 173.0, 518.0, 192.0, 174.0, 109.0, 155.0, 228.0, 683.0, 137.0, 257.0, 118.0, 505.0, 95.0, 142.0, 100.0, 156.0, 143.0, 89.0, 146.0, 1755.0, 288.0, 212.0, 130.0, 382.0, 239.0, 184.0, 227.0, 468.0, 98.0, 139.0, 469.0, 240.0, 169.0, 70.0, 693.0, 334.0, 213.0, 196.0, 10.0, 35.0, 20.0, 24.0, 10.0, 468.0, 115.0, 786.0, 153.0, 895.0, 334.0, 349.0, 141.0, 143.0, 183.0, 128.0, 345.0, 130.0, 241.0, 993.0, 84.0, 399.0, 197.0, 209.0, 84.0, 227.0, 256.0, 420.0, 101.0, 1551.0, 147.0, 321.0, 81.0, 89.0, 97.0, 87.0, 157.0, 356.0, 664.0, 274.0, 139.0, 422.0, 261.0, 114.0, 586.0, 207.0, 110.0, 474.0, 86.0, 343.0, 461.0, 173.0, 127.0, 144.0, 116.0, 182.0, 785.0, 130.0, 245.0, 174.0, 118.0, 1331.0, 113.0, 327.0, 237.0, 118.0, 71.0, 148.0, 370.0, 155.0, 144.0, 137.0, 195.0, 132.0, 253.0, 291.0, 346.0, 153.0, 253.0, 151.0, 312.0, 88.0, 136.0, 699.0, 127.0, 86.0, 426.0, 127.0, 909.0, 152.0, 163.0, 587.0, 2299.0, 231.0, 69.0, 203.0, 79.0, 47.0, 123.0, 179.0, 88.0, 4.0, 158.0, 365.0, 247.0, 295.0, 246.0, 185.0, 394.0, 234.0, 532.0, 138.0, 186.0, 251.0, 92.0, 77.0, 180.0, 233.0, 98.0, 123.0, 75.0, 406.0, 246.0, 195.0, null, 8.0, 49.0, 183.0, 144.0, 419.0, 311.0, 249.0, 167.0, 206.0, 599.0, 160.0, 107.0, 127.0, 1486.0, 224.0, 123.0, 369.0, 203.0, 433.0, 446.0, 395.0, 380.0, 325.0, 383.0, 384.0, 605.0, 236.0, 379.0, 1543.0, 332.0, 443.0, 123.0, 147.0, 119.0, 148.0, 49.0, 595.0, 24.0, 138.0, 121.0, 470.0, 217.0, 7.0, 11.0, 99.0, 3.0, 3.0, 146.0, 221.0, 105.0, 277.0, 95.0, 202.0, 92.0, 175.0, 201.0, 265.0, 75.0, 230.0, 192.0, 213.0, 383.0, 89.0, 179.0, 132.0, 34.0, 391.0, 187.0, 172.0, 164.0, 278.0, 156.0, 115.0, 385.0, 543.0, 893.0, 490.0, 184.0, 116.0, 349.0, 133.0, 130.0, 1662.0, 215.0, 178.0, 324.0, 192.0, 293.0, 644.0, 141.0, 130.0, 31.0, 152.0, 105.0, 183.0, 7.0, 217.0, 16.0, 268.0, 160.0, 116.0, 204.0, 11.0, 11.0, 194.0, 318.0, 208.0, 111.0, 99.0, 125.0, 367.0, 220.0, 17.0, 164.0, 279.0, 154.0, 242.0, 198.0, 1490.0, 177.0, 1120.0, 412.0, 688.0, 95.0, 104.0, 179.0, 263.0, 193.0, 78.0, 1559.0, 676.0, 270.0, 93.0, 226.0, 345.0, 186.0, 517.0, 672.0, 11.0, 14.0, 13.0, 183.0, 1058.0, 202.0, 201.0, 237.0, 368.0, 346.0, 596.0, 657.0, 200.0, 338.0, 140.0, 108.0, 111.0, 232.0, 293.0, 160.0, 692.0, 197.0, 472.0, 268.0, 756.0, 627.0, 277.0, 587.0, 578.0, 1120.0, 211.0, 498.0, 322.0, 503.0, 1231.0, 351.0, 179.0, 204.0, 414.0, 562.0, 244.0, 252.0, 97.0, 128.0, 210.0, 127.0, 80.0, 90.0, 82.0, 474.0, 225.0, 42.0, 518.0, 28.0, 206.0, 1801.0, 488.0, 67.0, 94.0, 292.0, 265.0, 205.0, 8.0, 1.0, 53.0, 147.0, 175.0, 274.0, 652.0, 197.0, 157.0, 290.0, 66.0, 176.0, 61.0, 113.0, 62.0, 250.0, 149.0, 245.0, 198.0, 77.0, 37.0, 177.0, 53.0, 167.0, 234.0, 136.0, 159.0, 212.0, 280.0, 91.0, 222.0, 249.0, 104.0, 439.0, 452.0, 661.0, 173.0, 302.0, 232.0, 262.0, 184.0, 138.0, 180.0, 76.0, 161.0, 329.0, 234.0, 414.0, 162.0, 243.0, 315.0, 147.0, 204.0, 492.0, 211.0, 153.0, 121.0, 203.0, 290.0, 80.0, 164.0, 67.0, 149.0, 160.0, 891.0, 179.0, 174.0, 243.0, 151.0, 159.0, 164.0, 153.0, 136.0, 127.0, 124.0, 311.0, 78.0, 656.0, 111.0, 302.0, 201.0, 106.0, 142.0, 399.0, 743.0, 12.0, 9.0, 105.0, 142.0, 258.0, 367.0, 102.0, 145.0, 138.0, 87.0, 280.0, 1175.0, 121.0, 453.0, 631.0, 847.0, 404.0, 154.0, 384.0, 381.0, 339.0, 196.0, 236.0, 336.0, 266.0, 565.0, 256.0, 230.0, 87.0, 122.0, 243.0, 200.0, 493.0, 508.0, 1086.0, 371.0, 45.0, 208.0, 176.0, 131.0, 139.0, 294.0, 386.0, 407.0, 609.0, 211.0, 338.0, 587.0, 27.0, 343.0, 439.0, 594.0, 218.0, 79.0, 119.0, 155.0, 360.0, 397.0, 340.0, 402.0, 319.0, 104.0, 98.0, 167.0, 278.0, 205.0, 158.0, 265.0, 261.0, 193.0, 393.0, 413.0, 211.0, 245.0, 336.0, 194.0, 237.0, 277.0, 275.0, 901.0, 259.0, 246.0, 303.0, 505.0, 659.0, 242.0, 761.0, 562.0, 353.0, 269.0, 177.0, 534.0, 244.0, 320.0, 562.0, 219.0, 670.0, 53.0, 210.0, 495.0, 278.0, 292.0, 27.0, 108.0, 190.0, 1096.0, 53.0, null, 93.0, 266.0, 5.0, 5.0, 94.0, 563.0, 91.0, 213.0, 80.0, 87.0, 210.0, 273.0, 108.0, 190.0, 144.0, 44.0, 131.0, 262.0, 159.0, 291.0, 159.0, 146.0, 19.0, 207.0, 398.0, 200.0, 520.0, 270.0, 224.0, 222.0, 186.0, 111.0, 997.0, 221.0, 113.0, 81.0, 555.0, 223.0, 157.0, 118.0, 132.0, 116.0, 451.0, 130.0, 99.0, 130.0, 165.0, 170.0, 376.0, 133.0, 118.0, 92.0, 959.0, 78.0, 92.0, 183.0, 82.0, 89.0, 798.0, 217.0, 106.0, 217.0, 174.0, 300.0, 131.0, 219.0, 151.0, 182.0, 211.0, 336.0, 84.0, 122.0, 152.0, 142.0, 186.0, 147.0, 311.0, 189.0, 104.0, 119.0, 187.0, 152.0, 265.0, 312.0, 97.0, 911.0, 739.0, 744.0, 185.0, 1023.0, 14.0, 8.0, 15.0, 657.0, 179.0, 285.0, 208.0, 121.0, 281.0, 152.0, 185.0, 182.0, 140.0, 143.0, 255.0, 315.0, 137.0, 325.0, 519.0, 509.0, 171.0, 257.0, 653.0, 824.0, 529.0, 197.0, 363.0, 111.0, 260.0, 1337.0, 400.0, 200.0, 236.0, 175.0, 106.0, 159.0, 121.0, 25.0, 24.0, 227.0, 196.0, 181.0, 235.0, 222.0, 345.0, 335.0, 324.0, 127.0, 87.0, 1141.0, 560.0, 308.0, 232.0, 283.0, 202.0, 271.0, 205.0, 1.0, 239.0, 176.0, 202.0, 166.0, 485.0, 33.0, 4.0, 133.0, 396.0, 52.0, 222.0, 204.0, 243.0, 89.0, 104.0, 107.0, 87.0, 229.0, 461.0, 491.0, 189.0, 166.0, 354.0, 593.0, 921.0, 473.0, 287.0, 239.0, 492.0, 2296.0, 172.0, 791.0, 2.0, 273.0, 111.0, 323.0, 173.0, 144.0, 58.0, 154.0, 165.0, 1711.0, 164.0, 2062.0, 643.0, 175.0, 74.0, 105.0, 54.0, 70.0, 79.0, 72.0, 154.0, 164.0, 129.0, 364.0, 268.0, 95.0, 190.0, 63.0, 81.0, 45.0, 114.0, 151.0, 65.0, 30.0, 152.0, 130.0, 217.0, 157.0, 156.0, 311.0, 279.0, 69.0, 718.0, 313.0, 191.0, 201.0, 382.0, 1770.0, 156.0, 126.0, 81.0, 89.0, 433.0, 153.0, 521.0, 244.0, 118.0, 164.0, 358.0, 124.0, 250.0, 331.0, 156.0, 212.0, 177.0, 180.0, 166.0, 79.0, 358.0, 236.0, 845.0, 137.0, 161.0, 533.0, 163.0, 621.0, 254.0, 104.0, 332.0, 128.0, 115.0, 424.0, 164.0, 140.0, 345.0, 335.0, 292.0, 80.0, 246.0, 135.0, 112.0, 679.0, 324.0, 117.0, 172.0, 131.0, 75.0, 134.0, 130.0, 244.0, 723.0, 96.0, 405.0, 208.0, 142.0, 719.0, 93.0, 134.0, 178.0, 111.0, 127.0, 286.0, 109.0, 262.0, 115.0, 345.0, 133.0, 381.0, 155.0, 303.0, 127.0, 2357.0, 14.0, 29.0, 88.0, 1575.0, 124.0, 294.0, 312.0, 526.0, 267.0, 288.0, 622.0, 60.0, 192.0, 135.0, 93.0, 105.0, 55.0, 414.0, 114.0, 1161.0, 345.0, 362.0, 471.0, 114.0, 202.0, 201.0, 704.0, 172.0, 118.0, 207.0, 173.0, 672.0, 105.0, 104.0, 136.0, 61.0, 114.0, 1203.0, 663.0, 453.0, 280.0, 110.0, 445.0, 1593.0, 131.0, 445.0, 158.0, 153.0, 1024.0, 197.0, 285.0, 703.0, 134.0, 118.0, 91.0, 115.0, 265.0, 151.0, 186.0, 119.0, 1300.0, 105.0, 585.0, 80.0, 191.0, 151.0, 1689.0, 119.0, 723.0, 162.0, 286.0, 543.0, 231.0, 154.0, 159.0, 92.0, 249.0, 230.0, 680.0, 324.0, 347.0, 150.0, 281.0, 151.0, 131.0, 124.0, 432.0, 468.0, 93.0, 295.0, 69.0, 139.0, 189.0, 548.0, 141.0, 361.0, 123.0, 125.0, 197.0, 44.0, 72.0, 68.0, 84.0, 94.0, 124.0, 196.0, 223.0, 455.0, 253.0, 184.0, 257.0, 336.0, 166.0, 934.0, 193.0, 540.0, 665.0, 358.0, 412.0, 111.0, 737.0, 49.0, 46.0, 106.0, 148.0, 99.0, null, null, 109.0, 177.0, 123.0, 225.0, 251.0, 407.0, 329.0, 376.0, 3079.0, 303.0, 214.0, 309.0, 256.0, 311.0, 108.0, 698.0, 250.0, 324.0, 743.0, 903.0, 2207.0, 505.0, 330.0, 420.0, 618.0, 500.0, 329.0, 497.0, 293.0, 1491.0, 555.0, 141.0, 112.0, 151.0, 365.0, 694.0, 440.0, 312.0, 171.0, 403.0, 76.0, 760.0, 61.0, 82.0, 414.0, 281.0, 70.0, 71.0, 187.0, 593.0, 1587.0, 82.0, 840.0, 197.0, 20.0, 206.0, 234.0, 242.0, 217.0, 192.0, 259.0, 999.0, 490.0, 128.0, 122.0, 147.0, 509.0, 265.0, 13.0, 90.0, 53.0, 36.0, 101.0, 335.0, 12.0, 95.0, 196.0, 85.0, 141.0, 148.0, 109.0, 117.0, 54.0, 122.0, 98.0, 199.0, 56.0, 47.0, 148.0, 94.0, 242.0, 113.0, 321.0, 18.0, 404.0, 151.0, 104.0, 282.0, 335.0, 107.0, 337.0, 247.0, 389.0, 310.0, 396.0, 1642.0, 46.0, 192.0, 614.0, 181.0, 536.0, 309.0, 71.0, 84.0, 93.0, 138.0, 164.0, 234.0, 130.0, 138.0, 353.0, 140.0, 320.0, 307.0, 133.0, 162.0, 268.0, 204.0, 207.0, 13.0, 141.0, 387.0, 954.0, 267.0, 1168.0, 305.0, 231.0, 115.0, 122.0, 213.0, 266.0, 220.0, 153.0, 210.0, 55.0, 51.0, 160.0, 77.0, 341.0, null, 86.0, 7.0, 4.0, 173.0, 8.0, 399.0, 368.0, 182.0, 364.0, 1237.0, 452.0, 663.0, 187.0, 213.0, 243.0, 259.0, 199.0, 128.0, 145.0, 137.0, 2098.0, 275.0, 230.0, 297.0, 289.0, 1820.0, 212.0, 469.0, 277.0, 289.0, 299.0, 377.0, 513.0, 407.0, 372.0, 368.0, 638.0, 453.0, 541.0, 537.0, 475.0, 449.0, 472.0, 134.0, 136.0, 196.0, 475.0, 150.0, 364.0, 20.0, 17.0, 153.0, 417.0, 2.0, 79.0, 85.0, 19.0, 123.0, 92.0, 1785.0, 95.0, 82.0, 148.0, 94.0, 409.0, 814.0, 95.0, 154.0, 60.0, 53.0, 61.0, 66.0, 306.0, 529.0, 881.0, 125.0, 63.0, 19.0, 46.0, 61.0, 195.0, 135.0, 18.0, 42.0, 37.0, 133.0, 107.0, 126.0, 72.0, 276.0, 61.0, 168.0, 147.0, 1908.0, 168.0, 89.0, 118.0, 96.0, 113.0, 162.0, 207.0, 276.0, 221.0, 78.0, 278.0, 85.0, 94.0, 146.0, 90.0, 133.0, 217.0, 156.0, 79.0, 153.0, 103.0, 230.0, 170.0, 170.0, 169.0, 155.0, 329.0, 527.0, 214.0, 107.0, 158.0, 52.0, 121.0, 89.0, 98.0, 162.0, 184.0, 282.0, 105.0, 135.0, 139.0, 252.0, 133.0, 131.0, 461.0, 343.0, 155.0, 119.0, 632.0, 155.0, 129.0, 232.0, 505.0, 362.0, 116.0, 262.0, 180.0, 147.0, 1792.0, 12.0, 886.0, 14.0, 21.0, 15.0, 87.0, 200.0, 335.0, 201.0, 133.0, 196.0, 111.0, 163.0, 126.0, 124.0, 189.0, 442.0, 153.0, 150.0, 68.0, 76.0, 214.0, 137.0, 470.0, 340.0, 1065.0, 115.0, 142.0, 162.0, 158.0, 251.0, 295.0, 91.0, 327.0, 291.0, 382.0, 1845.0, 646.0, 401.0, 283.0, 214.0, 526.0, 280.0, 277.0, 198.0, 338.0, 663.0, 19.0, 89.0, 54.0, 160.0, 280.0, 38.0, 434.0, 260.0, 62.0, 891.0, 29.0, 195.0, 144.0, 304.0, 96.0, 4.0, 44.0, 108.0, 64.0, 108.0, 93.0, 115.0, 118.0, 61.0, 345.0, 223.0, 207.0, 77.0, 71.0, 65.0, 263.0, 389.0, 1026.0, 295.0, 717.0, 481.0, 248.0, 467.0, 1485.0, 245.0, 197.0, 198.0, 508.0, 611.0, 719.0, 258.0, 637.0, 263.0, 204.0, 411.0, 650.0, 733.0, 275.0, 337.0, 883.0, 335.0, 181.0, 567.0, 520.0, 650.0, 88.0, 115.0, 169.0, 112.0, 370.0, 696.0, 26.0, 1038.0, 119.0, 184.0, 381.0, 117.0, 339.0, 153.0, 70.0, 87.0, 243.0, 644.0, 449.0, 816.0, 151.0, 7.0, 14.0, 122.0, 8.0, null, 11.0, 119.0, 244.0, 110.0, 558.0, 76.0, 286.0, 158.0, 249.0, 143.0, 145.0, 46.0, 11.0, 2.0, 225.0, 164.0, 73.0, 517.0, 143.0, 221.0, 168.0, 261.0, 2895.0, 116.0, 138.0, 159.0, 485.0, 265.0, 99.0, 511.0, 280.0, 428.0, 320.0, 283.0, 155.0, 66.0, 552.0, 357.0, 119.0, 461.0, 111.0, 166.0, 126.0, 506.0, 68.0, 665.0, 183.0, 191.0, 161.0, 538.0, 162.0, 152.0, 228.0, 139.0, 210.0, 101.0, 91.0, 88.0, 428.0, 235.0, 168.0, 386.0, 324.0, 192.0, 173.0, 218.0, 422.0, 165.0, 104.0, 140.0, 255.0, 230.0, 100.0, 186.0, 86.0, 350.0, 212.0, 128.0, 103.0, 131.0, 27.0], \"xaxis\": \"x\", \"yaxis\": \"y\"}],\n",
              "                        {\"barmode\": \"relative\", \"legend\": {\"tracegroupgap\": 0}, \"template\": {\"data\": {\"bar\": [{\"error_x\": {\"color\": \"#2a3f5f\"}, \"error_y\": {\"color\": \"#2a3f5f\"}, \"marker\": {\"line\": {\"color\": \"#E5ECF6\", \"width\": 0.5}}, \"type\": \"bar\"}], \"barpolar\": [{\"marker\": {\"line\": {\"color\": \"#E5ECF6\", \"width\": 0.5}}, \"type\": \"barpolar\"}], \"carpet\": [{\"aaxis\": {\"endlinecolor\": \"#2a3f5f\", \"gridcolor\": \"white\", \"linecolor\": \"white\", \"minorgridcolor\": \"white\", \"startlinecolor\": \"#2a3f5f\"}, \"baxis\": {\"endlinecolor\": \"#2a3f5f\", \"gridcolor\": \"white\", \"linecolor\": \"white\", \"minorgridcolor\": \"white\", \"startlinecolor\": \"#2a3f5f\"}, \"type\": \"carpet\"}], \"choropleth\": [{\"colorbar\": {\"outlinewidth\": 0, \"ticks\": \"\"}, \"type\": \"choropleth\"}], \"contour\": [{\"colorbar\": {\"outlinewidth\": 0, \"ticks\": \"\"}, \"colorscale\": [[0.0, \"#0d0887\"], [0.1111111111111111, \"#46039f\"], [0.2222222222222222, \"#7201a8\"], [0.3333333333333333, \"#9c179e\"], [0.4444444444444444, \"#bd3786\"], [0.5555555555555556, \"#d8576b\"], [0.6666666666666666, \"#ed7953\"], [0.7777777777777778, \"#fb9f3a\"], [0.8888888888888888, \"#fdca26\"], [1.0, \"#f0f921\"]], \"type\": \"contour\"}], \"contourcarpet\": [{\"colorbar\": {\"outlinewidth\": 0, \"ticks\": \"\"}, \"type\": \"contourcarpet\"}], \"heatmap\": [{\"colorbar\": {\"outlinewidth\": 0, \"ticks\": \"\"}, \"colorscale\": [[0.0, \"#0d0887\"], [0.1111111111111111, \"#46039f\"], [0.2222222222222222, \"#7201a8\"], [0.3333333333333333, \"#9c179e\"], [0.4444444444444444, \"#bd3786\"], [0.5555555555555556, \"#d8576b\"], [0.6666666666666666, \"#ed7953\"], [0.7777777777777778, \"#fb9f3a\"], [0.8888888888888888, \"#fdca26\"], [1.0, \"#f0f921\"]], \"type\": \"heatmap\"}], \"heatmapgl\": [{\"colorbar\": {\"outlinewidth\": 0, \"ticks\": \"\"}, \"colorscale\": [[0.0, \"#0d0887\"], [0.1111111111111111, \"#46039f\"], [0.2222222222222222, \"#7201a8\"], [0.3333333333333333, \"#9c179e\"], [0.4444444444444444, \"#bd3786\"], [0.5555555555555556, \"#d8576b\"], [0.6666666666666666, \"#ed7953\"], [0.7777777777777778, \"#fb9f3a\"], [0.8888888888888888, \"#fdca26\"], [1.0, \"#f0f921\"]], \"type\": \"heatmapgl\"}], \"histogram\": [{\"marker\": {\"colorbar\": {\"outlinewidth\": 0, \"ticks\": \"\"}}, \"type\": \"histogram\"}], \"histogram2d\": [{\"colorbar\": {\"outlinewidth\": 0, \"ticks\": \"\"}, \"colorscale\": [[0.0, \"#0d0887\"], [0.1111111111111111, \"#46039f\"], [0.2222222222222222, \"#7201a8\"], [0.3333333333333333, \"#9c179e\"], [0.4444444444444444, \"#bd3786\"], [0.5555555555555556, \"#d8576b\"], [0.6666666666666666, \"#ed7953\"], [0.7777777777777778, \"#fb9f3a\"], [0.8888888888888888, \"#fdca26\"], [1.0, \"#f0f921\"]], \"type\": \"histogram2d\"}], \"histogram2dcontour\": [{\"colorbar\": {\"outlinewidth\": 0, \"ticks\": \"\"}, \"colorscale\": [[0.0, \"#0d0887\"], [0.1111111111111111, \"#46039f\"], [0.2222222222222222, \"#7201a8\"], [0.3333333333333333, \"#9c179e\"], [0.4444444444444444, \"#bd3786\"], [0.5555555555555556, \"#d8576b\"], [0.6666666666666666, \"#ed7953\"], [0.7777777777777778, \"#fb9f3a\"], [0.8888888888888888, \"#fdca26\"], [1.0, \"#f0f921\"]], \"type\": \"histogram2dcontour\"}], \"mesh3d\": [{\"colorbar\": {\"outlinewidth\": 0, \"ticks\": \"\"}, \"type\": \"mesh3d\"}], \"parcoords\": [{\"line\": {\"colorbar\": {\"outlinewidth\": 0, \"ticks\": \"\"}}, \"type\": \"parcoords\"}], \"pie\": [{\"automargin\": true, \"type\": \"pie\"}], \"scatter\": [{\"marker\": {\"colorbar\": {\"outlinewidth\": 0, \"ticks\": \"\"}}, \"type\": \"scatter\"}], \"scatter3d\": [{\"line\": {\"colorbar\": {\"outlinewidth\": 0, \"ticks\": \"\"}}, \"marker\": {\"colorbar\": {\"outlinewidth\": 0, \"ticks\": \"\"}}, \"type\": \"scatter3d\"}], \"scattercarpet\": [{\"marker\": {\"colorbar\": {\"outlinewidth\": 0, \"ticks\": \"\"}}, \"type\": \"scattercarpet\"}], \"scattergeo\": [{\"marker\": {\"colorbar\": {\"outlinewidth\": 0, \"ticks\": \"\"}}, \"type\": \"scattergeo\"}], \"scattergl\": [{\"marker\": {\"colorbar\": {\"outlinewidth\": 0, \"ticks\": \"\"}}, \"type\": \"scattergl\"}], \"scattermapbox\": [{\"marker\": {\"colorbar\": {\"outlinewidth\": 0, \"ticks\": \"\"}}, \"type\": \"scattermapbox\"}], \"scatterpolar\": [{\"marker\": {\"colorbar\": {\"outlinewidth\": 0, \"ticks\": \"\"}}, \"type\": \"scatterpolar\"}], \"scatterpolargl\": [{\"marker\": {\"colorbar\": {\"outlinewidth\": 0, \"ticks\": \"\"}}, \"type\": \"scatterpolargl\"}], \"scatterternary\": [{\"marker\": {\"colorbar\": {\"outlinewidth\": 0, \"ticks\": \"\"}}, \"type\": \"scatterternary\"}], \"surface\": [{\"colorbar\": {\"outlinewidth\": 0, \"ticks\": \"\"}, \"colorscale\": [[0.0, \"#0d0887\"], [0.1111111111111111, \"#46039f\"], [0.2222222222222222, \"#7201a8\"], [0.3333333333333333, \"#9c179e\"], [0.4444444444444444, \"#bd3786\"], [0.5555555555555556, \"#d8576b\"], [0.6666666666666666, \"#ed7953\"], [0.7777777777777778, \"#fb9f3a\"], [0.8888888888888888, \"#fdca26\"], [1.0, \"#f0f921\"]], \"type\": \"surface\"}], \"table\": [{\"cells\": {\"fill\": {\"color\": \"#EBF0F8\"}, \"line\": {\"color\": \"white\"}}, \"header\": {\"fill\": {\"color\": \"#C8D4E3\"}, \"line\": {\"color\": \"white\"}}, \"type\": \"table\"}]}, \"layout\": {\"annotationdefaults\": {\"arrowcolor\": \"#2a3f5f\", \"arrowhead\": 0, \"arrowwidth\": 1}, \"coloraxis\": {\"colorbar\": {\"outlinewidth\": 0, \"ticks\": \"\"}}, \"colorscale\": {\"diverging\": [[0, \"#8e0152\"], [0.1, \"#c51b7d\"], [0.2, \"#de77ae\"], [0.3, \"#f1b6da\"], [0.4, \"#fde0ef\"], [0.5, \"#f7f7f7\"], [0.6, \"#e6f5d0\"], [0.7, \"#b8e186\"], [0.8, \"#7fbc41\"], [0.9, \"#4d9221\"], [1, \"#276419\"]], \"sequential\": [[0.0, \"#0d0887\"], [0.1111111111111111, \"#46039f\"], [0.2222222222222222, \"#7201a8\"], [0.3333333333333333, \"#9c179e\"], [0.4444444444444444, \"#bd3786\"], [0.5555555555555556, \"#d8576b\"], [0.6666666666666666, \"#ed7953\"], [0.7777777777777778, \"#fb9f3a\"], [0.8888888888888888, \"#fdca26\"], [1.0, \"#f0f921\"]], \"sequentialminus\": [[0.0, \"#0d0887\"], [0.1111111111111111, \"#46039f\"], [0.2222222222222222, \"#7201a8\"], [0.3333333333333333, \"#9c179e\"], [0.4444444444444444, \"#bd3786\"], [0.5555555555555556, \"#d8576b\"], [0.6666666666666666, \"#ed7953\"], [0.7777777777777778, \"#fb9f3a\"], [0.8888888888888888, \"#fdca26\"], [1.0, \"#f0f921\"]]}, \"colorway\": [\"#636efa\", \"#EF553B\", \"#00cc96\", \"#ab63fa\", \"#FFA15A\", \"#19d3f3\", \"#FF6692\", \"#B6E880\", \"#FF97FF\", \"#FECB52\"], \"font\": {\"color\": \"#2a3f5f\"}, \"geo\": {\"bgcolor\": \"white\", \"lakecolor\": \"white\", \"landcolor\": \"#E5ECF6\", \"showlakes\": true, \"showland\": true, \"subunitcolor\": \"white\"}, \"hoverlabel\": {\"align\": \"left\"}, \"hovermode\": \"closest\", \"mapbox\": {\"style\": \"light\"}, \"paper_bgcolor\": \"white\", \"plot_bgcolor\": \"#E5ECF6\", \"polar\": {\"angularaxis\": {\"gridcolor\": \"white\", \"linecolor\": \"white\", \"ticks\": \"\"}, \"bgcolor\": \"#E5ECF6\", \"radialaxis\": {\"gridcolor\": \"white\", \"linecolor\": \"white\", \"ticks\": \"\"}}, \"scene\": {\"xaxis\": {\"backgroundcolor\": \"#E5ECF6\", \"gridcolor\": \"white\", \"gridwidth\": 2, \"linecolor\": \"white\", \"showbackground\": true, \"ticks\": \"\", \"zerolinecolor\": \"white\"}, \"yaxis\": {\"backgroundcolor\": \"#E5ECF6\", \"gridcolor\": \"white\", \"gridwidth\": 2, \"linecolor\": \"white\", \"showbackground\": true, \"ticks\": \"\", \"zerolinecolor\": \"white\"}, \"zaxis\": {\"backgroundcolor\": \"#E5ECF6\", \"gridcolor\": \"white\", \"gridwidth\": 2, \"linecolor\": \"white\", \"showbackground\": true, \"ticks\": \"\", \"zerolinecolor\": \"white\"}}, \"shapedefaults\": {\"line\": {\"color\": \"#2a3f5f\"}}, \"ternary\": {\"aaxis\": {\"gridcolor\": \"white\", \"linecolor\": \"white\", \"ticks\": \"\"}, \"baxis\": {\"gridcolor\": \"white\", \"linecolor\": \"white\", \"ticks\": \"\"}, \"bgcolor\": \"#E5ECF6\", \"caxis\": {\"gridcolor\": \"white\", \"linecolor\": \"white\", \"ticks\": \"\"}}, \"title\": {\"x\": 0.05}, \"xaxis\": {\"automargin\": true, \"gridcolor\": \"white\", \"linecolor\": \"white\", \"ticks\": \"\", \"title\": {\"standoff\": 15}, \"zerolinecolor\": \"white\", \"zerolinewidth\": 2}, \"yaxis\": {\"automargin\": true, \"gridcolor\": \"white\", \"linecolor\": \"white\", \"ticks\": \"\", \"title\": {\"standoff\": 15}, \"zerolinecolor\": \"white\", \"zerolinewidth\": 2}}}, \"title\": {\"text\": \"Distribution of Downloads\"}, \"xaxis\": {\"anchor\": \"y\", \"domain\": [0.0, 1.0], \"title\": {\"text\": \"downloads\"}}, \"yaxis\": {\"anchor\": \"x\", \"domain\": [0.0, 1.0], \"title\": {\"text\": \"count\"}}},\n",
              "                        {\"responsive\": true}\n",
              "                    ).then(function(){\n",
              "                            \n",
              "var gd = document.getElementById('e8ae1fc8-5aeb-4939-a81a-6819b8aef2c4');\n",
              "var x = new MutationObserver(function (mutations, observer) {{\n",
              "        var display = window.getComputedStyle(gd).display;\n",
              "        if (!display || display === 'none') {{\n",
              "            console.log([gd, 'removed!']);\n",
              "            Plotly.purge(gd);\n",
              "            observer.disconnect();\n",
              "        }}\n",
              "}});\n",
              "\n",
              "// Listen for the removal of the full notebook cells\n",
              "var notebookContainer = gd.closest('#notebook-container');\n",
              "if (notebookContainer) {{\n",
              "    x.observe(notebookContainer, {childList: true});\n",
              "}}\n",
              "\n",
              "// Listen for the clearing of the current output cell\n",
              "var outputEl = gd.closest('.output');\n",
              "if (outputEl) {{\n",
              "    x.observe(outputEl, {childList: true});\n",
              "}}\n",
              "\n",
              "                        })\n",
              "                };\n",
              "                \n",
              "            </script>\n",
              "        </div>\n",
              "</body>\n",
              "</html>"
            ]
          },
          "metadata": {
            "tags": []
          }
        }
      ]
    },
    {
      "cell_type": "markdown",
      "metadata": {
        "id": "TfIvmaAwAhh5"
      },
      "source": [
        "Histogram shows two distinct peaks, one close to zero and another around 200.  Very few books have been downloaded more than 1000 times."
      ]
    },
    {
      "cell_type": "markdown",
      "metadata": {
        "id": "7HgoUO1Rln7L"
      },
      "source": [
        "##Plot a histogram of how many images are in each book."
      ]
    },
    {
      "cell_type": "markdown",
      "metadata": {
        "id": "65VNs-rI3FYS"
      },
      "source": [
        "Create data frame for graph."
      ]
    },
    {
      "cell_type": "code",
      "metadata": {
        "id": "jCkn8njaloPX",
        "outputId": "06769de9-f8d8-46f6-a15d-4073db9422b8",
        "colab": {
          "base_uri": "https://localhost:8080/",
          "height": 255
        }
      },
      "source": [
        "query = \"\"\"\n",
        "        SELECT BookMeta_ScannedImages\t AS Images\n",
        "        FROM `gdelt-bq.internetarchivebooks.1842`\n",
        "        \"\"\"\n",
        "df_images = client.query(query).to_dataframe()\n",
        "print(df_images)"
      ],
      "execution_count": null,
      "outputs": [
        {
          "output_type": "stream",
          "text": [
            "      Images\n",
            "0       67.0\n",
            "1       26.0\n",
            "2      310.0\n",
            "3       70.0\n",
            "4      565.0\n",
            "...      ...\n",
            "3128   659.0\n",
            "3129   193.0\n",
            "3130   305.0\n",
            "3131    96.0\n",
            "3132   544.0\n",
            "\n",
            "[3133 rows x 1 columns]\n"
          ],
          "name": "stdout"
        }
      ]
    },
    {
      "cell_type": "markdown",
      "metadata": {
        "id": "k2RphuWvA4Ov"
      },
      "source": [
        "Plot images"
      ]
    },
    {
      "cell_type": "code",
      "metadata": {
        "id": "BB557xB6l-Y5",
        "outputId": "57d5ef9d-f35f-4cb3-bd94-9a4fc2d1f5ce",
        "colab": {
          "base_uri": "https://localhost:8080/",
          "height": 542
        }
      },
      "source": [
        "fig = px.histogram(df_images,\n",
        "                   x = 'Images',\n",
        "                   title= 'Distribution of Images per Creator',\n",
        "                   nbins=300)\n",
        "fig.show()"
      ],
      "execution_count": null,
      "outputs": [
        {
          "output_type": "display_data",
          "data": {
            "text/html": [
              "<html>\n",
              "<head><meta charset=\"utf-8\" /></head>\n",
              "<body>\n",
              "    <div>\n",
              "            <script src=\"https://cdnjs.cloudflare.com/ajax/libs/mathjax/2.7.5/MathJax.js?config=TeX-AMS-MML_SVG\"></script><script type=\"text/javascript\">if (window.MathJax) {MathJax.Hub.Config({SVG: {font: \"STIX-Web\"}});}</script>\n",
              "                <script type=\"text/javascript\">window.PlotlyConfig = {MathJaxConfig: 'local'};</script>\n",
              "        <script src=\"https://cdn.plot.ly/plotly-latest.min.js\"></script>    \n",
              "            <div id=\"c3aeeeb8-4dae-447b-af18-2d5288b692aa\" class=\"plotly-graph-div\" style=\"height:525px; width:100%;\"></div>\n",
              "            <script type=\"text/javascript\">\n",
              "                \n",
              "                    window.PLOTLYENV=window.PLOTLYENV || {};\n",
              "                    \n",
              "                if (document.getElementById(\"c3aeeeb8-4dae-447b-af18-2d5288b692aa\")) {\n",
              "                    Plotly.newPlot(\n",
              "                        'c3aeeeb8-4dae-447b-af18-2d5288b692aa',\n",
              "                        [{\"alignmentgroup\": \"True\", \"bingroup\": \"x\", \"hoverlabel\": {\"namelength\": 0}, \"hovertemplate\": \"Images=%{x}<br>count=%{y}\", \"legendgroup\": \"\", \"marker\": {\"color\": \"#636efa\"}, \"name\": \"\", \"nbinsx\": 300, \"offsetgroup\": \"\", \"orientation\": \"v\", \"showlegend\": false, \"type\": \"histogram\", \"x\": [67.0, 26.0, 310.0, 70.0, 565.0, 519.0, 97.0, 489.0, 587.0, 489.0, 59.0, 539.0, 598.0, 549.0, 145.0, 339.0, 313.0, 357.0, 309.0, 567.0, 529.0, 421.0, 328.0, 464.0, 68.0, 46.0, 465.0, 53.0, 633.0, 155.0, 491.0, 394.0, 53.0, 142.0, null, null, null, null, null, null, 381.0, 212.0, 132.0, 136.0, 158.0, 492.0, 296.0, 330.0, 38.0, 726.0, 300.0, 522.0, 156.0, 188.0, 400.0, 612.0, 520.0, 520.0, 496.0, 388.0, 540.0, 454.0, 144.0, 454.0, 164.0, 18.0, 10.0, 13.0, 23.0, 768.0, 632.0, 456.0, 562.0, 526.0, 288.0, 556.0, 484.0, 76.0, 520.0, 536.0, 424.0, 244.0, 316.0, 150.0, 158.0, 590.0, 268.0, 374.0, 306.0, 238.0, 252.0, 110.0, 353.0, 458.0, 218.0, 320.0, 400.0, 4.0, 300.0, 350.0, 248.0, 238.0, 216.0, 618.0, 84.0, 656.0, 580.0, 680.0, 1004.0, 158.0, 66.0, 46.0, 448.0, 6.0, 238.0, 28.0, 238.0, 450.0, 324.0, 240.0, 30.0, 56.0, 40.0, 68.0, 418.0, 22.0, 98.0, 126.0, 698.0, 278.0, 322.0, 38.0, 260.0, 40.0, 66.0, 48.0, 490.0, 281.0, 185.0, 301.0, 311.0, 299.0, 343.0, 191.0, 53.0, 107.0, 295.0, 267.0, 391.0, 459.0, 639.0, 686.0, 558.0, 521.0, 287.0, 231.0, 85.0, 366.0, 191.0, 176.0, 331.0, 449.0, 346.0, 355.0, 598.0, 59.0, 433.0, 575.0, 209.0, 387.0, 477.0, 207.0, 384.0, 183.0, 63.0, 331.0, 167.0, 111.0, 455.0, 369.0, 377.0, 100.0, 265.0, 163.0, 358.0, 573.0, 337.0, 562.0, 367.0, 197.0, 255.0, 283.0, 260.0, 261.0, 583.0, 303.0, 61.0, 373.0, 403.0, 167.0, 213.0, 117.0, 93.0, 517.0, 389.0, 400.0, 243.0, 341.0, 421.0, 540.0, 818.0, 37.0, 62.0, 449.0, 335.0, 75.0, 91.0, 325.0, 96.0, 429.0, 499.0, 455.0, 486.0, 342.0, 335.0, 57.0, 589.0, 273.0, 461.0, 223.0, 50.0, 492.0, null, null, null, null, 119.0, 292.0, 108.0, 310.0, 50.0, 94.0, 362.0, 328.0, 392.0, 114.0, 254.0, 170.0, 182.0, 132.0, 524.0, 226.0, 232.0, 420.0, 672.0, 540.0, 404.0, 586.0, 572.0, 118.0, 494.0, 608.0, 282.0, 574.0, 230.0, 20.0, 24.0, 376.0, 236.0, 210.0, 290.0, 38.0, 364.0, 564.0, 512.0, 118.0, 484.0, 98.0, 548.0, 24.0, 372.0, 274.0, 570.0, 158.0, 306.0, 50.0, 482.0, 260.0, 127.0, 626.0, 70.0, 60.0, 4.0, 4.0, 488.0, 118.0, 186.0, 422.0, 76.0, 420.0, 266.0, 2.0, 314.0, 20.0, 424.0, 650.0, 574.0, 636.0, 970.0, 28.0, 262.0, 78.0, 142.0, 28.0, 26.0, 486.0, 6.0, 262.0, 70.0, 32.0, 30.0, 346.0, 300.0, 88.0, 30.0, 50.0, 250.0, 554.0, 384.0, 128.0, 110.0, 406.0, 124.0, 222.0, 244.0, 204.0, 56.0, 34.0, 364.0, 246.0, 104.0, 42.0, 38.0, 10.0, 18.0, 633.0, 632.0, 408.0, 371.0, 235.0, 313.0, 50.0, 27.0, 419.0, 323.0, 91.0, 409.0, 347.0, 594.0, 73.0, 675.0, 311.0, 200.0, 521.0, 21.0, 501.0, 109.0, 191.0, 561.0, 545.0, 447.0, 23.0, 96.0, 218.0, 513.0, 175.0, 334.0, 50.0, 499.0, 520.0, 573.0, 569.0, 457.0, 471.0, 156.0, 463.0, 586.0, 433.0, 199.0, 543.0, 518.0, 315.0, 596.0, 538.0, 555.0, 343.0, 327.0, 713.0, 471.0, 565.0, 229.0, 632.0, 433.0, 41.0, 463.0, 141.0, 174.0, 290.0, 80.0, 555.0, 796.0, 429.0, 94.0, 26.0, 24.0, 25.0, 45.0, 150.0, 300.0, 496.0, 206.0, 180.0, 298.0, 314.0, 598.0, 458.0, 196.0, 498.0, 446.0, 588.0, 406.0, 368.0, 480.0, 256.0, 36.0, 446.0, 404.0, 328.0, 354.0, 352.0, 490.0, 324.0, 264.0, 208.0, 480.0, 474.0, 500.0, 487.0, 483.0, 216.0, 495.0, 435.0, 353.0, 43.0, 471.0, 227.0, 137.0, 525.0, 349.0, 232.0, 204.0, 103.0, 491.0, 319.0, 79.0, 124.0, 564.0, 311.0, 355.0, 531.0, 335.0, 399.0, 438.0, 285.0, 222.0, 279.0, 285.0, 254.0, 766.0, 206.0, 466.0, 512.0, 424.0, 374.0, 378.0, 230.0, 188.0, 544.0, 60.0, 518.0, 28.0, 28.0, 372.0, 20.0, 146.0, 40.0, 346.0, 244.0, 50.0, 80.0, 40.0, 326.0, 578.0, 218.0, 290.0, 62.0, 176.0, 24.0, 590.0, 206.0, 176.0, 746.0, 470.0, 404.0, 322.0, 270.0, 310.0, 96.0, 162.0, 370.0, 230.0, 176.0, 26.0, 40.0, 306.0, 386.0, 262.0, 564.0, 469.0, 366.0, 384.0, 28.0, 28.0, 44.0, 19.0, 19.0, 20.0, 1020.0, 936.0, 136.0, 472.0, 396.0, 184.0, 332.0, 486.0, 46.0, 112.0, 572.0, 502.0, 480.0, 474.0, 368.0, 314.0, 330.0, 382.0, 332.0, 206.0, 316.0, 306.0, 10.0, null, null, null, null, null, null, null, 30.0, 296.0, 38.0, 330.0, 180.0, 400.0, 182.0, 27.0, 431.0, 167.0, 106.0, 317.0, 31.0, 765.0, 603.0, 165.0, 433.0, 267.0, 264.0, 523.0, 33.0, 189.0, 731.0, 481.0, 415.0, 577.0, 208.0, 174.0, 515.0, 567.0, 347.0, 311.0, 293.0, 379.0, 141.0, 275.0, 312.0, 495.0, 560.0, 131.0, 501.0, 623.0, 412.0, 759.0, 437.0, 611.0, 458.0, 131.0, 279.0, 349.0, 33.0, 323.0, 309.0, 277.0, 155.0, 321.0, 394.0, 407.0, 474.0, 335.0, 243.0, 503.0, 388.0, 633.0, 353.0, 558.0, 155.0, 320.0, 124.0, 204.0, 409.0, 157.0, 155.0, 97.0, 657.0, 337.0, 549.0, 611.0, 247.0, 266.0, 451.0, 336.0, 37.0, 186.0, 161.0, 447.0, 59.0, 73.0, 273.0, 284.0, 77.0, 702.0, 405.0, 361.0, 157.0, 327.0, 230.0, 49.0, 271.0, 53.0, 23.0, 325.0, 283.0, 631.0, 65.0, 123.0, 319.0, 307.0, 510.0, 389.0, 621.0, 251.0, 157.0, 75.0, 420.0, 346.0, 378.0, 405.0, 624.0, 176.0, 521.0, 272.0, 473.0, 450.0, 142.0, 672.0, 618.0, 351.0, 472.0, 412.0, 63.0, 515.0, 277.0, 333.0, 371.0, 239.0, 282.0, 411.0, 189.0, 198.0, 624.0, 650.0, 450.0, 485.0, 203.0, null, null, null, null, null, null, null, null, 419.0, 208.0, 52.0, 50.0, 152.0, 328.0, 320.0, 310.0, 280.0, 498.0, 50.0, 40.0, 132.0, 212.0, 380.0, 164.0, 722.0, 340.0, 448.0, 118.0, 22.0, 26.0, 40.0, 376.0, 510.0, 262.0, 484.0, 316.0, 98.0, 482.0, 578.0, 416.0, 682.0, 1132.0, 198.0, 246.0, 336.0, 292.0, 476.0, 106.0, 446.0, 208.0, 83.0, 22.0, 814.0, 392.0, 344.0, 324.0, 436.0, 58.0, 444.0, 242.0, 568.0, 640.0, 328.0, 198.0, 324.0, 322.0, 340.0, 220.0, 248.0, 436.0, 188.0, 30.0, 372.0, 4.0, 12.0, 378.0, 190.0, 562.0, 18.0, 54.0, 20.0, 10.0, 58.0, 670.0, 896.0, 204.0, 26.0, 56.0, 140.0, 332.0, 284.0, 382.0, 22.0, 48.0, 242.0, 132.0, 48.0, 44.0, 398.0, 26.0, 366.0, 344.0, 48.0, 396.0, 276.0, 328.0, 386.0, 308.0, 76.0, 48.0, 188.0, 334.0, 110.0, 278.0, 500.0, 240.0, 608.0, 134.0, 16.0, 32.0, 40.0, 68.0, 34.0, 10.0, 28.0, 504.0, 248.0, 97.0, 298.0, 18.0, 364.0, 376.0, 191.0, 321.0, 225.0, 161.0, 585.0, 101.0, 189.0, 33.0, 263.0, 589.0, 371.0, 265.0, 317.0, 225.0, 119.0, 122.0, 488.0, 913.0, 248.0, 365.0, 61.0, 345.0, 379.0, 249.0, 315.0, 262.0, null, null, null, null, null, null, null, null, null, null, 18.0, 344.0, 352.0, 328.0, 374.0, 374.0, 320.0, 380.0, 102.0, 20.0, 40.0, 286.0, 80.0, 166.0, 324.0, 502.0, 168.0, 326.0, 174.0, 638.0, 34.0, 530.0, 238.0, 556.0, 492.0, 324.0, 34.0, 566.0, 456.0, 656.0, 380.0, 246.0, 544.0, 76.0, 434.0, 12.0, 18.0, 18.0, 408.0, 184.0, 424.0, 500.0, 462.0, 138.0, 332.0, 408.0, 44.0, 332.0, 246.0, 416.0, 522.0, 286.0, 408.0, 222.0, 316.0, 228.0, 6.0, 32.0, 26.0, 22.0, 380.0, 42.0, 280.0, 44.0, 52.0, 262.0, 366.0, 74.0, 66.0, 10.0, 390.0, 770.0, 28.0, 42.0, 710.0, 486.0, 320.0, 44.0, 232.0, 194.0, 180.0, 268.0, 286.0, 144.0, 148.0, 292.0, 162.0, 286.0, 356.0, 62.0, 44.0, 44.0, 130.0, 422.0, 52.0, 60.0, 34.0, 6.0, 42.0, 156.0, 554.0, 288.0, null, 691.0, 573.0, 321.0, 125.0, 393.0, 328.0, 326.0, 469.0, 347.0, 297.0, 233.0, 463.0, 317.0, 476.0, 483.0, 119.0, 21.0, 480.0, 341.0, 43.0, 425.0, 738.0, 413.0, 157.0, 257.0, 271.0, 245.0, 589.0, 629.0, 502.0, 457.0, 407.0, 99.0, 299.0, 37.0, 347.0, 263.0, 414.0, 416.0, 329.0, 95.0, 259.0, 477.0, 507.0, 407.0, 525.0, 575.0, 216.0, 261.0, 205.0, 379.0, 353.0, 147.0, 205.0, 187.0, 279.0, 191.0, 541.0, 791.0, 407.0, 615.0, 305.0, 455.0, 363.0, 227.0, 579.0, 213.0, 432.0, 428.0, 574.0, 28.0, 658.0, 551.0, 18.0, 29.0, 254.0, 271.0, 385.0, 329.0, 439.0, 323.0, 331.0, 325.0, 156.0, 394.0, 253.0, 253.0, 314.0, 6.0, 4.0, 6.0, 16.0, 251.0, 443.0, 22.0, 213.0, 306.0, 392.0, 384.0, 26.0, 408.0, 214.0, 460.0, 211.0, 493.0, 163.0, 253.0, 454.0, 346.0, 306.0, 384.0, 364.0, 332.0, 80.0, 642.0, 486.0, 318.0, 512.0, 266.0, 40.0, 72.0, 44.0, 48.0, 466.0, 200.0, 46.0, 22.0, 56.0, 68.0, 194.0, 104.0, 286.0, 668.0, 300.0, 74.0, 140.0, 162.0, 408.0, 10.0, 205.0, 392.0, 42.0, null, null, null, null, null, 372.0, 18.0, 668.0, 190.0, 422.0, 72.0, 124.0, 188.0, 504.0, 442.0, 160.0, 690.0, 228.0, 706.0, 536.0, 424.0, 158.0, 130.0, 282.0, 52.0, 140.0, 368.0, 14.0, 12.0, 12.0, 616.0, 662.0, 616.0, 422.0, 480.0, 454.0, 226.0, 482.0, 114.0, 296.0, 376.0, 622.0, 560.0, 38.0, 40.0, 486.0, 102.0, 148.0, 372.0, 314.0, 336.0, 578.0, 420.0, 10.0, 282.0, 46.0, 722.0, 608.0, 382.0, 346.0, 314.0, 194.0, 44.0, 30.0, 78.0, 539.0, 421.0, 281.0, 397.0, 117.0, 329.0, 605.0, 625.0, 15.0, 305.0, 131.0, 194.0, 159.0, 499.0, 285.0, 358.0, 491.0, 102.0, 125.0, 49.0, 413.0, 291.0, 297.0, 41.0, 179.0, 473.0, 433.0, 118.0, 37.0, 285.0, 669.0, 468.0, 479.0, 357.0, 412.0, 405.0, 496.0, 481.0, 122.0, 27.0, 31.0, 484.0, 428.0, 31.0, 169.0, 123.0, 131.0, 267.0, 485.0, 447.0, 424.0, 245.0, 303.0, 313.0, 449.0, 235.0, 387.0, 330.0, 255.0, 257.0, 445.0, 641.0, 437.0, 354.0, 76.0, 293.0, 82.0, 326.0, 434.0, 250.0, 574.0, 156.0, 172.0, 214.0, 588.0, 368.0, 234.0, 242.0, 196.0, 260.0, 54.0, 292.0, 466.0, 264.0, 376.0, 158.0, 358.0, 190.0, 478.0, 391.0, 675.0, 267.0, 221.0, 473.0, 269.0, 285.0, 625.0, 465.0, 512.0, 761.0, 416.0, 443.0, 302.0, 323.0, 417.0, 314.0, 317.0, 507.0, 397.0, 90.0, 428.0, 428.0, 244.0, 108.0, 240.0, 110.0, 212.0, 272.0, 52.0, 1300.0, 30.0, 48.0, 100.0, 228.0, 36.0, 448.0, 34.0, 60.0, 142.0, 156.0, 32.0, 86.0, 56.0, 196.0, 166.0, 436.0, 400.0, 426.0, 444.0, 184.0, 84.0, 250.0, 422.0, 58.0, 194.0, 210.0, 340.0, 822.0, 70.0, 14.0, 58.0, 140.0, 628.0, 65.0, 146.0, 638.0, 22.0, 346.0, 488.0, 504.0, 52.0, 628.0, 708.0, 488.0, 334.0, 312.0, 46.0, 50.0, 158.0, 342.0, 336.0, 642.0, 382.0, 42.0, 40.0, 10.0, 10.0, null, null, null, null, null, null, 28.0, 38.0, 6.0, 66.0, 494.0, 252.0, 453.0, 475.0, 315.0, 329.0, 245.0, 239.0, 187.0, 261.0, 273.0, 427.0, 328.0, 49.0, 137.0, 377.0, 25.0, 37.0, 407.0, 57.0, 196.0, 323.0, 451.0, 53.0, 151.0, 35.0, 403.0, 279.0, 335.0, 431.0, 307.0, 317.0, 291.0, 456.0, 176.0, 479.0, 616.0, 462.0, 401.0, 295.0, 40.0, 658.0, 123.0, 574.0, 345.0, 155.0, 571.0, 289.0, 473.0, 663.0, 463.0, 739.0, 281.0, 486.0, 455.0, 119.0, 315.0, 509.0, 298.0, 85.0, 599.0, 437.0, 401.0, 151.0, 587.0, 152.0, 23.0, 40.0, 273.0, 667.0, 531.0, 229.0, 413.0, 37.0, 191.0, 367.0, 344.0, 313.0, 277.0, 441.0, 451.0, 737.0, 227.0, 286.0, 297.0, 315.0, 413.0, 310.0, 536.0, 373.0, 349.0, 247.0, 649.0, 579.0, null, null, null, null, null, null, null, null, null, null, 36.0, 332.0, 362.0, 68.0, 310.0, 148.0, 412.0, 216.0, 412.0, 358.0, 34.0, 512.0, 372.0, 432.0, 620.0, 558.0, 80.0, 128.0, 622.0, 550.0, 514.0, 488.0, 558.0, 32.0, 312.0, 304.0, 42.0, 254.0, 620.0, 378.0, 410.0, 220.0, 218.0, 406.0, 40.0, 44.0, 518.0, 576.0, 412.0, 56.0, 340.0, 318.0, 342.0, 38.0, 244.0, 342.0, 526.0, 32.0, 406.0, 432.0, 366.0, 322.0, 258.0, 254.0, 316.0, 312.0, 172.0, 42.0, 384.0, 38.0, 322.0, 464.0, 36.0, 186.0, 30.0, 12.0, 164.0, 784.0, 496.0, 54.0, 30.0, 494.0, 394.0, 516.0, 44.0, 562.0, 360.0, 250.0, 38.0, 102.0, 32.0, 216.0, 66.0, 34.0, 118.0, 388.0, 54.0, 208.0, 40.0, 26.0, 52.0, 374.0, 254.0, 44.0, 340.0, 48.0, 42.0, 64.0, 54.0, 98.0, 354.0, 72.0, 688.0, 687.0, 302.0, 33.0, 267.0, 349.0, 109.0, 311.0, 397.0, 685.0, 401.0, 356.0, 379.0, 63.0, 575.0, 467.0, 29.0, 21.0, 195.0, 231.0, 945.0, 191.0, 153.0, 183.0, 258.0, 306.0, 297.0, 459.0, 50.0, 439.0, 76.0, 341.0, 264.0, 493.0, 127.0, 145.0, 418.0, 581.0, 421.0, 265.0, 651.0, 452.0, 429.0, 175.0, 726.0, 415.0, 163.0, 257.0, 127.0, 258.0, 263.0, 162.0, 247.0, 89.0, 952.0, 606.0, 370.0, 436.0, 451.0, 359.0, 446.0, 481.0, 291.0, 499.0, 33.0, 319.0, 383.0, 542.0, 384.0, 394.0, 217.0, 383.0, 287.0, 407.0, 431.0, 475.0, 509.0, 187.0, 717.0, 483.0, 131.0, 249.0, 198.0, 348.0, 817.0, 205.0, 145.0, 139.0, 524.0, 17.0, 31.0, 608.0, 512.0, 728.0, null, null, null, null, null, null, 50.0, 348.0, 360.0, 386.0, 134.0, 456.0, 338.0, 148.0, 258.0, 144.0, 154.0, 266.0, 122.0, 528.0, 138.0, 768.0, 580.0, 336.0, 312.0, 46.0, 280.0, 476.0, 338.0, 492.0, 256.0, 262.0, 432.0, 736.0, 218.0, 552.0, 420.0, 516.0, 364.0, 590.0, 56.0, 540.0, 590.0, 161.0, 222.0, 18.0, 11.0, 14.0, 20.0, 228.0, 196.0, 52.0, 60.0, 404.0, 500.0, 230.0, 292.0, 568.0, 312.0, 76.0, 268.0, 92.0, 328.0, 44.0, 60.0, 264.0, 306.0, 32.0, 80.0, 386.0, 100.0, 528.0, 230.0, 70.0, 110.0, 320.0, 22.0, 4.0, 4.0, 2.0, 290.0, 20.0, 42.0, 470.0, 110.0, 316.0, 554.0, 266.0, 28.0, 28.0, 438.0, 64.0, 58.0, 494.0, 574.0, 32.0, 20.0, 350.0, 42.0, 610.0, 386.0, 56.0, 346.0, 368.0, 28.0, 42.0, 174.0, 370.0, 20.0, 368.0, 388.0, 180.0, 54.0, 386.0, 102.0, 210.0, 260.0, 68.0, 274.0, 38.0, 150.0, 70.0, 538.0, 36.0, 266.0, 18.0, 353.0, 379.0, 287.0, 347.0, 224.0, 191.0, 558.0, 143.0, 255.0, 447.0, 17.0, 587.0, 382.0, 698.0, 355.0, 507.0, 366.0, 529.0, 347.0, 329.0, 651.0, 448.0, 529.0, 73.0, 495.0, 146.0, 515.0, 697.0, 321.0, 289.0, 337.0, 499.0, 535.0, 381.0, 187.0, 31.0, 75.0, 507.0, 138.0, 173.0, 333.0, 213.0, 462.0, 169.0, 276.0, 627.0, 433.0, 335.0, 347.0, 267.0, 876.0, 554.0, 166.0, 42.0, 46.0, 288.0, 328.0, 483.0, 576.0, 247.0, 129.0, 63.0, 227.0, 197.0, 253.0, 126.0, 537.0, 164.0, 4.0, 4.0, 74.0, 60.0, 84.0, 230.0, 405.0, 311.0, 180.0, 396.0, 331.0, 429.0, 439.0, 337.0, 294.0, 387.0, 543.0, 413.0, 237.0, 239.0, 162.0, 108.0, 468.0, 462.0, 114.0, 260.0, 170.0, 430.0, 188.0, 140.0, 52.0, 34.0, 342.0, 236.0, 140.0, 114.0, 378.0, 222.0, 92.0, 28.0, 62.0, 394.0, 290.0, 156.0, 404.0, 382.0, 18.0, 282.0, 488.0, 741.0, 634.0, null, null, null, null, null, null, null, null, null, 424.0, 512.0, 300.0, 194.0, 312.0, 388.0, 636.0, 144.0, 308.0, 72.0, 24.0, 110.0, 376.0, 490.0, 116.0, 454.0, 266.0, 532.0, 392.0, 524.0, 506.0, 72.0, 340.0, 482.0, 206.0, 68.0, 254.0, 24.0, 120.0, 16.0, 15.0, 10.0, 38.0, 292.0, 380.0, 440.0, 358.0, 324.0, 166.0, 426.0, 134.0, 522.0, 408.0, 758.0, 754.0, 558.0, 500.0, 396.0, 324.0, 248.0, 700.0, 638.0, 228.0, 526.0, 46.0, 480.0, 132.0, 526.0, 140.0, 682.0, 4.0, 638.0, 34.0, 98.0, 352.0, 340.0, 706.0, 950.0, 92.0, 270.0, 130.0, 28.0, 550.0, 40.0, 339.0, 299.0, 153.0, 496.0, 485.0, 397.0, 146.0, 173.0, 297.0, 583.0, 496.0, 443.0, 596.0, 248.0, 261.0, 283.0, 189.0, 597.0, 70.0, 594.0, 137.0, 160.0, 133.0, 387.0, 497.0, 339.0, 357.0, 517.0, 79.0, 437.0, 407.0, 409.0, 131.0, 658.0, 427.0, 423.0, 17.0, 341.0, 151.0, 390.0, 339.0, 325.0, 638.0, 255.0, 469.0, 325.0, 354.0, 451.0, 180.0, 431.0, 111.0, 187.0, 511.0, 321.0, 219.0, 372.0, 461.0, 213.0, 279.0, 313.0, 373.0, 456.0, 20.0, 326.0, 73.0, 193.0, 151.0, 335.0, 355.0, 261.0, 117.0, 599.0, 424.0, 629.0, 437.0, 153.0, 339.0, 305.0, 245.0, 665.0, 447.0, 38.0, null, null, null, null, null, null, 362.0, 382.0, 46.0, 322.0, 304.0, 362.0, 362.0, 306.0, 342.0, 316.0, 448.0, 390.0, 312.0, 208.0, 368.0, 304.0, 228.0, 538.0, 594.0, 334.0, 156.0, 396.0, 236.0, 228.0, 252.0, 355.0, 62.0, 428.0, 234.0, 450.0, 38.0, 480.0, 220.0, 516.0, 558.0, 478.0, 220.0, 508.0, 372.0, 590.0, 540.0, 424.0, 626.0, 52.0, 272.0, 136.0, 676.0, 336.0, 434.0, 10.0, 20.0, 60.0, 230.0, 462.0, 24.0, 196.0, 280.0, 194.0, 208.0, 368.0, 240.0, 84.0, 144.0, 42.0, 372.0, 90.0, 324.0, 326.0, 644.0, 330.0, 576.0, 472.0, 441.0, 90.0, 78.0, 70.0, 202.0, 196.0, 124.0, 308.0, 2.0, 2.0, 194.0, 140.0, 4.0, 124.0, 88.0, 848.0, 28.0, 28.0, 694.0, 10.0, 4.0, 106.0, 194.0, 590.0, 88.0, 72.0, 28.0, 66.0, 442.0, 244.0, 18.0, 478.0, 276.0, 202.0, 584.0, 356.0, 386.0, 74.0, 152.0, 550.0, 246.0, 82.0, 138.0, 598.0, 42.0, 26.0, 10.0, 248.0, 394.0, 411.0, 529.0, 357.0, 105.0, 633.0, 173.0, 811.0, 290.0, 247.0, 383.0, 29.0, 257.0, 361.0, 43.0, 117.0, 339.0, 115.0, 257.0, 47.0, 117.0, 215.0, 372.0, 266.0, 324.0, 291.0, 473.0, 301.0, 609.0, 322.0, 167.0, 539.0, 595.0, 103.0, 282.0, 327.0, 325.0, 57.0, 255.0, 285.0, 401.0, 383.0, 613.0, 69.0, 198.0, 243.0, 589.0, 289.0, 201.0, 361.0, 575.0, 139.0, 387.0, 341.0, 313.0, 351.0, 586.0, 385.0, 476.0, 321.0, 259.0, 350.0, 330.0, 579.0, 170.0, 576.0, 548.0, 19.0, 525.0, 795.0, 521.0, 489.0, 321.0, 493.0, 99.0, 525.0, 325.0, 127.0, 87.0, 263.0, 194.0, 45.0, 706.0, 461.0, 525.0, 100.0, 337.0, 400.0, 91.0, 341.0, 429.0, 319.0, 290.0, 478.0, 613.0, 611.0, 279.0, 338.0, 571.0, 387.0, 353.0, 348.0, 316.0, 627.0, 307.0, 501.0, 461.0, 439.0, 144.0, 603.0, 237.0, 440.0, 395.0, 351.0, 353.0, 376.0, 368.0, 485.0, 57.0, 293.0, 341.0, 435.0, 375.0, 247.0, 297.0, 561.0, 67.0, 359.0, 530.0, 597.0, 532.0, 637.0, 763.0, 147.0, 459.0, 251.0, 257.0, 263.0, 164.0, 376.0, 590.0, 505.0, 686.0, 646.0, 146.0, 336.0, 338.0, 425.0, 147.0, 261.0, 489.0, 29.0, 485.0, 423.0, 267.0, null, null, null, null, null, null, null, null, null, null, null, null, 40.0, 362.0, 90.0, 294.0, 196.0, 500.0, 334.0, 386.0, 38.0, 118.0, 24.0, 266.0, 228.0, 320.0, 296.0, 618.0, 516.0, 202.0, 182.0, 20.0, 410.0, 260.0, 46.0, 46.0, 74.0, 644.0, 64.0, 570.0, 244.0, 678.0, 90.0, 290.0, 414.0, 126.0, 258.0, 214.0, 440.0, 15.0, 25.0, 934.0, 292.0, 514.0, 96.0, 238.0, 164.0, 326.0, 528.0, 264.0, 266.0, 200.0, 162.0, 124.0, 118.0, 620.0, 336.0, 72.0, 18.0, 136.0, 64.0, 446.0, 198.0, 156.0, 188.0, 98.0, 16.0, 406.0, 390.0, 158.0, 50.0, 14.0, 28.0, 28.0, 348.0, 470.0, 890.0, 10.0, 204.0, 56.0, 210.0, 58.0, 58.0, 66.0, 640.0, 486.0, 46.0, 144.0, 38.0, 384.0, 48.0, 278.0, 222.0, 308.0, 232.0, 262.0, 230.0, 206.0, 308.0, 158.0, 48.0, 384.0, 90.0, 384.0, 202.0, 366.0, 24.0, 382.0, 52.0, 446.0, 98.0, 286.0, 338.0, 532.0, 204.0, 214.0, 298.0, 38.0, 294.0, 38.0, 120.0, 17.0, null, 515.0, 541.0, 650.0, 439.0, 317.0, 151.0, 507.0, 191.0, 153.0, 425.0, 531.0, 185.0, 385.0, 125.0, 71.0, 251.0, 225.0, 553.0, 78.0, 511.0, 489.0, 171.0, 128.0, 241.0, 21.0, 390.0, 265.0, 253.0, 61.0, 271.0, 275.0, 55.0, 319.0, 570.0, 549.0, 300.0, 533.0, 319.0, 305.0, 366.0, 359.0, 453.0, 580.0, 311.0, 342.0, 369.0, 69.0, 517.0, 440.0, 293.0, 596.0, 113.0, 381.0, 585.0, 371.0, 107.0, 155.0, 165.0, 505.0, 253.0, 84.0, 341.0, 399.0, 423.0, 672.0, 522.0, 519.0, 321.0, 379.0, 205.0, 245.0, 330.0, 59.0, 204.0, 451.0, 311.0, 253.0, 311.0, 245.0, 237.0, 189.0, 250.0, 365.0, 48.0, 396.0, 597.0, 448.0, null, null, null, null, null, 155.0, 315.0, 72.0, 36.0, 48.0, 300.0, 336.0, 158.0, 164.0, 14.0, 178.0, 332.0, 396.0, 84.0, 172.0, 186.0, 158.0, 218.0, 524.0, 432.0, 158.0, 142.0, 190.0, 686.0, 520.0, 502.0, 38.0, 530.0, 514.0, 326.0, 80.0, 252.0, 480.0, 708.0, 284.0, 518.0, 414.0, 75.0, 15.0, 19.0, 176.0, 380.0, 20.0, 252.0, 40.0, 434.0, 272.0, 332.0, 336.0, 68.0, 74.0, 460.0, 360.0, 320.0, 330.0, 374.0, 126.0, 416.0, 360.0, 58.0, 214.0, 38.0, 30.0, 40.0, 150.0, 206.0, 32.0, 262.0, 520.0, 102.0, 64.0, 466.0, 566.0, 510.0, 64.0, 20.0, 234.0, 42.0, 78.0, 36.0, 32.0, 224.0, 72.0, 316.0, 514.0, 478.0, 90.0, 28.0, 326.0, 470.0, 396.0, 142.0, 514.0, 26.0, 44.0, 109.0, 54.0, 192.0, 28.0, 7.0, 17.0, 579.0, 497.0, 570.0, 357.0, 435.0, 481.0, 149.0, 149.0, 57.0, 269.0, 127.0, 532.0, 457.0, 332.0, 303.0, 279.0, 327.0, 301.0, 237.0, 367.0, 414.0, 201.0, 64.0, 485.0, 557.0, 320.0, 616.0, 478.0, null, null, 171.0, 454.0, 331.0, 216.0, 655.0, 299.0, 104.0, 102.0, 290.0, 294.0, 312.0, 330.0, 334.0, 294.0, 40.0, 116.0, 370.0, 464.0, 444.0, 40.0, 76.0, 332.0, 438.0, 478.0, 38.0, 94.0, 378.0, 108.0, 138.0, 468.0, 668.0, 678.0, 28.0, 350.0, 498.0, 364.0, 190.0, 526.0, 218.0, 48.0, 12.0, 46.0, 418.0, 32.0, 16.0, 576.0, 70.0, 566.0, 274.0, 382.0, 356.0, 142.0, 318.0, 518.0, 300.0, 580.0, 156.0, 250.0, 138.0, 26.0, 478.0, 262.0, 254.0, 4.0, 38.0, 28.0, 492.0, 142.0, 766.0, 366.0, 162.0, 490.0, 186.0, 22.0, 170.0, 34.0, 220.0, 190.0, 122.0, 18.0, 328.0, 352.0, 114.0, 192.0, 22.0, 46.0, 274.0, 590.0, 48.0, 276.0, 322.0, 112.0, 384.0, 24.0, 298.0, 388.0, 60.0, 174.0, 94.0, 450.0, 262.0, 473.0, 73.0, 571.0, 204.0, 239.0, 231.0, 76.0, 127.0, 327.0, 339.0, 279.0, 355.0, 253.0, 119.0, 355.0, 221.0, 683.0, 269.0, 541.0, 419.0, 141.0, 609.0, 409.0, 193.0, 853.0, 527.0, 518.0, 417.0, 409.0, 351.0, 538.0, 165.0, 433.0, 143.0, 353.0, 199.0, 428.0, 726.0, 291.0, 178.0, 652.0, 359.0, 657.0, 569.0, 137.0, 521.0, 36.0, 345.0, 378.0, 261.0, 265.0, 387.0, 169.0, 219.0, 243.0, 425.0, 515.0, 461.0, 347.0, 476.0, 217.0, 406.0, 481.0, 669.0, 361.0, 301.0, 670.0, 396.0, 620.0, 509.0, 349.0, 311.0, 157.0, 314.0, 372.0, 434.0, 165.0, 567.0, 76.0, 466.0, 471.0, 206.0, 100.0, 427.0, 293.0, 349.0, 227.0, 424.0, 545.0, 355.0, 551.0, 343.0, 342.0, 263.0, 264.0, 353.0, 463.0, 477.0, 235.0, 323.0, 541.0, 352.0, 246.0, 384.0, 329.0, 357.0, 207.0, 492.0, 372.0, 48.0, null, null, null, null, null, null, 243.0, 486.0, 328.0, 386.0, 340.0, 342.0, 320.0, 322.0, 238.0, 38.0, 322.0, 328.0, 370.0, 134.0, 72.0, 544.0, 320.0, 40.0, 388.0, 524.0, 478.0, 546.0, 388.0, 40.0, 62.0, 666.0, 490.0, 632.0, 88.0, 282.0, 492.0, 634.0, 672.0, 30.0, 10.0, 30.0, 17.0, 32.0, 13.0, 390.0, 316.0, 126.0, 572.0, 326.0, 184.0, 274.0, 330.0, 312.0, 452.0, 612.0, 236.0, 514.0, 316.0, 222.0, 100.0, 174.0, 290.0, 124.0, 492.0, 192.0, 258.0, 554.0, 4.0, 38.0, 388.0, 434.0, 24.0, 756.0, 778.0, 604.0, 348.0, 24.0, 184.0, 516.0, 318.0, 48.0, 266.0, 184.0, 88.0, 564.0, 260.0, 24.0, 26.0, 22.0, 50.0, 252.0, 204.0, 716.0, 310.0, 40.0, 428.0, 104.0, 184.0, 364.0, 660.0, 178.0, 112.0, 42.0, 80.0, 82.0, 294.0, 56.0, 46.0, 30.0, 434.0, 86.0, 78.0, 354.0, 14.0, 96.0, 323.0, 731.0, 585.0, 567.0, 493.0, 359.0, 493.0, 313.0, 209.0, 73.0, 513.0, 251.0, 115.0, 67.0, 663.0, 273.0, 421.0, 330.0, 111.0, 302.0, 77.0, 497.0, 429.0, 209.0, 197.0, 23.0, 276.0, 24.0, 205.0, 327.0, 37.0, 393.0, 567.0, 301.0, 157.0, 595.0, 48.0, 327.0, 441.0, 427.0, 271.0, 677.0, 156.0, 588.0, 283.0, 273.0, 578.0, 592.0, 358.0, 221.0, 621.0, 384.0, 295.0, 129.0, 365.0, 551.0, 67.0, 375.0, 287.0, 209.0, 399.0, 177.0, 461.0, 505.0, 448.0, 181.0, 644.0, 397.0, 243.0, 315.0, 255.0, 493.0, 361.0, 263.0, 386.0, 489.0, 400.0, 659.0, 193.0, 305.0, 96.0, 544.0], \"xaxis\": \"x\", \"yaxis\": \"y\"}],\n",
              "                        {\"barmode\": \"relative\", \"legend\": {\"tracegroupgap\": 0}, \"template\": {\"data\": {\"bar\": [{\"error_x\": {\"color\": \"#2a3f5f\"}, \"error_y\": {\"color\": \"#2a3f5f\"}, \"marker\": {\"line\": {\"color\": \"#E5ECF6\", \"width\": 0.5}}, \"type\": \"bar\"}], \"barpolar\": [{\"marker\": {\"line\": {\"color\": \"#E5ECF6\", \"width\": 0.5}}, \"type\": \"barpolar\"}], \"carpet\": [{\"aaxis\": {\"endlinecolor\": \"#2a3f5f\", \"gridcolor\": \"white\", \"linecolor\": \"white\", \"minorgridcolor\": \"white\", \"startlinecolor\": \"#2a3f5f\"}, \"baxis\": {\"endlinecolor\": \"#2a3f5f\", \"gridcolor\": \"white\", \"linecolor\": \"white\", \"minorgridcolor\": \"white\", \"startlinecolor\": \"#2a3f5f\"}, \"type\": \"carpet\"}], \"choropleth\": [{\"colorbar\": {\"outlinewidth\": 0, \"ticks\": \"\"}, \"type\": \"choropleth\"}], \"contour\": [{\"colorbar\": {\"outlinewidth\": 0, \"ticks\": \"\"}, \"colorscale\": [[0.0, \"#0d0887\"], [0.1111111111111111, \"#46039f\"], [0.2222222222222222, \"#7201a8\"], [0.3333333333333333, \"#9c179e\"], [0.4444444444444444, \"#bd3786\"], [0.5555555555555556, \"#d8576b\"], [0.6666666666666666, \"#ed7953\"], [0.7777777777777778, \"#fb9f3a\"], [0.8888888888888888, \"#fdca26\"], [1.0, \"#f0f921\"]], \"type\": \"contour\"}], \"contourcarpet\": [{\"colorbar\": {\"outlinewidth\": 0, \"ticks\": \"\"}, \"type\": \"contourcarpet\"}], \"heatmap\": [{\"colorbar\": {\"outlinewidth\": 0, \"ticks\": \"\"}, \"colorscale\": [[0.0, \"#0d0887\"], [0.1111111111111111, \"#46039f\"], [0.2222222222222222, \"#7201a8\"], [0.3333333333333333, \"#9c179e\"], [0.4444444444444444, \"#bd3786\"], [0.5555555555555556, \"#d8576b\"], [0.6666666666666666, \"#ed7953\"], [0.7777777777777778, \"#fb9f3a\"], [0.8888888888888888, \"#fdca26\"], [1.0, \"#f0f921\"]], \"type\": \"heatmap\"}], \"heatmapgl\": [{\"colorbar\": {\"outlinewidth\": 0, \"ticks\": \"\"}, \"colorscale\": [[0.0, \"#0d0887\"], [0.1111111111111111, \"#46039f\"], [0.2222222222222222, \"#7201a8\"], [0.3333333333333333, \"#9c179e\"], [0.4444444444444444, \"#bd3786\"], [0.5555555555555556, \"#d8576b\"], [0.6666666666666666, \"#ed7953\"], [0.7777777777777778, \"#fb9f3a\"], [0.8888888888888888, \"#fdca26\"], [1.0, \"#f0f921\"]], \"type\": \"heatmapgl\"}], \"histogram\": [{\"marker\": {\"colorbar\": {\"outlinewidth\": 0, \"ticks\": \"\"}}, \"type\": \"histogram\"}], \"histogram2d\": [{\"colorbar\": {\"outlinewidth\": 0, \"ticks\": \"\"}, \"colorscale\": [[0.0, \"#0d0887\"], [0.1111111111111111, \"#46039f\"], [0.2222222222222222, \"#7201a8\"], [0.3333333333333333, \"#9c179e\"], [0.4444444444444444, \"#bd3786\"], [0.5555555555555556, \"#d8576b\"], [0.6666666666666666, \"#ed7953\"], [0.7777777777777778, \"#fb9f3a\"], [0.8888888888888888, \"#fdca26\"], [1.0, \"#f0f921\"]], \"type\": \"histogram2d\"}], \"histogram2dcontour\": [{\"colorbar\": {\"outlinewidth\": 0, \"ticks\": \"\"}, \"colorscale\": [[0.0, \"#0d0887\"], [0.1111111111111111, \"#46039f\"], [0.2222222222222222, \"#7201a8\"], [0.3333333333333333, \"#9c179e\"], [0.4444444444444444, \"#bd3786\"], [0.5555555555555556, \"#d8576b\"], [0.6666666666666666, \"#ed7953\"], [0.7777777777777778, \"#fb9f3a\"], [0.8888888888888888, \"#fdca26\"], [1.0, \"#f0f921\"]], \"type\": \"histogram2dcontour\"}], \"mesh3d\": [{\"colorbar\": {\"outlinewidth\": 0, \"ticks\": \"\"}, \"type\": \"mesh3d\"}], \"parcoords\": [{\"line\": {\"colorbar\": {\"outlinewidth\": 0, \"ticks\": \"\"}}, \"type\": \"parcoords\"}], \"pie\": [{\"automargin\": true, \"type\": \"pie\"}], \"scatter\": [{\"marker\": {\"colorbar\": {\"outlinewidth\": 0, \"ticks\": \"\"}}, \"type\": \"scatter\"}], \"scatter3d\": [{\"line\": {\"colorbar\": {\"outlinewidth\": 0, \"ticks\": \"\"}}, \"marker\": {\"colorbar\": {\"outlinewidth\": 0, \"ticks\": \"\"}}, \"type\": \"scatter3d\"}], \"scattercarpet\": [{\"marker\": {\"colorbar\": {\"outlinewidth\": 0, \"ticks\": \"\"}}, \"type\": \"scattercarpet\"}], \"scattergeo\": [{\"marker\": {\"colorbar\": {\"outlinewidth\": 0, \"ticks\": \"\"}}, \"type\": \"scattergeo\"}], \"scattergl\": [{\"marker\": {\"colorbar\": {\"outlinewidth\": 0, \"ticks\": \"\"}}, \"type\": \"scattergl\"}], \"scattermapbox\": [{\"marker\": {\"colorbar\": {\"outlinewidth\": 0, \"ticks\": \"\"}}, \"type\": \"scattermapbox\"}], \"scatterpolar\": [{\"marker\": {\"colorbar\": {\"outlinewidth\": 0, \"ticks\": \"\"}}, \"type\": \"scatterpolar\"}], \"scatterpolargl\": [{\"marker\": {\"colorbar\": {\"outlinewidth\": 0, \"ticks\": \"\"}}, \"type\": \"scatterpolargl\"}], \"scatterternary\": [{\"marker\": {\"colorbar\": {\"outlinewidth\": 0, \"ticks\": \"\"}}, \"type\": \"scatterternary\"}], \"surface\": [{\"colorbar\": {\"outlinewidth\": 0, \"ticks\": \"\"}, \"colorscale\": [[0.0, \"#0d0887\"], [0.1111111111111111, \"#46039f\"], [0.2222222222222222, \"#7201a8\"], [0.3333333333333333, \"#9c179e\"], [0.4444444444444444, \"#bd3786\"], [0.5555555555555556, \"#d8576b\"], [0.6666666666666666, \"#ed7953\"], [0.7777777777777778, \"#fb9f3a\"], [0.8888888888888888, \"#fdca26\"], [1.0, \"#f0f921\"]], \"type\": \"surface\"}], \"table\": [{\"cells\": {\"fill\": {\"color\": \"#EBF0F8\"}, \"line\": {\"color\": \"white\"}}, \"header\": {\"fill\": {\"color\": \"#C8D4E3\"}, \"line\": {\"color\": \"white\"}}, \"type\": \"table\"}]}, \"layout\": {\"annotationdefaults\": {\"arrowcolor\": \"#2a3f5f\", \"arrowhead\": 0, \"arrowwidth\": 1}, \"coloraxis\": {\"colorbar\": {\"outlinewidth\": 0, \"ticks\": \"\"}}, \"colorscale\": {\"diverging\": [[0, \"#8e0152\"], [0.1, \"#c51b7d\"], [0.2, \"#de77ae\"], [0.3, \"#f1b6da\"], [0.4, \"#fde0ef\"], [0.5, \"#f7f7f7\"], [0.6, \"#e6f5d0\"], [0.7, \"#b8e186\"], [0.8, \"#7fbc41\"], [0.9, \"#4d9221\"], [1, \"#276419\"]], \"sequential\": [[0.0, \"#0d0887\"], [0.1111111111111111, \"#46039f\"], [0.2222222222222222, \"#7201a8\"], [0.3333333333333333, \"#9c179e\"], [0.4444444444444444, \"#bd3786\"], [0.5555555555555556, \"#d8576b\"], [0.6666666666666666, \"#ed7953\"], [0.7777777777777778, \"#fb9f3a\"], [0.8888888888888888, \"#fdca26\"], [1.0, \"#f0f921\"]], \"sequentialminus\": [[0.0, \"#0d0887\"], [0.1111111111111111, \"#46039f\"], [0.2222222222222222, \"#7201a8\"], [0.3333333333333333, \"#9c179e\"], [0.4444444444444444, \"#bd3786\"], [0.5555555555555556, \"#d8576b\"], [0.6666666666666666, \"#ed7953\"], [0.7777777777777778, \"#fb9f3a\"], [0.8888888888888888, \"#fdca26\"], [1.0, \"#f0f921\"]]}, \"colorway\": [\"#636efa\", \"#EF553B\", \"#00cc96\", \"#ab63fa\", \"#FFA15A\", \"#19d3f3\", \"#FF6692\", \"#B6E880\", \"#FF97FF\", \"#FECB52\"], \"font\": {\"color\": \"#2a3f5f\"}, \"geo\": {\"bgcolor\": \"white\", \"lakecolor\": \"white\", \"landcolor\": \"#E5ECF6\", \"showlakes\": true, \"showland\": true, \"subunitcolor\": \"white\"}, \"hoverlabel\": {\"align\": \"left\"}, \"hovermode\": \"closest\", \"mapbox\": {\"style\": \"light\"}, \"paper_bgcolor\": \"white\", \"plot_bgcolor\": \"#E5ECF6\", \"polar\": {\"angularaxis\": {\"gridcolor\": \"white\", \"linecolor\": \"white\", \"ticks\": \"\"}, \"bgcolor\": \"#E5ECF6\", \"radialaxis\": {\"gridcolor\": \"white\", \"linecolor\": \"white\", \"ticks\": \"\"}}, \"scene\": {\"xaxis\": {\"backgroundcolor\": \"#E5ECF6\", \"gridcolor\": \"white\", \"gridwidth\": 2, \"linecolor\": \"white\", \"showbackground\": true, \"ticks\": \"\", \"zerolinecolor\": \"white\"}, \"yaxis\": {\"backgroundcolor\": \"#E5ECF6\", \"gridcolor\": \"white\", \"gridwidth\": 2, \"linecolor\": \"white\", \"showbackground\": true, \"ticks\": \"\", \"zerolinecolor\": \"white\"}, \"zaxis\": {\"backgroundcolor\": \"#E5ECF6\", \"gridcolor\": \"white\", \"gridwidth\": 2, \"linecolor\": \"white\", \"showbackground\": true, \"ticks\": \"\", \"zerolinecolor\": \"white\"}}, \"shapedefaults\": {\"line\": {\"color\": \"#2a3f5f\"}}, \"ternary\": {\"aaxis\": {\"gridcolor\": \"white\", \"linecolor\": \"white\", \"ticks\": \"\"}, \"baxis\": {\"gridcolor\": \"white\", \"linecolor\": \"white\", \"ticks\": \"\"}, \"bgcolor\": \"#E5ECF6\", \"caxis\": {\"gridcolor\": \"white\", \"linecolor\": \"white\", \"ticks\": \"\"}}, \"title\": {\"x\": 0.05}, \"xaxis\": {\"automargin\": true, \"gridcolor\": \"white\", \"linecolor\": \"white\", \"ticks\": \"\", \"title\": {\"standoff\": 15}, \"zerolinecolor\": \"white\", \"zerolinewidth\": 2}, \"yaxis\": {\"automargin\": true, \"gridcolor\": \"white\", \"linecolor\": \"white\", \"ticks\": \"\", \"title\": {\"standoff\": 15}, \"zerolinecolor\": \"white\", \"zerolinewidth\": 2}}}, \"title\": {\"text\": \"Distribution of Images per Creator\"}, \"xaxis\": {\"anchor\": \"y\", \"domain\": [0.0, 1.0], \"title\": {\"text\": \"Images\"}}, \"yaxis\": {\"anchor\": \"x\", \"domain\": [0.0, 1.0], \"title\": {\"text\": \"count\"}}},\n",
              "                        {\"responsive\": true}\n",
              "                    ).then(function(){\n",
              "                            \n",
              "var gd = document.getElementById('c3aeeeb8-4dae-447b-af18-2d5288b692aa');\n",
              "var x = new MutationObserver(function (mutations, observer) {{\n",
              "        var display = window.getComputedStyle(gd).display;\n",
              "        if (!display || display === 'none') {{\n",
              "            console.log([gd, 'removed!']);\n",
              "            Plotly.purge(gd);\n",
              "            observer.disconnect();\n",
              "        }}\n",
              "}});\n",
              "\n",
              "// Listen for the removal of the full notebook cells\n",
              "var notebookContainer = gd.closest('#notebook-container');\n",
              "if (notebookContainer) {{\n",
              "    x.observe(notebookContainer, {childList: true});\n",
              "}}\n",
              "\n",
              "// Listen for the clearing of the current output cell\n",
              "var outputEl = gd.closest('.output');\n",
              "if (outputEl) {{\n",
              "    x.observe(outputEl, {childList: true});\n",
              "}}\n",
              "\n",
              "                        })\n",
              "                };\n",
              "                \n",
              "            </script>\n",
              "        </div>\n",
              "</body>\n",
              "</html>"
            ]
          },
          "metadata": {
            "tags": []
          }
        }
      ]
    },
    {
      "cell_type": "markdown",
      "metadata": {
        "id": "Qkz5E4zeA--K"
      },
      "source": [
        "Again two distinct peaks, one close to zero and one close to 325 images. Few books have more than 800 images."
      ]
    },
    {
      "cell_type": "markdown",
      "metadata": {
        "id": "EgaHtdlkmZb0"
      },
      "source": [
        "##Images and Downloads Plot"
      ]
    },
    {
      "cell_type": "markdown",
      "metadata": {
        "id": "9laniSlGBlXE"
      },
      "source": [
        "Produce a data frame that contains each creator with the number of downloads and images attributed to them. Filter out the none data by caping images at 12,000. "
      ]
    },
    {
      "cell_type": "code",
      "metadata": {
        "id": "hOeYUrCenDa_",
        "outputId": "3d9d79c3-92df-4bb8-80c9-19640620f29c",
        "colab": {
          "base_uri": "https://localhost:8080/",
          "height": 255
        }
      },
      "source": [
        "query = \"\"\"\n",
        "        SELECT BookMeta_Creator AS Creators,\n",
        "        SUM(BookMeta_ScannedImages) AS images,\n",
        "        SUM(BookMeta_DownloadsJune2015) AS downloads\n",
        "        FROM `gdelt-bq.internetarchivebooks.1842`\n",
        "        GROUP BY Creators\n",
        "        HAVING images < 12000\n",
        "        ORDER BY images\n",
        "        \"\"\"\n",
        "df_creators = client.query(query).to_dataframe()\n",
        "print(df_creators)"
      ],
      "execution_count": null,
      "outputs": [
        {
          "output_type": "stream",
          "text": [
            "                                               Creators  images  downloads\n",
            "0     Knight, Anne;Chapman, Maria Weston, 1806-1885,...       2       82.0\n",
            "1     Chapman, Maria Weston, 1806-1885;Borden, Natha...       4       99.0\n",
            "2     Smith, Increase S;Weston, Caroline, 1808-1882,...       4       72.0\n",
            "3     Cook, Russell S., 1811-1864;Phelps, Amos A. (A...       4        NaN\n",
            "4     Chapman, Maria Weston, 1806-1885;Child, David ...       4       93.0\n",
            "...                                                 ...     ...        ...\n",
            "1996      Bale,  John ,  Coverdale,  Miles ,  John Foxe    4904     1860.0\n",
            "1997  Butler, Alban, 1711-1773;Butler, Charles, 1750...    5502       45.0\n",
            "1998  Emmons, Nathanael, 1745-1840;Ide, Jacob, 1785-...    5786     2599.0\n",
            "1999                      Beveridge, William, 1637-1708    7832     1429.0\n",
            "2000  New York (N.Y.). Common Council;Willis, Samuel...   11406    25694.0\n",
            "\n",
            "[2001 rows x 3 columns]\n"
          ],
          "name": "stdout"
        }
      ]
    },
    {
      "cell_type": "markdown",
      "metadata": {
        "id": "X1-mSpM0B0kx"
      },
      "source": [
        "Plot the number of images and downloads for each creator. "
      ]
    },
    {
      "cell_type": "code",
      "metadata": {
        "id": "Rui39O2OnTok",
        "outputId": "15c33125-78fe-44e6-93ab-680e1943b5ea",
        "colab": {
          "base_uri": "https://localhost:8080/",
          "height": 542
        }
      },
      "source": [
        "fig = px.scatter(df_creators,\n",
        "                x = 'images',\n",
        "                y = 'downloads',\n",
        "               hover_name = 'Creators')\n",
        "fig.update_layout(title='Creators by Images and Downloads')\n",
        "fig.show()"
      ],
      "execution_count": null,
      "outputs": [
        {
          "output_type": "display_data",
          "data": {
            "text/html": [
              "<html>\n",
              "<head><meta charset=\"utf-8\" /></head>\n",
              "<body>\n",
              "    <div>\n",
              "            <script src=\"https://cdnjs.cloudflare.com/ajax/libs/mathjax/2.7.5/MathJax.js?config=TeX-AMS-MML_SVG\"></script><script type=\"text/javascript\">if (window.MathJax) {MathJax.Hub.Config({SVG: {font: \"STIX-Web\"}});}</script>\n",
              "                <script type=\"text/javascript\">window.PlotlyConfig = {MathJaxConfig: 'local'};</script>\n",
              "        <script src=\"https://cdn.plot.ly/plotly-latest.min.js\"></script>    \n",
              "            <div id=\"c26f2cb6-f3f3-4d85-93df-1a77a8a39f19\" class=\"plotly-graph-div\" style=\"height:525px; width:100%;\"></div>\n",
              "            <script type=\"text/javascript\">\n",
              "                \n",
              "                    window.PLOTLYENV=window.PLOTLYENV || {};\n",
              "                    \n",
              "                if (document.getElementById(\"c26f2cb6-f3f3-4d85-93df-1a77a8a39f19\")) {\n",
              "                    Plotly.newPlot(\n",
              "                        'c26f2cb6-f3f3-4d85-93df-1a77a8a39f19',\n",
              "                        [{\"hoverlabel\": {\"namelength\": 0}, \"hovertemplate\": \"<b>%{hovertext}</b><br><br>images=%{x}<br>downloads=%{y}\", \"hovertext\": [\"Knight, Anne;Chapman, Maria Weston, 1806-1885, recipient\", \"Chapman, Maria Weston, 1806-1885;Borden, Nathaniel B., 1801-1865. recipient\", \"Smith, Increase S;Weston, Caroline, 1808-1882, recipient\", \"Cook, Russell S., 1811-1864;Phelps, Amos A. (Amos Augustus), 1805-1847, recipient\", \"Chapman, Maria Weston, 1806-1885;Child, David Lee, 1794-1874. recipient\", \"Fuller, John E. (John Emery),\\\\u00dfd1799-1878;Phelps, Amos A. (Amos Augustus), 1805-1847, recipient\", \"Weston, Anne Warren, 1812-1890;Weston, Caroline, 1808-1882, recipient\", \"Weston, Caroline, 1808-1882;Weston, Deborah, b.1814 recipient\", \"Chapman, Maria Weston, 1806-1885;Garrison, William Lloyd, 1805-1879, recipient\", \"Welsh, Mary, Mrs;Chapman, Maria Weston, 1806-1885, recipient\", \"Pembroke, A. A;Garrison, William Lloyd, 1805-1879, recipient\", \"Galloway Baptist Association\", \"Phelps, Amos A. (Amos Augustus), 1805-1847;American Board of Commissioners for Foreign Missions, recipient\", \"Mott, Lucretia, 1793-1880;Chapman, Maria Weston, 1806-1885, recipient\", \"Weller, John B., 1812-1875\", \"Maryland. Adjutant General.\", \"Baltimore (Md.). City Register's Dept.\", \"Weston, Anne Warren, 1812-1890;Weston, Deborah, b.1814 recipient\", \"Nauvoo (Ill.) City Council\", \"Country-Line Baptist Association.\", \"Maryland. County Court (Baltimore County)\", \"German Society of Maryland.\", \"Alcock, P\", \"Maryland. General Assembly. House of Delegates. Special Committee to Whom was Referred the Memorial of the Annapolis and Elk Ridge Rail Road Company.\", \"Alexander, J. H. (John Henry), 1812-1867.\", \"Chapman, Maria Weston, 1806-1885;Nichol, Elizabeth Pease, 1807-1897. recipient\", \"Maryland. General Assembly. House of Delegates. Committee on the Militia.\", \"Maryland. General Assembly. House of Delegates. Committee of Elections and Privileges.\", \"Maryland. General Assembly. House of Delegates. Committee on the Coloured Population.\", \"Gardner, A\", \"Maryland. General Assembly. House of Delegates. Ways and Means Committee.\", \"Jenkyn, Thomas W. (Thomas William), 1794?-1858;Anti-Corn-Law League;Brougham and Vaux, Henry Brougham, Baron, 1778-1868\", \"New York (State). Legislature.\", \"Bethany College\", \"Military Convention (1842 : Frederick, Md.)\", \"Hoblitzell, Geo.\", \"Slave-Holders Convention (1842 : Annapolis, Md.)\", \"Burford, Robert, 1791-1861;Panorama (Leicester Square, London, England)\", \"Webb, Richard Davis, 1805-1872;Chapman, Maria Weston, 1806-1885, recipient\", \"Georgia. Legislature.\", \"Young Men's Democratic State Convention (1842 : Columbus, Ohio)\", \"Giddings, Joshua R. (Joshua Reed), 1795-1864\", \"William D. Ticknor & Co,  Mass William D . Ticknor (Firm : Boston\", \"George Hope\", \"Page, John Edward 1799-1867\", \"Smith, E.\", \"Wilkinson, Jonathan E;Oliver,Dr\", \"Maryland. General Assembly. House of Delegates. Special Committee to Whom Was Referred the Order of the House of Delegates Relative to Gen. Nathan Towson.\", \"Maryland. General Assembly. House of Delegates. Select Committee Appointed to Inquire and Report the Rate at Which Slaves Were Valued Under the Provisions of the late Assessment Law.\", \"Day, George Edward, 1815-1905\", \"Maryland. General Assembly. House of Delegates\", \"John Hardy\", \"Liberty Baptist Association\", \"Fleming, L. D. (Lorenzo Dow), 1808-1867\", \"United States. Congress. Senate. Committee on Revolutionary Claims;Phelps, Samuel Shethar, 1793-1855\", \"Maryland. General Assembly. Joint Committee on the Library.\", \"Baltimore and Susquehanna Railroad Company.\", \"Ohio\", \"Association of Friends for promoting the abolition of slavery, and improving the condition of the free people of color. [from old catalog]\", \"Maryland. General Assembly. Joint Committee Appointed Under Resolution No. 8.\", \"Charlton, Robert M.\", \"Clay, Henry, 1777-1852\", \"Barton, John, 1789-1852\", \"Denison University\", \"Whipple, John, 1784-1866;Francis, John Brown, 1791-1864;Potter, Elisha R. (Elisha Reynolds), 1811-1882;Tyler, John, 1790-1862\", \"Blanchard, Jonathan, 1811-1892\", \"United States. Congress. House. Select Committee on the President's Veto of the Tariff Bill;John Adams Library (Boston Public Library) BRL;Quincy, Josiah, Phillips, 1829-1910, former owner\", \"Tyler, John, 1790-1862;United States. President (1841-1845 : Tyler)\", \"Conyngham, Redmond, 1781-1846. [from old catalog];Paradise lyceum, Paradise, Pa. [from old catalog]\", \"Phillips Son & Neale (London, England)\", \"Kentucky. General Assembly.\", \"Wigfall, Arthur\", \"Samuel Nott\", \"Nashua (N.H .) Citizens committee\", \"New-York society for the abolition of all slavery. [from old catalog]\", \"Woodbury, Levi. [from old catalog]\", \"Bradford, Z.\", \"Catlin, George S.\", \"Maryland. General Assembly. House of Delegates. Committee on Inspections.\", \"United States;Great Britain. Treaties, etc\", \"South Carolina Baptist Convention\", \"Edwards, Philip Leget, 1812-1869\", \"Willey, Waitman Thomas, 1811-1900. [from old catalog]\", \"Massachusetts. General Court\", \"University of North Carolina (1793-1962)\", \"Rhode Island. General Assembly. Committee on Action of General Assembly on Constitution;Randolph, Richard Kidder, 1781-1849;Rhode Island. General Assembly, 1842;Rhode Island. Laws, etc., 1842\", \"Henry Bowen Anthony\", \"Chauncey Fitch Cleveland,  Marcus Morton,  Henry Hubbard ,  Thomas Wilson Dorr\", \"London Yearly Meeting (Society of Friends)\", \"Breary & Son\", \"Episcopal Church. Diocese of Illinois. Convention.\", \"Frieze, Jacob. cn\", \"Lowell, Joshua A., 1801-1874. [from old catalog]\", \"Tobey, Samuel Boyd, 1805-1867;New England Yearly Meeting of Friends\", \"Salem, Mass. School committee. [from old catalog]\", \"Strobel, P. A.\", \"Thompson, T. Perronet (Thomas Perronet), 1783-1869;Anti-Corn-Law League;Cobden, Richard, 1804-1865\", \"Greeley, Horace, 1811-1872\", \"Rives, William C. (William Cabell), 1793-1868;Agricultural Society of Albemarle, Charlottesville, Va\", \"Conington, John, 1825-1869\", \"Emerson, George B. (George Barrell), 1797-1881;YA Pamphlet Collection (Library of Congress) DLC\", \"Jewett, Charles C. (Charles Coffin), 1816-1868\", \"Francis Howgill ,  Robert Moline Giles\", \"Managers of the Washington Monument.\", \"Maryland. General Assembly. House of Delegates. Select Committee on the Bill Providing for the Resumption of Specie Payments by the Banks of This State.\", \"Rives, William C. (William Cabell), 1793-1868\", \"Wever, Cannon & Co\", \"Tentler, A. A. [from old catalog]\", \"College of William and Mary\", \"Perry, James H.\", \"Williams, Edwin, 1797-1854.\", \"Noter, Ralph, esq., pseud.?\", \"Bowdoin College\", \"Fellows, Charles, Sir, 1799-1860;Walton, W. L., fl. 1834-1869\", \"Crawford, Robert P\", \"John Campbell Shairp\", \"James De Peyster Ogden\", \"Sabin Hough,  William B Hayden,  J Clowes ,  Henry Weller,  New Church Tract Society\", \"Smith, W. A. [from old catalog]\", \"Manchester (N.H.)\", \"Charles H. B. Breck;Henry G. Gilbert Nursery and Seed Trade Catalog Collection\", \"Allen, William, 1803-1879;YA Pamphlet Collection (Library of Congress) DLC\", \"Buchanan, James, 1791-1868\", \"Schiller, Friedrich, 1759-1805;Whewell, William, 1794-1866, tr\", \"Ellsworth, Henry Leavitt, 1791-1858;American Colonization Society\", \"American Colonization Society\", \"McCaine, Alexander, ca. 1768-1856\", \"Isaac Pitman,  Sir Isaac Pitman\", \"Michael Rophino Lacy ,  George Frideric Handel,  Gioacchino Rossini\", \"Hallam, Robert A. (Robert Alexander), 1807-1877\", \"Maryland. General Assembly. House of Delegates. Committee of Claims.\", \"Maryland. General Assembly. House of Delegates. Special Committee on the Currency.\", \"Wilkin, Samuel J., 1790-1866. [from old catalog]\", \"Deems, Charles F. (Charles Force), 1820-1893\", \"Bowdoin College; Medical School of Maine\", \"Simplex\", \"William Howe Cuyler Hosmer\", \"Brown, A. B. (Alexander Blaine), 1808-1863\", \"Whittlesey, Frederick, 1799-1851. [from old catalog]\", \"Capers, William\", \"Williams, Eleazer, 1787-1858\", \"Young, Thomas John\", \"Tucker, Mark, 1795-1875\", \"New York (N.Y.). Surgeon's Bandage Institute;Knight, James, 1810-1887\", \"Rhode Island. General assembly, 1842. [from old catalog]\", \"United States. Dept. of Agriculture;United States. Patent Office. Report of the Commissioner of Patents;United States. Dept. of Agriculture. General index for the reports on agriculture from 1847 to 1866, inclusive\", \"John MacPherson Berrien\", \"Brown University\", \"geologocal survey of pennsylvania\", \"Shelley, Percy Bysshe, 1792-1822\", \"Johnson, George, of New York. [from old catalog];YA Pamphlet Collection (Library of Congress) DLC [from old catalog]\", \"American Board of Commissioners for Foreign Missions\", \"Page, Ann. [from old catalog]\", \"Nauvoo (Ill.) City Council; Nauvoo Legion (Ill.)\", \"New York Society for the Relief of Widows and Orphans of Medical Men.\", \"Wright, Henry Clarke, 1797-1870\", \"Nichols, Joseph Hulbert, 1805-1862\", \"Baltimore and Ohio Railroad Company.\", \"Wm. R. Prince & Co;Wm. R. Prince & Co;Henry G. Gilbert Nursery and Seed Trade Catalog Collection\", \"United States. Congress. Senate;Tongue, James, 1779-1843\", \"Parker, Peter,1804-1888\", \"Adams, John Quincy, 1767-1848;Norfolk County Temperance Society;John Adams Library (Boston Public Library) BRL;Quincy, Josiah Phillips, 1829-1910, former owner\", \"Winans, William, 1788-1857.\", \"Massachusetts. General court. Joint special committee on rights of colored persons in rail-road accommodation. [from old catalog];Sprague, Seth, 1787-1856. [from old catalog];Jackson, Francis, 1789-1861. [from old catalog]\", \"Orson Pratt 1811-1881\", \"William Radcliffe De Witt,  American Board of Commissioners for Foreign Missions ,  American Board of Commissioners for Foreign Missions\", \"John] [Pitman\", \"Thorp, Henry W.\", \"Park Benjamin\", \"Vermont Council of Censors\", \"James Rumsey\", \"Bowdler, Thomas, 1780-1856\", \"Allen, William, 1784-1868\", \"Topham, William,Sir;Ward, W. Squire\", \"Bartholomew, Christopher Churchill\", \"Davis, A. (Asahel), b. 1791\", \"Dealtry, William. [from old catalog]\", \"Pierpont, John;Hollis Street Church (Boston, Mass.)\\\\n\", \"White, James Springer, 1821-1881\", \"Maryland. Governor (1842-1845 : Thomas)\", \"Neidhard, Charles;Holmes, Oliver Wendell, 1809-1894\", \"Thompson, Richard W. (Richard Wigginton), 1809-1900\", \"McCaffrey, John, 1806-1881\", \"McDonogh, John, 1779-1830\", \"Broadway Tabernacle (New York, N.Y.)\", \"Pitman, John, 1785-1864\", \"Tysen, Raymond M\", \"Royal Edinburgh asylum for the insane, at Morningside\", \"Pennsylvania Governor ,  Pennsylvania\", \"Rhode Island. Constitution. [from old catalog]\", \"Augusti, Friedrich Albrecht, b. 1691\", \"Wm. R. Prince & Co\", \"Schlemmer, C. V\", \"New York (N.Y .). Croton Aqueduct Board,  New York (N.Y .),  Croton Aqueduct Board\", \"Massachusetts. Attorney General's Office\", \"Jacob, Udney Hay 1781-1860\", \"United States. Congress. Senate. Committee on Public Lands\", \"Burroughs, Charles, 1787-1868\", \"Young, Richard Montgomery, 1796-1852. [from old catalog];Democratic party. Illinois. Morgan Co;YA Pamphlet Collection (Library of Congress) DLC [from old catalog]\", \"Johnson, Sophia, b. 1798. [from old catalog]\", \"Owen, Richard, 1804-1892;Bennett, George, 1804-1893\", \"Baltimore and Ohio Railroad Company;Baltimore and Ohio Railroad Company\", \"Way, Albert, 1805-1874\", \"Jervis, John B. (John Bloomfield), 1795-1885\", \"Oliver Gray Steele\", \"Alabama Baptist State Convention\", \"New York (N.Y.). Croton Aqueduct Board\", \"Adams, John Quincy, 1767-1848;Quincy, Josiah Phillips, 1829-1910, former owner. BRL;Norfolk County Temperance Society;Boston Public Library (John Adams Library) BRL\", \"Humes, Thomas William, 1815-1892\", \"Bacon, Robert. [from old catalog]\", \"Choules, John Overton, 1801-1856\", \"Wm. R. Prince & Co;Henry G. Gilbert Nursery and Seed Trade Catalog Collection\", \"[Harrington, Miss] [from old catalog]\", \"Kennedy, Charles Rann, 1808-1867\", \"Birney, James Gillespie, 1792-1857\", \"Gray, Thomas, 1772-1847\", \"Allen, Joseph\", \"Lowe, Thomas Hill, 1781-1861;Exeter Diocesan Architectural Society\", \"Neville, W\", \"Boston Female Anti-slavery Society\", \"Russell, Michael, 1781-1848\", \"Francis Calley Gray ,  Phi Beta Kappa Rhode Island Alpha,  Brown University\", \"Brewster, James Colin\", \"Maffitt, John Newland, 1794-1850;YA Pamphlet Collection (Library of Congress) DLC\", \"Calvin Pease ,  University of Vermont\", \"Bolles, John A. (John Augustus), 1809-1878\", \"Thorp, Henry W\", \"Emerson, George B. (George Barrell), 1797-1881\", \"Whittlesey, Charles. [from old catalog]\", \"United States. Congress. Senate. Committee on Labor and Public Welfare. Subcommittee on Veterans' Affairs. cn\", \"Church of England. Diocese of Oxford. Bishop (1829-1845 : Bagot);Bagot, Richard, 1782-1854\", \"United States. Congress. House. Committee on Revolutionary Claims\", \"Madge, Thomas, 1786-1870\", \"Mann, Horace, 1796-1859\", \"Alfred Bate Richards\", \"Enoch Lewis\", \"H. A. Tracy\", \"Jagger, William. [from old catalog]\", \"West Brookfield Anti-slavery Society;Chase, Moses\", \"Pocock, Lewis, 1808-1882\", \"Wilberforce, Samuel, 1805-1873\", \"Sinclair, John, 1797-1875\", \"Wayland, Francis, 1796-1865. [from old catalog]\", \"Edward Palmer ,  Thomas Sampson\", \"Ramsay, Edward Bannerman, 1793-1872;Scottish Episcopal Church Society\", \"Saint Louis (Mo .) Chamber of commerce ,  Adam B. Chambers\", \"Whittlesey, Charles, 1808-1886. cn\", \"South Carolina. General Assembly.\", \"Adams, John Quincy, 1767-1848;Boston Public Library (John Adams Library) BRL\", \"Gliddon, George R. (George Robins), 1809-1857\", \"Silliman, Benjamin,1779-1864;Yale College (1718-1887).Association of the Alumni;Hamlen, Benjamin L.,1791?-1864,printer\", \"Conrad, Robert Taylor, 1810-1858\", \"Weddle, Thomas\", \"Cantor, Theodore Edward, 1809-1860\", \"Scott, Joseph Warren\", \"Society of Friends London Yearly Meeting . Meeting for Sufferings . Aborigines committee\", \"Presbyterian Church in the U.S.A. Synod of South Carolina and Georgia\", \"McCurdy, D. (Dennis)\", \"South Carolina. University. Clariosophic Society\", \"Young, Robert, Wesleyan minister. [from old catalog]\", \"Pierpont, John, 1785-1866. [from old catalog];YA Pamphlet Collection (Library of Congress) DLC [from old catalog]\", \"Underwood, Joseph Rogers, 1791-1876. [from old catalog]\", \"Stone, Elizabeth T., b. 1811\", \"Webster, Daniel, 1782-1852;Boston. Webster reception, 1842. [from old catalog]\", \"Benjamin, Park, 1809-1864;Making of America Project\", \"[Griffin, John Quincy Adams], 1826-1866. [from old catalog]\", \"Pierpont, John, 1785-1866\", \"Robert Dale Owen\", \"Ethan Allen Andrews\", \"Lincoln Financial Foundation Collection\", \"McCoskry, Samuel Allen, bp., 1804-1886\", \"Billings, Robert William, 1813-1874;Winter, George\", \"Hope, George, 1811-1876;Greg, William R. (William Rathbone), 1809-1881;Morse, Arthur;Anti-corn-Law League\", \"Cooper, James Fenimore, 1789-1851. Last of the Mohicans\", \"Benjamin B. Mussey\", \"E.B. & E.C. Kellogg (Firm)\", \"Proctor, [Henry]. 1763?-1822. [from old catalog]\", \"Longfellow, Henry Wadsworth, 1807-1882;Thaxter, L. L., former owner, BRL\", \"Member\", \"Pease, Calvin, 1813-1863\", \"Smith, Elizabeth Oakes Prince, 1806-1893\", \"French, Calvin\", \"Krapf, J. L. (Johann Ludwig), 1810-1881\", \"Robert] [Tyler\", \"Izaak Walton\", \"Western Rail-Road Corporation;Bliss, George, 1793-1873\", \"New York (N.Y.)\", \"Barham Livius\", \"Alvord, John Watson, 1807-1880\", \"United States. Navy Department;United States. Congress. House. Committee on Naval Affairs\", \"Francis Henney Smith\", \"William Bentley Fowle\", \"Warren Colburn\", \"Rhode Island. Supreme judicial court. [from old catalog];YA Pamphlet Collection (Library of Congress) DLC [from old catalog];Durfee, Job, 1790-1847. [from old catalog]\", \"Abdy, Edward Strutt, 1791-1846\", \"Snodgrass, William Davis, 1796-1886\", \"United States. Congress. Senate. Committee on Labor and Public Welfare. Subcommittee on Veterans' Affairs\", \"Hugh McNeile ,  Benjamin Franklin Collection (Library of Congress),  Joseph Meredith Toner Collection (Library of Congress)\", \"Steuart, John Robert\", \"Bigelow, Abijah, 1775-1860. [from old catalog]\", \"Reynolds, J. S;Furman University. Board of Trustees\", \"Martin, Moses 1812-1899\", \"Brown, Goold. [from old catalog]\", \"Reeve, Henry, 1813-1895\", \"Evangelicus, pseud. [from old catalog]\", \"Convention of the Friends of African Colonization\", \"Thomas Sherwin\", \"Evangelicus\", \"David Laing\", \"Job Roberts Tyson,  Historical Society of Pennsylvania,  YA Pamphlet Collection (Library of Congress)\", \"Devyr, Thomas Ainge [from old catalog]\", \"[Tyler, Robert] 1816-1877. [from old catalog]\", \"Church of Ireland. Diocese of Down, Connor, and Dromore. Bishop (1842-1848 : Mant);Mant, Richard, 1776-1848\", \"[Birney, James Gillespie] 1792-1857. [from old catalog]\", \"Miles;Peel, Robert, Sir, 1788-1850\", \"Humphrey Lloyd\", \"Samuel Chipman\", \"Lane, Lunsford, b. 1803;Blanchard, Joshua P. (Joshua Pollard), 1782-1868. Slave mother's address to her infant child\", \"Cain, Henri, 1857-1937, librettist;Massenet, Jules, 1842-1912, librettist;Cain, Henri, 1857-1937, librettist;Galli, Amintore, 1845-1919, translator\", \"Massenet, Jules, 1842-1912, composer;Cain, Henri, 1857-1937, librettist;Cain, Henri, 1857-1937, librettist;G\\\\u00e4lli, Anton, translator\", \"Richard Cannon\", \"Elisha Reynolds Potter\", \"McDonogh, John, 1779-1850\", \"Smith, Francis Henney, 1812-1890\", \"Tyson, Job R. (Job Roberts), 1803-1858;Historical Society of Pennsylvania;YA Pamphlet Collection (Library of Congress) DLC\", \"Barry, M. (Martin), 1802-1855\", \"Oldham, Thomas, 1816-1878\", \"Bartlett, Elisha,1804-1855.Vindication ..\", \"Taylor, James, 1788-1863\", \"New Zealand Company\", \"Martin, Moses\", \"Richard Douglas\", \"American Home Missionary Society ,  Congregational Home Missionary Society\", \"Episcopal Church. Diocese of South Carolina. Convention\", \"Bennett, James. [from old catalog]\", \"Sherwin, Thomas, 1799-1869\", \"Colman, George (son), 1762-1836, librettist\", \"McNeile, Hugh, 1795-1879;McNeile, Hugh, 1795-1879, inscriber. DLC;Poinsett, Joel Roberts, 1779-1851, former owner. DLC;Benjamin Franklin Collection (Library of Congress) DLC;Joseph Meredith Toner Collection (Library of Congress) DLC\", \"Foot, George\", \"Ezra Stiles Gannett\", \"Charles Grate\", \"Friends, Society of. New England Yearly meeting. [from old catalog]\", \"Adams, John Quincy, 1767-1848;John Adams Library (Boston Public Library) BRL;Quincy, Josiah Phillips, 1829-1910, former owner\", \"Fiske, N. W. (Nathan Welby), 1798-1847\", \"Horace Mann\", \"John Yonge Akerman\", \"Pitman, Isaac, Sir, 1813-1897\", \"Henry Joseph Monck Mason,  Henry James Monck Mason\", \"Daniel Adams\", \"[Speed, Joseph J.];S., J. J. [from old catalog];J. J. S. [from old catalog]\", \"Mussey, Benjamin B., -1857\", \"Society of Friends. New England Yearly Meeting\", \"Sir Roderick Impey Murchison\", \"Genesee Yearly Meeting of Friends\", \"Sabine, James, 1774-1845\", \"Foot, George, 1800?-1867. [from old catalog]\", \"John Kentish\", \"Grate, Charles. [from old catalog]\", \"Donizetti, Gaetano, 1797-1848, composer;Romani, Felice, 1788-1865, librettist\", \"Thames Angling Preservation Society\", \"Adams, Nehemiah, 1806-1878;Ticknor, William Davis, 1810-1864;Williams, H. B\", \"Packard, J. B;Hubbard, Stephen\", \"Marselus, N. J\", \"Grate, Charles\", \"Bernard, David. [from old catalog]\", \"Greeley, Horace, 1811-1872;Greeley & McElrath\", \"Foot, George, 1800?-1867\", \"Pratt, Orson 1811-1881\", \"Adams, John Quincy, 1767-1848;Quincy, Josiah Phillips, 1829-1910, former owner. BRL;Boston Public Library (John Adams Library) BRL\", \"Potter, Elisha Reynolds, 1811-1882. [from old catalog]\", \"Bridgman, Laura\", \"Ansel Nash\", \"Florida.\", \"O'Connor, Feargus, 1794-1855\", \"Sheil, John B\", \"Francis Foster Barham\", \"Elias Hutchins,  S. C . Bulkley\", \"Tyson, Job R. (Job Roberts), 1803-1858;Historical Society of Pennsylvania\", \"Anna Maria Wells\", \"Bulkley, S. C;Hutchins, Elias\", \"Marshall, A. J. [from old catalog]\", \"Palmerston, Henry John Temple, Viscount, 1784-1865\", \"American Baptist Home Mission Society\", \"Karel Pieter ter Reehorst\", \"Mason, Lowell,  1792-1872.\", \"Story, Joseph, 1779-1845;Harvard university. Association of the alumni\", \"Holmes, Oliver Wendell, 1809-1894;Boston Society for the Diffusion of Useful Knowledge;Joseph Meredith Toner Collection (Library of Congress) DLC\", \"Crowquill, Alfred\", \"Nash, Ansel\", \"Adoniram Judson\", \"William C. Redfield ,  Robert Hare\", \"Alvord, John Watson, 1807-1880. dn\", \"John Terhune Demarest ,  Terhune Press\", \"Mason, Lowell,1792-1872.\", \"Church of England. Diocese of London. Bishop (1828-1856 : Blomfield);Blomfield, Charles James, 1786-1857\", \"Marprelate, Martin, pseud;Penry, John, 1559-1593;Throckmorton, Job, 1545-1601;Petheram, John, 1809-1858\", \"Maryland. Treasurer of the Western Shore.\", \"Antitheos;Gillespie, William\", \"Andrew Gray\", \"Caswall, Henry 1810-1870\", \"Macbrair, R. Maxwell (Robert Maxwell);Wesleyan Methodist Missionary Society\", \"Hoffman, Charles Fenno, 1806-1884\", \"Henry Octavius Coxe ,  All Souls College (University of Oxford ). Library\", \"Jay, John, 1817-1894\", \"Cannon, Richard, 1779-1865\", \"Jonson, Ben, 1573?-1637;Drummond, William, 1585-1649;Laing, David, 1793-1878, ed\", \"John Angell James\", \"Bronson, C. P. [from old catalog]\", \"Maitland, Samuel Roffey, 1792-1866\", \"Church of Scotland\", \"Phillimore, Robert, Sir, 1810-1885;Ashburton, Alexander Baring, Baron, 1774-1848\", \"St. Luke's Hospital (London, England)\", \"Evan Rhyse\", \"William Lover\", \"Ohio;Ohio. General Assembly;Ohio. Secretary of State\", \"Church of England. Diocese of Salisbury. Bishop (1837-1854 : Denison);Denison, Edward, 1801-1854\", \"Kenyon, Archibald. [from old catalog]\", \"Clegg, Samuel\", \"Solomon Pearson Miles ,  Thomas Sherwin\", \"National Convention for the Protection of American Interests (1841 : New York, N.Y.)\", \"Caswall, Henry, 1810-1870\", \"Musical Antiquarian Society\", \"Taylor, John, 1781-1864. [from old catalog]\", \"Adams, John Quincy, 1767-1848\", \"Evangelical Congregational Church (Grafton, Mass.)\", \"Sumner, John Bird, 1780-1862\", \"Irving, John Beaufain, 1800-1881\", \"George Herbert\", \"Mill, William Hodge. [from old catalog]\", \"Nason, Elias, [from old catalog] comp\", \"Sumner, Charles Richard, 1790-1874\", \"Apuleius,  John Lyde Wilson\", \"Everilda Anne Gardiner\", \"Herbert, George, 1593-1633;Herbert, George, 1593-1633\", \"Porter, William Smith, 1799-1866;Connecticut Historical Society. cn\", \"Hay, D. R. (David Ramsay), 1798-1866\", \"Henry Callaway\", \"Moses Yale Beach\", \"Eddy, A. D. (Ansel Doane), 1798-1875;American Sunday-School Union\", \"Society of Friends Philadelphia Yearly Meeting\", \"Charlestown (Boston ,  Mass.). Boylston Chapel Sunday School\", \"Parsons, Tyler\", \"McCurdy, D[ennis];YA Pamphlet Collection (Library of Congress) DLC\", \"Monteith, A. H. (Alexander H.)\", \"Albro, John A. [from old catalog]\", \"Friends, Society of. Philadelphia Yearly Meeting. [from old catalog]\", \"Skinner, H. B\", \"Kendall, John, 1766-1829\", \"First Church (Cambridge,  Mass.)\", \"Charles Fenno Hoffman\", \"Cambridge, Massachusetts. First church\", \"Richard Hopper\", \"Nathaniel Bagshaw Ward\", \"John Russell Hurd\", \"Birney, James Gillespie, 1792-1857. [from old catalog];African American Pamphlet Collection (Library of Congress) DLC [from old catalog]\", \"Clarke, Louisa Lane\", \"Gannett, Ezra S. (Ezra Stiles), 1801-1871\", \"Algernon\", \"F. Francillon\", \"Robert Elliott ,  Caleb Brown\", \"Park, John Ranicar, 1778-1847\", \"United States. Commissioners Appointed to Investigate the Affairs of the Custom-House, New York.\", \"Kr\\\\u00e1lovsk\\\\u00e1 \\\\u010desk\\\\u00e1 spole\\\\u010dnost nauk,  Sekce Filologick\\\\u00e1,  K\\\\u00f6niglich-B\\\\u00f6hmische Gesellschaft der Wissenschaften\", \"Hurd, John R\", \"Payne, J. H;Newby, T.C;Charles C. Miller Memorial Apicultural Library WU\", \"All Souls College (University of Oxford). Library;Coxe, Henry Octavius, 1811-1881\", \"James Arlington Bennet\", \"Jay, William, 1789-1858\", \"Mussey, Benjamin B., d. 1857\", \"J G Shuttleworth\", \"Scudder, M. L\", \"Goldsbury, John. [from old catalog]\", \"Robert William Billings\", \"British Museum Dept . of Manuscripts ,  Thomas Oliphant ,  Frederic Madden\", \"Thomas Oliphant ,  Frederic Madden ,  British Museum Dept . of Manuscripts\", \"Street, Alfred Billings, 1811?-1881\", \"Spicer, Henry, d. 1891\", \"Pratt, Parley Parker 1807-1857\", \"Dumas, J.-B. (Jean-Baptiste), 1800-1884;Boussingault, J. B. (Jean Baptiste), 1802-1887\", \"Thomas Cross\", \"John B. Fairfield\", \"Price and Lee Company ,  inc,  inc Price and Lee Company\", \"Theognis;Frere, John Hookham, 1769-1846\", \"Auguste C\\\\u00e9lestin Judas\", \"Maine Legislature . Senate,  Legislature ,  Maine,  Senate\", \"Thomas Arnold\", \"Street, Alfred Billings, 1811?-1881. [from old catalog]\", \"William Goodwell\", \"Marsh, John, 1788-1864.\", \"Jesse Kersey\", \"John Goldsbury\", \"Theognis;Frere, John Hookham, 1769-1846, [from old catalog] ed. and tr\", \"McLaren, Daniel\", \"Chesapeake and Ohio Canal Company.\", \"Mary Brown Jesup\", \"Ward Witham\", \"Bettine von Arnim\", \"Felton, XX, Mrs. [from old catalog]\", \"M. W. Alford\", \"Green, James\", \"Davis, Henry H\", \"Hall, Marshall, 1790-1857\", \"Beach, Moses Yale, 1800-1868\", \"Daniel McLaren\", \"Porter, William Smith, 1799-1866;Connecticut Historical Society\", \"Jesup, Maria. [from old catalog]\", \"[Wheildon, William Willder], 1805-1892. [from old catalog]\", \"Leigh, Chandos, 1791-1850\", \"Pusey, E. B. (Edward Bouverie), 1800-1882\", \"Upham, Charles Wentworth, 1802-1875\", \"Kinne, Asa;United States. Courts;Great Britain. Courts\", \"Cox, Gershom F. (Gershom Flagg), 1799-1879;Whedon, D. D. (Daniel Denison), 1808-1885;Litch, J. (Josiah), 1809-1886\", \"British Museum. Dept. of Manuscripts;Oliphant, Thomas, 1799-1873;Madden, Frederic, 1801-1873\", \"Percy Bysshe Shelley\", \"Dods, Marcus, 1786-1838\", \"Hastings, Thomas, 1784-1872.\", \"Samuel William Southmayd Dutton\", \"Lewis, George Robert, 1782-1871;Durand, Guillaume, approximately 1230-1296\", \"Massachusetts. Dept. of Public Health\", \"Faculty of Actuaries in Scotland, Edinburgh. Library\", \"Henry W. Jeans\", \"Merewether, John, 1797-1850\", \"Knowles, James Sheridan, 1784-1862\", \"Loring, James, 1770-1850\", \"Rheinwald, [Georg Friedrich Heinrich] [from old catalog]\", \"Loch\\\\u00e9e, Alfred, 1811-1890\", \"Massachusetts. Office of the Secretary of State\", \"Charles Rollin\", \"Snorri Sturluson\", \"Dutton, Samuel W. S. (Samuel William Southmayd), 1814-1866\", \"Pray, Lewis Glover\", \"Felton\", \"Smith, Benjamin\", \"Winks, Joseph Foulkes\", \"Mills, George, d. 1871\", \"Cleveland (Ohio);Ohio Charters\", \"Heale, Theophilus, 1816-1885\", \"James Sheridan Knowles\", \"Watson, Thomas, d. 1686;Lee, Samuel, 1625-1691;Choules, John Overton, 1801-1856\", \"Barrett, George. [from old catalog]\", \"Wright, Thomas, 1810-1877;British Library. Manuscript. Harley 2253\", \"Rollin, Charles, 1661-1741\", \"James, John Angell, 1785-1859\", \"Spalding Club, Aberdeen\", \"Sedgwick, Charles F. (Charles Frederick), 1795-1882\", \"John Quincy Adams\", \"United States. Dept. of State;Webster, Daniel, 1782-1852;Ashburton, Alexander Baring, Baron, 1774-1848\", \"Shakespeare Society (Great Britain)\", \"Robinson, William E. (William Erigena), 1814-1892;New Haven Hibernian Provident Society\", \"Charles Harrison Lyon\", \"Fryer, Michael, of Reeth\", \"Mills, George\", \"Clothworkers' Company (London, England)\", \"Frere, John Hookham\", \"[Frere, John Hookham], 1769-1846. [from old catalog];Whistlecraft, William and Robert, pseud. [from old catalog]\", \"Gordon, Katharine Parker;Mother\", \"Prigg, Edward;Peters, Richard, 1780-1848;Pennsylvania;United States. Supreme Court\", \"Goodrich, Chauncey A. (Chauncey Allen), 1790-1860\", \"Joseph Joshua Green\", \"Johann August Ernesti\", \"Thomas Brothers\", \"Hale, Sarah Josepha Buell, 1788-1879\", \"Jerrold, Douglas William, 1803-1857\", \"Th\\\\u00e9odore Olivier\", \"Yonge, Frances Mary, 1795-1868;Keble, John, 1792-1866\", \"Lewis Foulk Thomas\", \"Charles Pearson\", \"Katharine Parker Gordon,  Mother\", \"Bethune, Joanna, 1770-1860;Cairns Collection of American Women Writers\", \"Pedder\", \"West, J., Land agent\", \"Lutton, Anne, 1791-1881\", \"Cambridge Antiquarian Society (Cambridge, England)\", \"Willson, Harry\", \"Bradbury, William B. (William Batchelder), 1816-1868.\", \"James Henry Burke\", \"Katherine Augusta (Rhodes) Ware\", \"James Gale\", \"Ernesti, Johann August, 1707-1781;Stuart, Moses, 1780-1852\", \"Rutland, John Henry Manners, Duke of, 1778-1857;Jerdan, William, 1782-1869\", \"Martens, Martin, 1797-1863;Galeotti, H. (Henri), 1814-1858\", \"Burke, James Henry\", \"Pressly, John Taylor, 1795-1870\", \"Ollivant, Alfred, 1798-1882\", \"William Smith\", \"James Gordon,  Cosmo Innes,  Scotland\", \"Halliwell-Phillipps, J. O. (James Orchard), 1820-1889, ed\", \"Commissioners of National Education in Ireland\", \"Lowe, Thomas. [from old catalog]\", \"Palethorpe, Joseph\", \"Ricord, Elizabeth (Stryker), Mrs., 1788-1865. [from old catalog]\", \"Mitchell, Elisha, 1793-1857\", \"Camden Society (Great Britain);Royal Historical Society (Great Britain)\", \"John Wigham,  Anthony Wigham\", \"Wigham, John, 1748-1839\", \"Halliwell-Phillipps, J. O. (James Orchard), 1820-1889\", \"Prigg, Edward;Phillips, Wendell, 1811-1884, former owner;Peters, Richard, 1780-1848;Pennsylvania;United States. Supreme Court\", \"John Lee Scott\", \"Medhurst, Walter Henry, 1796-1857\", \"Eliza Ann Munroe Bacon\", \"George Gifford\", \"Edward Skegg,  Samuel Leigh Sotheby\", \"Charles Squarey\", \"Bosanquet, J. W. (James Whatman), 1804-1877\", \"Webb, George James, 1803-1887\", \"Fowler, O. S. (Orson Squire), 1809-1887\", \"William Cowper\", \"John Willox\", \"George Barrell Cheever\", \"James Howie\", \"Quetelet, Adolphe, 1796-1874\", \"Lavis, Emerson. [from old catalog]\", \"John Buller\", \"Boswell, Peter. [from old catalog]\", \"Squarey, Charles\", \"Clarke, Adam, ca. 1762-1832\", \"Channing, William Ellery, 1780-1842\", \"Colin M'Iver\", \"J. G. Shuttleworth\", \"Tanner, Henry Schenck, 1786-1858. [from old catalog]\", \"of Eyam William Wood ,  William Wood\", \"Lankester, Edwin, 1814-1874\", \"Religious Tract Society (Great Britain)\", \"Franz, Joann Christoph August,1807-\", \"Phelps, Sylvanus Dryden] 1816-1895. [from old catalog]\", \"John Sandford ,  Elizabeth Poole Sandford\", \"Rogers, Eliza; Wight, Sarah\", \"Li, Leshi\", \"Lilly, Lambert, 1798-1866\", \"Jeremy Taylor\", \"George Adams\", \"Phelps, S. Dryden (Sylvanus Dryden), 1816-1895\", \"Todd, John, 1800-1873. cn\", \"Comly, John, 1773-1850\", \"Littell, John S. (John Stockton), 1806-1875\", \"New England Society of Charleston, S.C\", \"McClelland, Alexander, 1794-1864\", \"Harkey, Simeon W. (Simeon Walcher), 1811-1889\", \"Lifford, James Hewitt, Viscount, 1811-1887\", \"Shakespeare Society (Great Britain ),  Shakespeare Society ,  London\", \"Rogers, Eliza; Swift, Mary\", \"Sir William Gore ] [Ouseley\", \"Hanley, Sylvanus Charles Thorp, 1819-1899\", \"Day, H. W.\", \"Betsey P. Hildreth\", \"Benjamin Greenleaf\", \"John Candler\", \"Richard Johnson\", \"Gillette, A.D., 1807-1882\", \"Pusey, E. B. (Edward Bouverie), 1800-1882;Howley, William, 1766-1848\", \"Jones, Eliza G. (Eliza Grew), 1803-1838;American Baptist Publication Society\", \"Raine, James, 1791-1858;Bates, George, fl.1593, supposed author\", \"Richardson, Major (John), 1796-1852\", \"Jones, Bence, 1814-1873\", \"Robert Bell\", \"Leshi Li\", \"William Hardin Burnley\", \"Jacob Abbott\", \"Wardlaw, Ralph, 1779-1853\", \"Burnley, William Hardin\", \"Phelps, Sylvanus Dryden, 1816-1895\", \"Hildreth, Betsey P\", \"Bryden, J. Frew. [from old catalog]\", \"John Mather Austin\", \"Ralph Wardlaw\", \"Levi Hedge\", \"Cyril Pearl\", \"William Shakespeare ,  James Orchard Halliwell-Phillipps\", \"Blacker, W. (William)\", \"Emmons, Samuel Bulfinch\", \"Frieze, J. [from old catalog]\", \"Benjamin Franklin\", \"Cox, Samuel H. [from old catalog]\", \"M'Henry, James, 1785-1845\", \"Candler, John, 1787-1869\", \"Christoph von Schmid ,  Thomas Jefferson Sawyer\", \"Robson, John, 1802-1873\", \"Amory, John H\", \"Sandham, Elizabeth;D. Appleton and Company. pbl\", \"Wheaton, Henry, 1785-1848\", \"Frieze, Jacob, ca. 1789-1880\", \"Candler, John\", \"Thomas Grainger Hall\", \"Jacob Abbott,  Boston Type and Stereotype Foundry\", \"Philip, Uncle, 1798-1866\", \"Albert Barnes\", \"Strong, Thomas Morris, 1797-1861. [from old catalog]\", \"Fitzwilliam Byrdsall\", \"English Dialect Society. [from old catalog]\", \"Park, Mungo, 1771-1806\", \"Carr, Thomas Swinburne\", \"Strong, Thomas M. (Thomas Morris), 1797-1861\", \"Smith, Roswell Chamberlain, 1797-1875. [from old catalog]\", \"Grace, James;Glengall, Richard Butler, Earl of, 1794-1858, ed\", \"Herschell, Ridley Haim, 1807-1864. [from old catalog];Presbyterian church in the U. S. A. (Old school) Board of publication. [from old catalog]\", \"British and Foreign Anti-slavery Society (London, England)\", \"George Fletcher Moore\", \"Arthur Cleveland Coxe\", \"Ames, Julius Rubens, 1801-1850;Lundy, Benjamin, 1789-1839\", \"Free Will Baptists (1780?-1911)\", \"William Ellery Channing\", \"Macleod, Roderick, d. 1852\", \"Royal Horticultural Society (Great Britain);Royal Horticultural Society (Great Britain). Journal\", \"Johann Adam M\\\\u00f6hler\", \"Champlin, James, b. 1821\", \"Dunn, Nathan, 1782-1844;Langdon, William B\", \"John Edmund Reade\", \"Parsons Cooke ,  Joseph Hardy Towne ,  William Hague ,  Thomas Tallis\", \"Howitt, Mary Botham, 1799-1888\", \"Mackenzie, George Steuart, Sir, 1780-1848\", \"O'Reilly, Henry, 1806-1886\", \"Rogerson, John Bolton, 1809-1859\", \"Szadurski, G. M. B. Leon\", \"Hendrick, John Thilman, b. 1811\", \"Nathan Dunn,  William B. Langdon,  Hyde Park Corner (London,  England )\", \"W. A. G.\", \"Thomson, Adam\", \"Agnew, John Holmes, 1804-1865;Miller, Samuel, 1769-1850;Agnew, Andrew, Sir, Bart., 1793-1849\", \"Schiller, Friedrich, 1759-1805;Impey, Elijah Barwell, 1780-1849, [from old catalog] tr;Retzsch, Moritz, 1779-1857\", \"Frederick Prickett\", \"Hull, Robert\", \"Stenger, Gilbert, d. 1913;Stawell, Maud Margaret Key, \\\\Mrs. Rodolph Stawell,\\\\, 1865-\", \"St. Katharine Dock Company\", \"Hocken, Edward Octavius\", \"Isabella Frances Romer\", \"John Thilman Hendrick\", \"James Champlin\", \"Barclay, Captain (Robert), 1779-1854\", \"Sabbath Convention (1842 : Rochester, N. Y.)\", \"Bolles, James A. (James Aaron), 1810-1894;Steele, Allen, 1808-1873\", \"Allardice, Robert Barclay, 1779-1854\", \"Henry Alford\", \"Schima, Marilyn;Bolian, Polly, joint author\", \"Champlin, James, 1821-\", \"Willett, William M. (William Marinus), 1803-1895\", \"Thomas Heywood\", \"Grierson, Miss;Kollner, Augustus, b. 1813, ill;Sinclair, Thomas S., ca. 1805-1881, lithographer;American Sunday-School Union\", \"Rodger, Alexander, 1784-1846. [from old catalog]\", \"Himes, Joshua V. (Joshua Vaughan), 1805-1895;Litch, J. (Josiah), 1809-1886\", \"Eddy, A. D. (Ansel Doane), 1798-1875\", \"Wyckoff, William H. (William Henry), 1807-1877\", \"Jonathan Dymond\", \"Phelps, Lincoln, Mrs., 1793-1884\", \"Baxter, Richard, 1615-1691;Chalmers, Thomas, 1780-1847\", \"Parsons, Usher, 1788-1868\", \"Himes, Joshua Vaughan, 1805-1895.\", \"Hildreth, Ezekiel, 1784-1856\", \"Sargent, Epes, 1813-1880\", \"Catholic Church. Liturgy and ritual;Catholic Church. Province of Baltimore (Md.);Baltimore (Ecclesiastical province). Council, 1837\", \"Lambert Lilly\", \"John David Ogilby\", \"Nehemiah Adams\", \"Nichol, J. P. (John Pringle), 1804-1859\", \"Parker, James\", \"Henry Bacon\", \"Stevenson, David, 1815-1886\", \"Wroth, Peregrine, 1786-1879\", \"James Alexander Hamilton\", \"William Huntington\", \"Picket, Albert, 1771-1850\", \"Chapman, Maria Weston, 1806-1885, ed;Massachusetts Anti-Slavery Fair;National Anti-slavery Bazaar, Boston\", \"Downing, A. J. (Andrew Jackson), 1815-1852\", \"Winslow, Forbes, 1810-1874\", \"Donovan, E. (Edward), 1768-1837\", \"Catholic Church;Catholic Church. Province of Baltimore (Md.)\", \"George Baillie ,  Gilbert Elliot-Murray -Kynynmound Minto\", \"[McClintock, John], 1814-1870. [from old catalog]\", \"Huntington, William, 1745-1813\", \"Norton, John, 1606-1663;Pond, Enoch, 1791-1882\", \"Massachusetts Horticultural Society\", \"Rhode Island\", \"Church of England. Diocese of Saint David's. Bishop (1840-1874 : Thirlwall);Thirlwall, Connop, 1797-1875\", \"Judson, Adoniram, 1788-1850\", \"Harlan, Josiah, 1799-1871. [from old catalog]\", \"Grenville Library;Grenville, Thomas, 1755-1846;Payne, John Thomas;Foss, Henry;Rye, William Brenchley, 1818-1901\", \"Charles Mason,  Cha Mason\", \"Jackson, Thomas, 1783-1873;Peck, George, 1797-1876\", \"Nathan Lanesford Foster\", \"R. M. Evans\", \"Davis, Daniel, jr;Channing, William F. (William Francis), 1820-1901;Bacon, John, Jr\", \"Foster, Nathan Lanesford, 1787-1859. [from old catalog]\", \"Baillie, George, 1738-;Minto, Gilbert Elliot-Murray-Kynynmound, 2d Earl of, 1782-1859\", \"Mason, Charles\", \"Smith, Eli. [from old catalog]\", \"Bakewell, John\", \"Francis Lieber ,  Alonzo Potter\", \"David Stevenson\", \"Harlan, Josiah, 1799-1871\", \"Wilson, James, M.D\", \"Baillie, George;Minto, Gilbert Elliot, Earl of, 1782-1859\", \"Robert Milledge Charlton,  Thomas J . Charlton\", \"Richard Carmichael ,  Carmichael,  Samuel Gordon,  Frank Branson Petrie,  Gordon\", \"Charles-\\\\u00c9tienne-Louis Camus,  James Isaac Hawkins,  John Isaac Hawkins\", \"jr Daniel Davis ,  William Francis Channing\", \"Dalton, John, 1766-1844\", \"LaLande\", \"Mason, Charles, A. M. [from old catalog]\", \"Bullions, Peter, 1791-1864. [from old catalog]\", \"Hazen, Edward. [from old catalog]\", \"Folsom, Nathaniel S. (Nathaniel Smith), 1806-1890;Cutler, Curtis, former owner\", \"Henry Bull\", \"Stow, John, 1525?-1605;Thoms, William John, 1803-1885, ed\", \"Washington Irving\", \"Taylor, William\", \"Kelley, John Clawson, b. 1793. [from old catalog]\", \"John Stow\", \"Parsons, Benjamin, of Pensacola\", \"Ralston, Samuel, 1756-1851\", \"Grahame, James, 1790-1842\", \"William Law\", \"Lewis Pocock\", \"Lawson, James, 1799-1880\", \"Daubuz, Charles, 1673-1717;Lancaster, Peter;Habershon, Matthew, 1789-1852\", \"Dickson, Samuel Henry, 1798-1872\", \"Samuel Earnshaw\", \"Society for the Extinction of the Slave Trade and for the Civilization of Africa\", \"Goodell, William, 1792-1878\", \"Charles Jarvis, Editor\", \"James Wills\", \"Samuel Luther Dana\", \"Emily Marshall\", \"Charles Daubuz\", \"Charles Darwin\", \"Eliza Leslie\", \"Proprietors of the Lowell Cemetery\", \"William Taylor\", \"Denison Olmsted ,  Ebenezer Porter Mason\", \"Bull, Henry, d. 1575? comp\", \"Lindley Murray\", \"William Trollope\", \"Hallock, Edward J. [from old catalog]\", \"Dana, Samuel L. (Samuel Luther), 1795-1868\", \"Elliot, Samuel, 1777-1845\", \"Brown, John Walker, 1814-1849\", \"Thomas Roupell Everest,  Amos Gerald Hull\", \"Henry Jones\", \"John Cameron Lowrie\", \"Cypress, J., 1803-1841;Forester, Frank, 1807-1858\", \"Otley, Jonathan, 1766-1856;Marsden Mechanics' Institution. fmo;Wordsworth Collection\", \"M'Combie, William\", \"Leighton, Alexander, 1568-1649\", \"Truman, Matthew. [from old catalog]\", \"Truman, Matthew\", \"John East\", \"Schmucker, S. S. (Samuel Simon), 1799-1873\", \"Daniel Davis ,  William Francis Channing,  Joseph Hale Abbot,  John Bacon\", \"Coleridge, Henry Nelson, 1798-1843\", \"Everest, Thomas Roupell, d. 1855;Hull, Amos Gerald, 1810-1859\", \"Lowell, James Russell, 1819-1891\", \"Whytehead, Thomas, 1815-1843\", \"Francis Simmons Holmes\", \"Trollope, William, 1798-1863;Buttman, Philipp Karl, 1764-1829\", \"Browning, Colin Arrott, d. 1856\", \"Longfellow, Henry Wadsworth, 1807-1882\", \"Henry Nelson Coleridge\", \"J. Cypress\", \"Macnamara, H. T. J. (Henry Tyrwhitt Jones), 1820-1877\", \"Chapin, Joel, 1761-1845\", \"Howe, Jonathan.\", \"Rowlett, John\", \"Winchester, Benjamin 1817-1901\", \"Olmsted, Denison, 1791-1859\", \"James Stuart Murray Anderson\", \"De Stains, V. D\", \"Nathan Daboll ,  Samuel Green\", \"New York (State ). Dept. of State,  New York (State). Secretary 's Office\", \"Thomas Jackson ,  George Peck\", \"Lockhart, J. G. (John Gibson), 1794-1854;Jones, Owen, 1809-1874\", \"Mayo, Elizabeth, 1793-1865\", \"Channing, William Ellery, 1780-1842;Channing, William Ellery, 1780-1842\", \"Kaine, Hiram\", \"Henry Leavitt Ellsworth,  United States Patent Office\", \"Anderson, James S. M. [from old catalog]\", \"Prichard, James Cowles, 1786-1848\", \"John Radford Young\", \"Charles Lanman\", \"Joy, Henry Holmes, 1805-1875\", \"William Miller ,  Joshua Vaughan Himes\", \"Thomas Moule\", \"East, John\", \"James Finlay Weir Johnston\", \"J. Cypress,  Frank Forester,  Henry William Herbert\", \"Janin, Jules Gabriel, 1804-1874\", \"Dymond, Jonathan, 1796-1828;Kirkland, Caroline M. (Caroline Matilda), 1801-1864\", \"Keith Stewart Mackenzie\", \"American Sunday -School Union\", \"Robbins, Eliza, 1786-1853. [from old catalog]\", \"Schwabe, Ludwig Conrad. [from old catalog]\", \"Bainbridge, Richard. [from old catalog]\", \"John Lloyd Stephens\", \"Marshall, T. [from old catalog]\", \"Brainard, John G. C. (John Gardiner Calkins), 1796-1828;Robbins, Royal, 1787-1861. [from old catalog]\", \"Mackenzie, Keith Stewart\", \"James Kirke Paulding\", \"William Joseph Walter\", \"Robley Dunglison\", \"Thomas Bull\", \"Jean Baptiste Perrin\", \"Adams, John, 1735-1826, former owner. BRL;Adams, John Quincy, 1767-1848, former owner. BRL;Adams, Charles Francis, 1807-1886, former owner. BRL;Boston Public Library) John Adams Library BRL\", \"Robert Small\", \"Walter, W. Joseph (William Joseph), d. 1846;Walter, W. Joseph (William Joseph), d. 1846\", \"Wycliffe, John, d. 1384;Camden Society (Great Britain);Todd, James Henthorn, 1805-1869\", \"Massachusetts Board of Education\", \"Brainard, John G. C. (John Gardiner Calkins), 1796-1828;Robbins, Royal, 1787-1861\", \"James Dixon\", \"Charles Davies\", \"G. R. W. Baxter\", \"John Gibson Lockhart\", \"Paine, Martyn, 1794-1877\", \"Goodrich, Andrew T., New York, pub. [from old catalog]\", \"Wycliffe, John, d. 1384. supposed author;Todd, James Henthorn, 1805-1869\", \"Emanuel Swedenborg\", \"Peirce, Augustus, 1802-1849\", \"Wickens, Stephen B\", \"Tappan, William B. (William Bingham), 1794-1849\", \"Caroline Fry Wilson ,  Caroline Fry\", \"Henry Bliss\", \"Evangelinus Apostolides Sophicles\\\\u0300\", \"House of Industry (Boston, Mass.)\", \"John Gibson Lockhart ,  Owen Jones\", \"Jesse Olney\", \"Chaisty, Edward J\", \"Catherine Crowe\", \"L'Homond, C. F., 1727-1794;Andrews, E. A. (Ethan Allen), 1787-1858\", \"Devon and Cornwall Record Society,  Devon and Cornwall Record Society,  Shakespeare Society,  Shakespeare Society (Great Britain)\", \"Frederick Emerson\", \"Anthon, Charles, 1797-1867. [from old catalog]\", \"Nathaniel Shatswell ] [Dodge\", \"Johann Wolfgang von Goethe\", \"Rogers, Hester Ann, 1756-1794;Coke, Thomas, 1747-1814\", \"Lambert, Miss. [from old catalog]\", \"Goode, Francis, 1797?-1842;Hooker, Herman, 1802-1865\", \"Sturgeon, William, 1783-1850\", \"Aguilar, Grace, 1816-1847;Leeser, Isaac, 1806-1868\", \"Green, Charles, rector of Burgh Castle\", \"Taylor, Henry, Sir, 1800-1886\", \"Scott\", \"Bryant, William Cullen, 1794-1878\", \"Charles Edwards Lester\", \"Thomas Wright\", \"Wainwright, Jonathan Mayhew, 1792-1854\", \"Vitringa, Campegius, 1659-1722;Bernard, Joshua, L. tr\", \"Penn, Richard, 1784-1863\", \"Charles Francis Barnard,  Warren Street Chapel (Boston,  Mass.).\", \"Francis Parkman\", \"Greppo, J. G. Honore\\\\u0301. [from old catalog];Stuart, Isaac William, 1809-1861, [from old catalog] tr;George Fabyan Collection (Library of Congress) DLC [from old catalog]\", \"Edward Wedlake Brayley,  John Britton ,  Gideon Algernon Mantell,  John Hodgkinson,  Charles Savile Roundell\", \"Thomas Charles Banfield\", \"Augustine, Saint, Bishop of Hippo\", \"Johnson, Francis, 1796?-1876, [from old catalog] ed;Wilson, H. H. (Horace Hayman), 1786-1860\", \"Baxter, G. R. Wythen (George Robert Wythen), 1815-1854\", \"Samuel Wells Williams\", \"Matthew Bridges\", \"Daniel Davis.;William F. Channing.;John Bacon, Jr.\", \"Plummer, E. Frederick;McCalla, W. L. (William Latta), 1788-1859\", \"Dodge, N. S. (Nathaniel Shatswell), 1810-1874\", \"Wiggins, Richard. [from old catalog];Griscom, John, 1774-1852. [from old catalog]\", \"Patterson, Robert, 1802-1872. [from old catalog]\", \"Hauck, Louise Platt, 1883-1943\", \"Sophocles, E. A. (Evangelinus Apostolides), 1807-1883\", \"John Critchley Prince\", \"Hooper, Lucy, 1816-1841, ed\", \"Edward Francis Rimbault\", \"Calvin Tracy\", \"Maunsell, Henry, 1806-1879;Gilman, Chandler Robbins, 1802-1865\", \"Marguerite Blessington\", \"Charles Colcock Jones\", \"John Stevenson\", \"Prigg, Edward;Pennsylvania;United States. Supreme Court;Peters, Richard, 1780-1848;Joseph Meredith Toner Collection (Library of Congress) DLC\", \"Reed, Anna C;American Sunday-School Union. Committee of Publication\", \"Hooper, Lucy, 1816-1841;Keese, John, 1805-1856\", \"Bonnycastle, John, 1750?-1821;Ryan, James\", \"Mary Dudley\", \"Scott, John, d. 1840?\", \"Nash, Thomas, 1567-1601;Collier, John Payne, 1789-1883, ed\", \"Aubrey De Vere\", \"Buell, P. L;Sizer, Nelson\", \"Cobbett, William, 1763-1835\", \"Williams, Isaac, 1802-1865;Bolswert, Bo\\\\u00ebce van, ca. 1580-1633\", \"[Redding, Cyrus] 1785-1870. [from old catalog]\", \"Ellis, Benjamin, 1798-1831;Morton, Samuel George, 1799-1851, ed\", \"West, John, 1779?-1845\", \"Samuel Sharpe\", \"Friedrich von Raumer ,  Hannibal Evans Lloyd\", \"Henry Taylor\", \"Abbotsford Club ,  Edinburgh,  Edinburgh Abbotsford Club ,  Pennsylvania History Club,  Zenger Club ,  Saint Louis Club ,  Lefe Book Club\", \"Robert Isaac Wilberforce\", \"Henry Butter\", \"Plato;Woolsey, Theodore Dwight, 1801-1889, [from old catalog] ed;Stallbaum, Johann Gottfried, 1793-1861. [from old catalog]\", \"Francis Glass\", \"Nichols, Mary Sargeant Gove, 1810-1884\", \"John Henry Manners Rutland,  William Jerdan\", \"Flora Elizabeth Rawdon Hastings,  Sophia Frederica Christina Bute\", \"Sibbes, Richard, 1577-1635\", \"Noehden, Georg Heinrich, 1770-1826\", \"Hudson, John, of Kendal;Sedgwick, Adam, 1785-1873\", \"De Vere, Aubrey, Sir, 1788-1846\", \"Trollope, Frances Milton, 1780-1863\", \"Moses Stuart\", \"Thomas Peckett Prest\", \"Brand, John, 1744-1806;Ellis, Henry, Sir, 1777-1869;Harry Houdini Collection (Library of Congress) DLC\", \"Thomas Ward\", \"Thomas Green Fessenden\", \"Smythies, Gordon, Mrs., 1838-1883\", \"John D. Post\", \"Richard Whately\", \"John Walker Ord ,  John Lodge\", \"John Cormack\", \"John Dee,  James Orchard Halliwell -Phillipps\", \"Locke, Jane Ermina Starkweather, 1805-1859\", \"Church, Samuel, 1785-1854\", \"De Vere, Aubrey, Sir, 1788-1846;Pickering, William, 1796-1854, pbl;Whittingham, Charles, 1795-1876, prt;Wordsworth, William, 1770-1850, dte;Watts, Alaric Alexander, 1797-1864, fmo;Nutter, Charles S. (Charles Sumner), 1842-1928\", \"Johnson, Louisa\", \"Hyde, Orson 1805-1878\", \"Santare\\\\u0301m, Manuel Francisco de Barros e Sousa, Visconde de, 1791-1856\", \"Richard Green Parker\", \"M******, Capt;Howard, Frank, 1805-1866\", \"Caruthers, E. W. (Eli Washington), 1793-1865\", \"American Sunday-School Union. Committee of Publication;Reed, Anna C\", \"Daniel Davis\", \"Dee, John, 1527-1608;Halliwell-Phillipps, J. O. (James Orchard), 1820-1889\", \"Collins, Stephen\", \"Julia Pardoe\", \"Caruthers, E. W. (Eli Washington), 1793-1865;Swaim and Sherwood\", \"MacCarthy, Daniel, 1807-1884;Smith, Horace, 1779-1849\", \"Ballou, Hosea, 1796-1861. [from old catalog]\", \"Monkland, Mrs\", \"Williams, S. Wells (Samuel Wells), 1812-1884\", \"Donovan, E. (Edward), 1768-1837;Westwood, J. O. (John Obadiah), 1805-1893\", \"Brooks, S. H. (Samuel H.)\", \"Blamire, Susanna, 1747-1794;Lonsdale, Henry, 1816-1876;Maxwell, Patrick, 1826-1905;Wordsworth Collection\", \"Edward Spencer Dix ,  George Millis ,  Ireland Court of King 's Bench,  James Carroll\", \"Ferdinand Petrovich Wrangel,  Edward Sabine\", \"Charlotte Elizabeth, 1790-1846;American Tract Society\", \"Shindler, Mary Dana, 1810-1883\", \"Grier, William\", \"Coulson, William, 1802-1877\", \"Louis Eug\\\\u00e8ne Marie Bautain,  (,  Louis Bautain,  Universit\\\\u00e9 de Paris,  Caleb Sprague Henry\", \"Jahr, Gottlieb Heinrich Georg, 1800-1875. [from old catalog];Kitchen, James, 1800-1894, [from old catalog] ed. and tr\", \"John Mackay\", \"Harvey Newcomb\", \"Oliver Goldsmith ,  John Aikin\", \"Newcomb, Harvey, 1803-1863\", \"Dana, Mary S.B\", \"Turner, Jonathan Baldwin, 1805-1898\", \"John Playfair\", \"Burton, Warren, 1800-1866\", \"Thomas Ingoldsby\", \"Daniel B. Smith\", \"Smart, Benjamin Humphrey, 1786?-1872\", \"Miller, Samuel, 1769-1850;Lindsay, William\", \"New York (state ). Natural History Survey,  James Ellsworth De Kay\", \"Colton, George Hooker\", \"Samuel Phillips Newman\", \"John Frost\", \"Hosea Ballou\", \"Updike, Wilkins, 1784-1867\", \"Smith, Daniel B., 1792-1883\", \"Hughes, William, 1803-1861\", \"Ruffin, Edmund, 1794-1865\", \"Plato;Woolsey, Theodore Dwight, 1801-1889, ed;Stallbaum, Gottfried, 1793-1861\", \"[Power, John], 1820-1872. [from old catalog];Sabin, Joseph, 1821-1881. [from old catalog]\", \"Presbyterian Church in the U.S.A ,  Tercentenary Commission of the State of Connecticut Committee on Historical Publications,  American Bar Association Standing Committee on Publications,  Committee on Historical Publications,  Brigham Young University Extension Publications ,  Board of Publication ,  Tercentenary Commission of the State of Connecticut\", \"Parsons Cooke ,  Joseph Hardy Towne ,  William Hague\", \"Rives, Judith Page Walker, 1802-1882\", \"David Thom\", \"Claridge, R. T\", \"Maxwell, W. H. (William Hamilton), 1792-1850;Browne, Hablot Knight, 1815-1882\", \"Church, Albert E. (Albert Ensign), 1807-1878\", \"James Whatman Bosanquet\", \"Church of Scotland. General Assembly\", \"Potter, Alonzo, 1800-1865\", \"Towne, Joseph H. (Joseph Hardy), 1805-1897;Hague, William, 1808-1887;Cooke, Parsons, 1800-1864;Cooke, Parsons, 1800-1864;Hague, William, 1808-1887;Cooke, Parsons, 1800-1864\", \"George Bates,  JAMES . RAINE\", \"American Society of Dental Surgeons\", \"John Barclay\", \"Claridge, R. T. [from old catalog]\", \"Warne, Joseph A.\", \"William Langland ,  Thomas Wright\", \"Waterston, R. C. (Robert Cassie), 1812-1893\", \"Robert Montgomery\", \"Southern planter\", \"Elijah Hinsdale Burritt,  Thomas Dick\", \"Keble, John, 1792-1866;Gesellschaft f\\\\u00fcr Geologische Wissenschaften der DDR\", \"Patrick O'Kelly\", \"John Keese,  William Gilmore Simms\", \"Dale, Thomas, 1797-1870\", \"Raumer, Friedrich von, 1781-1873\", \"Miller, William, 1782-1849;Himes, Joshua V. (Joshua Vaughan), 1805-1895\", \"Kentucky\", \"Guizot (Fran\\\\u00e7ois ),  Caleb Sprague Henry ,  William Hazlitt\", \"Blakey, Robert, 1795-1878\", \"Mary Dudley ,  Elizabeth Dudley\", \"Parnell, Edward A. (Edward Andrew)\", \"Gore, Mrs. (Catherine Grace Frances), 1799-1861;Allom, Thomas, 1804-1872, ill\", \"Broadhurst, John, Esq\", \"Keightley, Thomas, 1789-1872. [from old catalog]\", \"Montgomery, Robert, 1807-1855\", \"Benjamin Bussey Thatcher,  Gimber & Dick ,  Harper & Brothers\", \"Hawthorne, Nathaniel, 1804-1864\", \"American Almanac Collection (Library of Congress) DLC;John Davis Batchelder Collection (Library of Congress) DLC\", \"Lewis Joerres\", \"De Vere, Aubrey, 1814-1902;Kohler Collection of British Poetry\", \"Cooke, Parsons, 1800-1864. Hints to an inquirer on the subject of baptism. [from old catalog];Towne, Joseph H. (Joseph Hardy), 1805-1897. Hints to an inquirer on the subject of baptism;Hague, William, 1808-1887. A review of the Rev. Messrs. Cooke and Townes Hints to an inquirer on the subject of baptism. [from old catalog];Cooke, Parsons, 1800-1864. Strictures on Mr. Hague's Review of Hints to an inquirer on the subject of baptism. [from old catalog];Towne, Joseph H. (Joseph Hardy), 1805-1897. Strictures of Mr. Hague's Review of Hints to an inquirer on the subject of baptism;Hague, William, 1808-1887. An examination of the Rev. Messrs. Cooke and Towne's Rejoinder to the Review of their Hints to an inquirer on the subject of baptism. [from old catalog]\", \"Henry Kent Staple Causton\", \"Executive Committee ,  Baptist General Convention,  American Baptist Missionary Union ,  Board of Managers ,  American Baptist Missionary Union Executive Committee\", \"Garston, Edgar\", \"Torrens, William Torrens McCullagh, 1813-1894\", \"Charlotte Elizabeth\", \"Cogswell, Elliott Colby. [from old catalog]\", \"American Sunday-School Union\", \"Cox, John, 1802-1878\", \"Goethe, Johann Wolfgang von, 1749-1832;Carlyle, Thomas, 1795-1881, tr\", \"Robins, George Henry, 1778-1847;Walpole, Horace, 1717-1797;Costello, Dudley, 1803-1865\", \"Homer\", \"John Galt\", \"Thomas Tredgold ,  Eaton Hodgkinson ,  Verne L Roberts\", \"Church Missionary Society\", \"Potter, Thomas Rossell\", \"Cruikshank, George, 1792-1878;Blanchard, Laman, 1804-1845\", \"Sealy, T. H. (Thomas Henry), 1811-1848. 4n;Leech, John, 1817-1864\", \"Smythe, Hamilton;Bourke, Richard, barrister at law;Ireland. Court of King's Bench\", \"Herman Merivale ,  Merivale,  Herman ,  1806-1874\", \"Great Britain Poor Law Commissioners\", \"Miller, William, 1782-1849\", \"Great Britain. Poor Law Commissioners\", \"Fraser, James Baillie, 1783-1856\", \"Wells, Samuel. [from old catalog]\", \"Sealy, T. H. (Thomas Henry);Leech, John, 1817-1864\", \"Cogswell, Elliott Colby, 1814-1887\", \"Charles Waterhouse\", \"King, Rochard J., [from old catalog] ed\", \"Charles Anthon\", \"South Carolina. General Assembly. House of Representatives\", \"Friedrich Jacobs ,  Patrick S. Casserly\", \"Samuel Rogers\", \"Pond, Enoch, 1791-1882\", \"Renwick, James, 1790?-1863\", \"Lee, Hannah Farnham Sawyer, 1780-1865\", \"John C. Bennett\", \"Moses Aaron Richardson\", \"Maidment, James, 1795?-1879\", \"Georgia Historical Society\", \"Brougham and Vaux, Henry Brougham, Baron, 1778-1868\", \"James Everett\", \"Bandinel, James, 1783-1849\", \"New York (State ). Comptroller's Office\", \"Blair, Hugh, 1718-1800;Mills, Abraham, 1796-1867, [from old catalog] ed\", \"Greenwood, F. W. P. (Francis William Pitt), 1797-1843\", \"John Alonzo Clark\", \"Thomson, William;Twining, William L\", \"Goethe, Johann Wolfgang von, 1749-1832;Gurney, Archer Thompson, 1820-1887, [from old catalog] tr\", \"George Roberts Perkins\", \"Edward Hitchcock\", \"Graham, G. F. (George Frederick)\", \"Samuel Griswold Goodrich\", \"Maidment, James, 1795?-1879, ed\", \"Warrington, Joseph, d. 1888\", \"Williston, Seth, 1770-1851\", \"Heeren, A. H. L. (Arnold Hermann Ludwig), 1760-1842\", \"Talfourd, Thomas Noon, Sir, 1795-1854\", \"Green, Frances H. (Frances Harriet), 1805-1878\", \"Morris, Thomas A. (Thomas Asbury), 1794-1874\", \"British Museum. Dept. of Egyptian and Assyrian Antiquities;Arundale, F. (Francis), 1807-1853;Bonomi, Joseph;Birch, Samuel, 1813-1885\", \"Athanasius\", \"Langland, William, 1330?-1400?;Wright, Thomas, 1810-1877\", \"John Bovee Dods\", \"Tennessee\", \"Powell, Thomas, Wesleyan Minister;Hook, Walter Farquhar, 1798-1875. Hear the church\", \"Hartley, Robert Milham, 1796-1881\", \"Davidson, Margaret Miller, 1823-1838;Irving, Washington, 1783-1859\", \"Evans, Robert Wilson, 1789-1866\", \"Burns, Jabez, 1805-1876\", \"Stuart, Moses, 1780-1852\", \"Bela Bates Edwards\", \"Humphrey, Heman, 1779-1861\", \"Thomas Noon Talfourd\", \"David Brewster ,  Walter Scott,  Andrew Dickson White\", \"Denny, Henry, 1803-1871\", \"Powell, Thomas (Wesleyan minister) [from old catalog]\", \"Cruikshank, George, 1792-1878;Wallis & Lloyd. bnd CU-BANC;Blanchard, Laman, 1804-1845;Hearst, William Randolph, 1863-1951\", \"Patrick Fraser Tytler ,  James Wilson\", \"Dods, John Bovee, 1795-1872\", \"Huie, James A\", \"Brewster, David, Sir, 1781-1868\", \"Powell, Thomas, Wesleyan minister\", \"Holmes, Oliver Wendell, 1809-1894;Morse, John Torrey, 1840-1937. Life and letters of Oliver Wendell Holmes\", \"Joseph Beete Jukes\", \"Edward Churton\", \"New Hampshire State Hospital\", \"Kirk, Edward N. (Edward Norris), 1802-1874;Cox, Samuel H. (Samuel Hanson), 1793-1880\", \"Joseph Story\", \"Talfourd, Thomas Noon, 1795-1854\", \"Edwards, B. B. (Bela Bates), 1802-1852\", \"Combe, George, 1788-1858\", \"Burns, Robert, 1789-1869\", \"Thomson, James, 1700-1748;Sambrook, James\", \"Henry Edward Hamlyn Fane,  Henry Edward Fane\", \"George Herbert ,  Izaak Walton\", \"Baron Edward Bulwer Lytton Lytton,  Edward Bulwer Lytton\", \"Smiley, Thomas Tucker, d. 1879\", \"Mary, Queen of Scots, 1542-1587;Strickland, Agnes, 1796-1874, ed\", \"Candler, John. [from old catalog]\", \"Moravian Church\", \"Bacon, Jane (Meautys) Cornwallis, Lady, ca. 1581-1659;Braybrooke, Griffin, 3d Baron, 1783-1853\", \"Alexander von Humboldt,  William Macgillivray\", \"Brenton, Jahleel, Sir, bart., 1770-1844. [from old catalog]\", \"Steinmetz, Andrew, 1816-1877\", \"Joseph Strutt,  James Robinson Planch\\\\u00e9\", \"Kirkham, Samuel\", \"Eliza Buckminster Lee\", \"Gray, Alonzo, 1808-1860\", \"Royal Society (Great Britain);United States. Patent Office. Scientific Library, former owner. DSI\", \"Faber, Frederick William, 1814-1863\", \"Davidson, Margaret Miller, 1823-1838;Irving, Washington, 1783-1859, ed\", \"American Bible Society\", \"Edward Delaval Hungerford Elers Napier\", \"Costello, Louisa Stuart, 1799-1870\", \"Bacon, Jane Cornwallis, ca. 1581-1659;Braybrooke, Richard Griffin, Baron, 1783-1858\", \"[Patch, John], 1807-1887. [from old catalog]\", \"Gabell, James Henry Leigh, - 1802. [from old catalog]\", \"Moravian church. Liturgy and ritual\", \"Johnston, George, 1797-1855\", \"Great Britain Adjutant General's Office\", \"Robert Jameson,  Jas Wilson,  Hugh Murray\", \"Frieze, Jacob\", \"Margaret Miller Davidson\", \"George Croly\", \"Wilson, John (Historian)\", \"Daill\\\\u00e9, Jean, 1594-1670\", \"Roger Hutchinson ,  John Bruce\", \"Best, J. J\", \"Isaac Richardson\", \"Moxon, Charles, [from old catalog] ed;Manchester geological and mining society, Manchester, Eng. [from old catalog]\", \"Luxford, George, 1807-1854, ed;Newman, Edward, 1801-1876. ed\", \"Percy Society\", \"Hoffman, M. David, 1894- ed;Wanger, Ruth, joint ed\", \"Barwell, Mrs. (Louisa Mary), 1800-1885;Woodbridge, William C. (William Channing), 1794-1845\", \"Late official resident\", \"Harriet Martineau\", \"Abraham Hartwell ,  Thomas Jefferson Greenwood\", \"Owen, John, 1616-1683\", \"Henry Edward Manning\", \"Morris, J. B. (John Brande), 1812-1880\", \"Vedder, David, 1790-1854\", \"Winkles, Benjamin;Garland, Robert, ill;Moule, Thomas, 1784-1851\", \"Bowen, Francis, 1811-1890\", \"American Tract Society.\", \"Jacques B\\\\u00e9nigne Bossuet\", \"Nicholas Harris Nicolas\", \"Henry Wilson\", \"Morleigh\", \"Samuel Hanson Cox\", \"Thomas Campbell\", \"Hutchinson, Roger, d.1555\", \"Joseph Xavier Boniface Saintine\", \"Forry, Samuel,1811-1844\", \"George Rogers\", \"Harper & Brothers\", \"Episcopal Church Board of Missions ,  Episcopal Church Domestic and Foreign Missionary Society\", \"Anthony Ganilh\", \"[Williams, Isaac], 1802-1865. [from old catalog];Bolswert, Bo\\\\u00ebce van, ca. 1580-1633, illus\", \"Mrs N K M Lee,  N. K . M. Lee\", \"Meriwether Lewis ,  William Clark\", \"Wolfe, Charles, 1791-1823;Russell, John Abraham, 1792-1865\", \"Shimeall, R. C. (Richard Cunningham), 1803-1874\", \"Sowerby, G. B. (George Brettingham), 1812-1884\", \"George Renny Young\", \"Samuel G Goodrich\", \"George Moir Bussey ,  J. J. Grandville\", \"Royal Society (Great Britain)\", \"Ainsworth, William Harrison, 1805-1882;Smith, J\", \"Shaw, Henry, 1800-1873\", \"Goodell, William. [from old catalog];Dorr rebellion, 1842. [from old catalog]\", \"Williams, Isaac, 1802-1865;Bolswert, Boetius a, 1580-1633?\", \"Call, Osman\", \"Thomas Miller\", \"Duncan M D Macpherson\", \"General Convention of the New Jerusalem in the United States of America\", \"Edward Bulwer Lytton Lytton,  Edward Bulwer -Lytton\", \"Seaver, James Everett, 1787-1827. [from old catalog];Mix, Ebenezer, 1789. [from old catalog]-\", \"George Biddell Airy\", \"Patrick Fraser Tytler\", \"Matthew Hale Smith\", \"Edward Bulwer-Lytton Lytton,  Edward Bulwer -Lytton\", \"Westminster, Elizabeth Mary Grosvenor, Marchioness of, 1797-1891\", \"Trinity College (Dublin, Ireland). Library. Manuscript. H.2.16;O'Donovan, John, 1809-1861, ed. and tr\", \"William Clowes and Sons\", \"John O'Donovan\", \"Peter Freeland Aiken\", \"Liebig, Justus, Freiherr von, 1803-1873;Gregory, William, 1803-1858;Webster, John White, 1793-1850\", \"Reformed Presbyterian Church (Scotland)\", \"Fairfield, Sumner Lincoln, 1803-1844\", \"Kohl, J. G. (Johann Georg), 1808-1878\", \"Justus Liebig\", \"Schmucker, S. S. (Samuel Simon), 1799-1873;General synod of the Evangelical Lutheran church in the United States of America. [from old catalog]\", \"Alford, Henry, 1810-1871\", \"Thomas Chatterton\", \"Butterworth, Edwin, 1812-1848. [from old catalog]\", \"Andrew Combe\", \"Hocken, Edward Octavius;Clark, James, Sir, 1788-1870. Sanative influence of climate\", \"Shakespeare, William, 1564-1616;Valpy, Abraham John, 1787-1854;Malone, Edmond, 1741-1812\", \"Johann Georg Kohl\", \"George Jacob Holyoake ,  Charles Southwell ,  Thomas Paterson\", \"Ouseley, Gideon, 1762-1839;Sorin, Matthew, ed\", \"Bakewell, W. J., of Pittsburg\", \"Lees, Edwin\", \"Peacock, George, 1791-1858\", \"John Williams\", \"George Peacock\", \"United States. Government Printing Office\", \"Elisha Bartlett\", \"William Herbert ,  Roger Hutchinson\", \"Barbauld (Anna Letitia)\", \"Great Britain. Court of Chancery;Jacob, Edward, d. 1841, reporter;Walker, John, 1795-1869, reporter;Eldon, John Scott, Earl of, 1751-1838\", \"Thomas Graham\", \"Michigan Legislature . House of Representatives,  United States Congress Senate\", \"Barwell (Louisa Mary ),  William Channing Woodbridge\", \"Addison, C. G. (Charles Greenstreet), d. 1866\", \"Theodore Edward Hook\", \"Barth, Jean-Baptiste-Philippe, 1806-1877; Roger, Henri, 1809-1891\", \"Richard Winter Hamilton\", \"Marcus Tullius Cicero Gould\", \"Spear, Charles, 1801-1863\", \"Thomas McCrie\", \"Newman, John Henry, 1801-1890\", \"Peter Nicholson\", \"Watts, Isaac, 1674-1748\", \"William Bradford Homer\", \"William Arnot\", \"Jacob Frieze\", \"Samuel Osgood\", \"Bingley, William, 1774-1823\", \"Brooks, Charles Timothy, 1813-1883\", \"A Tractarian British critic;Townsend, George, 1788-1857\", \"Samuel Carter Hall\", \"William Bradford Homer,  Edwards Amasa Park,  T. L. Clarke\", \"Wordsworth, William, 1770-1850;Wordsworth, William, 1770-1850. Borderers. 1842\", \"Homer, William Bradford, 1817-1841\", \"Vaughan, Henry\", \"A Tractarian British critic,  George Townsend\", \"Wordsworth, William, 1770-1850;Wordsworth, William, 1770-1850\", \"[Hawks, Francis Lister] 1798-1866. [from old catalog]\", \"Physiographiske forening i Christiania\", \"Burnap, George Washington, 1802-1859\", \"James Frederick Sch \\\\ufffdon,  Samuel Crowther ,  William Russell Bascom\", \"Gray, Robert, 1762-1834;Percy, Thomas, 1729-1811\", \"Bigsby, Robert, 1806-1873. [from old catalog]\", \"Ohio;Ohio. Secretary of State\", \"Michigan Geological Survey,  Michigan ,  Geological Survey Division\", \"Allardice, Robert Barclay. [from old catalog]\", \"Church of England;Hill, John, Mohawk, fl. 1840, tr;Company for propagation of the gospel in New England and the Parts Adjacent in America;Nelles, Abraham, 1805-1884 ed\", \"Pearson, Hugh, 1777-1856\", \"Oliver Goldsmith\", \"Betham, William, Sir, 1779-1853\", \"Eliot, Samuel Atkins, 1798-1862\", \"Coxe, A. Cleveland (Arthur Cleveland), 1818-1896\", \"Noel, Baptist W. [from old catalog]\", \"Jones, Abner, 1772-1841\", \"Wright, Thomas, 1810-1877;Jones, Harry Longueville, 1806-1870, joint author;Le Keux, John, 1783-1846\", \"Sir George Biddell Airy\", \"Sewell, William. [from old catalog]\", \"Lover, Samuel, 1797-1868;Stikeman & Co. bnd CU-BANC;Hearst, William Randolph, 1863-1951;Clay, Richard, 1789-1877\", \"Geological Survey of Canada\", \"Mosheim, Johann Lorenz, 1694?-1755;Murdock, James, 1776-1856, tr\", \"Vaughan, Robert, 1795-1868\", \"Robert Jameson,  Sir William Jardine,  Henry D Rogers\", \"Samuel Woodward ,  Dawson Turner ,  British Museum Dept . of Manuscripts\", \"Roger, of Wendover, d. 1236;Paris, Matthew, 1200-1259;Giles, J. A. (John Allen), 1808-1884, ed. and tr\", \"Ezekiel Hildreth\", \"Woodward, Samuel, 1790-1838;Ewing, William C;Turner, Dawson, 1775-1858;British Museum. Dept. of Manuscripts\", \"Stodart, M. A\", \"Edward Bulwer Lytton Lytton,  Edward Bulwer Lytton\", \"New York (State ). Natural History Survey,  James Ellsworth De Kay\", \"Liebig, Justus, Freiherr von, 1803-1873;Playfair, Lyon Playfair, Baron, 1818-1898;Webster, John White, 1793-1850\", \"William Miller\", \"Hall, James, 1811-1898;De Kay, James E. (James Ellsworth), 1792-1851;Mather, W. W. (William Williams), 1804-1859;Emmons, Ebenezer, 1799-1863\", \"Liebig, Justus, Freiherr von, 1803-1873;Playfair, Lyon Playfair, Baron, 1818-1898, ed;Webster, John W., 1793-1850, ed\", \"Fanny Burney ,  Charlotte Barrett\", \"Mason, Richard;Pomeroy, Samuel Wyllys\", \"Abigail Adams Smith ,  Caroline Abigail Smith De Windt\", \"Keppel, Thomas Robert, 1811-1863\", \"Summerfield, John, 1798-1825;Bond, Thos. E. (Thomas Emerson), 1813-1872\", \"Agnes Strickland\", \"Frederic Shoberl ,  Thomas Campbell ,  Friedrich\", \"Neale, W. Johnson (William Johnson), 1812-1893\", \"Hopkins, John Snowden\", \"Dante Alighieri ,  Charles Lyell\", \"Liebig, Justus, Freiherr von, 1803-1873;Playfair, Lyon Playfair, Baron, 1818-1898;Webster, John W., 1793-1850\", \"T. de Partouneaux\", \"John Frederick William Herschel\", \"Cooper, James Fenimore, 1789-1851;Philbrick, Thomas\", \"David Burn\", \"King, F. H. (Franklin Hiram), 1848-1911;Bruce, J. Percy (Joseph Percy), b. 1861, ed\", \"Hippolyte Barbier\", \"Thomas Manton\", \"American Education Society\", \"Francis Augustus Cox\", \"Ainsworth, William, 1807-1896\", \"Harvard University\", \"Dobie, J. Frank (James Frank), 1888-1964 ed\", \"Williams, Jno. S. (John Shoebridge), 1790-1878;Logan Historical Society\", \"Kenrick, William, 1789-1872\", \"Robert Pollok\", \"Jean Baptiste Pierre Lafitte,  Theodore Edward Hook\", \"Benjamin Fiske Barrett\", \"Mountstuart Elphinstone\", \"Summerfield, John, 1798-1825. [from old catalog];Bond, Thomas Emerson, 1813-1872. [from old catalog]\", \"Thompson, Zadock, 1796-1856\", \"Dunlop, John Colin, 1785-1842\", \"Theodore Dwight\", \"Litch, J. (Josiah), 1809-1886\", \"Murav'ev, Andre\\\\u01d0 N\\\\u012bkolaev\\\\u012bch, 1806-1874;Blackmore, Richard White, 1791?-1882, tr\", \"Noehden, Georg Heinrich, 1770-1826;Bialloblotzky, Christoph Heinrich Friedrich;Sears, Barnas, 1802-1880\", \"Caleb Sprague Henry ,  Victor Cousin\", \"Artemas Bowers Muzzey\", \"Bush, George, 1796-1859\", \"Darwin, Charles, 1809-1882;Owen, Richard, 1804-1892;Gould, John, 1804-1881;Waterhouse, G. R. (George Robert), 1810-1888;Bell, Thomas, 1792-1880\", \"Bradford, Alden, 1765-1843\", \"Alexander Adam ,  James Boyd,  Lorenzo L. Da Ponte\", \"Moore, Martin, 1790-1866\", \"Denison Olmsted\", \"Ogilby, John D. (John David), 1810-1851\", \"Church of England. Book of common prayer. Mohawk. [from old catalog];Nelles, Abraham, 1805-1884, [from old catalog] ed;Hill, John, Mohawk, fl. 1840, [from old catalog] tr;Company for propagation of the gospel in New England. [from old catalog]\", \"Tracy, Joseph, 1793?-1874;Sparks, Jared, 1789-1866. fm sgn\", \"Church of England;Nelles, Abraham, 1805-1884\", \"Hamilton, Thomas, 1789-1842\", \"Muravev, Andrei Nikolaevich, 1806-1874\", \"Zachariah Gardner Whitman\", \"August Tholuck\", \"Mouravieff, Andrew Nicholaevich;Blackmore, R. W\", \"Edward Stillingfleet\", \"New York (State ),  New York (State ). Legislature,  New York (State),  New York (State). Legislative Bill Drafting Commission\", \"Philpot, John, 1516-1555;Curione, Celio Secondo, 1503-1569;Eden, Robert, 1803-1898?\", \"Dennistoun, James, 1803-1855;Denham, Archibald Steuart, Sir, 1683-1773;Calderwood, Margaret (Steuart), Mrs., 1715-1774;Kippis, Andrew, 1725-1795\", \"Harris, Thaddeus William, 1795-1856\", \"Joseph Holdich\", \"Boston (Mass.). Board of Aldermen\", \"Paxton, Sir Joseph, 1803-1865.\", \"George Barstow\", \"Evangelinus Apostolides Sophocles\", \"Vavasour, Ann, Lady\", \"Nathaniel Smith Folsom\", \"Eusebius\", \"Walton, William, 1813-1901\", \"Beecher, Catharine Esther, 1800-1878\", \"Charlton, Robert M. (Robert Milledge), 1807-1854;Charlton, Thomas Jackson, d. 1835\", \"Wiseman, Nicholas Patrick, 1802-1865\", \"William Walton\", \"French, Jonathan, comp;United States. President\", \"George Sand\", \"Folsom, Nathaniel Smith, 1806-1890\", \"Walter Rogers Johnson\", \"KUGLER (F. [T.])\", \"Lawrence, John, 1753-1839\", \"Great Britain. Parliament. House of Commons. Committee on Coal\", \"Loudon (Jane)\", \"Edward VI, King of England, 1537-1553;Hugh, William, d.1549;Catharine Parr, Queen, consort of Henry VIII, King of England, 1512-1548;Kyme, Anne Askew, 1521-1546;Grey, Jane, Lady, 1537-1554;Hamilton, Patrick, 1504-1528;Balnaves, Henry, d.1579\", \"Griffith, Thomas, -1883. [from old catalog]\", \"John Chrysostom, Saint, d. 407;Budge, Edward, 1800-1865;Marriott, Charles, 1811-1858\", \"Indiana University. School of Law\", \"JOHN MURRAY\", \"GEORGE BARSTOW\", \"Philpot, John, 1516-1555\", \"Bailey, Samuel, 1791-1870\", \"Knox, John, 1505-1572\", \"Singmaster, Elsie, 1879-1958\", \"Gray, John, 1799-1883\", \"Tennyson, Alfred Tennyson, Baron, 1809-1892\", \"United States. Dept. of Health, Education, and Welfare. Office of the Assistant Secretary for Program Coordination\", \"Lillie, John, 1812-1867\", \"North Carolina Supreme Court\", \"Hamilton, Alexander, 1757-1804;Madison, James, 1751-1836;Jay, John, 1745-1829\", \"Clay, Henry, 1777-1852. cn;Chambers, R. L. (Richard L.)\", \"John Treat Irving\", \"General Association of New Hampshire\", \"Pritchard, Andrew, 1804-1882\", \"Charles R. Manclark,  James C. Hill,  National Institutes of Health (U.S.),  United States. Food and Drug Administration. Bureau of Biologics\", \"Hamilton, Alexander, 1757-1804;Hawks, Francis Lister, 1798-1866, [from old catalog] comp\", \"Sandys, Edwin, 1516?-1588;Ayre, John, 1801-1869\", \"Alexander Hamilton\", \"Yale University\", \"Tyndale, William, d. 1536;Frith, John, 1503-1533;Barnes, Robert, 1495-1540\", \"Upham, Thomas Cogswell, 1799-1872\", \"Palmer, William. [from old catalog]\", \"George Combe\", \"James Gates Percival ,  Connecticut Geological Survey\", \"Samuel Jefferson\", \"American Baptist Missionary Union. Executive Committee;Baptist General Convention. Board of Managers\", \"Hamilton, Alexander, 1757-1804\", \"Campbell, Joseph\", \"Ebenezer Bailey\", \"John Ayrton Paris\", \"George Stanley Faber\", \"Goodrich, Charles A. (Charles Augustus), 1790-1862\", \"Church of England\", \"John Gordon Lorimer\", \"Clay, Henry, 1777-1852;Chambers, Richard, comp\", \"Robert Haldane\", \"Pollock, Arthur William Alsager, 1853- [from old catalog] ed\", \"Priaulx, Osmond de Beauvoir, 1805-1891\", \"Clay, Henry, 1777-1852;Chambers, R. L. (Richard L.)\", \"Harris, John, 1802-1856;Williams, William R., 1804-1885\", \"Samuel Kirkland Lothrop\", \"Lyman Cobb\", \"Jefferson, Samuel, 1809-1846\", \"Parker, Theodore, 1810-1860\", \"Baron John Campbell Campbell\", \"Thomas Cranmer\", \"Edwin Sandys,  John Ayre\", \"Loudon, Mrs. (Jane), 1807-1858\", \"Howe, Henry, 1816-1893\", \"Medical and Chirurgical Faculty of the State of Maryland;United States. Army Medical Dept;United States. Navy. Medical Dept\", \"New York (State ). Court of Chancery ,  Reuben Hyde Walworth ,  Oliver Lorenzo Barbour\", \"British Association for the Advancement of Science. Meeting\", \"Presbyterian Church in the U.S.A\", \"Dow, Lorenzo, 1777-1834;Scofield, Orrin, editor;Dow, Peggy, 1780-1820\", \"Izaak Walton ,  Charles Cotton\", \"Dow, Lorenzo, 1777-1834;Scofield, Orrin;Dow, Peggy, 1780-1820\", \"Richard Jeffry Cleveland\", \"Francis, George William, 1800-1865\", \"Whittock, N. (Nathaniel), 1791-1860\", \"William Newton\", \"Francis Lister Hawks ,  Caleb Sprague Henry ,  Joseph Green Cogswell\", \"Nathaniel Parker Willis\", \"Benjamin Humphrey Smart\", \"Lambert Lilly,  Caleb Sprague Henry,  Joseph Green Cogswell\", \"Sedgwick, Catharine Maria, 1789-1867\", \"Kongelige Danske videnskabernes selskab;Kongelige Danske videnskabernes selskab. Skrifter;Kongelige Danske videnskabernes selskab. Afhandlinger\", \"Croker, John Wilson, 1780-1857;Boswell, James, 1740-1795\", \"Coxe, Margaret, b. 1800\", \"Trimmer, Joshua, 1795-1857\", \"Gurney, Joseph John, 1788-1847\", \"Florida Legislature . House of Representatives ,  Florida,  Legislative Council (1822-1845 ,  Legislative Council ,  House of Representatives ,  Legislature\", \"Cleveland, Richard J. (Richard Jeffry), 1773-1860\", \"Wycliffe, John, d. 1384\", \"Ballou, Hosea, 1796-1861, comp\", \"James Buchanan\", \"Taylor, Jeremy, 1613-1667\", \"Samuel Laing\", \"John Prentiss Kewley Henshaw\", \"Husain Ali, Kirmani, fl. 1781-1802;Miles, William, 1780-1860\", \"Bethany College (Bethany, W. Va.)\", \"Emmons, Nathanael, 1745-1840\", \"Charles,  Aim\\\\ufffde Louis Champollion-Figeac\", \"M. Sears\", \"Thomas Campbell,  Samuel Carter Hall,  Edward Bulwer Lytton Lytton,  Thomas Hood,  Theodore Edward Hook,  William Ainsworth\", \"John Campbell\", \"De Kay, James E. (James Ellsworth), 1792-1851\", \"Sears, M. [from old catalog]\", \"Duncan, Mary Grey Lundie\", \"Riddell, John, 1785-1862. [from old catalog]\", \"John Wycliffe,  James Henthorn Todd,  Camden Society (Great Britain).\", \"Everett, James, 1784-1872\", \"William Gifford ,  George Walter Prothero,  John Gibson Lockhart,  John Murray ,  Whitwell Elwin,  John Taylor Coleridge ,  Rowland Edmund Prothero Ernle,  William Macpherson,  William Smith\", \"Bedford, John Russell, 4th Duke of, 1710-1771;Russell, John Russell, Earl, 1792-1878\", \"Harrison, Robert, 1796-1858;J. & H.G. Langley;Watts, Robert, 1812-1867\", \"Ramsbotham, Francis H. (Francis Henry), 1800-1868\", \"Whitaker, Daniel K. (Daniel Kimball), 1801-1881;Clapp, Milto;Simms, William Gilmore, 1806-1870;Thornwell, James Henley, 1812-1862\", \"Haldeman, Samuel Stehman, 1812-1880\", \"Richards, Lucy, 1792-1837\", \"Nathanael Emmons\", \"Sydney Smith,  Francis Jeffrey Jeffrey,  Macvey Napier,  William Empson,  George Cornewall Lewis,  Henry Reeve,  Arthur Ralph Douglas Elliot,  Harold Cox\", \"Society of Antiquaries of London ,  Benjamin Thorpe\", \"Edwards, H[enry] of Hoxton. [from old catalog]\", \"Joshua Trimmer\", \"Thorpe, Benjamin, 1782-1870;Corson, Hiram, 1828-1911. fmo;Society of Antiquaries of London\", \"Edward Earle Lytton Bulwer Lytton\", \"John Brown\", \"C M Hovey\", \"Mary Grey Lundie Duncan\", \"Wright, Thomas, 1810-1877;Royal Society of Literature (Great Britain)\", \"Vyner, Robert T. (Robert Thomas), 1804-1879\", \"William Henry Furness\", \"Selby, Prideaux John, 1788-1867\", \"Brownson, Orestes Augustus, 1803-1876\", \"Episcopal Church\", \"Henry Jones Ripley\", \"Graves, Robert James, 1796-1853;Gerhard, William Wood, 1809-1872. [from old catalog]\", \"Bilson, Thomas, 1546 or 7-1616;Eden, Robert, 1803-1898?\", \"Peter Cunningham\", \"Edward Johnson\", \"Sydney Smith\", \"Samuel Jones\", \"American Medical Association\", \"Russia\", \"William Sturgeon\", \"Coquerel, Athanase, 1795-1868\", \"Episcopal Church. Book of common prayer\", \"Hammond, Jabez D. (Jabez Delano), 1778-1855\", \"Evangelical Association of North America\", \"Horace Hayman Wilson ,  Francis Johnson\", \"Thomas Wright,  Royal Society of Literature (Great Britain)\", \"Theodore Parker\", \"Bacon, Thomas, 1813-1892;Finden, W. (William), 1787-1852;Finden, Edward Francis, 1791-1857;Taylor, Meadows, 1808-1876;Bradbury & Evans, printer\", \"Mason, Lowell, 1792-1872;Greene, David\", \"Marcus Tullius Cicero\", \"Adam and Charles Black (Firm)\", \"Kentucky Court of Appeals,  Kentucky ,  Kentucky (District ). Supreme Court,  Court of Appeals\", \"James Aikman\", \"Aikman, James, 1779?-1860\", \"Frost, John, 1800-1859. [from old catalog]\", \"Lambert (F.),  Miss Lambert\", \"Elizabeth Strutt\", \"Lacy, Captain\", \"Tertullian, ca. 160-ca. 230\", \"Isaac Penington\", \"Hooper, Lucy, 1816-1841;Keese, John, 1805-1856, ed\", \"Byrdsall, Fitzwilliam\", \"Hope, James, 1801-1841\", \"Hanley, Sylvanus, 1819-1899;Wood, W. (William), 1774-1857. Index testaceologicus\", \"John Holmes Agnew\", \"TERTULLIAN.\", \"Curwen, Samuel, 1715-1802;Ward, George Atkinson, 1793-1864\", \"Atwood, Anthony, 1801-1888\", \"Methodist Episcopal Church,  John Wesley\", \"William Edward Jelf\", \"Chodz\\\\u0301ko, Alexander, 1804-1891;Loewy, Benno, 1854-1919. fmo\", \"Ware, Charles Eliot, 1814-1887;Parkman, Samuel, 1816-1854\", \"Locke, Jane E. (Jane Ermina), 1805-1859\", \"Broaddus, Andrew, 1770-1848\", \"Albrecht (von Scharfenberg)\", \"Gilbert, Henry\", \"Allen, Joseph, 1810?-1864\", \"Price, Uvedale, Sir, 1747-1829;Lauder, Thomas Dick, Sir, 1784-1848, contributor\", \"Otis Ainsworth Skinner\", \"Great Britain Parliament. House of Lords,  George Robinson\", \"Price, Uvedale, Sir, 1747-1829;Lauder, Thomas Dick, Sir, 1784-1848\", \"Daniel, George, 1789-1864;Leech, John, 1817-1864, ill;Cruikshank, Robert, 1789-1856, ill\", \"Tertullian\", \"Trollope, William, 1798-1863\", \"William Harrison Ainsworth,  George Cruikshank,  Hablot Knight Browne\", \"Claude Fleury,  John Henry Newman\", \"Hastings Robinson ,  Parker Society\", \"Doubleday, Thomas, 1790-1870\", \"Eli Washington Caruthers\", \"Perkins Institution and Massachsuetts Asylum for the Blind\", \"Philemon Robbins Russell\", \"Orton, Job, 1717-1783\", \"Butler, Joseph, 1692-1752;Halifax, Samuel, Bp. of Gloucester, 1733-1790\", \"Brown, Peter, 1784-1863\", \"Margaret Fuller ,  Ralph Waldo Emerson ,  George Ripley\", \"Sparks, Jared, 1789-1866\", \"William Fulke ,  Charles Henry Hartshorne\", \"Geoffrey, of Monmouth, Bishop of St. Asaph, 1100?-1154;Thompson, Aaron, b 1681 or 2, [from old catalog] tr;Giles, John Allen, 1808-1884, [from old catalog] ed\", \"May, Robert, 1790-1818\", \"James A. Begg\", \"Turner, J. B. (Jonathan Baldwin), 1805-1899\", \"Blessington, Marguerite, Countess of, 1789-1849\", \"Updike, Wilkins, 1784-1867;Joseph Meredith Toner Collection (Library of Congress) DLC\", \"John Hunter ,  Hastings Robinson\", \"Miller, Samuel, 1769-1850\", \"Hubbard, John Niles, 1815-1897\", \"Marshall, Emily, ed\", \"Parker, M. M\", \"Bedford, John Russell, Duke of, 1710-1771;Russell, John Russell, 1st earl, 1792-1878, [from old catalog] ed\", \"John Pridham\", \"William Herbert ,  Roger Hutchinson ,  Ohio Library and Information Network\", \"Richard Dennis Hoblyn\", \"Bedford, John Russell, Duke of, 1710-1771;Russell, John Russell, Earl, 1792-1878, editor\", \"Hanley, Sylvanus Charles Thorp, 1819-1899;Wood, W. (William), 1774-1857. Index testaceologicus\", \"Susanna Blamire ,  Henry Lonsdale ,  Patrick Maxwell\", \"Amos Augustus Phelps\", \"Miller, Samuel, 1769-1850;Lorimer, John Gordon, 1804-1868\", \"Fitch Waterman Taylor\", \"Newnham, W. (William), 1790-1865\", \"Row, John, 1598?-1672?\", \"Louisiana Supreme Court\", \"Diocese of Vermont ,  Episcopal Church\", \"Lockhart, J. G. (John Gibson), 1794-1854\", \"Mason, Thomas, 1769-1851, [from old catalog] ed;Soule, Joshua, bp., 1781-1867, [from old catalog] ed;Bangs, Nathan, 1778-1862, [from old catalog] ed;Emory, John, bp., 1789-1835, [from old catalog] ed;Waugh, Beverly, bp., 1789-1858, [from old catalog] ed;Luckey, Samuel, 1791-1869, [from old catalog] ed;Peck, George, 1797-1876, [from old catalog] ed;McClintock, John, 1814-1870, [from old catalog] ed;Whedon, Daniel Denison, 1808-1885, [from old catalog] ed;Curry, Daniel, 1809-1887, [from old catalog] ed;Mendenhall, James William, 1844-1892, [from old catalog] ed;Kelley, William Valentine, 1843-1927, [from old catalog] ed;Elliott, George, 1851-1930, [from old catalog] ed\", \"Methodist Protestant Church\", \"Joseph Sturge\", \"United States. Circuit Court (9th Circuit);McAllister, Cutler, 1832-1879, reporter\", \"Cooley, James Ewing, b. 1802- [from old catalog]\", \"Taylor, Fitch Waterman, 1803-1865\", \"John Henry Pratt\", \"John Bramhall\", \"Baron Edward Bulwer Lytton Lytton\", \"William Newnham\", \"Taylor, Fitch W. (Fitch Waterman), 1803-1865\", \"Johann Christian Poggendorff\", \"Walter Scott\", \"Robinson, William, 1777-1848\", \"Illinois,  Illinois General Assembly. Senate\", \"Downing, Joshua Wells, 1813-1839;Downing, Elijah Hedding, 1810-1896\", \"Conkling, Alfred, 1789-1874\", \"Upham, Thomas Cogswell, 1799-1872;Beckwith, George C. (George Cone), 1800-1870\", \"Salem Athenaeum\", \"Stone, Mrs. (Elizabeth)\", \"Albert Ensign Church\", \"Gerber, Fr;Gulliver, George, 1804-1882\", \"Michael Russell\", \"West Hughes Humphreys\", \"Robert Moffat\", \"James Renwick\", \"Wright, G. N. (George Newenham), 1790?-1877\", \"Akerman, John Yonge, 1806-1873\", \"Seeley, Robert Benton, 1798-1886\", \"Philipp R\\\\u00f6der von Diersburg\", \"James Baillie Fraser\", \"Louisiana Supreme Court,  Merritt M . Robinson,  Louisiana Court of Errors and Appeals\", \"Cahoone, Sarah S\", \"Goode, William, 1801-1868\", \"Mure, William, 1799-1860\", \"Hall, Peter, 1803-1849\", \"Jeremiah Day\", \"Nathan Hale\", \"- Salnar,  Peter Hall\", \"Jukes, J. Beete (Joseph Beete), 1811-1869\", \"Buck, Wm. C. (William Calmes), 1790-1872\", \"Henry Wheaton\", \"Boeckh, August, 1785-1867;Lewis, George Cornewall, Sir, 1806-1863\", \"Matthew O'Brien\", \"Jameson, Mrs. (Anna), 1794-1860\", \"Roose, Edward Mahon\", \"Boeckh, August, 1785-1867\", \"Curry, William Dublin\", \"Greenwood, Francis William Pitt, 1797-1843. [from old catalog]\", \"Isaac Disraeli\", \"Mariano Vasi\", \"Leavitt, Joshua, 1794-1873\", \"Andrew White Young\", \"Philip, Robert, 1791-1858\", \"Meigs, Charles Delucena, 1792-1869. [from old catalog];Gordon, Alexander, M. D. [from old catalog];Hey, William, 1772-1844. [from old catalog];Armstrong, John, 1784-1829;Lee, Robert, 1793-1877. [from old catalog]\", \"Pilkington, James, Bishop of Durham, 1520?-1576;Morwen, John, 1518?-1561?;Scholefield, James, 1789-1853\", \"John Farrar,  Joseph Lovering\", \"Great Britain Court of Chancery,  Charles Beavan,  Henry Bickersteth Langdale ,  1st Baron John Romilly Romilly,  John Romilly Romilly ,  Chaloner William Chute,  Great Britain ,  Court of Chancery\", \"Bagg, Lyman Hotchkiss, 1846-1911;Yale University\", \"Clark, John A. (John Alonzo), 1801-1843\", \"Sir Richard Henry Bonnycastle\", \"Pilkington, James, Bp. of Durham, 1520?-1576;Morwen, John, 1518?-1561?;Scholefield, James, 1789-1853\", \"De Morgan, Augustus, 1806-1871. [from old catalog]\", \"Langdon, William B\", \"Napier, Charles, Sir, 1786-1860\", \"Bennett, John Cook, 1804-1867\", \"Charles Rockwell\", \"Royal Medical and Chirurgical Society of London\", \"Fredet, Peter, 1801-1856. [from old catalog]\", \"Smith, Joshua Toulmin, 1816-1869\", \"Macnaghten, William Hay, Sir, 1793-1841, [from old catalog] ed\", \"Ezra Stiles Gannett ,  Cazneau Palfrey\", \"Sir William Jackson Hooker\", \"General Synod of the Evangelical Lutheran Church in the United States.\", \"O'Callaghan, John Cornelius, 1805-1883\", \"Hunt, Leigh, 1784-1859\", \"Indiana. General Assembly, Senate\", \"Lee, Eliza Buckminster, 1794-1864\", \"Lee, Eliza Buckminster, 1794-1864;Duke University. Library. Jantz Collection. German Americana\", \"Milner, Mary;Milner, Isaac, 1750-1820\", \"Louisa Stuart ( Costello\", \"Abiel Abbot Livermore\", \"Andrew Alexander Bonar,  Robert Murray M 'Cheyne\", \"Bonnycastle, Richard Henry, Sir, 1791-1847\", \"Jane Porter\", \"Camden Society;Royal Historical Society (Great Britain) cn\", \"Henshaw, J. P. K. (John Prentiss Kewley), 1792-1852\", \"Hutchinson, Roger, d. 1555;Bruce, John, 1802-1869\", \"Neander, August, 1789-1850;Ryland, J. E. (Jonathan Edwards), 1798-1866\", \"Liebig, Justus, Freiherr von, 1803-1873;Gregory, William, 1803-1858\", \"Cypress, J., 1803-1841;Herbert, Henry William, 1807-1858, ed\", \"Great Britain. Court of King's Bench;Great Britain. Court of Exchequer Chamber;Gale, Charles James, 1805-1876, reporter;Davison, Henry, Sir, 1805?-1860, reporter\", \"Justus Liebig ,  William Gregory\", \"Manning, Henry Edward, 1808-1892\", \"Daniel Drake ,  Lundsford Pitts Yandell\", \"De Morgan, Augustus, 1806-1871;Society for the Diffusion of Useful Knowledge (Great Britain)\", \"Fox, Charles J. (Charles James), 1811-1846;Osgood, Samuel, 1812-1880\", \"Moule, Thomas, 1784-1851\", \"Francisco Javier Alegre,  Carlos Mar\\\\u00eda de Bustamante\", \"Holmes, Augusta Macgregor\", \"Jean Henri Merle d 'Aubign\\\\u00e9\", \"Augusta Macgregor Holmes\", \"De Wette, Wilhelm Martin Leberecht, 1780-1849. [from old catalog];Osgood, Samuel, 1812-1880, [from old catalog] tr\", \"Alonzo Bowen Chapin\", \"Moore, Thomas, 1779-1852\", \"Redding, Cyrus, 1785-1870\", \"Louis Aim\\\\u00e9 Martin ,  Edwin Lee\", \"Whittemore, Thomas, 1800-1861\", \"Cotton, William Charles, 1813-1879\", \"August ( Boeckh,  Sir George Cornewall Lewis\", \"Fleury, Abraham Joseph B\\\\u00e9nard, known as, 1750-1822;Hook, Theodore Edward, 1788-1841\", \"Balfour, Walter, 1776-1852\", \"Wright, Thomas, 1810-1877;White, Andrew Dickson, 1832-1918. fmo sgn;Hart, J. M. (James Morgan), 1839-1916. fmo;Royal Society of Literature (Great Britain)\", \"Henry White\", \"Indiana. General Assembly\", \"Michigan Legislature\", \"Ballou, Hosea, 1796-1861\", \"William Clowes and Sons,  Moyes and Barclay\", \"George Leonard\", \"John Hayward\", \"Stone, William L. (William Leete), 1792-1844\", \"Cottrell, Charles Herbert\", \"Hayward, John, 1781-1869\", \"Carlyle, Thomas, 1795-1881\", \"Savile, Charles Stuart, 1816-1870\", \"Row, John, 1567-1646;Row, William, 1614?-1698;Row, John, 1598?-1672?;Fleming, William, d. 1866\", \"M'Crie, Thomas, 1797-1875\", \"Walter Balfour\", \"Bray, Mrs. (Anna Eliza), 1790-1883\", \"Smith, John, fl. 1835\", \"Edgeworth, Maria, 1767-1849\", \"Church of England. Province of Canterbury. Convocation;Cardwell, Edward, 1787-1861\", \"Cox, F. A. (Francis Augustus), 1783-1853;Peggs, James, 1793-1850\", \"Cawood, John\", \"Madden, R[ichard] R[obert], 1798-1886. [from old catalog]\", \"John Colin Dunlop\", \"Catlin, George, 1796-1872\", \"Daniel, George, 1789-1864;Leech, John, 1817-1864, illus;Cruikshank, Robert, 1789-1856, illus\", \"John Chrysostom\", \"Old Humphrey, 1787-1854\", \"Oxford (England). Radcliffe Observatory\", \"John Chrysostom, Saint, d. 407\", \"Mott, Valentine, 1785-1865\", \"Smith, Roswell Chamberlain, 1797-1875\", \"Bradford, Alden, 1765-1843. cn\", \"Melville, James, 1556-1614;Pitcairn, Robert, 1793-1855, ed\", \"Alden Bradford\", \"Stillingfleet, Edward, 1635-1699\", \"Banim, John, 1798-1842;Banim, Michael, 1796-1874\", \"Cooper, James Fenimore, 1789-1851\", \"Howitt, William, 1792-1879;Cornelius, Dr\", \"Whitman, Zachariah G. (Zachariah Gardner), 1789-1840\", \"Griffin, Gerald, 1803-1840\", \"Davy, John, 1790-1868\", \"Holdich, Joseph, 1804-1893\", \"Isaac Nordheimer\", \"Ollier, Charles, 1788-1859\", \"Palmer, William, 1803-1885\", \"Vigne, Godfrey Thomas, 1801-1863\", \"Colton, George Hooker, 1818-1847. [from old catalog]\", \"Gore, Mrs. (Catherine Grace Francis), 1799-1861\", \"George Payne Rainsford James\", \"L. E. L. (Letitia Elizabeth Landon), 1802-1838\", \"Watterston, George, 1783-1854\", \"Ana\\\\u00efs Bazin\", \"De Vere, Aubrey, 1814-1902\", \"John Philpot,  Celio Secundo Curione\", \"King's College (University of London)\", \"Abbott, Jacob, 1803-1879\", \"Gore, Mrs., 1799-1861\", \"Wayland, Francis, 1796-1865\", \"Felicia Dorothea Browne Hemans\", \"Munro, G. C\", \"Campbell, John, 1794-1867\", \"Pardoe, Miss (Julia), 1806-1862\", \"Sturge, Joseph, 1793-1859\", \"Bury, Charlotte Campbell, Lady, 1775-1861;Sallie Bingham Center for Women's History and Culture. NcD\", \"Garbett, James\", \"Clay, Henry, 1777-1852;Chambers, R. L., comp\", \"Eusebius, of Caesarea, Bishop of Caesarea, ca. 260-ca. 340;Crus\\\\u00e9, Christian Frederic, 1794-1864, tr;Boyle, Isaac, tr\", \"William S. Hein & Company\", \"Lytton, Edward Bulwer Lytton, Baron, 1803-1873\", \"John Gideon Millingen\", \"Caroline Matilda Kirkland\", \"Child Study Association of America Book Review Committee\", \"Chamier, Frederick, 1796-1870\", \"Henry Cruger Van Schaack\", \"Sterling, John, 1806-1844\", \"Southey, Caroline Bowles, 1786-1854\", \"Jameson (Anna)\", \"Tasistro, Louis F. (Louis Fitzgerald), 1808-1868\", \"Samuel Romilly\", \"Borrow, George Henry, 1803-1881\", \"H\\\\u0323usain \\\\u02bbAli\\\\u0304, Kirma\\\\u0304ni\\\\u0304, fl. 1781-1802;Miles, William, d. 1860, tr\", \"James Bischoff\", \"Maurice, Frederick Denison, 1805-1872\", \"Catharine Maria Sedgwick\", \"Nathanael Emmons,  Jacob Ide\", \"Athanasius, Saint, Patriarch of Alexandria, d. 373;Newman, John Henry, 1801-1890\", \"James Brogden\", \"Thomas Fuller\", \"Thorpe, Benjamin, 1782-1870, ed;Society of Antiquaries of London\", \"Edwards, Jonathan, 1745-1801;Edwards, Tryon, 1809-1894\", \"Hamilton, William John, 1805-1867\", \"Potter, Alonzo, 1800-1865;Emerson, George B. (George Barrell), 1797-1881\", \"Mary, Queen of Scots, 1542-1587;Strickland, Agnes, 1796-1874\", \"Prideaux John Selby\", \"Lytton, Rosina Bulwer Lytton, Baroness, 1802-1882\", \"Robert Baird\", \"Sheridan, Richard Brinsley, 1751-1816\", \"Horace Walpole\", \"Francis Wayland\", \"Johnson, Edward, Sir, 1785-1862. [from old catalog]\", \"Walpole, Horace, 1717-1797;Wright, J. (John), 1770?-1844, ed\", \"Johnson, Edward, Sir, 1785-1862\", \"William Cooke Taylor\", \"William Shakespeare\", \"Nimrod, 1778-1843\", \"Hunter, John, of Bath;Robinson, Hastings, 1792?-1866, ed. and tr\", \"Thomas M'Crie\", \"Jones, Charles Colcock, 1804-1863\", \"Magee, William, 1766-1831;Kenney, Arthur Henry, 1776 or 7-1855\", \"Maria Edgeworth\", \"Wesley, John, 1703-1791\", \"Roger Hutchinson ,  William Herbert\", \"Albrecht von Scharfenberg\", \"David Calderwood\", \"Anthon, Charles, 1797-1867\", \"Robinson, Hastings, 1792?-1866;Hunter, John, of Bath;Pears, Steuart Adolphus, 1815-1875\", \"Robert Bowes,  Joseph Stevenson\", \"Chapin, A. B. (Alonzo Bowen), 1808-1858\", \"Bowes, Robert, 1535?-1597;Stevenson, Joseph, 1806-1895\", \"De Kay, James E. (James Ellsworth), 1792-1851;Seward, William Henry, 1801-1872\", \"White, Henry, 1790-1858\", \"Hooper, John, d. 1555;Carr, Samuel;Nevinson, Charles\", \"Tholuck, August, 1799-1877;Hamilton, James, 1769-1829, tr;Ryland, J. E. (Jonathan Edwards), 1798-1866, tr\", \"Methodist Episcopal Church\", \"William Bradford Homer,  Edwards Amasa Park\", \"Greenleaf, Simon, 1783-1853\", \"Eliza Lee (Cabot ) Follen,  Charles Follen\", \"James Grant\", \"Robert Baillie\", \"Mineralogicheskoe obshchestvo (Russia);Vserossi\\\\u012dskoe mineralogicheskoe obshchestvo (Russia);Rossi\\\\u012dskoe mineralogicheskoe obshchestvo;Vsesoi\\\\u0361uznoe mineralogicheskoe obshchestvo\", \"Michael Faraday\", \"Nicolas Tuite de McCarthy\", \"Henry Ware\", \"Hook, Theodore Edward, 1788-1841\", \"Chatterton, Thomas, 1752-1770;Willcox, Charles Bonnycastle, ed\", \"Hall, S. C. (Samuel Carter), 1800-1889\", \"John Row\", \"St. John, James Augustus, 1795-1875\", \"M'Crie, Thomas, 1772-1835\", \"Sim\\\\u00e9on-Denis Poisson\", \"Kidder, Daniel P. (Daniel Parish), 1815-1891\", \"Joseph Tracy\", \"Edward Bulwer Lytton Lytton\", \"McCarty, William\", \"Croly, George, 1780-1860\", \"United States. Dept. of State\", \"Henry Grattan\", \"James Pilkington\", \"Barstow, George, 1812-1883\", \"Lyell, Charles, Sir, 1797-1875\", \"Godfrey Thomas Vigne\", \"Richard Henry Bonnycastle\", \"Pennsylvania. Supreme Court;Watts, Frederick\", \"Presbyterian Church in the U.S.A,  Board of Publication ,  Presbyterian Church in the U.S.A. Board of Publication\", \"Lorimer, John Gordon, 1804-1868\", \"Stebbing, Henry, 1799-1883\", \"Van Schaack, Henry Cruger, 1802-1887\", \"Fleury, Claude, 1640-1723;Newman, John Henry, 1801-1890\", \"Campbell, John Campbell, Baron, 1779-1861\", \"Croker, John Wilson, 1780-1857, comp;Boswell, James, 1740-1795. Life of Samuel Johnson\", \"Wilson, John, 1785-1854\", \"Charlotte Elizabeth, 1790-1846\", \"South Carolina. General Assembly. Senate\", \"Chalmers, Thomas, 1780-1847\", \"Fuller, Thomas, 1608-1661;Nichols, James, 1785-1861, ed\", \"Fuller, Thomas, 1608-1661\", \"Whitaker, Daniel K. (Daniel Kimball), 1801-1881, ed;Clapp, Milton, ed;Simms, William Gilmore, 1806-1870, ed;Thornwell, James Henley, 1812-1862, ed;Jay I. Kislak Collection (Library of Congress) DLC\", \"Rotteck, Karl [Wenzeslaus Rodecker], von, 1775-1840. [from old catalog];History, Universal. [from old catalog]\", \"Ellis, Sarah Stickney, 1812-1872\", \"Sigourney, L. H. (Lydia Howard), 1791-1865\", \"Wodrow, Robert, 1679-1734;Leishman, Matthew, 1821-1874\", \"Charles William Wason\", \"Rockwell, Charles, 1806-1882\", \"Making of America Project,  Jared Sparks ,  Edward Everett ,  James Russell Lowell ,  Henry Cabot Lodge\", \"Fanny Burney\", \"Burney, Fanny, 1752-1840;Barrett, Charlotte\", \"William Goode\", \"Wilde, Richard Henry, 1789-1847\", \"Tracy, Joseph, 1793?-1874\", \"McCarty, William, [from old catalog] comp\", \"Holbrook, John Edwards, 1794-1871\", \"Wodrow, Robert, 1679-1734;M'Crie, Thomas, 1772-1835\", \"Cary, Henry, 1804-1870, ed\", \"Madison, James, 1751-1836;Gilpin, Henry D. (Henry Dilworth), 1801-1860\", \"James Fenimore Cooper\", \"Dickens, Charles, 1812-1870\", \"Hunter, W. Patison\", \"Lyell, Charles, Sir, 1797-1875;Rudwick, M. J. S\", \"Hunter, Joseph, 1783-1861\", \"Robert Wodrow\", \"Frederick Denison Maurice\", \"Duffield, George, 1794-1868\", \"James, G. P. R. (George Payne Rainsford), 1801?-1860\", \"Watts, Isaac, 1674-1748;Worcester, Samuel, 1770-1821;Worcester, Samuel M. (Samuel Melanchthon), 1801-1866\", \"Hammond,  Jabez D .,  1778-1855\", \"William McCarty\", \"Hall, James, 1811-1898;De Kay, James E. (James Ellsworth), 1792-1851. Natural history of New York. Zoology;Mather, W. W. (William Williams), 1804-1859;Emmons, Ebenezer, 1799-1863;Hill, J. W., ill;Torrey, John, 1796-1873;Beck, Lewis C. (Lewis Caleb), 1798-1853;Peters, James Arthur, 1922- former owner. DSI;Dall, William Healey, 1845-1927, former owner. DSI;New York (State). Natural History Survey;W. Endicott & Co. lithographer\", \"Cervantes Saavedra, Miguel de, 1547-1616;Jarvis, Charles, 1675?-1739;Johannot, Tony, 1803-1852\", \"Marryat, Frederick, 1792-1848\", \"Charles Dickens\", \"Howitt, William, 1792-1879\", \"New York State Agricultural Society\", \"New York (N.Y.). Common Council;Willis, Samuel J;Valentine, David T. (David Thomas), 1801-1869\", \"Bramhall, John, 1594-1663\", \"John Wilson\", \"Presbyterian Church in the U.S.A. Board of Publication\", \"Nathanael Emmons ,  Jacob Ide\", \"Burney, Fanny, 1752-1840;Barrett, Charlotte, ed\", \"Gore, Mrs. (Catherine Grace Frances), 1799-1861\", \"Calderwood, David, 1575-1650\", \"New York (N.Y.). Common Council.\", \"Shakespeare, William, 1564-1616;Knight, Charles, 1791-1873\", \"Buckingham, James Silk, 1786-1855\", \"Bale,  John ,  Coverdale,  Miles ,  John Foxe\", \"Butler, Alban, 1711-1773;Butler, Charles, 1750-1832\", \"Emmons, Nathanael, 1745-1840;Ide, Jacob, 1785-1880\", \"Beveridge, William, 1637-1708\", \"New York (N.Y.). Common Council;Willis, Samuel J;Valentine, D. T. (David Thomas) 1801-1869;Shannon, Joseph;Hardy, John\"], \"legendgroup\": \"\", \"marker\": {\"color\": \"#636efa\", \"symbol\": \"circle\"}, \"mode\": \"markers\", \"name\": \"\", \"showlegend\": false, \"type\": \"scattergl\", \"x\": [2, 4, 4, 4, 4, 4, 4, 4, 4, 4, 4, 6, 6, 6, 7, 10, 10, 10, 10, 10, 10, 10, 10, 11, 12, 12, 12, 12, 12, 14, 14, 14, 14, 14, 15, 15, 15, 16, 16, 17, 17, 17, 17, 17, 18, 18, 18, 18, 18, 18, 18, 18, 18, 18, 18, 19, 19, 19, 20, 20, 20, 20, 20, 20, 20, 20, 20, 20, 20, 20, 20, 20, 21, 21, 22, 22, 22, 22, 22, 22, 22, 22, 22, 22, 22, 22, 23, 23, 23, 23, 24, 24, 24, 24, 24, 24, 24, 24, 24, 24, 24, 24, 25, 25, 26, 26, 26, 26, 26, 26, 26, 26, 26, 26, 26, 27, 27, 27, 28, 28, 28, 28, 28, 28, 28, 28, 29, 29, 29, 30, 30, 30, 30, 30, 30, 31, 31, 31, 32, 32, 32, 32, 32, 32, 32, 32, 33, 33, 33, 33, 34, 34, 34, 34, 34, 34, 34, 35, 36, 36, 36, 36, 36, 36, 36, 36, 37, 37, 37, 37, 37, 38, 38, 38, 38, 38, 38, 38, 38, 38, 38, 38, 40, 40, 40, 40, 40, 40, 40, 40, 40, 40, 40, 41, 42, 42, 42, 42, 42, 42, 42, 42, 42, 43, 43, 44, 44, 44, 44, 44, 44, 44, 44, 44, 45, 46, 46, 46, 46, 46, 46, 47, 48, 48, 48, 48, 48, 48, 48, 48, 48, 48, 48, 48, 49, 49, 49, 50, 50, 50, 50, 50, 50, 50, 50, 50, 50, 52, 52, 52, 52, 52, 52, 52, 52, 53, 54, 54, 54, 54, 56, 56, 56, 56, 56, 56, 56, 57, 57, 58, 58, 58, 58, 58, 59, 59, 60, 60, 60, 60, 60, 60, 60, 61, 61, 61, 62, 62, 62, 62, 63, 63, 63, 64, 64, 64, 64, 65, 65, 66, 66, 66, 66, 66, 66, 67, 67, 67, 67, 68, 68, 68, 68, 68, 68, 69, 69, 70, 70, 70, 70, 71, 72, 72, 72, 72, 72, 72, 72, 72, 72, 73, 73, 74, 74, 74, 74, 74, 74, 75, 75, 76, 76, 76, 76, 76, 76, 77, 77, 78, 78, 78, 78, 78, 78, 79, 79, 80, 80, 80, 80, 80, 80, 80, 82, 82, 82, 82, 84, 84, 84, 84, 84, 84, 84, 85, 85, 86, 87, 88, 88, 88, 88, 89, 90, 90, 90, 90, 90, 91, 91, 92, 93, 94, 94, 94, 94, 94, 95, 96, 96, 96, 96, 96, 96, 97, 97, 98, 98, 98, 98, 98, 99, 100, 100, 100, 100, 100, 100, 101, 102, 102, 102, 102, 102, 102, 103, 103, 104, 104, 104, 105, 106, 106, 106, 106, 107, 107, 108, 109, 109, 109, 110, 110, 110, 110, 110, 110, 111, 111, 112, 113, 115, 115, 116, 116, 117, 117, 117, 117, 118, 118, 118, 118, 119, 119, 119, 122, 122, 122, 122, 122, 123, 123, 123, 124, 124, 124, 124, 125, 125, 125, 126, 127, 127, 127, 127, 127, 128, 128, 129, 130, 130, 131, 131, 131, 131, 131, 131, 132, 132, 132, 133, 133, 134, 134, 134, 134, 135, 135, 136, 136, 137, 137, 138, 138, 138, 138, 138, 139, 139, 140, 140, 140, 140, 140, 140, 141, 141, 142, 142, 142, 142, 142, 142, 142, 143, 143, 144, 144, 144, 144, 144, 144, 144, 146, 146, 146, 147, 147, 147, 148, 148, 149, 149, 150, 150, 150, 151, 151, 151, 152, 152, 153, 154, 155, 155, 155, 155, 156, 156, 156, 156, 156, 156, 157, 157, 157, 158, 158, 158, 158, 158, 158, 159, 160, 161, 161, 162, 162, 162, 162, 163, 163, 164, 164, 164, 164, 164, 165, 165, 165, 165, 166, 166, 166, 167, 167, 167, 169, 170, 170, 171, 171, 172, 174, 175, 175, 175, 176, 177, 178, 178, 180, 180, 180, 182, 182, 182, 183, 183, 184, 184, 184, 184, 184, 184, 184, 184, 185, 186, 186, 186, 186, 187, 187, 187, 187, 188, 188, 188, 188, 188, 188, 189, 189, 189, 189, 190, 190, 190, 190, 190, 191, 191, 191, 191, 191, 192, 192, 192, 193, 194, 194, 194, 194, 194, 194, 194, 196, 196, 196, 197, 198, 198, 199, 200, 201, 201, 202, 202, 202, 202, 204, 204, 204, 204, 205, 206, 206, 206, 206, 208, 208, 208, 208, 209, 209, 210, 210, 211, 212, 212, 212, 213, 213, 214, 214, 214, 215, 216, 216, 216, 216, 217, 218, 219, 220, 220, 220, 220, 221, 222, 222, 222, 224, 226, 227, 228, 228, 228, 229, 229, 230, 230, 230, 230, 230, 230, 231, 231, 231, 232, 232, 233, 234, 234, 236, 237, 237, 237, 238, 238, 238, 238, 239, 240, 240, 241, 242, 242, 242, 242, 242, 242, 243, 243, 243, 243, 244, 244, 244, 244, 244, 244, 245, 245, 245, 246, 246, 247, 247, 247, 247, 248, 248, 250, 250, 250, 250, 251, 251, 251, 252, 252, 252, 252, 252, 253, 253, 253, 254, 254, 254, 255, 255, 256, 256, 257, 257, 257, 257, 257, 257, 258, 258, 258, 258, 259, 260, 260, 260, 260, 260, 261, 261, 261, 262, 262, 262, 262, 262, 262, 263, 263, 263, 263, 264, 264, 264, 264, 264, 264, 265, 265, 265, 266, 266, 266, 266, 266, 266, 266, 266, 267, 267, 267, 267, 268, 268, 268, 269, 270, 270, 271, 271, 271, 271, 272, 272, 273, 273, 274, 274, 275, 276, 276, 276, 276, 277, 278, 278, 279, 279, 279, 279, 279, 279, 280, 281, 282, 282, 282, 282, 282, 283, 283, 283, 284, 284, 285, 285, 286, 286, 286, 287, 287, 287, 288, 289, 289, 290, 290, 290, 290, 291, 291, 291, 291, 292, 292, 292, 292, 292, 293, 293, 293, 294, 295, 295, 296, 296, 297, 297, 297, 297, 297, 297, 298, 298, 298, 299, 299, 299, 300, 300, 300, 300, 300, 300, 301, 302, 302, 303, 304, 305, 305, 305, 306, 306, 306, 306, 306, 306, 307, 307, 308, 308, 308, 309, 310, 310, 311, 311, 311, 311, 311, 311, 311, 311, 312, 312, 312, 312, 312, 312, 312, 313, 313, 313, 313, 313, 313, 314, 315, 315, 315, 315, 315, 316, 316, 316, 316, 316, 316, 316, 316, 316, 316, 317, 317, 317, 317, 318, 319, 319, 320, 320, 320, 320, 320, 321, 321, 321, 322, 322, 322, 322, 323, 323, 323, 323, 324, 324, 324, 324, 325, 325, 325, 326, 326, 326, 326, 327, 327, 327, 328, 328, 328, 328, 328, 329, 329, 329, 330, 330, 330, 330, 331, 332, 332, 332, 332, 333, 333, 334, 334, 334, 335, 335, 335, 336, 336, 336, 337, 337, 338, 339, 339, 339, 339, 339, 339, 340, 340, 340, 340, 340, 341, 342, 342, 342, 342, 342, 343, 343, 344, 345, 345, 346, 346, 346, 346, 346, 347, 347, 347, 347, 348, 348, 348, 349, 349, 349, 350, 350, 353, 353, 353, 354, 354, 354, 355, 355, 355, 355, 356, 356, 357, 357, 358, 358, 359, 359, 359, 360, 361, 364, 364, 365, 366, 366, 366, 366, 366, 367, 367, 368, 368, 368, 370, 370, 370, 370, 371, 371, 371, 372, 372, 372, 372, 372, 372, 372, 372, 372, 373, 373, 374, 374, 374, 375, 376, 376, 376, 376, 376, 376, 377, 377, 378, 378, 378, 378, 378, 378, 379, 379, 379, 379, 380, 381, 381, 381, 382, 382, 382, 382, 384, 384, 384, 384, 384, 384, 384, 385, 386, 386, 386, 386, 386, 386, 386, 387, 387, 387, 387, 387, 388, 388, 389, 390, 390, 391, 392, 394, 394, 394, 394, 395, 396, 396, 396, 396, 396, 396, 396, 396, 397, 397, 397, 397, 398, 399, 400, 400, 400, 400, 401, 401, 403, 404, 405, 405, 405, 406, 406, 407, 407, 407, 408, 408, 408, 408, 408, 409, 409, 409, 409, 411, 412, 412, 412, 413, 413, 413, 414, 414, 415, 416, 416, 416, 416, 417, 417, 418, 418, 418, 419, 419, 420, 420, 421, 421, 422, 422, 424, 424, 424, 424, 424, 425, 425, 426, 427, 427, 427, 428, 428, 428, 428, 428, 429, 429, 429, 429, 429, 430, 431, 431, 432, 432, 432, 432, 432, 433, 433, 434, 434, 434, 434, 436, 436, 436, 437, 437, 437, 439, 439, 439, 440, 440, 440, 441, 441, 442, 442, 442, 443, 443, 443, 444, 446, 446, 446, 446, 447, 447, 447, 448, 448, 448, 449, 449, 450, 450, 450, 451, 451, 452, 452, 454, 454, 455, 456, 456, 457, 457, 458, 458, 459, 460, 461, 461, 462, 463, 463, 463, 464, 464, 465, 466, 466, 468, 468, 469, 469, 470, 470, 472, 472, 472, 473, 473, 473, 474, 475, 476, 476, 476, 477, 477, 478, 478, 478, 478, 480, 480, 480, 481, 482, 485, 485, 486, 486, 486, 486, 488, 488, 489, 489, 490, 490, 491, 492, 492, 492, 493, 493, 494, 495, 496, 496, 497, 498, 498, 499, 500, 500, 500, 500, 501, 501, 502, 502, 502, 505, 506, 506, 507, 507, 507, 508, 509, 510, 510, 512, 512, 512, 512, 513, 513, 514, 514, 514, 515, 515, 515, 516, 516, 516, 517, 517, 518, 518, 518, 520, 520, 521, 521, 522, 522, 522, 523, 524, 524, 524, 525, 525, 525, 526, 526, 526, 527, 529, 530, 531, 531, 532, 532, 534, 538, 538, 539, 539, 541, 543, 544, 544, 544, 546, 548, 549, 549, 550, 550, 551, 551, 552, 553, 554, 556, 556, 557, 558, 560, 561, 561, 562, 564, 564, 565, 566, 566, 567, 568, 570, 570, 570, 570, 571, 571, 571, 573, 573, 573, 574, 575, 575, 575, 576, 576, 578, 578, 578, 579, 583, 583, 584, 586, 587, 587, 587, 587, 589, 589, 589, 590, 590, 590, 590, 592, 594, 594, 594, 594, 595, 595, 596, 598, 598, 602, 603, 604, 604, 606, 608, 608, 608, 608, 610, 611, 611, 612, 613, 613, 613, 616, 618, 618, 618, 621, 622, 624, 626, 627, 627, 628, 628, 629, 632, 632, 632, 633, 633, 634, 634, 635, 638, 638, 639, 639, 640, 641, 644, 644, 644, 644, 644, 646, 646, 648, 649, 650, 650, 650, 651, 651, 655, 655, 656, 656, 656, 656, 658, 660, 662, 663, 663, 665, 665, 666, 667, 667, 668, 668, 669, 669, 670, 670, 672, 672, 672, 674, 675, 675, 675, 677, 677, 680, 682, 682, 683, 683, 687, 688, 690, 692, 698, 698, 698, 702, 705, 706, 706, 708, 708, 710, 713, 714, 716, 717, 717, 719, 720, 722, 722, 722, 722, 724, 726, 728, 728, 728, 728, 728, 729, 731, 733, 734, 736, 736, 737, 740, 740, 740, 748, 749, 750, 754, 761, 763, 765, 766, 767, 768, 770, 772, 772, 774, 775, 776, 776, 776, 777, 786, 786, 788, 790, 792, 795, 795, 799, 808, 811, 817, 820, 824, 824, 830, 830, 834, 838, 839, 839, 840, 840, 843, 852, 853, 854, 860, 862, 866, 876, 878, 880, 886, 889, 889, 890, 892, 892, 894, 898, 902, 904, 906, 912, 913, 914, 922, 924, 924, 928, 929, 932, 941, 944, 944, 945, 946, 947, 948, 950, 952, 954, 960, 960, 966, 967, 970, 974, 976, 978, 979, 980, 984, 984, 984, 992, 995, 996, 1000, 1002, 1004, 1005, 1012, 1012, 1014, 1015, 1019, 1022, 1024, 1024, 1034, 1034, 1036, 1037, 1042, 1042, 1044, 1045, 1050, 1059, 1066, 1067, 1069, 1077, 1084, 1084, 1089, 1101, 1105, 1110, 1112, 1122, 1133, 1134, 1136, 1141, 1146, 1150, 1151, 1155, 1156, 1157, 1162, 1163, 1164, 1164, 1171, 1175, 1176, 1178, 1180, 1185, 1196, 1198, 1198, 1208, 1208, 1214, 1232, 1233, 1246, 1246, 1250, 1250, 1257, 1267, 1269, 1281, 1282, 1290, 1291, 1300, 1303, 1308, 1309, 1310, 1317, 1323, 1329, 1333, 1341, 1360, 1369, 1381, 1383, 1404, 1410, 1417, 1419, 1432, 1443, 1444, 1447, 1452, 1468, 1477, 1478, 1499, 1501, 1525, 1552, 1553, 1561, 1578, 1608, 1612, 1616, 1635, 1638, 1643, 1652, 1658, 1676, 1702, 1715, 1727, 1729, 1734, 1770, 1783, 1807, 1818, 1838, 1842, 1853, 1866, 1906, 1932, 1958, 1970, 1973, 1976, 1978, 2004, 2005, 2008, 2110, 2153, 2180, 2208, 2231, 2280, 2377, 2379, 2398, 2436, 2629, 2672, 2813, 2943, 2950, 2964, 3119, 3254, 3435, 3983, 4046, 4118, 4146, 4170, 4212, 4904, 5502, 5786, 7832, 11406], \"xaxis\": \"x\", \"y\": [82.0, 99.0, 72.0, null, 93.0, null, 80.0, 90.0, 150.0, 68.0, 2.0, 17.0, 11.0, 80.0, 8.0, 106.0, 131.0, 162.0, 106.0, 17.0, 169.0, 145.0, 126.0, 108.0, 221.0, 101.0, 131.0, 83.0, 107.0, 137.0, 98.0, 185.0, 111.0, 281.0, 107.0, 115.0, 311.0, 145.0, 76.0, 137.0, 10.0, 11.0, 76.0, 101.0, 140.0, 12.0, 97.0, 193.0, 93.0, 9.0, 140.0, 104.0, 108.0, 112.0, 129.0, 92.0, 127.0, 124.0, 172.0, 95.0, 104.0, 177.0, 230.0, 62.0, 123.0, 221.0, 225.0, 147.0, 250.0, 18.0, 137.0, 106.0, 151.0, 147.0, 75.0, 97.0, 36.0, 63.0, 103.0, 238.0, 27.0, 149.0, 97.0, 127.0, 54.0, 63.0, 75.0, 93.0, 95.0, 12.0, 187.0, 130.0, 159.0, 9.0, 110.0, 92.0, 211.0, 198.0, 297.0, 193.0, 109.0, 217.0, 130.0, 108.0, 199.0, 201.0, 7.0, 71.0, 85.0, 76.0, 27.0, 265.0, 44.0, 391.0, 107.0, 176.0, 101.0, 142.0, 125.0, 101.0, 58.0, 213.0, 176.0, 29.0, 154.0, 14.0, 26.0, 376.0, 207.0, 203.0, 119.0, 225.0, 79.0, 27.0, 49.0, 100.0, 89.0, 11.0, 104.0, 140.0, 337.0, 104.0, 210.0, 121.0, 92.0, 53.0, 97.0, 95.0, 81.0, 184.0, 128.0, 6.0, 94.0, 137.0, 27.0, 190.0, 79.0, 200.0, 128.0, 253.0, 176.0, 278.0, 4.0, 202.0, 222.0, 112.0, 132.0, 8.0, 144.0, 81.0, 192.0, 249.0, 51.0, 207.0, 246.0, 53.0, 80.0, 20.0, 148.0, 112.0, 71.0, 154.0, 165.0, 197.0, 67.0, 183.0, 37.0, 154.0, 113.0, 72.0, 211.0, 595.0, 124.0, 74.0, 211.0, 203.0, 278.0, 219.0, 520.0, 277.0, 274.0, 21.0, 513.0, 137.0, 78.0, 91.0, 287.0, 188.0, 142.0, 145.0, 245.0, 94.0, 207.0, 322.0, 11.0, 131.0, 11.0, 297.0, 93.0, 15.0, 140.0, 90.0, 179.0, 22.0, 87.0, 304.0, 78.0, 110.0, 20.0, 152.0, 158.0, 122.0, 12.0, 151.0, 106.0, 101.0, 95.0, 275.0, 245.0, 165.0, 261.0, 252.0, 120.0, 147.0, 159.0, 106.0, 414.0, 316.0, 307.0, 170.0, 116.0, 178.0, 334.0, 692.0, 187.0, 96.0, 28.0, 300.0, 224.0, 77.0, 227.0, 527.0, 213.0, 177.0, 277.0, 157.0, 197.0, 124.0, 121.0, 144.0, 121.0, 185.0, 147.0, 206.0, 134.0, 95.0, 199.0, 133.0, 313.0, 197.0, 503.0, 214.0, 2098.0, 182.0, 97.0, 272.0, 29.0, 261.0, 519.0, 51.0, 116.0, 151.0, 130.0, 146.0, 265.0, 123.0, 197.0, 111.0, 89.0, 146.0, 86.0, 138.0, 108.0, 60.0, 242.0, 13.0, 63.0, 116.0, 80.0, 98.0, 193.0, 135.0, 294.0, 234.0, 181.0, 127.0, 105.0, 79.0, 101.0, 97.0, 357.0, 84.0, 206.0, 219.0, 90.0, 234.0, 111.0, 88.0, 197.0, 275.0, 141.0, 57.0, 121.0, 35.0, 41.0, 383.0, 76.0, 46.0, 109.0, 108.0, 159.0, 326.0, 533.0, 105.0, 232.0, 174.0, 283.0, 113.0, 76.0, 383.0, 14.0, 417.0, 183.0, 84.0, 134.0, 148.0, 191.0, 112.0, 87.0, 286.0, 264.0, 119.0, 144.0, 204.0, 75.0, 790.0, 1092.0, 300.0, 184.0, 51.0, 87.0, 71.0, 138.0, 137.0, 299.0, 319.0, 96.0, 123.0, 105.0, 188.0, 135.0, 359.0, 85.0, 911.0, 112.0, 192.0, 192.0, 472.0, 329.0, 219.0, 201.0, 2.0, 140.0, 23.0, 162.0, 239.0, 191.0, 69.0, 171.0, 134.0, 442.0, 90.0, 217.0, 269.0, 743.0, 452.0, 113.0, 149.0, 334.0, 117.0, 249.0, 403.0, 97.0, 82.0, 204.0, 312.0, 292.0, 562.0, 471.0, 188.0, 432.0, 101.0, 87.0, 483.0, 7.0, 196.0, 202.0, 214.0, 90.0, 78.0, 227.0, 1908.0, 132.0, 276.0, null, 148.0, 111.0, 1331.0, 107.0, 129.0, 157.0, 172.0, 333.0, 195.0, 63.0, 103.0, 128.0, 508.0, 93.0, 140.0, 106.0, 130.0, 163.0, 94.0, 551.0, 258.0, 370.0, 120.0, 166.0, 133.0, 206.0, 36.0, 518.0, 293.0, 150.0, 632.0, 164.0, 145.0, 378.0, 95.0, 179.0, 164.0, 121.0, 1499.0, 1755.0, 262.0, 63.0, 783.0, 497.0, 101.0, 154.0, 993.0, 332.0, 151.0, 187.0, 93.0, 143.0, 89.0, 155.0, 101.0, 161.0, 80.0, 164.0, 398.0, 83.0, 112.0, 288.0, 105.0, 152.0, 174.0, 362.0, 119.0, 647.0, 166.0, 1199.0, 65.0, 550.0, 198.0, 220.0, 206.0, 289.0, 151.0, 1628.0, 461.0, 250.0, 193.0, 153.0, 42.0, 273.0, 116.0, 155.0, 144.0, 200.0, 19.0, 38.0, 110.0, 417.0, 189.0, 177.0, 156.0, 15.0, 114.0, 152.0, 123.0, 287.0, 164.0, 331.0, 104.0, 500.0, 141.0, 688.0, 1485.0, 377.0, 445.0, 999.0, 302.0, 600.0, 290.0, 354.0, 110.0, 286.0, 48.0, 407.0, 152.0, 185.0, 634.0, 24.0, 212.0, 99.0, 401.0, 88.0, 1199.0, 61.0, 183.0, 95.0, 82.0, 221.0, 113.0, 123.0, 49.0, 327.0, 161.0, 49.0, 96.0, 213.0, 245.0, 98.0, 133.0, 603.0, 301.0, 246.0, 295.0, 98.0, 335.0, 186.0, 111.0, 141.0, 258.0, 48.0, 57.0, 313.0, 175.0, 245.0, 104.0, 190.0, 246.0, 153.0, 92.0, 2207.0, 147.0, 327.0, 621.0, 127.0, 260.0, 114.0, 384.0, 139.0, 179.0, 155.0, 75.0, 1820.0, 70.0, 420.0, 175.0, 200.0, 113.0, 419.0, 147.0, 141.0, 160.0, 1656.0, 236.0, 394.0, 135.0, 198.0, 165.0, 44.0, 480.0, 46.0, 187.0, 183.0, 260.0, 146.0, 350.0, 240.0, 421.0, 136.0, 159.0, 54.0, 159.0, 51.0, 127.0, 292.0, 251.0, 135.0, 141.0, 243.0, 255.0, 91.0, 225.0, 192.0, 635.0, 663.0, 171.0, 102.0, 129.0, 426.0, 66.0, 212.0, 321.0, 75.0, 204.0, 154.0, 141.0, 108.0, 131.0, 78.0, 232.0, 443.0, 278.0, 190.0, 99.0, 103.0, 147.0, 13.0, 103.0, 717.0, 212.0, 94.0, 295.0, 160.0, 475.0, 184.0, 104.0, 2301.0, 128.0, 261.0, 131.0, 529.0, 440.0, 881.0, 49.0, 141.0, 790.0, 142.0, 840.0, 1770.0, 141.0, 12.0, 106.0, 253.0, 138.0, 1797.0, 346.0, 115.0, 954.0, 111.0, 211.0, 498.0, 20.0, 191.0, 234.0, 459.0, 158.0, 652.0, 124.0, 425.0, 309.0, 94.0, 217.0, 226.0, 14.0, 211.0, 121.0, 142.0, 115.0, 186.0, 422.0, 337.0, 7.0, 399.0, 124.0, 363.0, 338.0, 509.0, 302.0, 289.0, 404.0, 55.0, 714.0, 122.0, 246.0, 367.0, 290.0, 261.0, 143.0, 252.0, 275.0, 53.0, 187.0, 92.0, 126.0, 154.0, 160.0, 101.0, 209.0, 77.0, 528.0, 86.0, 1845.0, 257.0, 1194.0, 149.0, 495.0, 903.0, 156.0, 97.0, 289.0, 397.0, 252.0, 607.0, 449.0, 581.0, 380.0, 1237.0, 112.0, 94.0, 90.0, 130.0, 1605.0, 103.0, 178.0, 303.0, 61.0, 251.0, 119.0, 184.0, 346.0, 117.0, 244.0, 119.0, 97.0, 113.0, 1300.0, 493.0, 72.0, 75.0, 160.0, 213.0, 2.0, 217.0, 399.0, 231.0, 364.0, 104.0, 477.0, 419.0, 210.0, 381.0, 89.0, 118.0, 429.0, 534.0, 375.0, 163.0, 324.0, 267.0, 672.0, 117.0, 70.0, 119.0, 276.0, 146.0, 154.0, 1.0, 82.0, 152.0, 214.0, 248.0, 526.0, 347.0, 430.0, 167.0, 99.0, 432.0, 141.0, 283.0, 657.0, 234.0, 250.0, 11.0, 90.0, 173.0, 108.0, 295.0, 344.0, 55.0, 327.0, 291.0, 325.0, 131.0, 1231.0, 420.0, 649.0, 122.0, 172.0, 369.0, 225.0, 104.0, 488.0, 249.0, 263.0, 79.0, 540.0, 531.0, 555.0, 142.0, 139.0, 575.0, 734.0, 299.0, 331.0, 89.0, 225.0, 154.0, 100.0, 243.0, 87.0, 183.0, 213.0, 139.0, 162.0, 593.0, 45.0, 91.0, 207.0, 410.0, 529.0, 65.0, 177.0, 395.0, 147.0, 141.0, 87.0, 190.0, 210.0, 104.0, 521.0, 465.0, 314.0, 230.0, 587.0, 242.0, 336.0, 107.0, 116.0, 151.0, 155.0, 523.0, 146.0, 413.0, 174.0, 482.0, 131.0, 199.0, 156.0, 180.0, 661.0, 278.0, 278.0, 149.0, 200.0, 531.0, 304.0, 207.0, 120.0, 893.0, 103.0, 164.0, 119.0, 509.0, 229.0, 427.0, 370.0, 1358.0, 133.0, 182.0, 210.0, 245.0, 386.0, 259.0, 412.0, 445.0, 51.0, 243.0, 384.0, 798.0, 265.0, 331.0, 242.0, 157.0, 1272.0, 168.0, 24.0, 135.0, 316.0, 359.0, 107.0, 422.0, 2296.0, 152.0, 375.0, 113.0, 227.0, 188.0, 280.0, 83.0, 586.0, 443.0, 299.0, 226.0, 1123.0, 89.0, 351.0, 2024.0, 110.0, 471.0, 113.0, 245.0, 1624.0, 496.0, 54.0, 180.0, 90.0, 118.0, 343.0, 88.0, 699.0, 1065.0, 345.0, 359.0, 261.0, 166.0, 270.0, 587.0, 481.0, 387.0, 140.0, 246.0, 468.0, 1175.0, 103.0, 155.0, 270.0, 239.0, 140.0, 141.0, 118.0, 573.0, 274.0, 140.0, 217.0, 1266.0, 1267.0, 47.0, 434.0, 965.0, 265.0, 206.0, 204.0, 1267.0, 264.0, 97.0, 455.0, 116.0, 118.0, 250.0, 1866.0, 1027.0, 358.0, 260.0, 158.0, 100.0, 288.0, 251.0, 560.0, 210.0, 169.0, 668.0, 90.0, 154.0, 238.0, 155.0, 62.0, 816.0, 153.0, 355.0, 168.0, 173.0, 275.0, 127.0, 122.0, 638.0, 236.0, 210.0, 155.0, 615.0, 116.0, 498.0, 200.0, 364.0, 508.0, 401.0, 204.0, 520.0, 80.0, 339.0, 379.0, 162.0, 227.0, 192.0, 327.0, 337.0, 328.0, 127.0, 85.0, 193.0, 122.0, 282.0, 144.0, 124.0, 975.0, 224.0, 331.0, 131.0, 295.0, 177.0, 180.0, 449.0, 221.0, 235.0, 192.0, 153.0, 330.0, 314.0, 275.0, 398.0, 337.0, 151.0, 951.0, 2456.0, 282.0, 259.0, 160.0, 158.0, 657.0, 280.0, 266.0, 176.0, 154.0, 457.0, 482.0, 326.0, 467.0, 484.0, 404.0, 173.0, 405.0, 1953.0, 663.0, 187.0, 111.0, 204.0, 223.0, 352.0, 396.0, 464.0, 145.0, 168.0, 229.0, 248.0, 186.0, 322.0, 230.0, 414.0, 358.0, 64.0, 473.0, 165.0, 683.0, 169.0, 1171.0, 125.0, 191.0, 335.0, 605.0, 198.0, 80.0, 237.0, 160.0, 351.0, 31.0, 207.0, 243.0, 148.0, 318.0, 653.0, 312.0, 574.0, 626.0, 185.0, 1112.0, 62.0, 1141.0, 345.0, 1269.0, 118.0, 704.0, 188.0, 245.0, 251.0, 141.0, 439.0, 382.0, 86.0, 182.0, 61.0, 131.0, 598.0, 146.0, 1543.0, 341.0, 719.0, 307.0, 343.0, 262.0, 134.0, 249.0, 132.0, 292.0, 175.0, 137.0, 20.0, 265.0, 260.0, 176.0, 299.0, 201.0, 99.0, 253.0, 275.0, 203.0, 193.0, 174.0, 246.0, 329.0, 117.0, 921.0, 323.0, 775.0, 83.0, 264.0, 12.0, 130.0, 128.0, 505.0, 218.0, 141.0, 200.0, 197.0, 37.0, 19.0, 336.0, 454.0, 469.0, 432.0, 126.0, 131.0, 44.0, 245.0, 179.0, 469.0, 321.0, 653.0, 1416.0, 176.0, 1662.0, 144.0, 914.0, 198.0, 217.0, 120.0, 163.0, 532.0, 179.0, 142.0, 449.0, 266.0, 288.0, 172.0, 132.0, 138.0, 240.0, 370.0, 14.0, 142.0, 267.0, 202.0, 222.0, 529.0, 246.0, 87.0, 396.0, 257.0, 340.0, 190.0, 760.0, 230.0, 216.0, 538.0, 301.0, 464.0, 1044.0, 494.0, 153.0, 616.0, 162.0, 166.0, 161.0, 505.0, 68.0, 164.0, 137.0, 147.0, 239.0, 382.0, 3079.0, 824.0, 1155.0, 284.0, 389.0, 152.0, 443.0, 238.0, 137.0, 89.0, 578.0, 211.0, 237.0, 212.0, 337.0, 7.0, 224.0, 2262.0, 400.0, 181.0, 512.0, 502.0, 262.0, 239.0, 310.0, 105.0, 244.0, 312.0, 204.0, 200.0, 139.0, 305.0, 836.0, 143.0, 160.0, 115.0, 111.0, 244.0, 186.0, 158.0, 172.0, 338.0, 312.0, 104.0, 511.0, 136.0, 562.0, 233.0, 14.0, 188.0, 173.0, 515.0, 206.0, 277.0, 303.0, 350.0, 709.0, 1023.0, 197.0, 213.0, 1642.0, 163.0, 468.0, 895.0, 305.0, 1024.0, 256.0, 106.0, 449.0, 398.0, 252.0, 53.0, 401.0, 249.0, 280.0, 109.0, 623.0, 52.0, 385.0, 336.0, 591.0, 676.0, 309.0, 351.0, 2299.0, 365.0, 228.0, 268.0, 127.0, 488.0, 718.0, 156.0, 422.0, 821.0, 142.0, 179.0, 106.0, 235.0, 159.0, 1490.0, 256.0, 448.0, 648.0, 347.0, 217.0, 409.0, 350.0, 1593.0, 208.0, 239.0, 322.0, 535.0, 952.0, 495.0, 416.0, 23.0, 863.0, 203.0, 155.0, 185.0, 192.0, 75.0, 518.0, 685.0, 153.0, 296.0, 386.0, 1087.0, 186.0, 246.0, 559.0, 1833.0, 427.0, 362.0, 841.0, 251.0, 247.0, 230.0, 400.0, 205.0, 304.0, 316.0, 178.0, 505.0, 883.0, 130.0, 116.0, 296.0, 382.0, 382.0, 145.0, 22.0, 523.0, 134.0, 1871.0, 296.0, 218.0, 165.0, 381.0, 252.0, 314.0, 287.0, 219.0, 213.0, 345.0, 490.0, 511.0, 506.0, 861.0, 86.0, 891.0, 400.0, 120.0, 644.0, 184.0, 260.0, 177.0, 32.0, 323.0, 195.0, 237.0, 410.0, 275.0, 516.0, 348.0, 162.0, 368.0, 141.0, 185.0, 143.0, 632.0, 1124.0, 185.0, 318.0, 128.0, 688.0, 340.0, 75.0, 34.0, 329.0, 115.0, 723.0, 2.0, 201.0, 737.0, 232.0, 183.0, 361.0, 492.0, 845.0, 232.0, 217.0, 75.0, 240.0, 1226.0, 340.0, 339.0, 144.0, 3037.0, 2063.0, 180.0, 294.0, 192.0, 362.0, 1371.0, 659.0, 244.0, 236.0, 5.0, 114.0, 258.0, 345.0, 204.0, 119.0, 1738.0, 91.0, 163.0, 425.0, 329.0, 184.0, 339.0, 1141.0, 1242.0, 293.0, 777.0, 441.0, 191.0, 139.0, 1034.0, 397.0, 224.0, 170.0, 1058.0, 209.0, 279.0, 522.0, 393.0, 111.0, 152.0, 108.0, 356.0, 585.0, 563.0, 225.0, 393.0, 508.0, 608.0, 354.0, 287.0, 390.0, 616.0, 411.0, 274.0, 847.0, 288.0, 61.0, 382.0, 474.0, 481.0, 355.0, 1608.0, 271.0, 190.0, 343.0, 313.0, 886.0, 1226.0, 189.0, 256.0, 363.0, 235.0, 99.0, 125.0, 8.0, 786.0, 118.0, 161.0, 201.0, 248.0, 34.0, 215.0, 18.0, 657.0, 364.0, 409.0, 782.0, 1008.0, 254.0, 820.0, 115.0, 894.0, 527.0, 428.0, 154.0, 741.0, 585.0, 414.0, 241.0, 682.0, 744.0, 159.0, 304.0, 550.0, 132.0, 652.0, 340.0, 222.0, 1634.0, 592.0, 282.0, 672.0, 1337.0, 185.0, 297.0, 111.0, 9.0, 257.0, 61.0, 142.0, 377.0, 111.0, 105.0, 564.0, 459.0, 586.0, 429.0, 350.0, 216.0, 351.0, 321.0, 115.0, 917.0, 200.0, 315.0, 436.0, 591.0, 217.0, 334.0, 670.0, 312.0, 249.0, 604.0, 453.0, 379.0, 347.0, 423.0, 511.0, 527.0, 1104.0, 153.0, 152.0, 492.0, 588.0, 25.0, 386.0, 185.0, 317.0, 321.0, 228.0, 223.0, 305.0, 343.0, 105.0, 963.0, 536.0, 164.0, 207.0, 142.0, 203.0, 354.0, 109.0, 134.0, 325.0, 127.0, 543.0, 7.0, 144.0, 876.0, 415.0, 242.0, 196.0, 580.0, 691.0, 344.0, 255.0, 558.0, 761.0, 250.0, 221.0, 197.0, 601.0, 819.0, 117.0, 234.0, 1382.0, 225.0, 530.0, 442.0, 46.0, 248.0, 1198.0, 704.0, 1020.0, 475.0, 423.0, 380.0, 31.0, 325.0, 188.0, 225.0, 386.0, 668.0, 194.0, 736.0, 424.0, 334.0, 276.0, 471.0, 1221.0, 208.0, 315.0, 98.0, 1239.0, 630.0, 512.0, 13.0, 847.0, 1948.0, 490.0, 1446.0, 380.0, 251.0, 288.0, 270.0, 358.0, 162.0, 195.0, 178.0, 596.0, 723.0, 239.0, 542.0, 105.0, 1589.0, 229.0, 452.0, 587.0, 1202.0, 696.0, 329.0, 815.0, 1114.0, 397.0, 1056.0, 1162.0, 312.0, 519.0, 697.0, 118.0, 16.0, 671.0, 3011.0, 3923.0, 403.0, 376.0, 466.0, 485.0, 357.0, 980.0, 1190.0, 217.0, 215.0, 980.0, 358.0, 981.0, 432.0, 2127.0, 200.0, 399.0, 348.0, 109.0, 680.0, 797.0, 214.0, 1487.0, 917.0, 391.0, 568.0, 933.0, 580.0, 784.0, 334.0, 725.0, 523.0, 936.0, 56.0, 979.0, 416.0, 548.0, 783.0, 558.0, 1780.0, 310.0, 1026.0, 771.0, 1060.0, 385.0, 1677.0, 11.0, 873.0, 381.0, 499.0, 780.0, 1277.0, 774.0, 1561.0, 568.0, 1462.0, 210.0, 1694.0, 407.0, 681.0, 3677.0, 1128.0, 515.0, 434.0, 928.0, 745.0, 494.0, 565.0, 1002.0, 409.0, 1403.0, 567.0, 1039.0, 327.0, 575.0, 417.0, 699.0, 861.0, 523.0, 663.0, 763.0, 656.0, 343.0, 1219.0, 432.0, 610.0, 1974.0, 377.0, 247.0, 429.0, 422.0, 1973.0, 1029.0, 322.0, 1051.0, 1066.0, 398.0, 468.0, 601.0, 226.0, 1975.0, 710.0, 522.0, 4149.0, 1290.0, 1529.0, 459.0, 2135.0, 358.0, 508.0, 1156.0, 446.0, 350.0, 395.0, 339.0, 817.0, 860.0, 505.0, 477.0, 1205.0, 1519.0, 799.0, 922.0, 699.0, 2937.0, 1312.0, 1285.0, 12.0, 372.0, 948.0, 376.0, 475.0, 689.0, 652.0, 3592.0, 224.0, 38.0, 1492.0, 80.0, 721.0, 969.0, 491.0, 387.0, 184.0, 181.0, 634.0, 1170.0, 343.0, 798.0, 972.0, 1390.0, 603.0, 189.0, 2207.0, 983.0, 719.0, 568.0, 697.0, 316.0, 1131.0, 1485.0, 451.0, 385.0, 410.0, 973.0, 1504.0, 1332.0, 973.0, 463.0, 872.0, 749.0, 2244.0, 1513.0, 813.0, 694.0, 1427.0, 1661.0, 1096.0, 718.0, 2999.0, 3326.0, 1334.0, 816.0, 1074.0, 1055.0, 882.0, 1053.0, 1913.0, 710.0, 888.0, 1456.0, 821.0, 1470.0, 1303.0, 1376.0, 2922.0, 1122.0, 594.0, 1024.0, 2128.0, 2167.0, 848.0, 1194.0, 503.0, 421.0, 464.0, 1825.0, 1076.0, 235.0, 536.0, 552.0, 4363.0, 816.0, 1978.0, 2118.0, 2881.0, 2811.0, 3000.0, 40.0, 1173.0, 2118.0, 589.0, 2348.0, 2618.0, 2363.0, 696.0, 5166.0, 3909.0, 1860.0, 45.0, 2599.0, 1429.0, 25694.0], \"yaxis\": \"y\"}],\n",
              "                        {\"legend\": {\"tracegroupgap\": 0}, \"margin\": {\"t\": 60}, \"template\": {\"data\": {\"bar\": [{\"error_x\": {\"color\": \"#2a3f5f\"}, \"error_y\": {\"color\": \"#2a3f5f\"}, \"marker\": {\"line\": {\"color\": \"#E5ECF6\", \"width\": 0.5}}, \"type\": \"bar\"}], \"barpolar\": [{\"marker\": {\"line\": {\"color\": \"#E5ECF6\", \"width\": 0.5}}, \"type\": \"barpolar\"}], \"carpet\": [{\"aaxis\": {\"endlinecolor\": \"#2a3f5f\", \"gridcolor\": \"white\", \"linecolor\": \"white\", \"minorgridcolor\": \"white\", \"startlinecolor\": \"#2a3f5f\"}, \"baxis\": {\"endlinecolor\": \"#2a3f5f\", \"gridcolor\": \"white\", \"linecolor\": \"white\", \"minorgridcolor\": \"white\", \"startlinecolor\": \"#2a3f5f\"}, \"type\": \"carpet\"}], \"choropleth\": [{\"colorbar\": {\"outlinewidth\": 0, \"ticks\": \"\"}, \"type\": \"choropleth\"}], \"contour\": [{\"colorbar\": {\"outlinewidth\": 0, \"ticks\": \"\"}, \"colorscale\": [[0.0, \"#0d0887\"], [0.1111111111111111, \"#46039f\"], [0.2222222222222222, \"#7201a8\"], [0.3333333333333333, \"#9c179e\"], [0.4444444444444444, \"#bd3786\"], [0.5555555555555556, \"#d8576b\"], [0.6666666666666666, \"#ed7953\"], [0.7777777777777778, \"#fb9f3a\"], [0.8888888888888888, \"#fdca26\"], [1.0, \"#f0f921\"]], \"type\": \"contour\"}], \"contourcarpet\": [{\"colorbar\": {\"outlinewidth\": 0, \"ticks\": \"\"}, \"type\": \"contourcarpet\"}], \"heatmap\": [{\"colorbar\": {\"outlinewidth\": 0, \"ticks\": \"\"}, \"colorscale\": [[0.0, \"#0d0887\"], [0.1111111111111111, \"#46039f\"], [0.2222222222222222, \"#7201a8\"], [0.3333333333333333, \"#9c179e\"], [0.4444444444444444, \"#bd3786\"], [0.5555555555555556, \"#d8576b\"], [0.6666666666666666, \"#ed7953\"], [0.7777777777777778, \"#fb9f3a\"], [0.8888888888888888, \"#fdca26\"], [1.0, \"#f0f921\"]], \"type\": \"heatmap\"}], \"heatmapgl\": [{\"colorbar\": {\"outlinewidth\": 0, \"ticks\": \"\"}, \"colorscale\": [[0.0, \"#0d0887\"], [0.1111111111111111, \"#46039f\"], [0.2222222222222222, \"#7201a8\"], [0.3333333333333333, \"#9c179e\"], [0.4444444444444444, \"#bd3786\"], [0.5555555555555556, \"#d8576b\"], [0.6666666666666666, \"#ed7953\"], [0.7777777777777778, \"#fb9f3a\"], [0.8888888888888888, \"#fdca26\"], [1.0, \"#f0f921\"]], \"type\": \"heatmapgl\"}], \"histogram\": [{\"marker\": {\"colorbar\": {\"outlinewidth\": 0, \"ticks\": \"\"}}, \"type\": \"histogram\"}], \"histogram2d\": [{\"colorbar\": {\"outlinewidth\": 0, \"ticks\": \"\"}, \"colorscale\": [[0.0, \"#0d0887\"], [0.1111111111111111, \"#46039f\"], [0.2222222222222222, \"#7201a8\"], [0.3333333333333333, \"#9c179e\"], [0.4444444444444444, \"#bd3786\"], [0.5555555555555556, \"#d8576b\"], [0.6666666666666666, \"#ed7953\"], [0.7777777777777778, \"#fb9f3a\"], [0.8888888888888888, \"#fdca26\"], [1.0, \"#f0f921\"]], \"type\": \"histogram2d\"}], \"histogram2dcontour\": [{\"colorbar\": {\"outlinewidth\": 0, \"ticks\": \"\"}, \"colorscale\": [[0.0, \"#0d0887\"], [0.1111111111111111, \"#46039f\"], [0.2222222222222222, \"#7201a8\"], [0.3333333333333333, \"#9c179e\"], [0.4444444444444444, \"#bd3786\"], [0.5555555555555556, \"#d8576b\"], [0.6666666666666666, \"#ed7953\"], [0.7777777777777778, \"#fb9f3a\"], [0.8888888888888888, \"#fdca26\"], [1.0, \"#f0f921\"]], \"type\": \"histogram2dcontour\"}], \"mesh3d\": [{\"colorbar\": {\"outlinewidth\": 0, \"ticks\": \"\"}, \"type\": \"mesh3d\"}], \"parcoords\": [{\"line\": {\"colorbar\": {\"outlinewidth\": 0, \"ticks\": \"\"}}, \"type\": \"parcoords\"}], \"pie\": [{\"automargin\": true, \"type\": \"pie\"}], \"scatter\": [{\"marker\": {\"colorbar\": {\"outlinewidth\": 0, \"ticks\": \"\"}}, \"type\": \"scatter\"}], \"scatter3d\": [{\"line\": {\"colorbar\": {\"outlinewidth\": 0, \"ticks\": \"\"}}, \"marker\": {\"colorbar\": {\"outlinewidth\": 0, \"ticks\": \"\"}}, \"type\": \"scatter3d\"}], \"scattercarpet\": [{\"marker\": {\"colorbar\": {\"outlinewidth\": 0, \"ticks\": \"\"}}, \"type\": \"scattercarpet\"}], \"scattergeo\": [{\"marker\": {\"colorbar\": {\"outlinewidth\": 0, \"ticks\": \"\"}}, \"type\": \"scattergeo\"}], \"scattergl\": [{\"marker\": {\"colorbar\": {\"outlinewidth\": 0, \"ticks\": \"\"}}, \"type\": \"scattergl\"}], \"scattermapbox\": [{\"marker\": {\"colorbar\": {\"outlinewidth\": 0, \"ticks\": \"\"}}, \"type\": \"scattermapbox\"}], \"scatterpolar\": [{\"marker\": {\"colorbar\": {\"outlinewidth\": 0, \"ticks\": \"\"}}, \"type\": \"scatterpolar\"}], \"scatterpolargl\": [{\"marker\": {\"colorbar\": {\"outlinewidth\": 0, \"ticks\": \"\"}}, \"type\": \"scatterpolargl\"}], \"scatterternary\": [{\"marker\": {\"colorbar\": {\"outlinewidth\": 0, \"ticks\": \"\"}}, \"type\": \"scatterternary\"}], \"surface\": [{\"colorbar\": {\"outlinewidth\": 0, \"ticks\": \"\"}, \"colorscale\": [[0.0, \"#0d0887\"], [0.1111111111111111, \"#46039f\"], [0.2222222222222222, \"#7201a8\"], [0.3333333333333333, \"#9c179e\"], [0.4444444444444444, \"#bd3786\"], [0.5555555555555556, \"#d8576b\"], [0.6666666666666666, \"#ed7953\"], [0.7777777777777778, \"#fb9f3a\"], [0.8888888888888888, \"#fdca26\"], [1.0, \"#f0f921\"]], \"type\": \"surface\"}], \"table\": [{\"cells\": {\"fill\": {\"color\": \"#EBF0F8\"}, \"line\": {\"color\": \"white\"}}, \"header\": {\"fill\": {\"color\": \"#C8D4E3\"}, \"line\": {\"color\": \"white\"}}, \"type\": \"table\"}]}, \"layout\": {\"annotationdefaults\": {\"arrowcolor\": \"#2a3f5f\", \"arrowhead\": 0, \"arrowwidth\": 1}, \"coloraxis\": {\"colorbar\": {\"outlinewidth\": 0, \"ticks\": \"\"}}, \"colorscale\": {\"diverging\": [[0, \"#8e0152\"], [0.1, \"#c51b7d\"], [0.2, \"#de77ae\"], [0.3, \"#f1b6da\"], [0.4, \"#fde0ef\"], [0.5, \"#f7f7f7\"], [0.6, \"#e6f5d0\"], [0.7, \"#b8e186\"], [0.8, \"#7fbc41\"], [0.9, \"#4d9221\"], [1, \"#276419\"]], \"sequential\": [[0.0, \"#0d0887\"], [0.1111111111111111, \"#46039f\"], [0.2222222222222222, \"#7201a8\"], [0.3333333333333333, \"#9c179e\"], [0.4444444444444444, \"#bd3786\"], [0.5555555555555556, \"#d8576b\"], [0.6666666666666666, \"#ed7953\"], [0.7777777777777778, \"#fb9f3a\"], [0.8888888888888888, \"#fdca26\"], [1.0, \"#f0f921\"]], \"sequentialminus\": [[0.0, \"#0d0887\"], [0.1111111111111111, \"#46039f\"], [0.2222222222222222, \"#7201a8\"], [0.3333333333333333, \"#9c179e\"], [0.4444444444444444, \"#bd3786\"], [0.5555555555555556, \"#d8576b\"], [0.6666666666666666, \"#ed7953\"], [0.7777777777777778, \"#fb9f3a\"], [0.8888888888888888, \"#fdca26\"], [1.0, \"#f0f921\"]]}, \"colorway\": [\"#636efa\", \"#EF553B\", \"#00cc96\", \"#ab63fa\", \"#FFA15A\", \"#19d3f3\", \"#FF6692\", \"#B6E880\", \"#FF97FF\", \"#FECB52\"], \"font\": {\"color\": \"#2a3f5f\"}, \"geo\": {\"bgcolor\": \"white\", \"lakecolor\": \"white\", \"landcolor\": \"#E5ECF6\", \"showlakes\": true, \"showland\": true, \"subunitcolor\": \"white\"}, \"hoverlabel\": {\"align\": \"left\"}, \"hovermode\": \"closest\", \"mapbox\": {\"style\": \"light\"}, \"paper_bgcolor\": \"white\", \"plot_bgcolor\": \"#E5ECF6\", \"polar\": {\"angularaxis\": {\"gridcolor\": \"white\", \"linecolor\": \"white\", \"ticks\": \"\"}, \"bgcolor\": \"#E5ECF6\", \"radialaxis\": {\"gridcolor\": \"white\", \"linecolor\": \"white\", \"ticks\": \"\"}}, \"scene\": {\"xaxis\": {\"backgroundcolor\": \"#E5ECF6\", \"gridcolor\": \"white\", \"gridwidth\": 2, \"linecolor\": \"white\", \"showbackground\": true, \"ticks\": \"\", \"zerolinecolor\": \"white\"}, \"yaxis\": {\"backgroundcolor\": \"#E5ECF6\", \"gridcolor\": \"white\", \"gridwidth\": 2, \"linecolor\": \"white\", \"showbackground\": true, \"ticks\": \"\", \"zerolinecolor\": \"white\"}, \"zaxis\": {\"backgroundcolor\": \"#E5ECF6\", \"gridcolor\": \"white\", \"gridwidth\": 2, \"linecolor\": \"white\", \"showbackground\": true, \"ticks\": \"\", \"zerolinecolor\": \"white\"}}, \"shapedefaults\": {\"line\": {\"color\": \"#2a3f5f\"}}, \"ternary\": {\"aaxis\": {\"gridcolor\": \"white\", \"linecolor\": \"white\", \"ticks\": \"\"}, \"baxis\": {\"gridcolor\": \"white\", \"linecolor\": \"white\", \"ticks\": \"\"}, \"bgcolor\": \"#E5ECF6\", \"caxis\": {\"gridcolor\": \"white\", \"linecolor\": \"white\", \"ticks\": \"\"}}, \"title\": {\"x\": 0.05}, \"xaxis\": {\"automargin\": true, \"gridcolor\": \"white\", \"linecolor\": \"white\", \"ticks\": \"\", \"title\": {\"standoff\": 15}, \"zerolinecolor\": \"white\", \"zerolinewidth\": 2}, \"yaxis\": {\"automargin\": true, \"gridcolor\": \"white\", \"linecolor\": \"white\", \"ticks\": \"\", \"title\": {\"standoff\": 15}, \"zerolinecolor\": \"white\", \"zerolinewidth\": 2}}}, \"title\": {\"text\": \"Creators by Images and Downloads\"}, \"xaxis\": {\"anchor\": \"y\", \"domain\": [0.0, 1.0], \"title\": {\"text\": \"images\"}}, \"yaxis\": {\"anchor\": \"x\", \"domain\": [0.0, 1.0], \"title\": {\"text\": \"downloads\"}}},\n",
              "                        {\"responsive\": true}\n",
              "                    ).then(function(){\n",
              "                            \n",
              "var gd = document.getElementById('c26f2cb6-f3f3-4d85-93df-1a77a8a39f19');\n",
              "var x = new MutationObserver(function (mutations, observer) {{\n",
              "        var display = window.getComputedStyle(gd).display;\n",
              "        if (!display || display === 'none') {{\n",
              "            console.log([gd, 'removed!']);\n",
              "            Plotly.purge(gd);\n",
              "            observer.disconnect();\n",
              "        }}\n",
              "}});\n",
              "\n",
              "// Listen for the removal of the full notebook cells\n",
              "var notebookContainer = gd.closest('#notebook-container');\n",
              "if (notebookContainer) {{\n",
              "    x.observe(notebookContainer, {childList: true});\n",
              "}}\n",
              "\n",
              "// Listen for the clearing of the current output cell\n",
              "var outputEl = gd.closest('.output');\n",
              "if (outputEl) {{\n",
              "    x.observe(outputEl, {childList: true});\n",
              "}}\n",
              "\n",
              "                        })\n",
              "                };\n",
              "                \n",
              "            </script>\n",
              "        </div>\n",
              "</body>\n",
              "</html>"
            ]
          },
          "metadata": {
            "tags": []
          }
        }
      ]
    },
    {
      "cell_type": "markdown",
      "metadata": {
        "id": "cgB9r77qCZfh"
      },
      "source": [
        "Most of creators have between 0 and 5000 downloads and 1 to 2000 images. Just one overachever, New York (N.Y.). Common Council push the  maximum numbers quite high. "
      ]
    }
  ]
}