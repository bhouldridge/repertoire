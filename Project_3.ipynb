{
  "nbformat": 4,
  "nbformat_minor": 0,
  "metadata": {
    "colab": {
      "name": "Project-3.ipynb",
      "provenance": [],
      "private_outputs": true,
      "collapsed_sections": [
        "fbIqw-di7nHV",
        "qoryiQ757reF",
        "pTBasBYO7vRZ",
        "IBBu2_f-711r",
        "McnXLBPu76FN"
      ],
      "toc_visible": true,
      "include_colab_link": true
    },
    "kernelspec": {
      "name": "python3",
      "display_name": "Python 3"
    }
  },
  "cells": [
    {
      "cell_type": "markdown",
      "metadata": {
        "id": "view-in-github",
        "colab_type": "text"
      },
      "source": [
        "<a href=\"https://colab.research.google.com/github/bhouldridge/repertoire/blob/main/Project_3.ipynb\" target=\"_parent\"><img src=\"https://colab.research.google.com/assets/colab-badge.svg\" alt=\"Open In Colab\"/></a>"
      ]
    },
    {
      "cell_type": "markdown",
      "metadata": {
        "id": "Cp2aBGLK6_MQ"
      },
      "source": [
        "#Project 3"
      ]
    },
    {
      "cell_type": "markdown",
      "metadata": {
        "id": "8UUo4IoQ7DBw"
      },
      "source": [
        "By: Benjamin Houldridge\n",
        "\n",
        "August 10th 2020"
      ]
    },
    {
      "cell_type": "markdown",
      "metadata": {
        "id": "No60ZusX7iH9"
      },
      "source": [
        "##Problem Definition"
      ]
    },
    {
      "cell_type": "markdown",
      "metadata": {
        "id": "w3-xOJGfVz7b"
      },
      "source": [
        "This is a regression problem to determin the revenue of a movie given many datapoints."
      ]
    },
    {
      "cell_type": "markdown",
      "metadata": {
        "id": "fbIqw-di7nHV"
      },
      "source": [
        "##Data Collection/Sources\n",
        "\n"
      ]
    },
    {
      "cell_type": "markdown",
      "metadata": {
        "id": "lSUEOTT0V4nY"
      },
      "source": [
        "###Imports\n"
      ]
    },
    {
      "cell_type": "code",
      "metadata": {
        "id": "yQRI1hGNWBjc"
      },
      "source": [
        "import numpy as np\n",
        "import pandas as pd\n",
        "import json\n",
        "import seaborn as sns\n",
        "sns.set\n",
        "import matplotlib.pyplot as plt\n",
        "from sklearn.model_selection import train_test_split\n",
        "from sklearn import datasets\n",
        "from sklearn.tree import DecisionTreeRegressor\n",
        "from sklearn.ensemble import RandomForestRegressor\n",
        "import xgboost as xgb\n",
        "from sklearn.metrics import mean_squared_error\n",
        "from sklearn.metrics import r2_score\n",
        "from sklearn.metrics import accuracy_score\n",
        "from sklearn import preprocessing\n",
        "import graphviz\n",
        "import pydotplus\n",
        "from IPython.display import display\n",
        "from sklearn import tree"
      ],
      "execution_count": null,
      "outputs": []
    },
    {
      "cell_type": "markdown",
      "metadata": {
        "id": "DCCrUY4yWMvS"
      },
      "source": [
        "###Import Data"
      ]
    },
    {
      "cell_type": "code",
      "metadata": {
        "id": "W5xD3NkgWQPI"
      },
      "source": [
        "original_data_link = '/content/drive/My Drive/Exercises - Benjamin/Project 3/Copy of Project_3_Movie_Data.csv'"
      ],
      "execution_count": null,
      "outputs": []
    },
    {
      "cell_type": "code",
      "metadata": {
        "id": "-0KHtp7LWmkB"
      },
      "source": [
        "original_data = pd.read_csv(original_data_link)"
      ],
      "execution_count": null,
      "outputs": []
    },
    {
      "cell_type": "code",
      "metadata": {
        "id": "nim4GXaQT1tV"
      },
      "source": [
        "from google.colab import drive\n",
        "drive.mount('/content/drive')"
      ],
      "execution_count": null,
      "outputs": []
    },
    {
      "cell_type": "markdown",
      "metadata": {
        "id": "qoryiQ757reF"
      },
      "source": [
        "##Data Cleaning"
      ]
    },
    {
      "cell_type": "markdown",
      "metadata": {
        "id": "5c2KLtPPWwc7"
      },
      "source": [
        "###Check Data"
      ]
    },
    {
      "cell_type": "code",
      "metadata": {
        "id": "eNtcrZD7W0IL"
      },
      "source": [
        "original_data.head()\n"
      ],
      "execution_count": null,
      "outputs": []
    },
    {
      "cell_type": "code",
      "metadata": {
        "id": "HrcdOgg1W9tP"
      },
      "source": [
        "original_data.tail()"
      ],
      "execution_count": null,
      "outputs": []
    },
    {
      "cell_type": "code",
      "metadata": {
        "id": "dpxcmCeLXfk7"
      },
      "source": [
        "original_data.info()"
      ],
      "execution_count": null,
      "outputs": []
    },
    {
      "cell_type": "code",
      "metadata": {
        "id": "CrlmnVtIYXUa"
      },
      "source": [
        "original_data.shape"
      ],
      "execution_count": null,
      "outputs": []
    },
    {
      "cell_type": "code",
      "metadata": {
        "id": "R3Wtj7_6Xz5F"
      },
      "source": [
        "data = original_data.copy()"
      ],
      "execution_count": null,
      "outputs": []
    },
    {
      "cell_type": "markdown",
      "metadata": {
        "id": "D9jCtDNbXnk1"
      },
      "source": [
        "###Fill Nan Values"
      ]
    },
    {
      "cell_type": "markdown",
      "metadata": {
        "id": "B3m2KWQCAZ2G"
      },
      "source": [
        "####Homepage"
      ]
    },
    {
      "cell_type": "code",
      "metadata": {
        "id": "0hzp_Dp44g1L"
      },
      "source": [
        "data['homepage'].fillna(0, inplace=True)"
      ],
      "execution_count": null,
      "outputs": []
    },
    {
      "cell_type": "code",
      "metadata": {
        "id": "f3_9mXIi5Fnv"
      },
      "source": [
        "homepage = pd.Series(np.zeros(data.shape[0]))\n",
        "for idx, value in enumerate(data['homepage']):\n",
        "  if type(value) == str:\n",
        "    homepage[idx] = 1\n",
        "data['homepage'] = homepage"
      ],
      "execution_count": null,
      "outputs": []
    },
    {
      "cell_type": "markdown",
      "metadata": {
        "id": "zp47FvkVA2Vx"
      },
      "source": [
        "####ID"
      ]
    },
    {
      "cell_type": "code",
      "metadata": {
        "id": "qt_GDC_wA69i"
      },
      "source": [
        "data.drop('id', axis=1, inplace=True)"
      ],
      "execution_count": null,
      "outputs": []
    },
    {
      "cell_type": "markdown",
      "metadata": {
        "id": "QSJVgy5MEBrJ"
      },
      "source": [
        "####Overview"
      ]
    },
    {
      "cell_type": "markdown",
      "metadata": {
        "id": "O9Hew6lJE2w7"
      },
      "source": [
        "Little to no useful information in this column."
      ]
    },
    {
      "cell_type": "code",
      "metadata": {
        "id": "ZeFB3EBAFE4K"
      },
      "source": [
        "data.drop('overview', axis=1, inplace=True)"
      ],
      "execution_count": null,
      "outputs": []
    },
    {
      "cell_type": "markdown",
      "metadata": {
        "id": "Jt-o8CqC6wBW"
      },
      "source": [
        "####Tagline"
      ]
    },
    {
      "cell_type": "code",
      "metadata": {
        "id": "3edWzyIF64KU"
      },
      "source": [
        "data['tagline'].fillna(0, inplace=True)"
      ],
      "execution_count": null,
      "outputs": []
    },
    {
      "cell_type": "code",
      "metadata": {
        "id": "K1JUTkq_7ZXN"
      },
      "source": [
        "tagline = pd.Series(np.zeros(data.shape[0]))\n",
        "for idx, value in enumerate(data['tagline']):\n",
        "  if type(value) == str:\n",
        "    tagline[idx] = 1\n",
        "data['tagline'] = tagline"
      ],
      "execution_count": null,
      "outputs": []
    },
    {
      "cell_type": "markdown",
      "metadata": {
        "id": "QcyCzoHgAVtG"
      },
      "source": [
        "####Runtime"
      ]
    },
    {
      "cell_type": "code",
      "metadata": {
        "id": "hx1bKI8RYElo"
      },
      "source": [
        "data[data['runtime'].isna()]"
      ],
      "execution_count": null,
      "outputs": []
    },
    {
      "cell_type": "markdown",
      "metadata": {
        "id": "uTDoSFVaaNdY"
      },
      "source": [
        "In the runtime column two entries are Nan. These also have a revenue of 0, so I'm assuming These movies have incompleet information. These entries will be deleted."
      ]
    },
    {
      "cell_type": "code",
      "metadata": {
        "id": "fVOti0FaayBO"
      },
      "source": [
        "data.drop([182,527], inplace=True)"
      ],
      "execution_count": null,
      "outputs": []
    },
    {
      "cell_type": "code",
      "metadata": {
        "id": "fkkkn1ho9O6c"
      },
      "source": [
        "data.reset_index(inplace=True, drop=True)"
      ],
      "execution_count": null,
      "outputs": []
    },
    {
      "cell_type": "code",
      "metadata": {
        "id": "zMesJsfeH0rH"
      },
      "source": [
        "data.info()"
      ],
      "execution_count": null,
      "outputs": []
    },
    {
      "cell_type": "markdown",
      "metadata": {
        "id": "W6lDXmr1PnwF"
      },
      "source": [
        "###Abnormal Columns"
      ]
    },
    {
      "cell_type": "markdown",
      "metadata": {
        "id": "UWIhwC8OLn-T"
      },
      "source": [
        "####Status"
      ]
    },
    {
      "cell_type": "code",
      "metadata": {
        "id": "K2aRGOZaLqqV"
      },
      "source": [
        "data['status'].unique()"
      ],
      "execution_count": null,
      "outputs": []
    },
    {
      "cell_type": "code",
      "metadata": {
        "id": "iyRx902hPJBV"
      },
      "source": [
        "len(data[data['status']!='Released'])"
      ],
      "execution_count": null,
      "outputs": []
    },
    {
      "cell_type": "markdown",
      "metadata": {
        "id": "oZOIiidwPGs2"
      },
      "source": [
        "There are only seven entries that are rumored or post production and so we delet those rows so they don't interfeer with our predition."
      ]
    },
    {
      "cell_type": "code",
      "metadata": {
        "id": "de6ZRrFmL-VE"
      },
      "source": [
        "data = data[data['status']=='Released']"
      ],
      "execution_count": null,
      "outputs": []
    },
    {
      "cell_type": "code",
      "metadata": {
        "id": "SRZAwgmlrHG7"
      },
      "source": [
        "data.drop('status', axis=1, inplace=True)"
      ],
      "execution_count": null,
      "outputs": []
    },
    {
      "cell_type": "code",
      "metadata": {
        "id": "mfjjyL4JVHXI"
      },
      "source": [
        "data.reset_index(inplace=True, drop=True)"
      ],
      "execution_count": null,
      "outputs": []
    },
    {
      "cell_type": "markdown",
      "metadata": {
        "id": "14UP7GfOQNb9"
      },
      "source": [
        "####Title"
      ]
    },
    {
      "cell_type": "code",
      "metadata": {
        "id": "huqpq6RrR5RK"
      },
      "source": [
        "data.shape"
      ],
      "execution_count": null,
      "outputs": []
    },
    {
      "cell_type": "code",
      "metadata": {
        "id": "ZZEaHL9-Q1Kc"
      },
      "source": [
        "len(data['title.1'].unique())"
      ],
      "execution_count": null,
      "outputs": []
    },
    {
      "cell_type": "code",
      "metadata": {
        "id": "GUCFfXsuQM4-"
      },
      "source": [
        "len(data['title'].unique())"
      ],
      "execution_count": null,
      "outputs": []
    },
    {
      "cell_type": "code",
      "metadata": {
        "id": "NolNh8a_qoab"
      },
      "source": [
        "len(data['original_title'].unique())"
      ],
      "execution_count": null,
      "outputs": []
    },
    {
      "cell_type": "markdown",
      "metadata": {
        "id": "3oT12COuSOrP"
      },
      "source": [
        "Find rows with duplicate titles."
      ]
    },
    {
      "cell_type": "code",
      "metadata": {
        "id": "ZSeLI05wQcT9"
      },
      "source": [
        "titles = []\n",
        "for idx, title in enumerate(data['title']):\n",
        "  if title in titles:\n",
        "    print(title + ' at ' + str(idx))\n",
        "  else:\n",
        "    titles.append(title)"
      ],
      "execution_count": null,
      "outputs": []
    },
    {
      "cell_type": "code",
      "metadata": {
        "id": "HTyqINJfRDiM"
      },
      "source": [
        "for idx, title in enumerate(data['title']):\n",
        "  if title == 'Out of the Blue' or title == 'The Host':\n",
        "    print(title + ' at ' + str(idx))"
      ],
      "execution_count": null,
      "outputs": []
    },
    {
      "cell_type": "code",
      "metadata": {
        "id": "qe2pvLBwXAwf"
      },
      "source": [
        "data.loc[[725,847,1073,2785]]"
      ],
      "execution_count": null,
      "outputs": []
    },
    {
      "cell_type": "markdown",
      "metadata": {
        "id": "0EftcJXrQdbt"
      },
      "source": [
        "There are movies with the same title but they are clearly difforent movies. the two titel columns don't provide any clasification or value based data beyond this so they will be deleted."
      ]
    },
    {
      "cell_type": "code",
      "metadata": {
        "id": "rxD2F0pOY7ij"
      },
      "source": [
        "data.drop(['title','title.1', 'original_title'], axis=1, inplace=True)"
      ],
      "execution_count": null,
      "outputs": []
    },
    {
      "cell_type": "markdown",
      "metadata": {
        "id": "9G79FCe9Z-mC"
      },
      "source": [
        "####Movie ID"
      ]
    },
    {
      "cell_type": "code",
      "metadata": {
        "id": "fqj_IDVaZraB"
      },
      "source": [
        "len(data['movie_id'].unique())"
      ],
      "execution_count": null,
      "outputs": []
    },
    {
      "cell_type": "markdown",
      "metadata": {
        "id": "MLY9LdTRabQm"
      },
      "source": [
        "All movie id's are unique so no usefull data is found here."
      ]
    },
    {
      "cell_type": "code",
      "metadata": {
        "id": "xBqweTvpaa4t"
      },
      "source": [
        "data.drop('movie_id', axis=1, inplace=True)"
      ],
      "execution_count": null,
      "outputs": []
    },
    {
      "cell_type": "code",
      "metadata": {
        "id": "82HVYLwRQII7"
      },
      "source": [
        "data.info()"
      ],
      "execution_count": null,
      "outputs": []
    },
    {
      "cell_type": "markdown",
      "metadata": {
        "id": "36-5HwZk6s1r"
      },
      "source": [
        "###Columns Unraveled"
      ]
    },
    {
      "cell_type": "markdown",
      "metadata": {
        "id": "s3DQCTl2J7LD"
      },
      "source": [
        "####Functions"
      ]
    },
    {
      "cell_type": "code",
      "metadata": {
        "id": "n5WCpAOqIooH"
      },
      "source": [
        "def decode(column):\n",
        "  \"\"\"Return a Pandas Series with a unloaded json object for each row.\"\"\"\n",
        "\n",
        "  new_column = pd.Series(np.zeros(data.shape[0]))\n",
        "  for idx, cell in enumerate(data[column]):\n",
        "    new_column[idx] = json.loads(cell)\n",
        "  return new_column"
      ],
      "execution_count": null,
      "outputs": []
    },
    {
      "cell_type": "code",
      "metadata": {
        "id": "UzT42xcsiPaa"
      },
      "source": [
        "def decode2(column):\n",
        "  \"\"\"Return a list with a unloaded json object for each element.\"\"\"\n",
        "\n",
        "  column_decoded = []\n",
        "  for cell in data[column]:\n",
        "    column_decoded.append(json.loads(cell))\n",
        "  return column_decoded"
      ],
      "execution_count": null,
      "outputs": []
    },
    {
      "cell_type": "code",
      "metadata": {
        "id": "OLFcstAmBKdW"
      },
      "source": [
        "def pull_items(column, item):\n",
        "  \"\"\"Return Pandas Series of lists for all items found in each decoded row.\"\"\"\n",
        "  \n",
        "  new_column = pd.Series(np.zeros(len(column)))\n",
        "  for idx, cell in enumerate(column):\n",
        "    items = [] \n",
        "    for subcell in cell:\n",
        "      items.append(subcell[item])\n",
        "    new_column[idx] = items\n",
        "  return new_column"
      ],
      "execution_count": null,
      "outputs": []
    },
    {
      "cell_type": "code",
      "metadata": {
        "id": "uQd-BGC7J26P"
      },
      "source": [
        "def set_scores(column, item):\n",
        "  \"\"\"Return a dictionary with all items as keys and number of times found as values.\"\"\"\n",
        "\n",
        "  output = {}\n",
        "  for cell in column:\n",
        "    for subcell in cell:\n",
        "      if subcell[item] in output:\n",
        "        output[subcell[item]] += 1\n",
        "      else:\n",
        "        output[subcell[item]] = 1\n",
        "  return output"
      ],
      "execution_count": null,
      "outputs": []
    },
    {
      "cell_type": "code",
      "metadata": {
        "id": "2fu5Xrg3lCJm"
      },
      "source": [
        "def set_scores2(decoded_list, item):\n",
        "  \"\"\"Return a dictionary with all items as keys and number of times found as values.\"\"\"\n",
        "\n",
        "  empty_list = []\n",
        "  column_scored = {}\n",
        "  for cell in decoded_list:\n",
        "    if cell == empty_list:\n",
        "      continue\n",
        "    else:\n",
        "      for subcell in cell:\n",
        "        if item in subcell:\n",
        "          if subcell[item] in column_scored:\n",
        "            column_scored[subcell[item]] += 1\n",
        "          else:\n",
        "            column_scored[subcell[item]] = 1\n",
        "  return column_scored"
      ],
      "execution_count": null,
      "outputs": []
    },
    {
      "cell_type": "code",
      "metadata": {
        "id": "Wi39D1JQKxqd"
      },
      "source": [
        "def set_scores3(decoded_list, job_title):\n",
        "  \"\"\"Retuen a dictionary with names and keys and number of occurences as values\"\"\"\n",
        "  \n",
        "  column_scored = {}\n",
        "  for cell in crew_decoded:\n",
        "    for subcell in cell:\n",
        "      if subcell['job'] == job_title:\n",
        "        if subcell['name'] in column_scored:\n",
        "          column_scored[subcell['name']] += 1\n",
        "        else:\n",
        "          column_scored[subcell['name']] = 1\n",
        "  return column_scored"
      ],
      "execution_count": null,
      "outputs": []
    },
    {
      "cell_type": "code",
      "metadata": {
        "id": "5tQ8FTSeKFiw"
      },
      "source": [
        "def score_column(column, item, score_dictonary, limit=100):\n",
        "  \"\"\"Returns a Pandas Series of summed up individual subcell scores for each row.\"\"\"\n",
        "\n",
        "  new_column = pd.Series(np.zeros(data.shape[0]))\n",
        "  for idx, cell in enumerate(column):\n",
        "    row_score = 0\n",
        "    for subcell in cell[:limit]:\n",
        "      row_score = score_dictonary[subcell[item]]\n",
        "    new_column[idx] = row_score\n",
        "  return new_column"
      ],
      "execution_count": null,
      "outputs": []
    },
    {
      "cell_type": "code",
      "metadata": {
        "id": "Ucw_t6HVqJFT"
      },
      "source": [
        "def score_column2(decoded_list, item, score_dictonary, limit=100):\n",
        "  \"\"\"Returns a Pandas Series of summed up individual subcell scores for each row.\"\"\"\n",
        "\n",
        "  empty_list = []\n",
        "  new_column = pd.Series(np.zeros(len(decoded_list)))\n",
        "  for idx, cell in enumerate(decoded_list):\n",
        "    if cell == empty_list:\n",
        "      new_column[idx] = 0\n",
        "    else:\n",
        "      score = 0\n",
        "      for subcell in cell[:limit]:\n",
        "        if item in subcell:\n",
        "          score += score_dictonary[subcell[item]]\n",
        "      new_column[idx] = score\n",
        "  return new_column"
      ],
      "execution_count": null,
      "outputs": []
    },
    {
      "cell_type": "code",
      "metadata": {
        "id": "_ohvHBXWYs03"
      },
      "source": [
        "def score_column3(decoded_list, job_title, score_dictonary, limit=100):\n",
        "  \"\"\"Returns a Pandas Series of summed up individual subcell scores for each row.\"\"\"\n",
        "\n",
        "  empty_list = []\n",
        "  new_column = pd.Series(np.zeros(len(decoded_list)))\n",
        "  for idx, cell in enumerate(decoded_list):\n",
        "    if cell == empty_list:\n",
        "      new_column[idx] = 0\n",
        "    else:\n",
        "      scores = []\n",
        "      for subcell in cell:\n",
        "        if subcell['job'] == job_title:\n",
        "          scores.append(score_dictonary[subcell['name']])\n",
        "      new_column[idx] = sum(sorted(scores, reverse=True)[:limit])\n",
        "  return new_column"
      ],
      "execution_count": null,
      "outputs": []
    },
    {
      "cell_type": "code",
      "metadata": {
        "id": "U-u7xsCe_eb0"
      },
      "source": [
        "data.head()"
      ],
      "execution_count": null,
      "outputs": []
    },
    {
      "cell_type": "markdown",
      "metadata": {
        "id": "U5A4uI3I_h0Z"
      },
      "source": [
        "####Genres"
      ]
    },
    {
      "cell_type": "code",
      "metadata": {
        "id": "0xcha-1iJ9kM"
      },
      "source": [
        "data['genres']"
      ],
      "execution_count": null,
      "outputs": []
    },
    {
      "cell_type": "code",
      "metadata": {
        "id": "YNv4wEx-ScsB"
      },
      "source": [
        "genres_unpacked = decode('genres')"
      ],
      "execution_count": null,
      "outputs": []
    },
    {
      "cell_type": "code",
      "metadata": {
        "id": "rmueIPKZI2Xn"
      },
      "source": [
        "data['genres_clean'] = pull_items(genres_unpacked, 'name')"
      ],
      "execution_count": null,
      "outputs": []
    },
    {
      "cell_type": "code",
      "metadata": {
        "id": "zllias5JI5wi"
      },
      "source": [
        "data.drop('genres', axis=1, inplace=True)"
      ],
      "execution_count": null,
      "outputs": []
    },
    {
      "cell_type": "markdown",
      "metadata": {
        "id": "X0CxqcgrJO1p"
      },
      "source": [
        "####Keywords"
      ]
    },
    {
      "cell_type": "code",
      "metadata": {
        "id": "YaQ4b2U6J5-Z"
      },
      "source": [
        "data['keywords']"
      ],
      "execution_count": null,
      "outputs": []
    },
    {
      "cell_type": "code",
      "metadata": {
        "id": "wK0xRbvHJfRD"
      },
      "source": [
        "keywords_decoded = decode('keywords')"
      ],
      "execution_count": null,
      "outputs": []
    },
    {
      "cell_type": "code",
      "metadata": {
        "id": "-vhIcsDEiYjI"
      },
      "source": [
        "keyword_frequency = set_scores(keywords_decoded, 'name')"
      ],
      "execution_count": null,
      "outputs": []
    },
    {
      "cell_type": "code",
      "metadata": {
        "id": "a6JtJfst28SC"
      },
      "source": [
        "data['scored_keywords'] = score_column(keywords_decoded, 'name', keyword_frequency)"
      ],
      "execution_count": null,
      "outputs": []
    },
    {
      "cell_type": "code",
      "metadata": {
        "id": "sjDtLW3M4wnb"
      },
      "source": [
        "data.drop('keywords', axis=1, inplace=True)"
      ],
      "execution_count": null,
      "outputs": []
    },
    {
      "cell_type": "markdown",
      "metadata": {
        "id": "69b4kNVa7y3K"
      },
      "source": [
        "####Production Companies"
      ]
    },
    {
      "cell_type": "code",
      "metadata": {
        "id": "JGqIYFVn8m_L"
      },
      "source": [
        "data['production_companies']"
      ],
      "execution_count": null,
      "outputs": []
    },
    {
      "cell_type": "markdown",
      "metadata": {
        "id": "DnjMT3ze1_2w"
      },
      "source": [
        "The empty lists in the data are not playing nice with numpy, so decode2 is written to deal with that by using a list insted of a numpy array, and pandas series."
      ]
    },
    {
      "cell_type": "code",
      "metadata": {
        "id": "v9dFJbWaDx1J"
      },
      "source": [
        "production_companies_decoded = decode2('production_companies')"
      ],
      "execution_count": null,
      "outputs": []
    },
    {
      "cell_type": "markdown",
      "metadata": {
        "id": "eaRD7PnN3p7W"
      },
      "source": [
        "Create a scoring dictionary for Production Companies"
      ]
    },
    {
      "cell_type": "code",
      "metadata": {
        "id": "Dt6jJuxvq2FI"
      },
      "source": [
        "company_scores = set_scores2(production_companies_decoded, 'name')"
      ],
      "execution_count": null,
      "outputs": []
    },
    {
      "cell_type": "markdown",
      "metadata": {
        "id": "nZXW29BC33FZ"
      },
      "source": [
        "Give a score to production companies and create a new column for it in the data."
      ]
    },
    {
      "cell_type": "code",
      "metadata": {
        "id": "KWgoDHhLxVIT"
      },
      "source": [
        "data['scored_production_companies'] = score_column2(production_companies_decoded, 'name', company_scores)"
      ],
      "execution_count": null,
      "outputs": []
    },
    {
      "cell_type": "markdown",
      "metadata": {
        "id": "IqKcK4_jGrlA"
      },
      "source": [
        "Delet the production_companies column"
      ]
    },
    {
      "cell_type": "code",
      "metadata": {
        "id": "YhGX-WSOGNka"
      },
      "source": [
        "data.drop('production_companies', axis=1, inplace=True)"
      ],
      "execution_count": null,
      "outputs": []
    },
    {
      "cell_type": "markdown",
      "metadata": {
        "id": "CBPsVNqjhhZm"
      },
      "source": [
        "####Production Countries"
      ]
    },
    {
      "cell_type": "code",
      "metadata": {
        "id": "lezwiS-khnXy"
      },
      "source": [
        "data['production_countries']"
      ],
      "execution_count": null,
      "outputs": []
    },
    {
      "cell_type": "markdown",
      "metadata": {
        "id": "Ic2vhu4sG73k"
      },
      "source": [
        "create scoring dictionary, score the column, and replace new scored column with the old one."
      ]
    },
    {
      "cell_type": "code",
      "metadata": {
        "id": "g4wBgjnmIi9p"
      },
      "source": [
        "production_countries_decoded = decode2('production_countries')"
      ],
      "execution_count": null,
      "outputs": []
    },
    {
      "cell_type": "code",
      "metadata": {
        "id": "oOcAGSmDHSYt"
      },
      "source": [
        "country_scores = set_scores2(production_countries_decoded, 'name')"
      ],
      "execution_count": null,
      "outputs": []
    },
    {
      "cell_type": "code",
      "metadata": {
        "id": "QKyWehnsHkyz"
      },
      "source": [
        "data['scored_production_countries'] = score_column2(production_countries_decoded, 'name', country_scores)"
      ],
      "execution_count": null,
      "outputs": []
    },
    {
      "cell_type": "code",
      "metadata": {
        "id": "WGKNDbwiH1uL"
      },
      "source": [
        "data.drop('production_countries', axis=1, inplace=True)"
      ],
      "execution_count": null,
      "outputs": []
    },
    {
      "cell_type": "markdown",
      "metadata": {
        "id": "B0EUcFxwIBsN"
      },
      "source": [
        "####Release Date"
      ]
    },
    {
      "cell_type": "code",
      "metadata": {
        "id": "vnhFeQT0ILg1"
      },
      "source": [
        "data['release_date']"
      ],
      "execution_count": null,
      "outputs": []
    },
    {
      "cell_type": "markdown",
      "metadata": {
        "id": "U_NAXhmPsI3p"
      },
      "source": [
        "Seperate into a release year column and a release quarter column."
      ]
    },
    {
      "cell_type": "code",
      "metadata": {
        "id": "wgomAmDQsVEc"
      },
      "source": [
        "int(data['release_date'][0][5:7])"
      ],
      "execution_count": null,
      "outputs": []
    },
    {
      "cell_type": "code",
      "metadata": {
        "id": "g1zdPO1rsfjf"
      },
      "source": [
        "release_year = pd.Series(np.zeros(data.shape[0]))\n",
        "release_quarter = pd.Series(np.zeros(data.shape[0]))\n",
        "for idx, value in enumerate(data['release_date']):\n",
        "  release_year[idx] = int(value[:4])\n",
        "  if int(value[5:7]) <= 3:\n",
        "    release_quarter[idx] = 'q1'\n",
        "  elif int(value[5:7]) <= 6:\n",
        "    release_quarter[idx] = 'q2'\n",
        "  elif int(value[5:7]) <= 9:\n",
        "    release_quarter[idx] = 'q3'\n",
        "  else:\n",
        "    release_quarter[idx] = 'q3'\n",
        "release_quarter"
      ],
      "execution_count": null,
      "outputs": []
    },
    {
      "cell_type": "code",
      "metadata": {
        "id": "BtrqXIgwuhcJ"
      },
      "source": [
        "data['release_year'] = release_year\n",
        "data['release_quarter'] = release_quarter"
      ],
      "execution_count": null,
      "outputs": []
    },
    {
      "cell_type": "code",
      "metadata": {
        "id": "-rrTrcoEurrm"
      },
      "source": [
        "data.drop('release_date', axis=1, inplace=True)"
      ],
      "execution_count": null,
      "outputs": []
    },
    {
      "cell_type": "markdown",
      "metadata": {
        "id": "0MKGVosBIVfC"
      },
      "source": [
        "####Spoken Languages"
      ]
    },
    {
      "cell_type": "code",
      "metadata": {
        "id": "Q3pm_E50IVNV"
      },
      "source": [
        "data['spoken_languages']"
      ],
      "execution_count": null,
      "outputs": []
    },
    {
      "cell_type": "code",
      "metadata": {
        "id": "1qUS9CycIldh"
      },
      "source": [
        "spoken_languages_decoded = decode('spoken_languages')"
      ],
      "execution_count": null,
      "outputs": []
    },
    {
      "cell_type": "code",
      "metadata": {
        "id": "9wGOo7-NIu_6"
      },
      "source": [
        "data['spoken_languages_clean'] = pull_items(spoken_languages_decoded, 'name')"
      ],
      "execution_count": null,
      "outputs": []
    },
    {
      "cell_type": "code",
      "metadata": {
        "id": "c8SSyeE5LbmY"
      },
      "source": [
        "data.drop('spoken_languages', axis=1, inplace=True)"
      ],
      "execution_count": null,
      "outputs": []
    },
    {
      "cell_type": "markdown",
      "metadata": {
        "id": "UqMNbIPWrS-W"
      },
      "source": [
        "####Cast"
      ]
    },
    {
      "cell_type": "code",
      "metadata": {
        "id": "TIaQIIGjrY4P"
      },
      "source": [
        "data['cast']"
      ],
      "execution_count": null,
      "outputs": []
    },
    {
      "cell_type": "code",
      "metadata": {
        "id": "VEJI_rwjs3Sa"
      },
      "source": [
        "data['cast'][0]"
      ],
      "execution_count": null,
      "outputs": []
    },
    {
      "cell_type": "code",
      "metadata": {
        "id": "krhAoKVqvUn-"
      },
      "source": [
        "cast_decoded = decode2('cast')"
      ],
      "execution_count": null,
      "outputs": []
    },
    {
      "cell_type": "code",
      "metadata": {
        "id": "mL2gkNY-viqm"
      },
      "source": [
        "cast_scores = set_scores2(cast_decoded, 'name')"
      ],
      "execution_count": null,
      "outputs": []
    },
    {
      "cell_type": "code",
      "metadata": {
        "id": "cW35b5ezKc_Q"
      },
      "source": [
        "cast_scores"
      ],
      "execution_count": null,
      "outputs": []
    },
    {
      "cell_type": "code",
      "metadata": {
        "id": "3pEKj3WivwUQ"
      },
      "source": [
        "data['scored_cast'] = score_column2(cast_decoded, 'name', cast_scores, 3)"
      ],
      "execution_count": null,
      "outputs": []
    },
    {
      "cell_type": "code",
      "metadata": {
        "id": "rkSOmo0hxqGp"
      },
      "source": [
        "data.drop('cast', axis=1, inplace=True)"
      ],
      "execution_count": null,
      "outputs": []
    },
    {
      "cell_type": "markdown",
      "metadata": {
        "id": "lIjoDMK6xx4T"
      },
      "source": [
        "####Crew"
      ]
    },
    {
      "cell_type": "code",
      "metadata": {
        "id": "leCSz5nMx2tp"
      },
      "source": [
        "data['crew']"
      ],
      "execution_count": null,
      "outputs": []
    },
    {
      "cell_type": "code",
      "metadata": {
        "id": "cXktBZDDx6PO"
      },
      "source": [
        "data['crew'][0]"
      ],
      "execution_count": null,
      "outputs": []
    },
    {
      "cell_type": "code",
      "metadata": {
        "id": "P_mxJrq6yShN"
      },
      "source": [
        "crew_decoded = decode2('crew')"
      ],
      "execution_count": null,
      "outputs": []
    },
    {
      "cell_type": "code",
      "metadata": {
        "id": "9hYULF_vyjFM"
      },
      "source": [
        "jobs = {}\n",
        "for crew in crew_decoded:\n",
        "  for member in crew:\n",
        "    if member['job'] in jobs:\n",
        "      jobs[member['job']] += 1\n",
        "    else:\n",
        "      jobs[member['job']] = 1"
      ],
      "execution_count": null,
      "outputs": []
    },
    {
      "cell_type": "code",
      "metadata": {
        "id": "VGaGpirazWZy"
      },
      "source": [
        "len(jobs)"
      ],
      "execution_count": null,
      "outputs": []
    },
    {
      "cell_type": "code",
      "metadata": {
        "id": "1sUJxme9zb1-"
      },
      "source": [
        "sorted_jobs = sorted(jobs.items(), key=lambda x: x[1], reverse=True)\n",
        "print(sorted_jobs[:5])"
      ],
      "execution_count": null,
      "outputs": []
    },
    {
      "cell_type": "markdown",
      "metadata": {
        "id": "DSuJ-VbL3tbt"
      },
      "source": [
        "#####Producer"
      ]
    },
    {
      "cell_type": "code",
      "metadata": {
        "id": "_E21arE34aRy"
      },
      "source": [
        "score_producers = set_scores3(crew_decoded, 'Producer')\n",
        "data['scored_producers'] = score_column3(crew_decoded, 'Producer', score_producers)"
      ],
      "execution_count": null,
      "outputs": []
    },
    {
      "cell_type": "code",
      "metadata": {
        "id": "4eqxL89pI9uK"
      },
      "source": [
        "score_producers"
      ],
      "execution_count": null,
      "outputs": []
    },
    {
      "cell_type": "markdown",
      "metadata": {
        "id": "CjwbQniH3wqo"
      },
      "source": [
        "#####Executive Producer"
      ]
    },
    {
      "cell_type": "code",
      "metadata": {
        "id": "423LJpvKE1A2"
      },
      "source": [
        "score_executive_producer = set_scores3(crew_decoded, 'Executive Producer')\n",
        "data['scored_executive_producers'] = score_column3(crew_decoded, 'Executive Producer', score_executive_producer)"
      ],
      "execution_count": null,
      "outputs": []
    },
    {
      "cell_type": "markdown",
      "metadata": {
        "id": "-xNoI7lE4PqC"
      },
      "source": [
        "#####Director"
      ]
    },
    {
      "cell_type": "code",
      "metadata": {
        "id": "S-FQsNgFFPqe"
      },
      "source": [
        "score_directors = set_scores3(crew_decoded, 'Director')\n",
        "data['scored_director'] = score_column3(crew_decoded, 'Director', score_directors)"
      ],
      "execution_count": null,
      "outputs": []
    },
    {
      "cell_type": "code",
      "metadata": {
        "id": "zBf4O_uOJjrz"
      },
      "source": [
        "score_directors"
      ],
      "execution_count": null,
      "outputs": []
    },
    {
      "cell_type": "markdown",
      "metadata": {
        "id": "5fjxOZdM4SP7"
      },
      "source": [
        "#####Screenplay"
      ]
    },
    {
      "cell_type": "code",
      "metadata": {
        "id": "uHYc_79v3p7v"
      },
      "source": [
        "score_screenplay = set_scores2(crew_decoded, 'Screenplay')\n",
        "data['scored_screenplay'] = score_column2(crew_decoded, 'Screenplay', score_screenplay)\n",
        "data['scored_screenplay'].unique()\n",
        "score_screenplay"
      ],
      "execution_count": null,
      "outputs": []
    },
    {
      "cell_type": "code",
      "metadata": {
        "id": "fSu_xbpaKVLL"
      },
      "source": [
        "data.drop('crew', axis=1, inplace=True)"
      ],
      "execution_count": null,
      "outputs": []
    },
    {
      "cell_type": "code",
      "metadata": {
        "id": "_Ae2DUWi93nz"
      },
      "source": [
        "data.info()"
      ],
      "execution_count": null,
      "outputs": []
    },
    {
      "cell_type": "code",
      "metadata": {
        "id": "VvZXkJgyqBaD"
      },
      "source": [
        "data_clean = data.copy()"
      ],
      "execution_count": null,
      "outputs": []
    },
    {
      "cell_type": "markdown",
      "metadata": {
        "id": "pTBasBYO7vRZ"
      },
      "source": [
        "##Exploratory Data Analysis"
      ]
    },
    {
      "cell_type": "markdown",
      "metadata": {
        "id": "hBkUOJBzoZS4"
      },
      "source": [
        "###Functions"
      ]
    },
    {
      "cell_type": "code",
      "metadata": {
        "id": "KOjvO3MBNRbF"
      },
      "source": [
        "def root_mean_squared_percentage_error(true_values, predicted_values):\n",
        "  \"\"\"Return the root mean squared percentage error\"\"\"\n",
        "\n",
        "  rmspe = np.sqrt(np.mean(np.square((true_values - predicted_values)/true_values)))*100\n",
        "  return rmspe"
      ],
      "execution_count": null,
      "outputs": []
    },
    {
      "cell_type": "code",
      "metadata": {
        "id": "LB8POcTM36DR"
      },
      "source": [
        "def cross_validation(training_data, outcomes_data, model, itrs=100):\n",
        "  \"\"\"returns the average rmspe of the data put throught the model itr times.\"\"\"\n",
        "\n",
        "  errors = np.zeros(itrs)\n",
        "  for idx in range(0, itrs):\n",
        "    x_train, x_test, y_train, y_test = train_test_split(training_data, \n",
        "                                                        outcomes_data, \n",
        "                                                        test_size=.15)\n",
        "    model.fit(x_train, y_train)\n",
        "    y_predict = model.predict(x_test)\n",
        "    errors[idx] = np.sqrt(mean_squared_error(y_test, y_predict))\n",
        "  return errors.mean()"
      ],
      "execution_count": null,
      "outputs": []
    },
    {
      "cell_type": "code",
      "metadata": {
        "id": "eotEoyMJw808"
      },
      "source": [
        "def one_hot_lists(column):\n",
        "  \"\"\"Return a dataframe with one hot encoding of the input column.\"\"\"\n",
        "\n",
        "  unique_values = []\n",
        "  for row in column:\n",
        "    for value in row:\n",
        "      if value not in unique_values:\n",
        "        unique_values.append(value)\n",
        "  new_dataframe = pd.DataFrame(np.zeros([len(column), len(unique_values)]), columns=unique_values)\n",
        "  for column_name in new_dataframe.columns:\n",
        "    for idx in range(len(column)):\n",
        "      if column_name in column[idx]:\n",
        "        new_dataframe[column_name][idx] = 1\n",
        "      \n",
        "  return new_dataframe"
      ],
      "execution_count": null,
      "outputs": []
    },
    {
      "cell_type": "markdown",
      "metadata": {
        "id": "UVVOLCF91l3G"
      },
      "source": [
        "###Seperate Numeric and Catagorical"
      ]
    },
    {
      "cell_type": "code",
      "metadata": {
        "id": "fmgqWLPBr_h9"
      },
      "source": [
        "outcomes = data_clean['revenue'].copy()\n",
        "numerical_data = data_clean.select_dtypes(exclude='object').drop('revenue', axis=1).copy()\n",
        "catagorical_data = data_clean.select_dtypes(include='object').copy()"
      ],
      "execution_count": null,
      "outputs": []
    },
    {
      "cell_type": "markdown",
      "metadata": {
        "id": "jQ-BJ8eOpBYQ"
      },
      "source": [
        "###Scale Numerical Data\n",
        "\n"
      ]
    },
    {
      "cell_type": "code",
      "metadata": {
        "id": "TZCBcNtYp_Ys"
      },
      "source": [
        "scaler = preprocessing.StandardScaler()\n",
        "numerical_data_scaled = pd.DataFrame(scaler.fit_transform(numerical_data), columns=numerical_data.columns)\n",
        "numerical_data_scaled['Ones'] = 1\n",
        "numerical_data_scaled.shape"
      ],
      "execution_count": null,
      "outputs": []
    },
    {
      "cell_type": "markdown",
      "metadata": {
        "id": "jXq1hVp8ogmx"
      },
      "source": [
        "###One-Hot Catigorical Features"
      ]
    },
    {
      "cell_type": "code",
      "metadata": {
        "id": "ipvnIpfBogKe"
      },
      "source": [
        "catagorical_data\n",
        "print(catagorical_data.shape)"
      ],
      "execution_count": null,
      "outputs": []
    },
    {
      "cell_type": "code",
      "metadata": {
        "id": "vaaAvkmYzP5K"
      },
      "source": [
        "catagorical_data = catagorical_data.join(one_hot_lists(catagorical_data['genres_clean']))\n",
        "print(catagorical_data.shape)"
      ],
      "execution_count": null,
      "outputs": []
    },
    {
      "cell_type": "code",
      "metadata": {
        "id": "FM2fKk-B5Q6t"
      },
      "source": [
        "catagorical_data.drop('genres_clean', axis=1, inplace=True)\n",
        "print(catagorical_data.shape)"
      ],
      "execution_count": null,
      "outputs": []
    },
    {
      "cell_type": "code",
      "metadata": {
        "id": "864u0Z_W5oFJ"
      },
      "source": [
        "catagorical_data = catagorical_data.join(one_hot_lists(catagorical_data['spoken_languages_clean']))\n",
        "print(catagorical_data.shape)"
      ],
      "execution_count": null,
      "outputs": []
    },
    {
      "cell_type": "code",
      "metadata": {
        "id": "5XD8kuI-5zH9"
      },
      "source": [
        "catagorical_data.drop('spoken_languages_clean', axis=1, inplace=True)\n",
        "print(catagorical_data.shape)"
      ],
      "execution_count": null,
      "outputs": []
    },
    {
      "cell_type": "code",
      "metadata": {
        "id": "U8qCHBR4vXF1"
      },
      "source": [
        "catagorical_data = catagorical_data.join(pd.get_dummies(catagorical_data['original_language']))\n",
        "print(catagorical_data.shape)"
      ],
      "execution_count": null,
      "outputs": []
    },
    {
      "cell_type": "code",
      "metadata": {
        "id": "iDVWYrO962TQ"
      },
      "source": [
        "catagorical_data.drop('original_language', axis=1, inplace=True)\n",
        "print(catagorical_data.shape)"
      ],
      "execution_count": null,
      "outputs": []
    },
    {
      "cell_type": "code",
      "metadata": {
        "id": "Qc1vWkyn6-wS"
      },
      "source": [
        "catagorical_data = catagorical_data.join(pd.get_dummies(catagorical_data['release_quarter']))\n",
        "print(catagorical_data.shape)"
      ],
      "execution_count": null,
      "outputs": []
    },
    {
      "cell_type": "code",
      "metadata": {
        "id": "-eKLuHzS7Gps"
      },
      "source": [
        "catagorical_data.drop('release_quarter', axis=1, inplace=True)"
      ],
      "execution_count": null,
      "outputs": []
    },
    {
      "cell_type": "code",
      "metadata": {
        "id": "bND_kQYN7PEB"
      },
      "source": [
        "print(catagorical_data.shape)\n",
        "catagorical_data.head()"
      ],
      "execution_count": null,
      "outputs": []
    },
    {
      "cell_type": "markdown",
      "metadata": {
        "id": "yRLDCRpGomlc"
      },
      "source": [
        "###Combine Data"
      ]
    },
    {
      "cell_type": "code",
      "metadata": {
        "id": "2la4tJ7wopnf"
      },
      "source": [
        "training_data = numerical_data_scaled.join(catagorical_data).copy()"
      ],
      "execution_count": null,
      "outputs": []
    },
    {
      "cell_type": "code",
      "metadata": {
        "id": "oYjZ-wuFo3Wm"
      },
      "source": [
        "training_data.shape"
      ],
      "execution_count": null,
      "outputs": []
    },
    {
      "cell_type": "markdown",
      "metadata": {
        "id": "EfxVBTDn3nU-"
      },
      "source": [
        "###Decision Tree"
      ]
    },
    {
      "cell_type": "code",
      "metadata": {
        "id": "zeSX9zFv9E7-"
      },
      "source": [
        "model = DecisionTreeRegressor()"
      ],
      "execution_count": null,
      "outputs": []
    },
    {
      "cell_type": "code",
      "metadata": {
        "id": "lKoYgJXW9Ria"
      },
      "source": [
        "cross_validation(training_data, outcomes, model)"
      ],
      "execution_count": null,
      "outputs": []
    },
    {
      "cell_type": "markdown",
      "metadata": {
        "id": "c-w_K-GpvsW9"
      },
      "source": [
        "Errors on the order of x10^8 is not good. Could be over or under fitting. Lets try a few difforent tree depths to see what hapens to the error."
      ]
    },
    {
      "cell_type": "code",
      "metadata": {
        "id": "iZk5oN77snHd"
      },
      "source": [
        "tree_depth_error =[]\n",
        "for depth in range(1,11):\n",
        "  model = DecisionTreeRegressor(max_depth=depth)\n",
        "  error = cross_validation(training_data, outcomes, model)\n",
        "  tree_depth_error.append(error)\n",
        "  print('For a tree of depth {}, the cross validation error is {}.'.format(\n",
        "      depth, error))"
      ],
      "execution_count": null,
      "outputs": []
    },
    {
      "cell_type": "markdown",
      "metadata": {
        "id": "EO8S7qP3wHjH"
      },
      "source": [
        "Looks as though 5 is the best depth but the error is still huge for all depths."
      ]
    },
    {
      "cell_type": "markdown",
      "metadata": {
        "id": "SB9gixSav9_l"
      },
      "source": [
        "###Random Forest"
      ]
    },
    {
      "cell_type": "code",
      "metadata": {
        "id": "D4YxbA5EwETm"
      },
      "source": [
        "model = RandomForestRegressor(n_estimators=10)"
      ],
      "execution_count": null,
      "outputs": []
    },
    {
      "cell_type": "code",
      "metadata": {
        "id": "-lRRKu3jzBUx"
      },
      "source": [
        "cross_validation(training_data, outcomes, model)"
      ],
      "execution_count": null,
      "outputs": []
    },
    {
      "cell_type": "markdown",
      "metadata": {
        "id": "O3a1MOONzG2J"
      },
      "source": [
        "About an order of magnitude better results than with a single tree."
      ]
    },
    {
      "cell_type": "code",
      "metadata": {
        "id": "Ab4J3cDWzHVx"
      },
      "source": [
        "random_tree_errors = []\n",
        "for trees in range(1, 10):\n",
        "  model = RandomForestRegressor(n_estimators=trees)\n",
        "  error = cross_validation(training_data, outcomes, model, itrs=50)\n",
        "  random_tree_errors.append(error)\n",
        "  print('For {} trees, the cross validation error is {}.'.format(\n",
        "      trees, error))"
      ],
      "execution_count": null,
      "outputs": []
    },
    {
      "cell_type": "markdown",
      "metadata": {
        "id": "Mhmk-jGh6O7T"
      },
      "source": [
        "Looks as though the first few additions of additional trees realy helps the predictions but progress stops after 5 trees."
      ]
    },
    {
      "cell_type": "markdown",
      "metadata": {
        "id": "6YL6NE2Yr0Tr"
      },
      "source": [
        "###XGBoost"
      ]
    },
    {
      "cell_type": "code",
      "metadata": {
        "id": "Vit01wgcrzl-"
      },
      "source": [
        "model = xgb.XGBRegressor(verbosity=1, objective='reg:squarederror')"
      ],
      "execution_count": null,
      "outputs": []
    },
    {
      "cell_type": "code",
      "metadata": {
        "id": "J32G3kNV8cV3"
      },
      "source": [
        "cross_validation(training_data, outcomes, model, itrs=50)"
      ],
      "execution_count": null,
      "outputs": []
    },
    {
      "cell_type": "code",
      "metadata": {
        "id": "UIEGuJNA-6yS"
      },
      "source": [
        "xgb_rate_error = []\n",
        "for rate in [.1,.2,.3,.4,.5,.6,.7,.8,.9]:\n",
        "  model = xgb.XGBRegressor(learning_rate=rate, verbosity=1, objective='reg:squarederror')\n",
        "  error = cross_validation(training_data, outcomes, model, itrs=20)\n",
        "  xgb_rate_error.append(error)\n",
        "  print('For a {} learning rate, the cross validation error is {}.'.format(\n",
        "      rate, error))"
      ],
      "execution_count": null,
      "outputs": []
    },
    {
      "cell_type": "markdown",
      "metadata": {
        "id": "hxvOH-N0B8B_"
      },
      "source": [
        "A learing rate of around .2  yealds the best result."
      ]
    },
    {
      "cell_type": "code",
      "metadata": {
        "id": "JCF2NmEfCBMb"
      },
      "source": [
        "xgb_tree_error = []\n",
        "for trees in range(1, 102, 10):\n",
        "  model =  xgb.XGBRegressor(learning_rate=.2, n_estimators=trees, verbosity=1, objective='reg:squarederror')\n",
        "  error = cross_validation(training_data, outcomes, model, itrs=50)\n",
        "  xgb_tree_error.append(error)\n",
        "  print('For {} trees, the cross validation error is {}.'.format(\n",
        "      trees, error))"
      ],
      "execution_count": null,
      "outputs": []
    },
    {
      "cell_type": "markdown",
      "metadata": {
        "id": "FFlwqN72Dm60"
      },
      "source": [
        "After just 20 trees or so the benifits seem neglegable."
      ]
    },
    {
      "cell_type": "markdown",
      "metadata": {
        "id": "IBBu2_f-711r"
      },
      "source": [
        "##Data Processing"
      ]
    },
    {
      "cell_type": "markdown",
      "metadata": {
        "id": "R-ecrjNNnzfy"
      },
      "source": [
        "The final model will be an XGBoost Regressor with a learning rate of .2, and 30 trees."
      ]
    },
    {
      "cell_type": "code",
      "metadata": {
        "id": "SgmohucRC4M7"
      },
      "source": [
        "model =  xgb.XGBRegressor(learning_rate=.2, n_estimators=30, verbosity=1, objective='reg:squarederror')"
      ],
      "execution_count": null,
      "outputs": []
    },
    {
      "cell_type": "code",
      "metadata": {
        "id": "gagCS_RXDJA0"
      },
      "source": [
        "cross_validation(training_data, outcomes, model)"
      ],
      "execution_count": null,
      "outputs": []
    },
    {
      "cell_type": "markdown",
      "metadata": {
        "id": "McnXLBPu76FN"
      },
      "source": [
        "##Data Visualization"
      ]
    },
    {
      "cell_type": "markdown",
      "metadata": {
        "id": "xhNFfB1JDOw2"
      },
      "source": [
        "####Visualize Tree"
      ]
    },
    {
      "cell_type": "code",
      "metadata": {
        "id": "b0derBPFqN1b"
      },
      "source": [
        "model = DecisionTreeRegressor(max_depth=3)\n",
        "model.fit(training_data, outcomes)\n",
        "dot_data = tree.export_graphviz(model, feature_names=training_data.columns)\n",
        "display(graphviz.Source(tree.export_graphviz(model, feature_names=training_data.columns)))\n",
        "pydot_graph = pydotplus.graph_from_dot_data(dot_data)\n",
        "pydot_graph.write_png('original_tree.png')\n",
        "pydot_graph.set_size('\"5,5!\"')\n",
        "pydot_graph.write_png('resized_tree.png')"
      ],
      "execution_count": null,
      "outputs": []
    },
    {
      "cell_type": "markdown",
      "metadata": {
        "id": "-gR4uEbXDSrT"
      },
      "source": [
        "####XGBoost Feature scores"
      ]
    },
    {
      "cell_type": "code",
      "metadata": {
        "id": "5VlhpxyrEEf1"
      },
      "source": [
        "imoprtances = model.feature_importances_\n",
        "most_important = zip(imoprtances, training_data.columns)\n",
        "most_important = sorted(most_important, reverse=True)\n",
        "most_important[0][1]\n",
        "scores = []\n",
        "important_features = []\n",
        "\n",
        "for num in range(10):\n",
        "  scores.append(most_important[num][0])\n",
        "  important_features.append(most_important[num][1])\n",
        "print(scores, important_features)"
      ],
      "execution_count": null,
      "outputs": []
    },
    {
      "cell_type": "code",
      "metadata": {
        "id": "q2C440eEvb6c"
      },
      "source": [
        "fig, ax = plt.subplots();\n",
        "y_pos = np.arange(len(scores));\n",
        "\n",
        "ax.barh(y_pos, scores);\n",
        "ax.set_yticks(y_pos);\n",
        "ax.set_yticklabels(important_features);\n",
        "ax.invert_yaxis();  # labels read top-to-bottom\n",
        "ax.set_xlabel('Importance');\n",
        "ax.set_title('Feature Importance');\n",
        "ax.set\n",
        "plt.show(block=False);"
      ],
      "execution_count": null,
      "outputs": []
    }
  ]
}