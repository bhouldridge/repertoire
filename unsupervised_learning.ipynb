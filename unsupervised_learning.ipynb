{
  "nbformat": 4,
  "nbformat_minor": 0,
  "metadata": {
    "colab": {
      "name": "unsupervised_learning.ipynb",
      "provenance": [],
      "collapsed_sections": [],
      "toc_visible": true,
      "mount_file_id": "1HpAJKeSsqlv5veJ3K-db2ozqOZ0VTozp",
      "authorship_tag": "ABX9TyOdVB52iAwnOMfGn3Ugfm4/",
      "include_colab_link": true
    },
    "kernelspec": {
      "name": "python3",
      "display_name": "Python 3"
    }
  },
  "cells": [
    {
      "cell_type": "markdown",
      "metadata": {
        "id": "view-in-github",
        "colab_type": "text"
      },
      "source": [
        "<a href=\"https://colab.research.google.com/github/bhouldridge/repertoire/blob/main/unsupervised_learning.ipynb\" target=\"_parent\"><img src=\"https://colab.research.google.com/assets/colab-badge.svg\" alt=\"Open In Colab\"/></a>"
      ]
    },
    {
      "cell_type": "markdown",
      "metadata": {
        "id": "4yKMO7pk4RxI"
      },
      "source": [
        "#Project 4\n",
        "\n",
        "Benjamin Houldriedge\n",
        "August 25th 2020"
      ]
    },
    {
      "cell_type": "markdown",
      "metadata": {
        "id": "Zo2_ZABSA9oi"
      },
      "source": [
        "##Problem Definition"
      ]
    },
    {
      "cell_type": "markdown",
      "metadata": {
        "id": "LF6xX02QBBeJ"
      },
      "source": [
        "Using unsupervised learning, determine attributes of a biography such as sentiment, and other similar people."
      ]
    },
    {
      "cell_type": "markdown",
      "metadata": {
        "id": "Q3qUh8lr4pWK"
      },
      "source": [
        "##Data Collection"
      ]
    },
    {
      "cell_type": "markdown",
      "metadata": {
        "id": "inST14Ae_DA3"
      },
      "source": [
        "###Installs"
      ]
    },
    {
      "cell_type": "code",
      "metadata": {
        "id": "llikw3MNqHbl",
        "outputId": "6a765b21-38b7-4cb4-e7b7-55a27583cce4",
        "colab": {
          "base_uri": "https://localhost:8080/",
          "height": 510
        }
      },
      "source": [
        "!pip install Wikipedia\n",
        "!python -m textblob.download_corpora"
      ],
      "execution_count": null,
      "outputs": [
        {
          "output_type": "stream",
          "text": [
            "Collecting Wikipedia\n",
            "  Downloading https://files.pythonhosted.org/packages/67/35/25e68fbc99e672127cc6fbb14b8ec1ba3dfef035bf1e4c90f78f24a80b7d/wikipedia-1.4.0.tar.gz\n",
            "Requirement already satisfied: beautifulsoup4 in /usr/local/lib/python3.6/dist-packages (from Wikipedia) (4.6.3)\n",
            "Requirement already satisfied: requests<3.0.0,>=2.0.0 in /usr/local/lib/python3.6/dist-packages (from Wikipedia) (2.23.0)\n",
            "Requirement already satisfied: urllib3!=1.25.0,!=1.25.1,<1.26,>=1.21.1 in /usr/local/lib/python3.6/dist-packages (from requests<3.0.0,>=2.0.0->Wikipedia) (1.24.3)\n",
            "Requirement already satisfied: idna<3,>=2.5 in /usr/local/lib/python3.6/dist-packages (from requests<3.0.0,>=2.0.0->Wikipedia) (2.10)\n",
            "Requirement already satisfied: chardet<4,>=3.0.2 in /usr/local/lib/python3.6/dist-packages (from requests<3.0.0,>=2.0.0->Wikipedia) (3.0.4)\n",
            "Requirement already satisfied: certifi>=2017.4.17 in /usr/local/lib/python3.6/dist-packages (from requests<3.0.0,>=2.0.0->Wikipedia) (2020.6.20)\n",
            "Building wheels for collected packages: Wikipedia\n",
            "  Building wheel for Wikipedia (setup.py) ... \u001b[?25l\u001b[?25hdone\n",
            "  Created wheel for Wikipedia: filename=wikipedia-1.4.0-cp36-none-any.whl size=11686 sha256=af2bea195bf717391a937d44a5debf1ad955dcd56f44839546e8f286f7ff72c4\n",
            "  Stored in directory: /root/.cache/pip/wheels/87/2a/18/4e471fd96d12114d16fe4a446d00c3b38fb9efcb744bd31f4a\n",
            "Successfully built Wikipedia\n",
            "Installing collected packages: Wikipedia\n",
            "Successfully installed Wikipedia-1.4.0\n",
            "[nltk_data] Downloading package brown to /root/nltk_data...\n",
            "[nltk_data]   Unzipping corpora/brown.zip.\n",
            "[nltk_data] Downloading package punkt to /root/nltk_data...\n",
            "[nltk_data]   Unzipping tokenizers/punkt.zip.\n",
            "[nltk_data] Downloading package wordnet to /root/nltk_data...\n",
            "[nltk_data]   Unzipping corpora/wordnet.zip.\n",
            "[nltk_data] Downloading package averaged_perceptron_tagger to\n",
            "[nltk_data]     /root/nltk_data...\n",
            "[nltk_data]   Unzipping taggers/averaged_perceptron_tagger.zip.\n",
            "[nltk_data] Downloading package conll2000 to /root/nltk_data...\n",
            "[nltk_data]   Unzipping corpora/conll2000.zip.\n",
            "[nltk_data] Downloading package movie_reviews to /root/nltk_data...\n",
            "[nltk_data]   Unzipping corpora/movie_reviews.zip.\n",
            "Finished.\n"
          ],
          "name": "stdout"
        }
      ]
    },
    {
      "cell_type": "markdown",
      "metadata": {
        "id": "20cUi3Rm-igA"
      },
      "source": [
        "###imports"
      ]
    },
    {
      "cell_type": "code",
      "metadata": {
        "id": "5pHxGODO-hYS"
      },
      "source": [
        "import numpy as np\n",
        "import pandas as pd\n",
        "import textblob\n",
        "import sklearn\n",
        "from sklearn.neighbors import NearestNeighbors\n",
        "import matplotlib.pyplot as plt\n",
        "import random\n",
        "import wikipedia"
      ],
      "execution_count": null,
      "outputs": []
    },
    {
      "cell_type": "markdown",
      "metadata": {
        "id": "vOxglVciBQzD"
      },
      "source": [
        "###Data Path"
      ]
    },
    {
      "cell_type": "markdown",
      "metadata": {
        "id": "j0-ByV4ZINsd"
      },
      "source": [
        "Data supplied by Cliff Lewis. It contains urls for biographical pages of 42786 individuals from dbpedia.org. "
      ]
    },
    {
      "cell_type": "code",
      "metadata": {
        "id": "Xozl3eZYBVfm"
      },
      "source": [
        "people_path = '/content/drive/My Drive/Exercises - Benjamin/Project 4/Copy of people_db.csv'"
      ],
      "execution_count": null,
      "outputs": []
    },
    {
      "cell_type": "code",
      "metadata": {
        "id": "CUvUyxBMBlKR"
      },
      "source": [
        "people = pd.read_csv(people_path)"
      ],
      "execution_count": null,
      "outputs": []
    },
    {
      "cell_type": "code",
      "metadata": {
        "id": "tHbaGzDYB7Jk",
        "outputId": "f57d8b65-96b8-48fb-9e61-67455d91ab2a",
        "colab": {
          "base_uri": "https://localhost:8080/",
          "height": 204
        }
      },
      "source": [
        "people.head()"
      ],
      "execution_count": null,
      "outputs": [
        {
          "output_type": "execute_result",
          "data": {
            "text/html": [
              "<div>\n",
              "<style scoped>\n",
              "    .dataframe tbody tr th:only-of-type {\n",
              "        vertical-align: middle;\n",
              "    }\n",
              "\n",
              "    .dataframe tbody tr th {\n",
              "        vertical-align: top;\n",
              "    }\n",
              "\n",
              "    .dataframe thead th {\n",
              "        text-align: right;\n",
              "    }\n",
              "</style>\n",
              "<table border=\"1\" class=\"dataframe\">\n",
              "  <thead>\n",
              "    <tr style=\"text-align: right;\">\n",
              "      <th></th>\n",
              "      <th>URI</th>\n",
              "      <th>name</th>\n",
              "      <th>text</th>\n",
              "    </tr>\n",
              "  </thead>\n",
              "  <tbody>\n",
              "    <tr>\n",
              "      <th>0</th>\n",
              "      <td>&lt;http://dbpedia.org/resource/Digby_Morrell&gt;</td>\n",
              "      <td>Digby Morrell</td>\n",
              "      <td>digby morrell born 10 october 1979 is a former...</td>\n",
              "    </tr>\n",
              "    <tr>\n",
              "      <th>1</th>\n",
              "      <td>&lt;http://dbpedia.org/resource/Alfred_J._Lewy&gt;</td>\n",
              "      <td>Alfred J. Lewy</td>\n",
              "      <td>alfred j lewy aka sandy lewy graduated from un...</td>\n",
              "    </tr>\n",
              "    <tr>\n",
              "      <th>2</th>\n",
              "      <td>&lt;http://dbpedia.org/resource/Harpdog_Brown&gt;</td>\n",
              "      <td>Harpdog Brown</td>\n",
              "      <td>harpdog brown is a singer and harmonica player...</td>\n",
              "    </tr>\n",
              "    <tr>\n",
              "      <th>3</th>\n",
              "      <td>&lt;http://dbpedia.org/resource/Franz_Rottensteiner&gt;</td>\n",
              "      <td>Franz Rottensteiner</td>\n",
              "      <td>franz rottensteiner born in waidmannsfeld lowe...</td>\n",
              "    </tr>\n",
              "    <tr>\n",
              "      <th>4</th>\n",
              "      <td>&lt;http://dbpedia.org/resource/G-Enka&gt;</td>\n",
              "      <td>G-Enka</td>\n",
              "      <td>henry krvits born 30 december 1974 in tallinn ...</td>\n",
              "    </tr>\n",
              "  </tbody>\n",
              "</table>\n",
              "</div>"
            ],
            "text/plain": [
              "                                                 URI  ...                                               text\n",
              "0        <http://dbpedia.org/resource/Digby_Morrell>  ...  digby morrell born 10 october 1979 is a former...\n",
              "1       <http://dbpedia.org/resource/Alfred_J._Lewy>  ...  alfred j lewy aka sandy lewy graduated from un...\n",
              "2        <http://dbpedia.org/resource/Harpdog_Brown>  ...  harpdog brown is a singer and harmonica player...\n",
              "3  <http://dbpedia.org/resource/Franz_Rottensteiner>  ...  franz rottensteiner born in waidmannsfeld lowe...\n",
              "4               <http://dbpedia.org/resource/G-Enka>  ...  henry krvits born 30 december 1974 in tallinn ...\n",
              "\n",
              "[5 rows x 3 columns]"
            ]
          },
          "metadata": {
            "tags": []
          },
          "execution_count": 5
        }
      ]
    },
    {
      "cell_type": "code",
      "metadata": {
        "id": "SGn3PcRICQye",
        "outputId": "c090851f-beaa-4e50-c5e0-8e618649fbda",
        "colab": {
          "base_uri": "https://localhost:8080/",
          "height": 187
        }
      },
      "source": [
        "people.info()"
      ],
      "execution_count": null,
      "outputs": [
        {
          "output_type": "stream",
          "text": [
            "<class 'pandas.core.frame.DataFrame'>\n",
            "RangeIndex: 42786 entries, 0 to 42785\n",
            "Data columns (total 3 columns):\n",
            " #   Column  Non-Null Count  Dtype \n",
            "---  ------  --------------  ----- \n",
            " 0   URI     42786 non-null  object\n",
            " 1   name    42786 non-null  object\n",
            " 2   text    42786 non-null  object\n",
            "dtypes: object(3)\n",
            "memory usage: 1002.9+ KB\n"
          ],
          "name": "stdout"
        }
      ]
    },
    {
      "cell_type": "markdown",
      "metadata": {
        "id": "suCMYszs7C8p"
      },
      "source": [
        "##Data Cleaning"
      ]
    },
    {
      "cell_type": "markdown",
      "metadata": {
        "id": "CRH_i88GSGhy"
      },
      "source": [
        "The text column needs to be converted to textblob objects to be useful. "
      ]
    },
    {
      "cell_type": "code",
      "metadata": {
        "id": "u5yFQknESYib"
      },
      "source": [
        "def convert_column_to_textblob(column):\n",
        "  \"\"\"Returns a list of text blob objects from the given column.\"\"\"\n",
        "\n",
        "  new_column = []\n",
        "  for item in column:\n",
        "    x = textblob.TextBlob(item)\n",
        "    new_column.append(x)\n",
        "  return new_column"
      ],
      "execution_count": null,
      "outputs": []
    },
    {
      "cell_type": "code",
      "metadata": {
        "id": "JftKKbofTFKX"
      },
      "source": [
        "bios = pd.Series(convert_column_to_textblob(people['text']), index=people['name'])"
      ],
      "execution_count": null,
      "outputs": []
    },
    {
      "cell_type": "markdown",
      "metadata": {
        "id": "R5U6tSGP7Hzp"
      },
      "source": [
        "##Exploratory Data Analysis"
      ]
    },
    {
      "cell_type": "markdown",
      "metadata": {
        "id": "40uSaOh_QdwL"
      },
      "source": [
        "###Sentiment Analysis"
      ]
    },
    {
      "cell_type": "code",
      "metadata": {
        "id": "wEXCz0qPQSvq"
      },
      "source": [
        "def score_polarity(column):\n",
        "  \"\"\"Returns a list of polarity scores\"\"\"\n",
        "\n",
        "  scores = []\n",
        "  for item in column:\n",
        "    score = item.sentiment.polarity\n",
        "    scores.append(score)\n",
        "  return scores"
      ],
      "execution_count": null,
      "outputs": []
    },
    {
      "cell_type": "code",
      "metadata": {
        "id": "y2y4KbxmW3HK"
      },
      "source": [
        "def score_subjectivity(column):\n",
        "  \"\"\"Returns a list of subjectivity scores\"\"\"\n",
        "\n",
        "  scores = []\n",
        "  for item in column:\n",
        "    score = item.sentiment.subjectivity\n",
        "    scores.append(score)\n",
        "  return scores"
      ],
      "execution_count": null,
      "outputs": []
    },
    {
      "cell_type": "code",
      "metadata": {
        "id": "SPH6Op3zXRQ7"
      },
      "source": [
        "polarity_scores = pd.Series(score_polarity(bios), index=people['name'])"
      ],
      "execution_count": null,
      "outputs": []
    },
    {
      "cell_type": "code",
      "metadata": {
        "id": "cCzWVX0rW9L0"
      },
      "source": [
        "subjectivity_scores = pd.Series(score_subjectivity(bios), index=people['name'])"
      ],
      "execution_count": null,
      "outputs": []
    },
    {
      "cell_type": "markdown",
      "metadata": {
        "id": "KS0uVSypZVq7"
      },
      "source": [
        "###Visualise Polarity and Subjectivity"
      ]
    },
    {
      "cell_type": "code",
      "metadata": {
        "id": "aAESzIvyZVBX",
        "outputId": "77e7783a-87c1-4416-d06f-306525f65a62",
        "colab": {
          "base_uri": "https://localhost:8080/",
          "height": 276
        }
      },
      "source": [
        "plt.style.use('seaborn-white')\n",
        "plt.xlabel('Score')\n",
        "plt.ylabel('Number of Articles')\n",
        "plt.hist(polarity_scores,\n",
        "         bins=300,\n",
        "         color='cadetblue',\n",
        "         histtype='stepfilled',\n",
        "         edgecolor='darkslategray');"
      ],
      "execution_count": null,
      "outputs": [
        {
          "output_type": "display_data",
          "data": {
            "image/png": "[encoded data removed]",
            "text/plain": [
              "<Figure size 432x288 with 1 Axes>"
            ]
          },
          "metadata": {
            "tags": []
          }
        }
      ]
    },
    {
      "cell_type": "code",
      "metadata": {
        "id": "4xAXaTF5bSAv",
        "outputId": "e1a18bc9-1a9c-47f7-85f1-fa7c89d7bea6",
        "colab": {
          "base_uri": "https://localhost:8080/",
          "height": 276
        }
      },
      "source": [
        "plt.style.use('seaborn-white')\n",
        "plt.xlabel('Score')\n",
        "plt.ylabel('Number of Articles')\n",
        "plt.hist(subjectivity_scores,\n",
        "         bins=500,\n",
        "         color='cadetblue',\n",
        "         histtype='stepfilled',\n",
        "         edgecolor='darkslategray',);"
      ],
      "execution_count": null,
      "outputs": [
        {
          "output_type": "display_data",
          "data": {
            "image/png": "[encoded data removed]",
            "text/plain": [
              "<Figure size 432x288 with 1 Axes>"
            ]
          },
          "metadata": {
            "tags": []
          }
        }
      ]
    },
    {
      "cell_type": "markdown",
      "metadata": {
        "id": "kYorkREqoAL2"
      },
      "source": [
        "By the graphs we can see that most bios are slightly positive and mostly objective."
      ]
    },
    {
      "cell_type": "markdown",
      "metadata": {
        "id": "K4ZkX54-7k1w"
      },
      "source": [
        "##Data Processing"
      ]
    },
    {
      "cell_type": "markdown",
      "metadata": {
        "id": "TAD0MHlpgDkB"
      },
      "source": [
        "###Closeness Mapping"
      ]
    },
    {
      "cell_type": "markdown",
      "metadata": {
        "id": "Clp53ToRbXcX"
      },
      "source": [
        "Using the text column, produce a matrix with a vector describing the weights of each word in each biography. "
      ]
    },
    {
      "cell_type": "code",
      "metadata": {
        "id": "-pELTRNRewhG"
      },
      "source": [
        "vectorizer = sklearn.feature_extraction.text.CountVectorizer(stop_words='english')"
      ],
      "execution_count": null,
      "outputs": []
    },
    {
      "cell_type": "code",
      "metadata": {
        "id": "r6QwNSOSaUXv"
      },
      "source": [
        "document_term_matrix = vectorizer.fit_transform(people['text'])"
      ],
      "execution_count": null,
      "outputs": []
    },
    {
      "cell_type": "markdown",
      "metadata": {
        "id": "rPimT-4BJs_j"
      },
      "source": [
        "Produce a nearest neighbors object, and fit it to the document term matrix. "
      ]
    },
    {
      "cell_type": "code",
      "metadata": {
        "id": "wa47Kw20JsiQ"
      },
      "source": [
        "nn = NearestNeighbors(n_neighbors=11)"
      ],
      "execution_count": null,
      "outputs": []
    },
    {
      "cell_type": "code",
      "metadata": {
        "id": "hQCToLD6cTx-",
        "outputId": "024ac4a6-ab88-41cf-c5c5-10d15b10ee3d",
        "colab": {
          "base_uri": "https://localhost:8080/",
          "height": 68
        }
      },
      "source": [
        "nn.fit(document_term_matrix)"
      ],
      "execution_count": null,
      "outputs": [
        {
          "output_type": "execute_result",
          "data": {
            "text/plain": [
              "NearestNeighbors(algorithm='auto', leaf_size=30, metric='minkowski',\n",
              "                 metric_params=None, n_jobs=None, n_neighbors=11, p=2,\n",
              "                 radius=1.0)"
            ]
          },
          "metadata": {
            "tags": []
          },
          "execution_count": 18
        }
      ]
    },
    {
      "cell_type": "markdown",
      "metadata": {
        "id": "SKI_b8Y-pClm"
      },
      "source": [
        "Select a random person from the data set."
      ]
    },
    {
      "cell_type": "code",
      "metadata": {
        "id": "-rt3LYZNzCtH"
      },
      "source": [
        "def select_person():\n",
        "  \"\"\"At random select a person from the list provided.\"\"\"\n",
        "\n",
        "  random_person_index = random.choice(people.index)\n",
        "  random_person = people['name'][random_person_index]\n",
        "  print( 'Your person is ' + random_person + '.')\n",
        "  return random_person, random_person_index"
      ],
      "execution_count": null,
      "outputs": []
    },
    {
      "cell_type": "markdown",
      "metadata": {
        "id": "NCcSIkvDP7j1"
      },
      "source": [
        "Return the 10 closest people to the random person."
      ]
    },
    {
      "cell_type": "code",
      "metadata": {
        "id": "NJB8srmfQ0VF"
      },
      "source": [
        "def find_nearest_to(person):\n",
        "  \"\"\"Print the 10 closest people\"\"\"\n",
        "  if type(person) == str:\n",
        "    person_index = people[people['name'] == person].index[0]\n",
        "  else:\n",
        "    person_index = person\n",
        "  \n",
        "  closest_people = nn.kneighbors(document_term_matrix[person_index])[1]\n",
        "  print(people.loc[closest_people[0],'name'][1:])\n",
        "  return None"
      ],
      "execution_count": null,
      "outputs": []
    },
    {
      "cell_type": "markdown",
      "metadata": {
        "id": "J8ttT0EVPO6_"
      },
      "source": [
        "###Step 1"
      ]
    },
    {
      "cell_type": "code",
      "metadata": {
        "id": "1BPIvWMqPQvj"
      },
      "source": [
        "def step1():\n",
        "  \"\"\"ake one person from the list as input and output the 10 other people who's \n",
        "  overview are \"closest\" to the person in a Natural Language Processing sense.\n",
        "  Also output the sentiment of the overview.\"\"\"\n",
        "\n",
        "  person, index = select_person()\n",
        "  find_nearest_to(index)\n",
        "  return person"
      ],
      "execution_count": null,
      "outputs": []
    },
    {
      "cell_type": "code",
      "metadata": {
        "id": "RoQbK_FBYcAM",
        "outputId": "6d6865cd-f791-4e87-d6ec-28da4e28a249",
        "colab": {
          "base_uri": "https://localhost:8080/",
          "height": 221
        }
      },
      "source": [
        "random_person = step1()"
      ],
      "execution_count": null,
      "outputs": [
        {
          "output_type": "stream",
          "text": [
            "Your person is Michael H. Watson.\n",
            "16839                Paul Ramon Matia\n",
            "6902                    James G. Carr\n",
            "17744              James C. Dever III\n",
            "13832                Gary Allen Feess\n",
            "1679     William Harold Albritton III\n",
            "29678                  Mike Shoemaker\n",
            "7519                 Carol E. Jackson\n",
            "6924                  D. Brock Hornby\n",
            "36852                J. Curtis Joyner\n",
            "33999         James Robertson (judge)\n",
            "Name: name, dtype: object\n"
          ],
          "name": "stdout"
        }
      ]
    },
    {
      "cell_type": "code",
      "metadata": {
        "id": "V-rHd7wJf4jJ",
        "outputId": "1d86753b-2419-4d46-c3c5-a111bf45c7f0",
        "colab": {
          "base_uri": "https://localhost:8080/",
          "height": 544
        }
      },
      "source": [
        "step2('Michael H. Watson')"
      ],
      "execution_count": null,
      "outputs": [
        {
          "output_type": "stream",
          "text": [
            "Michael Harrison Watson (born 1956) is a United States District Judge of the United States District Court for the Southern District of Ohio.\n",
            "This article has a polarity of 0.025000000000000005\n",
            "This article has a sentiment of 0.26180555555555557\n"
          ],
          "name": "stdout"
        },
        {
          "output_type": "display_data",
          "data": {
            "image/png": "[encoded data removed]",
            "text/plain": [
              "<Figure size 720x576 with 1 Axes>"
            ]
          },
          "metadata": {
            "tags": []
          }
        }
      ]
    },
    {
      "cell_type": "code",
      "metadata": {
        "id": "zKCpRCFSfqxK",
        "outputId": "e65a9ab8-e1be-4fff-94e7-325a5d6de176",
        "colab": {
          "base_uri": "https://localhost:8080/",
          "height": 35
        }
      },
      "source": [
        "wikipedia.summary('Michael H. Watson')"
      ],
      "execution_count": null,
      "outputs": [
        {
          "output_type": "execute_result",
          "data": {
            "application/vnd.google.colaboratory.intrinsic+json": {
              "type": "string"
            },
            "text/plain": [
              "'Michael Harrison Watson (born 1956) is a United States District Judge of the United States District Court for the Southern District of Ohio.'"
            ]
          },
          "metadata": {
            "tags": []
          },
          "execution_count": 52
        }
      ]
    },
    {
      "cell_type": "code",
      "metadata": {
        "id": "EJUHTq2LfwQt",
        "outputId": "5b20d97a-576a-431a-fc28-c3c84ed9ea37",
        "colab": {
          "base_uri": "https://localhost:8080/",
          "height": 35
        }
      },
      "source": [
        "wikipedia.summary('Paul Ramon Matia')"
      ],
      "execution_count": null,
      "outputs": [
        {
          "output_type": "execute_result",
          "data": {
            "application/vnd.google.colaboratory.intrinsic+json": {
              "type": "string"
            },
            "text/plain": [
              "'Paul Ramon Matia (born 1937) is a former United States District Judge of the United States District Court for the Northern District of Ohio.'"
            ]
          },
          "metadata": {
            "tags": []
          },
          "execution_count": 53
        }
      ]
    },
    {
      "cell_type": "markdown",
      "metadata": {
        "id": "UjTLCATTpMy7"
      },
      "source": [
        "We can see that often people of the same occupation or time period are closest to each other."
      ]
    },
    {
      "cell_type": "markdown",
      "metadata": {
        "id": "wwY2p0uHVo3F"
      },
      "source": [
        "###Wikipikea Sentiment"
      ]
    },
    {
      "cell_type": "markdown",
      "metadata": {
        "id": "JhoH5f39dY8o"
      },
      "source": [
        "Determin Sentiment of Artical"
      ]
    },
    {
      "cell_type": "code",
      "metadata": {
        "id": "XrVyCJ34dua-"
      },
      "source": [
        "def get_sentiment(page):\n",
        "  \"\"\"Print polarity and subjectivity of wiki page\"\"\"\n",
        "\n",
        "  artical = page.content\n",
        "  artical_blob = textblob.TextBlob(artical)\n",
        "  print('This article has a polarity of ' + \n",
        "        str(artical_blob.sentiment.polarity))\n",
        "  print('This article has a subjectivity of ' + \n",
        "        str(artical_blob.sentiment.subjectivity))\n",
        "  return None"
      ],
      "execution_count": null,
      "outputs": []
    },
    {
      "cell_type": "markdown",
      "metadata": {
        "id": "DRPcEvZZ1Uyr"
      },
      "source": [
        "Determin Sentament over Article"
      ]
    },
    {
      "cell_type": "code",
      "metadata": {
        "id": "hCM4fIrk1Ukj"
      },
      "source": [
        "def get_sentiment_change(page):\n",
        "  \"\"\"Show a graph of the change in sentiment over the article.\"\"\"\n",
        "  \n",
        "  sentences = page.content.split('.')\n",
        "  sentences_blob = convert_column_to_textblob(sentences)\n",
        "  sentence_polarity = score_polarity(sentences_blob)\n",
        "  sentence_subjectivity = score_subjectivity(sentences_blob)\n",
        "  x = range(len(sentences))\n",
        "\n",
        "  plt.figure(figsize=(10,8))\n",
        "  plt.plot(x, sentence_polarity)\n",
        "  plt.plot(x, sentence_subjectivity)\n",
        "  plt.legend(['Polarity', 'Subjectivity'])\n",
        "  plt.ylabel('Subjectivity and Polarity')\n",
        "  plt.xlabel('Sentence')"
      ],
      "execution_count": null,
      "outputs": []
    },
    {
      "cell_type": "markdown",
      "metadata": {
        "id": "TKQ_4QyQcL0V"
      },
      "source": [
        "Get Wikipedia Summary"
      ]
    },
    {
      "cell_type": "code",
      "metadata": {
        "id": "pOcLLL0hbbAC"
      },
      "source": [
        "def print_summary(person):\n",
        "  \"\"\"Print the wiki summary of the person.\"\"\"\n",
        "\n",
        "  print(wikipedia.summary(person))\n",
        "  return None"
      ],
      "execution_count": null,
      "outputs": []
    },
    {
      "cell_type": "markdown",
      "metadata": {
        "id": "m1JJ7G3PqQEm"
      },
      "source": [
        "###Step2"
      ]
    },
    {
      "cell_type": "code",
      "metadata": {
        "id": "YV2dA06LcYTA"
      },
      "source": [
        "def step2(person):\n",
        "  \"\"\"For that Wikipedia page determine the sentiment of the entire page.\n",
        "  Determine any changes in sentiment throughout the article.\n",
        "  Output a summary of the Wikipedia article.\"\"\"\n",
        "\n",
        "  print_summary(person)\n",
        "  persons_page = wikipedia.page(person) \n",
        "  get_sentiment(persons_page)\n",
        "  get_sentiment_change(persons_page)  "
      ],
      "execution_count": null,
      "outputs": []
    },
    {
      "cell_type": "markdown",
      "metadata": {
        "id": "EBWGrkIt7n_-"
      },
      "source": [
        "##Data Visulzation"
      ]
    },
    {
      "cell_type": "code",
      "metadata": {
        "id": "8zSFKk2ofwNL",
        "outputId": "b9be4da7-0576-43c6-93a6-0989dc184853",
        "colab": {
          "base_uri": "https://localhost:8080/",
          "height": 221
        }
      },
      "source": [
        "random_person = step1()"
      ],
      "execution_count": null,
      "outputs": [
        {
          "output_type": "stream",
          "text": [
            "Your person is Flip Mark.\n",
            "11134           Shirley Bonne\n",
            "11164             Cal Bellini\n",
            "21481          Barbara Steele\n",
            "15642      Ron Foster (actor)\n",
            "7732            Robert Mandan\n",
            "31548           Robert Rusler\n",
            "2082     Tim O'Connor (actor)\n",
            "37233     Daniel Ryan (actor)\n",
            "26703            John Ericson\n",
            "7778                Anna-Lisa\n",
            "Name: name, dtype: object\n"
          ],
          "name": "stdout"
        }
      ]
    },
    {
      "cell_type": "code",
      "metadata": {
        "id": "vS71sxfRfOf0",
        "outputId": "62a30b6e-ef58-4e54-fc0c-c938969659f6",
        "colab": {
          "base_uri": "https://localhost:8080/",
          "height": 598
        }
      },
      "source": [
        "step2(random_person)"
      ],
      "execution_count": null,
      "outputs": [
        {
          "output_type": "stream",
          "text": [
            "Philip Mark Goldberg (born December 22, 1948), better known by his stage name Flip Mark, is an American former child actor. He was primarily active in the 1960s.\n",
            "Mark's first role was at the age of ten as \"Flip Rhinelander\" in the 1959 film The Journey, starring Yul Brynner and Deborah Kerr. That same year, he appeared as Robbie Adams in \"Another Day Another Dollar\" of the NBC anthology series Alcoa Theatre. In 1960, he played 11-year-old George MacKay in the Doris Day and David Niven film, Please Don't Eat the Daisies. In the 1959-1960, television season, Mark appeared five times with Jon Provost as play-mate \"Flip Rogers\" on the CBS series, Lassie in episodes entitled \"The Whopper\", \"Alias Jack and Joe\", \"Champ\", \"The Alligator\", and \"The Wallaby\".In 1960, Mark appeared as \"Junior\" in the episode \"My Brother, the Hero\" of the NBC sitcom, The Tab Hunter Show.. In 1961, Mark appeared as \"Dennis\" in the episode \"A Friend to Man\" of the syndicated television series The Brothers Brannagan. He also appeared as \"Tommy\" in the January 22, 1961, episode \"Jack at Supermarket\" of CBS's The Jack Benny Program.Mark was also cast as Brook Hooten on Guestward Ho!. Thereafter, he appeared in guest shots in four CBS series, Have Gun - Will Travel, The Andy Griffith Show, General Electric Theater, and My Favorite Martian.\n",
            "In the 1962-1963 season, he had a regular role as Larry Walker in CBS's Fair Exchange.In 1964, Mark appeared as 15-year-old Kenny Hallop in the episode \"Taps for a Dead War\" of ABC's drama The Fugitive. The same year, he appeared as Kenny Benjamin in the episode \"The Special One\" of the ABC science fiction series The Outer Limits.From 1964-1969, Mark guest starred in several sitcoms, The Lucy Show in the episode \"Lucy and the Missing Stamp\" and Mister Ed on CBS, The Patty Duke Show on ABC, and The Mothers-in-Law on NBC. He then appeared as Fitzgibbons in the 1966 episode \"The State v. Chip Douglas\" of CBS's My Three Sons.From 1965-1966, Mark appeared as the first Steven Olson in the NBC soap opera, Days of Our Lives. In 1968, he guest starred as Jerry Frye in \"The Good Thieves\" of ABC's The Big Valley. Mark's final screen roles were on CBS's Mission: Impossible as a delivery man (uncredited) and in the episode \"The Bullet\" of ABC's The Streets of San Francisco.\n",
            "This article has a polarity of 0.09841269841269842\n",
            "This article has a subjectivity of 0.3536426536426536\n"
          ],
          "name": "stdout"
        },
        {
          "output_type": "display_data",
          "data": {
            "image/png": "[encoded data removed]",
            "text/plain": [
              "<Figure size 720x576 with 1 Axes>"
            ]
          },
          "metadata": {
            "tags": []
          }
        }
      ]
    },
    {
      "cell_type": "code",
      "metadata": {
        "id": "isSwtSBnY_m5",
        "outputId": "ee1a5969-9e2b-47a3-fc58-effa06b8cc46",
        "colab": {
          "base_uri": "https://localhost:8080/",
          "height": 544
        }
      },
      "source": [
        "step2('Naomi Replansky')"
      ],
      "execution_count": null,
      "outputs": [
        {
          "output_type": "stream",
          "text": [
            "Naomi Replansky (born May 23, 1918) is an American poet.\n",
            "This article has a polarity of 0.047456709956709954\n",
            "This article has a subjectivity of 0.4556096681096681\n"
          ],
          "name": "stdout"
        },
        {
          "output_type": "display_data",
          "data": {
            "image/png": "[encoded data removed]",
            "text/plain": [
              "<Figure size 720x576 with 1 Axes>"
            ]
          },
          "metadata": {
            "tags": []
          }
        }
      ]
    },
    {
      "cell_type": "code",
      "metadata": {
        "id": "FsLvqqXzrqgI",
        "outputId": "685004f6-d668-4e69-e28d-0bfb897f0085",
        "colab": {
          "base_uri": "https://localhost:8080/",
          "height": 581
        }
      },
      "source": [
        "step2('Bill Gates')"
      ],
      "execution_count": null,
      "outputs": [
        {
          "output_type": "stream",
          "text": [
            "William Henry Gates III  (born October 28, 1955) is an American business magnate, software developer, investor, and philanthropist. He is best known as the co-founder of Microsoft Corporation. During his career at Microsoft, Gates held the positions of chairman, chief executive officer (CEO), president and chief software architect, while also being the largest individual shareholder until May 2014. He is one of the best-known entrepreneurs and pioneers of the microcomputer revolution of the 1970s and 1980s.\n",
            "Born and raised in Seattle, Washington, Gates co-founded Microsoft with childhood friend Paul Allen in 1975, in Albuquerque, New Mexico; it went on to become the world's largest personal computer software company. Gates led the company as chairman and CEO until stepping down as CEO in January 2000, but he remained chairman and became chief software architect. During the late 1990s, Gates had been criticized for his business tactics, which have been considered anti-competitive. This opinion has been upheld by numerous court rulings. In June 2006, Gates announced that he would be transitioning to a part-time role at Microsoft and full-time work at the Bill & Melinda Gates Foundation, the private charitable foundation that he and his wife, Melinda Gates, established in 2000. He gradually transferred his duties to Ray Ozzie and Craig Mundie. He stepped down as chairman of Microsoft in February 2014 and assumed a new post as technology adviser to support the newly appointed CEO Satya Nadella.Since 1987, he has been included in the Forbes list of the world's wealthiest people. From 1995 to 2017, he held the Forbes title of the richest person in the world all but four of those years. In October 2017, he was surpassed by Amazon founder and CEO Jeff Bezos, who had an estimated net worth of US$90.6 billion compared to Gates's net worth of US$89.9 billion at the time. As of August 2020, Gates had an estimated net worth of US$113.7 billion, making him the second-wealthiest person in the world, behind Bezos.Later in his career and since leaving day-to-day operations at Microsoft in 2008, Gates has pursued a number of philanthropic endeavors. He has given sizable amounts of money to various charitable organizations and scientific research programs through the Bill & Melinda Gates Foundation, reported to be the world's largest private charity. In 2009, Gates and Warren Buffett founded The Giving Pledge, whereby they and other billionaires pledge to give at least half of their wealth to philanthropy.\n",
            "This article has a polarity of 0.09298233963006691\n",
            "This article has a subjectivity of 0.3579840536848111\n"
          ],
          "name": "stdout"
        },
        {
          "output_type": "display_data",
          "data": {
            "image/png": "[encoded data removed]",
            "text/plain": [
              "<Figure size 720x576 with 1 Axes>"
            ]
          },
          "metadata": {
            "tags": []
          }
        }
      ]
    },
    {
      "cell_type": "markdown",
      "metadata": {
        "id": "1UlXfTnJsBBG"
      },
      "source": [
        "Most Wikipedia articles are not long enough to determine if a change in sentiment can hint at multiple authors. The wikipedia articles that are long show a consistently random sentiment over the article, making it impossible to determine multiple authors with any confidence."
      ]
    },
    {
      "cell_type": "markdown",
      "metadata": {
        "id": "7gMKWQRatH02"
      },
      "source": [
        "###Presentation Demonstration"
      ]
    },
    {
      "cell_type": "markdown",
      "metadata": {
        "id": "poN41KXdto-g"
      },
      "source": [
        "Find Index of chosen person, (Roddy Piper)"
      ]
    },
    {
      "cell_type": "code",
      "metadata": {
        "id": "u1oepZkRobS4",
        "outputId": "415d99e5-5023-4196-a9a3-c93a163f5fb8",
        "colab": {
          "base_uri": "https://localhost:8080/",
          "height": 34
        }
      },
      "source": [
        "people[people['name']=='Roddy Piper'].index[0]"
      ],
      "execution_count": null,
      "outputs": [
        {
          "output_type": "execute_result",
          "data": {
            "text/plain": [
              "32819"
            ]
          },
          "metadata": {
            "tags": []
          },
          "execution_count": 89
        }
      ]
    },
    {
      "cell_type": "markdown",
      "metadata": {
        "id": "FJy2C1dQtqzE"
      },
      "source": [
        "Find nearest people by index."
      ]
    },
    {
      "cell_type": "code",
      "metadata": {
        "id": "CDUmMpQeUubz",
        "outputId": "d7ed0eca-2603-4017-c874-a6c925a3e38d",
        "colab": {
          "base_uri": "https://localhost:8080/",
          "height": 204
        }
      },
      "source": [
        "find_nearest_to(people[people['name']=='Roddy Piper'].index[0])"
      ],
      "execution_count": null,
      "outputs": [
        {
          "output_type": "stream",
          "text": [
            "15845       Lita (wrestler)\n",
            "2037          William Regal\n",
            "18432          Jake Roberts\n",
            "19757      Sable (wrestler)\n",
            "21038         Trish Stratus\n",
            "35633        Marie Brassard\n",
            "35976       Rocky Dzidzornu\n",
            "3689           Ralph McTell\n",
            "28802        The Undertaker\n",
            "32308    Julio Palau Lozano\n",
            "Name: name, dtype: object\n"
          ],
          "name": "stdout"
        }
      ]
    },
    {
      "cell_type": "markdown",
      "metadata": {
        "id": "D7gauxRQtx0F"
      },
      "source": [
        "Find nearest people by name."
      ]
    },
    {
      "cell_type": "code",
      "metadata": {
        "id": "kNO-eZJwp8k0",
        "outputId": "01abb55e-c9d6-4127-827a-8e26faf8a771",
        "colab": {
          "base_uri": "https://localhost:8080/",
          "height": 204
        }
      },
      "source": [
        "find_nearest_to('Roddy Piper')"
      ],
      "execution_count": null,
      "outputs": [
        {
          "output_type": "stream",
          "text": [
            "15845       Lita (wrestler)\n",
            "2037          William Regal\n",
            "18432          Jake Roberts\n",
            "19757      Sable (wrestler)\n",
            "21038         Trish Stratus\n",
            "35633        Marie Brassard\n",
            "35976       Rocky Dzidzornu\n",
            "3689           Ralph McTell\n",
            "28802        The Undertaker\n",
            "32308    Julio Palau Lozano\n",
            "Name: name, dtype: object\n"
          ],
          "name": "stdout"
        }
      ]
    },
    {
      "cell_type": "markdown",
      "metadata": {
        "id": "3X3r26pet1ke"
      },
      "source": [
        "Find return summary and sentament over time for chosen perosn. "
      ]
    },
    {
      "cell_type": "code",
      "metadata": {
        "id": "uYkroj29tWKq",
        "outputId": "36051a42-d8cf-4084-f2ba-cf468c141e5f",
        "colab": {
          "base_uri": "https://localhost:8080/",
          "height": 615
        }
      },
      "source": [
        "step2('Roddy Piper')"
      ],
      "execution_count": null,
      "outputs": [
        {
          "output_type": "stream",
          "text": [
            "Roderick George Toombs (April 17, 1954 – July 31, 2015) was a Canadian professional wrestler, amateur wrestler, amateur boxer, and actor, better known by his ring name \"Rowdy\" Roddy Piper.\n",
            "In professional wrestling, Piper was best known to international audiences for his work with the World Wrestling Federation (WWF, now WWE) and World Championship Wrestling (WCW) between 1984 and 2000. Although he was Canadian, because of his Scottish heritage he was billed as coming from Glasgow and was known for his signature kilt and bagpipe entrance music. Piper earned the nicknames \"Rowdy\" and \"Hot Rod\" by displaying his trademark \"Scottish\" rage, spontaneity, and quick wit. According to The Daily Telegraph, he is \"considered by many to be the greatest 'heel' (or villain) wrestler ever\".One of wrestling's most recognizable stars, Piper headlined multiple PPV events, including the WWF and WCW's respective premier annual events, WrestleMania and Starrcade. He accumulated 34 championships and hosted the popular WWF/E interview segment \"Piper's Pit\", which facilitated numerous feuds. In 2005, Piper was inducted into the WWE Hall of Fame by Ric Flair, who dubbed him \"the most gifted entertainer in the history of professional wrestling\".Outside of wrestling, Piper acted in dozens of films and TV shows, most notably taking the lead role of John Nada in the 1988 cult classic They Live and a recurring role as a deranged professional wrestler called Da' Maniac on the FX comedy series It's Always Sunny in Philadelphia. He is also widely known for his role in Hell Comes to Frogtown as the character Sam Hell.\n",
            "\n",
            "\n",
            "This article has a polarity of 0.08889616748991759\n",
            "This article has a subjectivity of 0.4185351839518508\n"
          ],
          "name": "stdout"
        },
        {
          "output_type": "display_data",
          "data": {
            "image/png": "[encoded data removed]",
            "text/plain": [
              "<Figure size 720x576 with 1 Axes>"
            ]
          },
          "metadata": {
            "tags": []
          }
        }
      ]
    },
    {
      "cell_type": "markdown",
      "metadata": {
        "id": "l1CdQRMlYqe6"
      },
      "source": [
        "##For Fun"
      ]
    },
    {
      "cell_type": "markdown",
      "metadata": {
        "id": "8_G_rws2gQhI"
      },
      "source": [
        "###Wiki Game"
      ]
    },
    {
      "cell_type": "markdown",
      "metadata": {
        "id": "bdLVNCulxSfs"
      },
      "source": [
        "Posible difforetn wikiapi  https://pypi.org/project/Wikipedia-API/"
      ]
    },
    {
      "cell_type": "code",
      "metadata": {
        "id": "cdZCQkGUuJo8",
        "outputId": "da2129ec-a1c8-4d2c-9598-19e480d20d26",
        "colab": {
          "base_uri": "https://localhost:8080/",
          "height": 120
        }
      },
      "source": [
        "wiki_game = wikipedia.WikipediaPage('Wikipedia:Wiki Game')\n",
        "wiki_game.content"
      ],
      "execution_count": null,
      "outputs": [
        {
          "output_type": "execute_result",
          "data": {
            "application/vnd.google.colaboratory.intrinsic+json": {
              "type": "string"
            },
            "text/plain": [
              "'The Wiki Game, also known as the Wikipedia race, is a hypertextual game designed to work specifically with Wikipedia. It requires only a computer, Internet access, a web browser and (optionally) a time-keeping device to play.\\n\\n\\n== Objective ==\\nPlayers (one or more) start on the same randomly selected article, and must navigate to another pre-selected target article, solely by clicking links within each article. The goal is to arrive at the target article in the fewest clicks (articles), or the least time. The single-player Wiki Game, known as Wikirace, Wikispeedia, WikiLadders, WikiClick, or WikiWhack, involves reducing one\\'s previous time or number of clicks.\\n\\n\\n== Setup ==\\nUse the random article link in the navigation box to or have someone else (see procedure 1 for more information) select two random articles. One is the start article and the other is the target article.\\nNavigate all players\\' browsers to the start article.\\nPurge the history folder of the web browsers.\\n\\n\\n== Procedures ==\\nThe random selection of pages must be performed by someone other than the player, that is, either an impartial overseer (i.e. referee) or an opponent. Of note, the latter option tends to breed a fun competitiveness between players, where one player tries to pick the most \"random\" (read: tangential) wiki-links for his/her opponent.\\nA close tally must be kept of the number of clicks used by a player; all selections must be accounted for. Whoever has the fewest clicks wins. The browser history can be used to determine number of articles / clicks.\\nA round in the Wiki Game can be played at one computer terminal, where players take turns, or at multiple computers simultaneously. In the latter option, a \"session\" begins immediately after everyone loads their randomized Starting Page and ends when the last person returns to his/her Homing Page. NOTE: It is our experience that rounds with a session consisting of several people require both referees and cooperation between opponents to make sure all are treated fairly.\\nAfter each round, the history folder of the web browser needs to be purged.The game can also be played by seeing who can get to the designated page first, regardless of the number of clicks.\\n\\n\\n== Variations ==\\nIf one ever grows tired of the \"traditional\" version of Wikiracing, several variations of the game have sprung up, created to spice things up or otherwise raise the stakes.\\n\\n\\'2-player Challenge\\': The form of the Wikipedia game where two people take it in turns to ask the other to navigate between two pages of their choosing, e.g. from Teletubbies to noodles. The number of clicks taken is counted, and once a player has completed the challenge, he sets the other a challenge of his own. The winner is the person who completes the game in the fewest clicks.\\n\\'5-Clicks-to-Jesus\\': A form of Wikiracing that mimics golf, the challenge in this version is to get from a Random Article to the Jesus entry in as few clicks as possible. Reaching the article in five clicks is considered \\'par\\', with clicks over or under five being referred to as \\'bogeys\\' and \\'birdies\\' respectively. Players can either play the course (aiming for \\'par\\' or better) or as a competition. In the latter case, players start from the same Random Articles and add their score between rounds. Lowest score wins.\\nTime Trials: Rather than using the click rules, the winner can be determined by whoever reaches the \"Homing Page\" in the shortest amount of time. This is easier with two parallel machines, although it should be noted that they ought to have equivalent Internet connections.\\n\\'One-Can\\'t-Go\\' rule: Essentially, if you find yourself in a doomed-scenario (i.e. stumbled into a stub with no wiki-links) you are allowed to use one of the Category links at the bottom of an entry (e.g. 1904 deaths or Philosophy). Each player can only use this option once though, so use it wisely.\\n\\'Clicks to Hitler\\' Believed to be the original form of \\'The Wikipedia Game,\\' the objective is to begin by selecting the \\'Random Article\\' link. From there you look at the selected article and click the links in the main body of the article that are believed to lead to the Adolf Hitler article. Two players or more can play and they count the number of articles it takes to get to Adolf Hitler. The person who gets there with the fewest articles wins.\\n\\n\\n== Websites for Wikiracing ==\\nWikispeedia is an implementation of the Wiki Game with the additional research purpose of using the gathered data in an artificial intelligence program that automatically learns commonsense knowledge.\\nThe Wikipedia Game is a version of the game where the player has 2 minutes and 30 seconds to get from one website to another. It then averages the number of clicks and time it takes to get to finishing page. The player with the best averages wins. The online player with the most wins is shown as the leader. Although it has a log-in feature, it is not necessary to log-in. It will gives a player without a username a random name when coming to the website. It is an implementation by Alex Clemesha which offers variations called Speedrace, Least Clicks, 6 degrees, Find Jesus in 5, and No using \\'United States\\'.\\nWikipedia Maze was a version of the game that awarded points and badges for both creating and solving puzzles. Every time a user solved a puzzle, they were awarded points based on the average number of clicks it took to solve the puzzle. The harder the puzzle was, the greater the points that were awarded. Each puzzle could be voted up or down by other players, based on whether or not they liked it, which awarded points to the creator. Players were also awarded badges for reaching certain milestones. The site is now defunct and its domain url was taken over and turned into a redirect to a malware site.\\n\\n\\n== The Don\\'ts ==\\nExcept where otherwise noted, any player breaking these rules automatically forfeits the game.\\n\\nDO NOT use the Wiki search box.\\nDO NOT use any of the links outside of the page\\'s contents. The contents of a page are demarcated by gray lines which intersect to make the page box. DO NOT click (for example) \"Help\", \"Donations\", \"Related changes\", \"Category:...\" etc.\\nDO NOT visit external websites. You must stay within the bounds of Wikipedia.\\nDO NOT use the backspace or back arrow to return to a previous page. History is bunk in the Wiki Game (unless a referee or an opponent demands a recount).\\nDO NOT click on dates e.g. 2001, as these pages are too broad to pose a challenge.\\nDO NOT employ automated search tools to find a path for you.\\nDO NOT edit the start page to insert a link to the home page.\\nDO NOT use your browser\\'s address bar to manually navigate to the target article.\\n\\n\\n== External links ==\\nWikispeedia - An implementation for research purposes.\\nThe Wikipedia Game - A free multi-player version.\\nWikipedia Maze Archive. Wikipedia Maze was once another version of the game, but the abandoned domain url now redirects to a malware site.\\nThe Wiki Game. A version outfitted with ranking and leaderboards.\\nWikibattle. An open source implementation hosted on Github Pages. Supports playing against a friend or a random opponent.'"
            ]
          },
          "metadata": {
            "tags": []
          },
          "execution_count": 30
        }
      ]
    },
    {
      "cell_type": "code",
      "metadata": {
        "id": "EqK7-c7RgPxb"
      },
      "source": [
        "def play_wiki_game(start_page, target_page='Bill Gates' ):\n",
        "  \"\"\"Produced a path through the links of Wikipedia from input person to Hitler.\"\"\"\n",
        "\n",
        "  current_page = start_page\n",
        "  path_map = [start_page]\n",
        "  while current_page != target_page:\n",
        "    print(current_page)\n",
        "    current_page = select_branch(current_page, target_page, path_map)\n",
        "    path_map.append(current_page)\n",
        "    continue\n",
        "  print(path_map)\n",
        "  print('You Win!')\n",
        "  return None"
      ],
      "execution_count": null,
      "outputs": []
    },
    {
      "cell_type": "code",
      "metadata": {
        "id": "cgylMPrjg7Mg"
      },
      "source": [
        "def select_branch(current_page, target_page, path_map):\n",
        "  \"\"\"Return the title of the next page\"\"\"\n",
        "\n",
        "  root_page = wikipedia.page(current_page)\n",
        "  branch_list = root_page.links\n",
        "\n",
        "  if target_page in branch_list:\n",
        "    return target_page\n",
        "\n",
        "  lowest_branch = find_lowest_branch(branch_list, target_page)\n",
        "\n",
        "  if lowest_branch not in path_map:\n",
        "    return lowest_branch\n",
        "\n",
        "  else:\n",
        "    while lowest_branch in path_map:\n",
        "      print('Caught loop ' + str(lowest_branch))\n",
        "      branch_list.remove(lowest_branch)\n",
        "      lowest_branch = find_lowest_branch(branch_list, target_page)\n",
        "      continue\n",
        "\n",
        "    return lowest_branch"
      ],
      "execution_count": null,
      "outputs": []
    },
    {
      "cell_type": "code",
      "metadata": {
        "id": "6U1WeBGoWo4C"
      },
      "source": [
        "def find_lowest_branch(branch_list, target_page):\n",
        "  \"\"\"Return the title of the page closest to the target\"\"\"\n",
        "\n",
        "  branch_summaries = get_summaries(branch_list)\n",
        "  branch_summaries.append(wikipedia.summary(target_page))\n",
        "  #target_summary = wikipedia.summary(target_page)\n",
        "  \n",
        "  branch_vectorizer = sklearn.feature_extraction.text.CountVectorizer(\n",
        "      stop_words='english')\n",
        "  #target_vectorizer = sklearn.feature_extraction.text.CountVectorizer(\n",
        "      #stop_words='english')\n",
        "\n",
        "  branch_token_count_matrix = branch_vectorizer.fit_transform(branch_summaries)\n",
        "  #target_token_count_matrix = target_vectorizer.fit_transform([target_summary])\n",
        "\n",
        "  nn = NearestNeighbors(n_neighbors=1)\n",
        "  nn.fit(branch_token_count_matrix[:-1])\n",
        "  \n",
        "  lowest_branch_index = nn.kneighbors(branch_token_count_matrix[-1])[1]\n",
        "  return branch_list[lowest_branch_index[0][0]]"
      ],
      "execution_count": null,
      "outputs": []
    },
    {
      "cell_type": "code",
      "metadata": {
        "id": "BlBDbUGBF0kD"
      },
      "source": [
        "def get_summaries(branch_list):\n",
        "  \"\"\"Return a list with the summaries form for every valid link.\"\"\"\n",
        "\n",
        "  branch_summaries = []\n",
        "  for branch in branch_list:\n",
        "    if '(disambiguation)' in branch:\n",
        "      branch_summaries.append('Skip')\n",
        "      continue\n",
        "\n",
        "    elif wikipedia.suggest(branch) == None:\n",
        "      branch_summaries.append('Skip')\n",
        "      continue\n",
        "\n",
        "    else:\n",
        "      branch_summaries.append(wikipedia.summary(wikipedia.suggest(branch)[0]))\n",
        "      continue\n",
        "\n",
        "  return branch_summaries"
      ],
      "execution_count": null,
      "outputs": []
    },
    {
      "cell_type": "code",
      "metadata": {
        "id": "MQxjIh6dI1oS",
        "outputId": "0ef5d3c4-0b3f-4ecc-b771-de4417ab0f4f",
        "colab": {
          "base_uri": "https://localhost:8080/",
          "height": 1000
        }
      },
      "source": [
        "play_wiki_game('Alvin M. Weinberg', 'Albuquerque, New Mexico')"
      ],
      "execution_count": null,
      "outputs": [
        {
          "output_type": "stream",
          "text": [
            "Alvin M. Weinberg\n",
            "509th Composite Group\n",
            "100th Air Refueling Wing\n",
            "100th Air Refueling Squadron\n",
            "Caught loop 100th Air Refueling Wing\n",
            "100th Bombardment Wing\n",
            "Caught loop 100th Air Refueling Squadron\n",
            "100th Bomb Group Memorial Museum\n",
            "Airfield\n",
            "Abbeyshrule Aerodrome\n",
            "Abbeyshrule\n",
            "Abbeylara\n",
            "Abbeylara GFC\n",
            "Caught loop Abbeylara\n",
            "All-Ireland Senior Club Football Championship\n",
            "1970–71 All-Ireland Senior Club Football Championship\n",
            "Caught loop 1970–71 All-Ireland Senior Club Football Championship\n",
            "1971–72 All-Ireland Senior Club Football Championship\n",
            "Caught loop 1970–71 All-Ireland Senior Club Football Championship\n",
            "Caught loop 1971–72 All-Ireland Senior Club Football Championship\n",
            "1972–73 All-Ireland Senior Club Football Championship\n",
            "Caught loop 1970–71 All-Ireland Senior Club Football Championship\n",
            "Caught loop 1971–72 All-Ireland Senior Club Football Championship\n",
            "Caught loop 1972–73 All-Ireland Senior Club Football Championship\n",
            "1973–74 All-Ireland Senior Club Football Championship\n",
            "Caught loop 1970–71 All-Ireland Senior Club Football Championship\n",
            "Caught loop 1971–72 All-Ireland Senior Club Football Championship\n",
            "Caught loop 1972–73 All-Ireland Senior Club Football Championship\n",
            "Caught loop 1973–74 All-Ireland Senior Club Football Championship\n",
            "1974–75 All-Ireland Senior Club Football Championship\n",
            "Caught loop 1970–71 All-Ireland Senior Club Football Championship\n",
            "Caught loop 1971–72 All-Ireland Senior Club Football Championship\n",
            "Caught loop 1972–73 All-Ireland Senior Club Football Championship\n",
            "Caught loop 1973–74 All-Ireland Senior Club Football Championship\n",
            "Caught loop 1974–75 All-Ireland Senior Club Football Championship\n",
            "1975–76 All-Ireland Senior Club Football Championship\n",
            "Caught loop 1970–71 All-Ireland Senior Club Football Championship\n",
            "Caught loop 1971–72 All-Ireland Senior Club Football Championship\n",
            "Caught loop 1972–73 All-Ireland Senior Club Football Championship\n",
            "Caught loop 1973–74 All-Ireland Senior Club Football Championship\n",
            "Caught loop 1974–75 All-Ireland Senior Club Football Championship\n",
            "Caught loop 1975–76 All-Ireland Senior Club Football Championship\n",
            "1976–77 All-Ireland Senior Club Football Championship\n",
            "Caught loop 1970–71 All-Ireland Senior Club Football Championship\n",
            "Caught loop 1971–72 All-Ireland Senior Club Football Championship\n",
            "Caught loop 1972–73 All-Ireland Senior Club Football Championship\n",
            "Caught loop 1973–74 All-Ireland Senior Club Football Championship\n",
            "Caught loop 1974–75 All-Ireland Senior Club Football Championship\n",
            "Caught loop 1975–76 All-Ireland Senior Club Football Championship\n",
            "Caught loop 1976–77 All-Ireland Senior Club Football Championship\n",
            "1977–78 All-Ireland Senior Club Football Championship\n",
            "Caught loop 1970–71 All-Ireland Senior Club Football Championship\n",
            "Caught loop 1971–72 All-Ireland Senior Club Football Championship\n",
            "Caught loop 1972–73 All-Ireland Senior Club Football Championship\n",
            "Caught loop 1973–74 All-Ireland Senior Club Football Championship\n",
            "Caught loop 1974–75 All-Ireland Senior Club Football Championship\n",
            "Caught loop 1975–76 All-Ireland Senior Club Football Championship\n",
            "Caught loop 1976–77 All-Ireland Senior Club Football Championship\n",
            "Caught loop 1977–78 All-Ireland Senior Club Football Championship\n",
            "1978–79 All-Ireland Senior Club Football Championship\n",
            "Caught loop 1970–71 All-Ireland Senior Club Football Championship\n",
            "Caught loop 1971–72 All-Ireland Senior Club Football Championship\n",
            "Caught loop 1972–73 All-Ireland Senior Club Football Championship\n",
            "Caught loop 1973–74 All-Ireland Senior Club Football Championship\n",
            "Caught loop 1974–75 All-Ireland Senior Club Football Championship\n",
            "Caught loop 1975–76 All-Ireland Senior Club Football Championship\n",
            "Caught loop 1976–77 All-Ireland Senior Club Football Championship\n",
            "Caught loop 1977–78 All-Ireland Senior Club Football Championship\n",
            "Caught loop 1978–79 All-Ireland Senior Club Football Championship\n",
            "1979–80 All-Ireland Senior Club Football Championship\n",
            "Caught loop 1970–71 All-Ireland Senior Club Football Championship\n",
            "Caught loop 1971–72 All-Ireland Senior Club Football Championship\n",
            "Caught loop 1972–73 All-Ireland Senior Club Football Championship\n",
            "Caught loop 1973–74 All-Ireland Senior Club Football Championship\n",
            "Caught loop 1974–75 All-Ireland Senior Club Football Championship\n",
            "Caught loop 1975–76 All-Ireland Senior Club Football Championship\n",
            "Caught loop 1976–77 All-Ireland Senior Club Football Championship\n",
            "Caught loop 1977–78 All-Ireland Senior Club Football Championship\n",
            "Caught loop 1978–79 All-Ireland Senior Club Football Championship\n",
            "Caught loop 1979–80 All-Ireland Senior Club Football Championship\n",
            "1980–81 All-Ireland Senior Club Football Championship\n",
            "Caught loop 1970–71 All-Ireland Senior Club Football Championship\n",
            "Caught loop 1971–72 All-Ireland Senior Club Football Championship\n",
            "Caught loop 1972–73 All-Ireland Senior Club Football Championship\n",
            "Caught loop 1973–74 All-Ireland Senior Club Football Championship\n",
            "Caught loop 1974–75 All-Ireland Senior Club Football Championship\n",
            "Caught loop 1975–76 All-Ireland Senior Club Football Championship\n",
            "Caught loop 1976–77 All-Ireland Senior Club Football Championship\n",
            "Caught loop 1977–78 All-Ireland Senior Club Football Championship\n",
            "Caught loop 1978–79 All-Ireland Senior Club Football Championship\n",
            "Caught loop 1979–80 All-Ireland Senior Club Football Championship\n",
            "Caught loop 1980–81 All-Ireland Senior Club Football Championship\n",
            "1981–82 All-Ireland Senior Club Football Championship\n",
            "Caught loop 1970–71 All-Ireland Senior Club Football Championship\n",
            "Caught loop 1971–72 All-Ireland Senior Club Football Championship\n",
            "Caught loop 1972–73 All-Ireland Senior Club Football Championship\n",
            "Caught loop 1973–74 All-Ireland Senior Club Football Championship\n",
            "Caught loop 1974–75 All-Ireland Senior Club Football Championship\n",
            "Caught loop 1975–76 All-Ireland Senior Club Football Championship\n",
            "Caught loop 1976–77 All-Ireland Senior Club Football Championship\n",
            "Caught loop 1977–78 All-Ireland Senior Club Football Championship\n",
            "Caught loop 1978–79 All-Ireland Senior Club Football Championship\n",
            "Caught loop 1979–80 All-Ireland Senior Club Football Championship\n",
            "Caught loop 1980–81 All-Ireland Senior Club Football Championship\n",
            "Caught loop 1981–82 All-Ireland Senior Club Football Championship\n",
            "1982–83 All-Ireland Senior Club Football Championship\n",
            "Caught loop 1970–71 All-Ireland Senior Club Football Championship\n",
            "Caught loop 1971–72 All-Ireland Senior Club Football Championship\n",
            "Caught loop 1972–73 All-Ireland Senior Club Football Championship\n",
            "Caught loop 1973–74 All-Ireland Senior Club Football Championship\n",
            "Caught loop 1974–75 All-Ireland Senior Club Football Championship\n",
            "Caught loop 1975–76 All-Ireland Senior Club Football Championship\n",
            "Caught loop 1976–77 All-Ireland Senior Club Football Championship\n",
            "Caught loop 1977–78 All-Ireland Senior Club Football Championship\n",
            "Caught loop 1978–79 All-Ireland Senior Club Football Championship\n",
            "Caught loop 1979–80 All-Ireland Senior Club Football Championship\n",
            "Caught loop 1980–81 All-Ireland Senior Club Football Championship\n",
            "Caught loop 1981–82 All-Ireland Senior Club Football Championship\n",
            "Caught loop 1982–83 All-Ireland Senior Club Football Championship\n",
            "1983–84 All-Ireland Senior Club Football Championship\n",
            "Caught loop 1970–71 All-Ireland Senior Club Football Championship\n",
            "Caught loop 1971–72 All-Ireland Senior Club Football Championship\n",
            "Caught loop 1972–73 All-Ireland Senior Club Football Championship\n",
            "Caught loop 1973–74 All-Ireland Senior Club Football Championship\n",
            "Caught loop 1974–75 All-Ireland Senior Club Football Championship\n",
            "Caught loop 1975–76 All-Ireland Senior Club Football Championship\n",
            "Caught loop 1976–77 All-Ireland Senior Club Football Championship\n",
            "Caught loop 1977–78 All-Ireland Senior Club Football Championship\n",
            "Caught loop 1978–79 All-Ireland Senior Club Football Championship\n",
            "Caught loop 1979–80 All-Ireland Senior Club Football Championship\n",
            "Caught loop 1980–81 All-Ireland Senior Club Football Championship\n",
            "Caught loop 1981–82 All-Ireland Senior Club Football Championship\n",
            "Caught loop 1982–83 All-Ireland Senior Club Football Championship\n",
            "Caught loop 1983–84 All-Ireland Senior Club Football Championship\n",
            "1984–85 All-Ireland Senior Club Football Championship\n",
            "Caught loop 1970–71 All-Ireland Senior Club Football Championship\n",
            "Caught loop 1971–72 All-Ireland Senior Club Football Championship\n",
            "Caught loop 1972–73 All-Ireland Senior Club Football Championship\n",
            "Caught loop 1973–74 All-Ireland Senior Club Football Championship\n",
            "Caught loop 1974–75 All-Ireland Senior Club Football Championship\n",
            "Caught loop 1975–76 All-Ireland Senior Club Football Championship\n",
            "Caught loop 1976–77 All-Ireland Senior Club Football Championship\n",
            "Caught loop 1977–78 All-Ireland Senior Club Football Championship\n",
            "Caught loop 1978–79 All-Ireland Senior Club Football Championship\n",
            "Caught loop 1979–80 All-Ireland Senior Club Football Championship\n",
            "Caught loop 1980–81 All-Ireland Senior Club Football Championship\n",
            "Caught loop 1981–82 All-Ireland Senior Club Football Championship\n",
            "Caught loop 1982–83 All-Ireland Senior Club Football Championship\n",
            "Caught loop 1983–84 All-Ireland Senior Club Football Championship\n",
            "Caught loop 1984–85 All-Ireland Senior Club Football Championship\n",
            "1985–86 All-Ireland Senior Club Football Championship\n",
            "Caught loop 1970–71 All-Ireland Senior Club Football Championship\n",
            "Caught loop 1971–72 All-Ireland Senior Club Football Championship\n",
            "Caught loop 1972–73 All-Ireland Senior Club Football Championship\n",
            "Caught loop 1973–74 All-Ireland Senior Club Football Championship\n",
            "Caught loop 1974–75 All-Ireland Senior Club Football Championship\n",
            "Caught loop 1975–76 All-Ireland Senior Club Football Championship\n",
            "Caught loop 1976–77 All-Ireland Senior Club Football Championship\n",
            "Caught loop 1977–78 All-Ireland Senior Club Football Championship\n",
            "Caught loop 1978–79 All-Ireland Senior Club Football Championship\n",
            "Caught loop 1979–80 All-Ireland Senior Club Football Championship\n",
            "Caught loop 1980–81 All-Ireland Senior Club Football Championship\n",
            "Caught loop 1981–82 All-Ireland Senior Club Football Championship\n",
            "Caught loop 1982–83 All-Ireland Senior Club Football Championship\n",
            "Caught loop 1983–84 All-Ireland Senior Club Football Championship\n",
            "Caught loop 1984–85 All-Ireland Senior Club Football Championship\n",
            "Caught loop 1985–86 All-Ireland Senior Club Football Championship\n",
            "1986–87 All-Ireland Senior Club Football Championship\n",
            "Caught loop 1970–71 All-Ireland Senior Club Football Championship\n",
            "Caught loop 1971–72 All-Ireland Senior Club Football Championship\n",
            "Caught loop 1972–73 All-Ireland Senior Club Football Championship\n",
            "Caught loop 1973–74 All-Ireland Senior Club Football Championship\n",
            "Caught loop 1974–75 All-Ireland Senior Club Football Championship\n",
            "Caught loop 1975–76 All-Ireland Senior Club Football Championship\n",
            "Caught loop 1976–77 All-Ireland Senior Club Football Championship\n",
            "Caught loop 1977–78 All-Ireland Senior Club Football Championship\n",
            "Caught loop 1978–79 All-Ireland Senior Club Football Championship\n",
            "Caught loop 1979–80 All-Ireland Senior Club Football Championship\n",
            "Caught loop 1980–81 All-Ireland Senior Club Football Championship\n",
            "Caught loop 1981–82 All-Ireland Senior Club Football Championship\n",
            "Caught loop 1982–83 All-Ireland Senior Club Football Championship\n",
            "Caught loop 1983–84 All-Ireland Senior Club Football Championship\n",
            "Caught loop 1984–85 All-Ireland Senior Club Football Championship\n",
            "Caught loop 1985–86 All-Ireland Senior Club Football Championship\n",
            "Caught loop 1986–87 All-Ireland Senior Club Football Championship\n",
            "1987–88 All-Ireland Senior Club Football Championship\n",
            "Caught loop 1970–71 All-Ireland Senior Club Football Championship\n",
            "Caught loop 1971–72 All-Ireland Senior Club Football Championship\n",
            "Caught loop 1972–73 All-Ireland Senior Club Football Championship\n",
            "Caught loop 1973–74 All-Ireland Senior Club Football Championship\n",
            "Caught loop 1974–75 All-Ireland Senior Club Football Championship\n",
            "Caught loop 1975–76 All-Ireland Senior Club Football Championship\n",
            "Caught loop 1976–77 All-Ireland Senior Club Football Championship\n",
            "Caught loop 1977–78 All-Ireland Senior Club Football Championship\n",
            "Caught loop 1978–79 All-Ireland Senior Club Football Championship\n",
            "Caught loop 1979–80 All-Ireland Senior Club Football Championship\n",
            "Caught loop 1980–81 All-Ireland Senior Club Football Championship\n",
            "Caught loop 1981–82 All-Ireland Senior Club Football Championship\n",
            "Caught loop 1982–83 All-Ireland Senior Club Football Championship\n",
            "Caught loop 1983–84 All-Ireland Senior Club Football Championship\n",
            "Caught loop 1984–85 All-Ireland Senior Club Football Championship\n",
            "Caught loop 1985–86 All-Ireland Senior Club Football Championship\n",
            "Caught loop 1986–87 All-Ireland Senior Club Football Championship\n",
            "Caught loop 1987–88 All-Ireland Senior Club Football Championship\n",
            "1988–89 All-Ireland Senior Club Football Championship\n",
            "Caught loop 1970–71 All-Ireland Senior Club Football Championship\n",
            "Caught loop 1971–72 All-Ireland Senior Club Football Championship\n",
            "Caught loop 1972–73 All-Ireland Senior Club Football Championship\n",
            "Caught loop 1973–74 All-Ireland Senior Club Football Championship\n",
            "Caught loop 1974–75 All-Ireland Senior Club Football Championship\n",
            "Caught loop 1975–76 All-Ireland Senior Club Football Championship\n",
            "Caught loop 1976–77 All-Ireland Senior Club Football Championship\n",
            "Caught loop 1977–78 All-Ireland Senior Club Football Championship\n",
            "Caught loop 1978–79 All-Ireland Senior Club Football Championship\n",
            "Caught loop 1979–80 All-Ireland Senior Club Football Championship\n",
            "Caught loop 1980–81 All-Ireland Senior Club Football Championship\n",
            "Caught loop 1981–82 All-Ireland Senior Club Football Championship\n",
            "Caught loop 1982–83 All-Ireland Senior Club Football Championship\n",
            "Caught loop 1983–84 All-Ireland Senior Club Football Championship\n",
            "Caught loop 1984–85 All-Ireland Senior Club Football Championship\n",
            "Caught loop 1985–86 All-Ireland Senior Club Football Championship\n",
            "Caught loop 1986–87 All-Ireland Senior Club Football Championship\n",
            "Caught loop 1987–88 All-Ireland Senior Club Football Championship\n",
            "Caught loop 1988–89 All-Ireland Senior Club Football Championship\n",
            "1989–90 All-Ireland Senior Club Football Championship\n",
            "Caught loop 1970–71 All-Ireland Senior Club Football Championship\n",
            "Caught loop 1971–72 All-Ireland Senior Club Football Championship\n",
            "Caught loop 1972–73 All-Ireland Senior Club Football Championship\n",
            "Caught loop 1973–74 All-Ireland Senior Club Football Championship\n",
            "Caught loop 1974–75 All-Ireland Senior Club Football Championship\n",
            "Caught loop 1975–76 All-Ireland Senior Club Football Championship\n",
            "Caught loop 1976–77 All-Ireland Senior Club Football Championship\n",
            "Caught loop 1977–78 All-Ireland Senior Club Football Championship\n",
            "Caught loop 1978–79 All-Ireland Senior Club Football Championship\n",
            "Caught loop 1979–80 All-Ireland Senior Club Football Championship\n",
            "Caught loop 1980–81 All-Ireland Senior Club Football Championship\n",
            "Caught loop 1981–82 All-Ireland Senior Club Football Championship\n",
            "Caught loop 1982–83 All-Ireland Senior Club Football Championship\n",
            "Caught loop 1983–84 All-Ireland Senior Club Football Championship\n",
            "Caught loop 1984–85 All-Ireland Senior Club Football Championship\n",
            "Caught loop 1985–86 All-Ireland Senior Club Football Championship\n",
            "Caught loop 1986–87 All-Ireland Senior Club Football Championship\n",
            "Caught loop 1987–88 All-Ireland Senior Club Football Championship\n",
            "Caught loop 1988–89 All-Ireland Senior Club Football Championship\n",
            "Caught loop 1989–90 All-Ireland Senior Club Football Championship\n",
            "1990–91 All-Ireland Senior Club Football Championship\n",
            "Caught loop 1970–71 All-Ireland Senior Club Football Championship\n",
            "Caught loop 1971–72 All-Ireland Senior Club Football Championship\n",
            "Caught loop 1972–73 All-Ireland Senior Club Football Championship\n",
            "Caught loop 1973–74 All-Ireland Senior Club Football Championship\n",
            "Caught loop 1974–75 All-Ireland Senior Club Football Championship\n",
            "Caught loop 1975–76 All-Ireland Senior Club Football Championship\n",
            "Caught loop 1976–77 All-Ireland Senior Club Football Championship\n",
            "Caught loop 1977–78 All-Ireland Senior Club Football Championship\n",
            "Caught loop 1978–79 All-Ireland Senior Club Football Championship\n",
            "Caught loop 1979–80 All-Ireland Senior Club Football Championship\n",
            "Caught loop 1980–81 All-Ireland Senior Club Football Championship\n",
            "Caught loop 1981–82 All-Ireland Senior Club Football Championship\n",
            "Caught loop 1982–83 All-Ireland Senior Club Football Championship\n",
            "Caught loop 1983–84 All-Ireland Senior Club Football Championship\n",
            "Caught loop 1984–85 All-Ireland Senior Club Football Championship\n",
            "Caught loop 1985–86 All-Ireland Senior Club Football Championship\n",
            "Caught loop 1986–87 All-Ireland Senior Club Football Championship\n",
            "Caught loop 1987–88 All-Ireland Senior Club Football Championship\n",
            "Caught loop 1988–89 All-Ireland Senior Club Football Championship\n",
            "Caught loop 1989–90 All-Ireland Senior Club Football Championship\n",
            "Caught loop 1990–91 All-Ireland Senior Club Football Championship\n",
            "1991–92 All-Ireland Senior Club Football Championship\n",
            "Caught loop 1970–71 All-Ireland Senior Club Football Championship\n",
            "Caught loop 1971–72 All-Ireland Senior Club Football Championship\n",
            "Caught loop 1972–73 All-Ireland Senior Club Football Championship\n",
            "Caught loop 1973–74 All-Ireland Senior Club Football Championship\n",
            "Caught loop 1974–75 All-Ireland Senior Club Football Championship\n",
            "Caught loop 1975–76 All-Ireland Senior Club Football Championship\n",
            "Caught loop 1976–77 All-Ireland Senior Club Football Championship\n",
            "Caught loop 1977–78 All-Ireland Senior Club Football Championship\n",
            "Caught loop 1978–79 All-Ireland Senior Club Football Championship\n",
            "Caught loop 1979–80 All-Ireland Senior Club Football Championship\n",
            "Caught loop 1980–81 All-Ireland Senior Club Football Championship\n",
            "Caught loop 1981–82 All-Ireland Senior Club Football Championship\n",
            "Caught loop 1982–83 All-Ireland Senior Club Football Championship\n",
            "Caught loop 1983–84 All-Ireland Senior Club Football Championship\n",
            "Caught loop 1984–85 All-Ireland Senior Club Football Championship\n",
            "Caught loop 1985–86 All-Ireland Senior Club Football Championship\n",
            "Caught loop 1986–87 All-Ireland Senior Club Football Championship\n",
            "Caught loop 1987–88 All-Ireland Senior Club Football Championship\n",
            "Caught loop 1988–89 All-Ireland Senior Club Football Championship\n",
            "Caught loop 1989–90 All-Ireland Senior Club Football Championship\n",
            "Caught loop 1990–91 All-Ireland Senior Club Football Championship\n",
            "Caught loop 1991–92 All-Ireland Senior Club Football Championship\n",
            "1992–93 All-Ireland Senior Club Football Championship\n",
            "Caught loop 1970–71 All-Ireland Senior Club Football Championship\n",
            "Caught loop 1971–72 All-Ireland Senior Club Football Championship\n",
            "Caught loop 1972–73 All-Ireland Senior Club Football Championship\n",
            "Caught loop 1973–74 All-Ireland Senior Club Football Championship\n",
            "Caught loop 1974–75 All-Ireland Senior Club Football Championship\n",
            "Caught loop 1975–76 All-Ireland Senior Club Football Championship\n",
            "Caught loop 1976–77 All-Ireland Senior Club Football Championship\n",
            "Caught loop 1977–78 All-Ireland Senior Club Football Championship\n",
            "Caught loop 1978–79 All-Ireland Senior Club Football Championship\n",
            "Caught loop 1979–80 All-Ireland Senior Club Football Championship\n",
            "Caught loop 1980–81 All-Ireland Senior Club Football Championship\n",
            "Caught loop 1981–82 All-Ireland Senior Club Football Championship\n",
            "Caught loop 1982–83 All-Ireland Senior Club Football Championship\n",
            "Caught loop 1983–84 All-Ireland Senior Club Football Championship\n",
            "Caught loop 1984–85 All-Ireland Senior Club Football Championship\n",
            "Caught loop 1985–86 All-Ireland Senior Club Football Championship\n",
            "Caught loop 1986–87 All-Ireland Senior Club Football Championship\n",
            "Caught loop 1987–88 All-Ireland Senior Club Football Championship\n",
            "Caught loop 1988–89 All-Ireland Senior Club Football Championship\n",
            "Caught loop 1989–90 All-Ireland Senior Club Football Championship\n",
            "Caught loop 1990–91 All-Ireland Senior Club Football Championship\n",
            "Caught loop 1991–92 All-Ireland Senior Club Football Championship\n",
            "Caught loop 1992–93 All-Ireland Senior Club Football Championship\n",
            "1993–94 All-Ireland Senior Club Football Championship\n",
            "Caught loop 1970–71 All-Ireland Senior Club Football Championship\n",
            "Caught loop 1971–72 All-Ireland Senior Club Football Championship\n",
            "Caught loop 1972–73 All-Ireland Senior Club Football Championship\n",
            "Caught loop 1973–74 All-Ireland Senior Club Football Championship\n",
            "Caught loop 1974–75 All-Ireland Senior Club Football Championship\n",
            "Caught loop 1975–76 All-Ireland Senior Club Football Championship\n",
            "Caught loop 1976–77 All-Ireland Senior Club Football Championship\n",
            "Caught loop 1977–78 All-Ireland Senior Club Football Championship\n",
            "Caught loop 1978–79 All-Ireland Senior Club Football Championship\n",
            "Caught loop 1979–80 All-Ireland Senior Club Football Championship\n",
            "Caught loop 1980–81 All-Ireland Senior Club Football Championship\n",
            "Caught loop 1981–82 All-Ireland Senior Club Football Championship\n",
            "Caught loop 1982–83 All-Ireland Senior Club Football Championship\n",
            "Caught loop 1983–84 All-Ireland Senior Club Football Championship\n",
            "Caught loop 1984–85 All-Ireland Senior Club Football Championship\n",
            "Caught loop 1985–86 All-Ireland Senior Club Football Championship\n",
            "Caught loop 1986–87 All-Ireland Senior Club Football Championship\n",
            "Caught loop 1987–88 All-Ireland Senior Club Football Championship\n",
            "Caught loop 1988–89 All-Ireland Senior Club Football Championship\n",
            "Caught loop 1989–90 All-Ireland Senior Club Football Championship\n",
            "Caught loop 1990–91 All-Ireland Senior Club Football Championship\n",
            "Caught loop 1991–92 All-Ireland Senior Club Football Championship\n",
            "Caught loop 1992–93 All-Ireland Senior Club Football Championship\n",
            "Caught loop 1993–94 All-Ireland Senior Club Football Championship\n",
            "1994–95 All-Ireland Senior Club Football Championship\n",
            "Caught loop 1970–71 All-Ireland Senior Club Football Championship\n",
            "Caught loop 1971–72 All-Ireland Senior Club Football Championship\n",
            "Caught loop 1972–73 All-Ireland Senior Club Football Championship\n",
            "Caught loop 1973–74 All-Ireland Senior Club Football Championship\n",
            "Caught loop 1974–75 All-Ireland Senior Club Football Championship\n",
            "Caught loop 1975–76 All-Ireland Senior Club Football Championship\n",
            "Caught loop 1976–77 All-Ireland Senior Club Football Championship\n",
            "Caught loop 1977–78 All-Ireland Senior Club Football Championship\n",
            "Caught loop 1978–79 All-Ireland Senior Club Football Championship\n",
            "Caught loop 1979–80 All-Ireland Senior Club Football Championship\n",
            "Caught loop 1980–81 All-Ireland Senior Club Football Championship\n",
            "Caught loop 1981–82 All-Ireland Senior Club Football Championship\n",
            "Caught loop 1982–83 All-Ireland Senior Club Football Championship\n",
            "Caught loop 1983–84 All-Ireland Senior Club Football Championship\n",
            "Caught loop 1984–85 All-Ireland Senior Club Football Championship\n",
            "Caught loop 1985–86 All-Ireland Senior Club Football Championship\n",
            "Caught loop 1986–87 All-Ireland Senior Club Football Championship\n",
            "Caught loop 1987–88 All-Ireland Senior Club Football Championship\n",
            "Caught loop 1988–89 All-Ireland Senior Club Football Championship\n",
            "Caught loop 1989–90 All-Ireland Senior Club Football Championship\n",
            "Caught loop 1990–91 All-Ireland Senior Club Football Championship\n",
            "Caught loop 1991–92 All-Ireland Senior Club Football Championship\n",
            "Caught loop 1992–93 All-Ireland Senior Club Football Championship\n",
            "Caught loop 1993–94 All-Ireland Senior Club Football Championship\n",
            "Caught loop 1994–95 All-Ireland Senior Club Football Championship\n",
            "1995–96 All-Ireland Senior Club Football Championship\n",
            "Caught loop 1970–71 All-Ireland Senior Club Football Championship\n",
            "Caught loop 1971–72 All-Ireland Senior Club Football Championship\n",
            "Caught loop 1972–73 All-Ireland Senior Club Football Championship\n",
            "Caught loop 1973–74 All-Ireland Senior Club Football Championship\n",
            "Caught loop 1974–75 All-Ireland Senior Club Football Championship\n",
            "Caught loop 1975–76 All-Ireland Senior Club Football Championship\n",
            "Caught loop 1976–77 All-Ireland Senior Club Football Championship\n",
            "Caught loop 1977–78 All-Ireland Senior Club Football Championship\n",
            "Caught loop 1978–79 All-Ireland Senior Club Football Championship\n",
            "Caught loop 1979–80 All-Ireland Senior Club Football Championship\n",
            "Caught loop 1980–81 All-Ireland Senior Club Football Championship\n",
            "Caught loop 1981–82 All-Ireland Senior Club Football Championship\n",
            "Caught loop 1982–83 All-Ireland Senior Club Football Championship\n",
            "Caught loop 1983–84 All-Ireland Senior Club Football Championship\n",
            "Caught loop 1984–85 All-Ireland Senior Club Football Championship\n",
            "Caught loop 1985–86 All-Ireland Senior Club Football Championship\n",
            "Caught loop 1986–87 All-Ireland Senior Club Football Championship\n",
            "Caught loop 1987–88 All-Ireland Senior Club Football Championship\n",
            "Caught loop 1988–89 All-Ireland Senior Club Football Championship\n",
            "Caught loop 1989–90 All-Ireland Senior Club Football Championship\n",
            "Caught loop 1990–91 All-Ireland Senior Club Football Championship\n",
            "Caught loop 1991–92 All-Ireland Senior Club Football Championship\n",
            "Caught loop 1992–93 All-Ireland Senior Club Football Championship\n",
            "Caught loop 1993–94 All-Ireland Senior Club Football Championship\n",
            "Caught loop 1994–95 All-Ireland Senior Club Football Championship\n",
            "Caught loop 1995–96 All-Ireland Senior Club Football Championship\n",
            "1996–97 All-Ireland Senior Club Football Championship\n",
            "Caught loop 1970–71 All-Ireland Senior Club Football Championship\n",
            "Caught loop 1971–72 All-Ireland Senior Club Football Championship\n",
            "Caught loop 1972–73 All-Ireland Senior Club Football Championship\n",
            "Caught loop 1973–74 All-Ireland Senior Club Football Championship\n",
            "Caught loop 1974–75 All-Ireland Senior Club Football Championship\n",
            "Caught loop 1975–76 All-Ireland Senior Club Football Championship\n",
            "Caught loop 1976–77 All-Ireland Senior Club Football Championship\n",
            "Caught loop 1977–78 All-Ireland Senior Club Football Championship\n",
            "Caught loop 1978–79 All-Ireland Senior Club Football Championship\n",
            "Caught loop 1979–80 All-Ireland Senior Club Football Championship\n",
            "Caught loop 1980–81 All-Ireland Senior Club Football Championship\n",
            "Caught loop 1981–82 All-Ireland Senior Club Football Championship\n",
            "Caught loop 1982–83 All-Ireland Senior Club Football Championship\n",
            "Caught loop 1983–84 All-Ireland Senior Club Football Championship\n",
            "Caught loop 1984–85 All-Ireland Senior Club Football Championship\n",
            "Caught loop 1985–86 All-Ireland Senior Club Football Championship\n",
            "Caught loop 1986–87 All-Ireland Senior Club Football Championship\n",
            "Caught loop 1987–88 All-Ireland Senior Club Football Championship\n",
            "Caught loop 1988–89 All-Ireland Senior Club Football Championship\n",
            "Caught loop 1989–90 All-Ireland Senior Club Football Championship\n",
            "Caught loop 1990–91 All-Ireland Senior Club Football Championship\n",
            "Caught loop 1991–92 All-Ireland Senior Club Football Championship\n",
            "Caught loop 1992–93 All-Ireland Senior Club Football Championship\n",
            "Caught loop 1993–94 All-Ireland Senior Club Football Championship\n",
            "Caught loop 1994–95 All-Ireland Senior Club Football Championship\n",
            "Caught loop 1995–96 All-Ireland Senior Club Football Championship\n",
            "Caught loop 1996–97 All-Ireland Senior Club Football Championship\n",
            "1997–98 All-Ireland Senior Club Football Championship\n",
            "Caught loop 1970–71 All-Ireland Senior Club Football Championship\n",
            "Caught loop 1971–72 All-Ireland Senior Club Football Championship\n",
            "Caught loop 1972–73 All-Ireland Senior Club Football Championship\n",
            "Caught loop 1973–74 All-Ireland Senior Club Football Championship\n",
            "Caught loop 1974–75 All-Ireland Senior Club Football Championship\n",
            "Caught loop 1975–76 All-Ireland Senior Club Football Championship\n",
            "Caught loop 1976–77 All-Ireland Senior Club Football Championship\n",
            "Caught loop 1977–78 All-Ireland Senior Club Football Championship\n",
            "Caught loop 1978–79 All-Ireland Senior Club Football Championship\n",
            "Caught loop 1979–80 All-Ireland Senior Club Football Championship\n",
            "Caught loop 1980–81 All-Ireland Senior Club Football Championship\n",
            "Caught loop 1981–82 All-Ireland Senior Club Football Championship\n",
            "Caught loop 1982–83 All-Ireland Senior Club Football Championship\n",
            "Caught loop 1983–84 All-Ireland Senior Club Football Championship\n",
            "Caught loop 1984–85 All-Ireland Senior Club Football Championship\n",
            "Caught loop 1985–86 All-Ireland Senior Club Football Championship\n",
            "Caught loop 1986–87 All-Ireland Senior Club Football Championship\n",
            "Caught loop 1987–88 All-Ireland Senior Club Football Championship\n",
            "Caught loop 1988–89 All-Ireland Senior Club Football Championship\n",
            "Caught loop 1989–90 All-Ireland Senior Club Football Championship\n",
            "Caught loop 1990–91 All-Ireland Senior Club Football Championship\n",
            "Caught loop 1991–92 All-Ireland Senior Club Football Championship\n",
            "Caught loop 1992–93 All-Ireland Senior Club Football Championship\n",
            "Caught loop 1993–94 All-Ireland Senior Club Football Championship\n",
            "Caught loop 1994–95 All-Ireland Senior Club Football Championship\n",
            "Caught loop 1995–96 All-Ireland Senior Club Football Championship\n",
            "Caught loop 1996–97 All-Ireland Senior Club Football Championship\n",
            "Caught loop 1997–98 All-Ireland Senior Club Football Championship\n",
            "1998–99 All-Ireland Senior Club Football Championship\n",
            "Caught loop 1970–71 All-Ireland Senior Club Football Championship\n",
            "Caught loop 1971–72 All-Ireland Senior Club Football Championship\n",
            "Caught loop 1972–73 All-Ireland Senior Club Football Championship\n",
            "Caught loop 1973–74 All-Ireland Senior Club Football Championship\n",
            "Caught loop 1974–75 All-Ireland Senior Club Football Championship\n",
            "Caught loop 1975–76 All-Ireland Senior Club Football Championship\n",
            "Caught loop 1976–77 All-Ireland Senior Club Football Championship\n",
            "Caught loop 1977–78 All-Ireland Senior Club Football Championship\n",
            "Caught loop 1978–79 All-Ireland Senior Club Football Championship\n",
            "Caught loop 1979–80 All-Ireland Senior Club Football Championship\n",
            "Caught loop 1980–81 All-Ireland Senior Club Football Championship\n",
            "Caught loop 1981–82 All-Ireland Senior Club Football Championship\n",
            "Caught loop 1982–83 All-Ireland Senior Club Football Championship\n",
            "Caught loop 1983–84 All-Ireland Senior Club Football Championship\n",
            "Caught loop 1984–85 All-Ireland Senior Club Football Championship\n",
            "Caught loop 1985–86 All-Ireland Senior Club Football Championship\n",
            "Caught loop 1986–87 All-Ireland Senior Club Football Championship\n",
            "Caught loop 1987–88 All-Ireland Senior Club Football Championship\n",
            "Caught loop 1988–89 All-Ireland Senior Club Football Championship\n",
            "Caught loop 1989–90 All-Ireland Senior Club Football Championship\n",
            "Caught loop 1990–91 All-Ireland Senior Club Football Championship\n",
            "Caught loop 1991–92 All-Ireland Senior Club Football Championship\n",
            "Caught loop 1992–93 All-Ireland Senior Club Football Championship\n",
            "Caught loop 1993–94 All-Ireland Senior Club Football Championship\n",
            "Caught loop 1994–95 All-Ireland Senior Club Football Championship\n",
            "Caught loop 1995–96 All-Ireland Senior Club Football Championship\n",
            "Caught loop 1996–97 All-Ireland Senior Club Football Championship\n",
            "Caught loop 1997–98 All-Ireland Senior Club Football Championship\n",
            "Caught loop 1998–99 All-Ireland Senior Club Football Championship\n",
            "1999–2000 All-Ireland Senior Club Football Championship\n",
            "Caught loop 1970–71 All-Ireland Senior Club Football Championship\n",
            "Caught loop 1971–72 All-Ireland Senior Club Football Championship\n",
            "Caught loop 1972–73 All-Ireland Senior Club Football Championship\n",
            "Caught loop 1973–74 All-Ireland Senior Club Football Championship\n",
            "Caught loop 1974–75 All-Ireland Senior Club Football Championship\n",
            "Caught loop 1975–76 All-Ireland Senior Club Football Championship\n",
            "Caught loop 1976–77 All-Ireland Senior Club Football Championship\n",
            "Caught loop 1977–78 All-Ireland Senior Club Football Championship\n",
            "Caught loop 1978–79 All-Ireland Senior Club Football Championship\n",
            "Caught loop 1979–80 All-Ireland Senior Club Football Championship\n",
            "Caught loop 1980–81 All-Ireland Senior Club Football Championship\n",
            "Caught loop 1981–82 All-Ireland Senior Club Football Championship\n",
            "Caught loop 1982–83 All-Ireland Senior Club Football Championship\n",
            "Caught loop 1983–84 All-Ireland Senior Club Football Championship\n",
            "Caught loop 1984–85 All-Ireland Senior Club Football Championship\n",
            "Caught loop 1985–86 All-Ireland Senior Club Football Championship\n",
            "Caught loop 1986–87 All-Ireland Senior Club Football Championship\n",
            "Caught loop 1987–88 All-Ireland Senior Club Football Championship\n",
            "Caught loop 1988–89 All-Ireland Senior Club Football Championship\n",
            "Caught loop 1989–90 All-Ireland Senior Club Football Championship\n",
            "Caught loop 1990–91 All-Ireland Senior Club Football Championship\n",
            "Caught loop 1991–92 All-Ireland Senior Club Football Championship\n",
            "Caught loop 1992–93 All-Ireland Senior Club Football Championship\n",
            "Caught loop 1993–94 All-Ireland Senior Club Football Championship\n",
            "Caught loop 1994–95 All-Ireland Senior Club Football Championship\n",
            "Caught loop 1995–96 All-Ireland Senior Club Football Championship\n",
            "Caught loop 1996–97 All-Ireland Senior Club Football Championship\n",
            "Caught loop 1997–98 All-Ireland Senior Club Football Championship\n",
            "Caught loop 1998–99 All-Ireland Senior Club Football Championship\n",
            "Caught loop 1999–2000 All-Ireland Senior Club Football Championship\n",
            "2000-01 All-Ireland Senior Club Football Championship\n",
            "Caught loop 1970–71 All-Ireland Senior Club Football Championship\n",
            "Caught loop 1971–72 All-Ireland Senior Club Football Championship\n",
            "Caught loop 1972–73 All-Ireland Senior Club Football Championship\n",
            "Caught loop 1973–74 All-Ireland Senior Club Football Championship\n",
            "Caught loop 1974–75 All-Ireland Senior Club Football Championship\n",
            "Caught loop 1975–76 All-Ireland Senior Club Football Championship\n",
            "Caught loop 1976–77 All-Ireland Senior Club Football Championship\n",
            "Caught loop 1977–78 All-Ireland Senior Club Football Championship\n",
            "Caught loop 1978–79 All-Ireland Senior Club Football Championship\n",
            "Caught loop 1979–80 All-Ireland Senior Club Football Championship\n",
            "Caught loop 1980–81 All-Ireland Senior Club Football Championship\n",
            "Caught loop 1981–82 All-Ireland Senior Club Football Championship\n",
            "Caught loop 1982–83 All-Ireland Senior Club Football Championship\n",
            "Caught loop 1983–84 All-Ireland Senior Club Football Championship\n",
            "Caught loop 1984–85 All-Ireland Senior Club Football Championship\n",
            "Caught loop 1985–86 All-Ireland Senior Club Football Championship\n",
            "Caught loop 1986–87 All-Ireland Senior Club Football Championship\n",
            "Caught loop 1987–88 All-Ireland Senior Club Football Championship\n",
            "Caught loop 1988–89 All-Ireland Senior Club Football Championship\n",
            "Caught loop 1989–90 All-Ireland Senior Club Football Championship\n",
            "Caught loop 1990–91 All-Ireland Senior Club Football Championship\n",
            "Caught loop 1991–92 All-Ireland Senior Club Football Championship\n",
            "Caught loop 1992–93 All-Ireland Senior Club Football Championship\n",
            "Caught loop 1993–94 All-Ireland Senior Club Football Championship\n",
            "Caught loop 1994–95 All-Ireland Senior Club Football Championship\n",
            "Caught loop 1995–96 All-Ireland Senior Club Football Championship\n",
            "Caught loop 1996–97 All-Ireland Senior Club Football Championship\n",
            "Caught loop 1997–98 All-Ireland Senior Club Football Championship\n",
            "Caught loop 1998–99 All-Ireland Senior Club Football Championship\n",
            "Caught loop 1999–2000 All-Ireland Senior Club Football Championship\n",
            "Caught loop 2000-01 All-Ireland Senior Club Football Championship\n",
            "2000–01 All-Ireland Senior Club Football Championship\n",
            "Caught loop 1970–71 All-Ireland Senior Club Football Championship\n",
            "Caught loop 1971–72 All-Ireland Senior Club Football Championship\n",
            "Caught loop 1972–73 All-Ireland Senior Club Football Championship\n",
            "Caught loop 1973–74 All-Ireland Senior Club Football Championship\n",
            "Caught loop 1974–75 All-Ireland Senior Club Football Championship\n",
            "Caught loop 1975–76 All-Ireland Senior Club Football Championship\n",
            "Caught loop 1976–77 All-Ireland Senior Club Football Championship\n",
            "Caught loop 1977–78 All-Ireland Senior Club Football Championship\n",
            "Caught loop 1978–79 All-Ireland Senior Club Football Championship\n",
            "Caught loop 1979–80 All-Ireland Senior Club Football Championship\n",
            "Caught loop 1980–81 All-Ireland Senior Club Football Championship\n",
            "Caught loop 1981–82 All-Ireland Senior Club Football Championship\n",
            "Caught loop 1982–83 All-Ireland Senior Club Football Championship\n",
            "Caught loop 1983–84 All-Ireland Senior Club Football Championship\n",
            "Caught loop 1984–85 All-Ireland Senior Club Football Championship\n",
            "Caught loop 1985–86 All-Ireland Senior Club Football Championship\n",
            "Caught loop 1986–87 All-Ireland Senior Club Football Championship\n",
            "Caught loop 1987–88 All-Ireland Senior Club Football Championship\n",
            "Caught loop 1988–89 All-Ireland Senior Club Football Championship\n",
            "Caught loop 1989–90 All-Ireland Senior Club Football Championship\n",
            "Caught loop 1990–91 All-Ireland Senior Club Football Championship\n",
            "Caught loop 1991–92 All-Ireland Senior Club Football Championship\n",
            "Caught loop 1992–93 All-Ireland Senior Club Football Championship\n",
            "Caught loop 1993–94 All-Ireland Senior Club Football Championship\n",
            "Caught loop 1994–95 All-Ireland Senior Club Football Championship\n",
            "Caught loop 1995–96 All-Ireland Senior Club Football Championship\n",
            "Caught loop 1996–97 All-Ireland Senior Club Football Championship\n",
            "Caught loop 1997–98 All-Ireland Senior Club Football Championship\n",
            "Caught loop 1998–99 All-Ireland Senior Club Football Championship\n",
            "Caught loop 1999–2000 All-Ireland Senior Club Football Championship\n",
            "Caught loop 2000-01 All-Ireland Senior Club Football Championship\n",
            "Caught loop 2000–01 All-Ireland Senior Club Football Championship\n",
            "2001–02 All-Ireland Senior Club Football Championship\n",
            "Caught loop 1970–71 All-Ireland Senior Club Football Championship\n",
            "Caught loop 1971–72 All-Ireland Senior Club Football Championship\n",
            "Caught loop 1972–73 All-Ireland Senior Club Football Championship\n",
            "Caught loop 1973–74 All-Ireland Senior Club Football Championship\n",
            "Caught loop 1974–75 All-Ireland Senior Club Football Championship\n",
            "Caught loop 1975–76 All-Ireland Senior Club Football Championship\n",
            "Caught loop 1976–77 All-Ireland Senior Club Football Championship\n",
            "Caught loop 1977–78 All-Ireland Senior Club Football Championship\n",
            "Caught loop 1978–79 All-Ireland Senior Club Football Championship\n",
            "Caught loop 1979–80 All-Ireland Senior Club Football Championship\n",
            "Caught loop 1980–81 All-Ireland Senior Club Football Championship\n",
            "Caught loop 1981–82 All-Ireland Senior Club Football Championship\n",
            "Caught loop 1982–83 All-Ireland Senior Club Football Championship\n",
            "Caught loop 1983–84 All-Ireland Senior Club Football Championship\n",
            "Caught loop 1984–85 All-Ireland Senior Club Football Championship\n",
            "Caught loop 1985–86 All-Ireland Senior Club Football Championship\n",
            "Caught loop 1986–87 All-Ireland Senior Club Football Championship\n",
            "Caught loop 1987–88 All-Ireland Senior Club Football Championship\n",
            "Caught loop 1988–89 All-Ireland Senior Club Football Championship\n",
            "Caught loop 1989–90 All-Ireland Senior Club Football Championship\n",
            "Caught loop 1990–91 All-Ireland Senior Club Football Championship\n",
            "Caught loop 1991–92 All-Ireland Senior Club Football Championship\n",
            "Caught loop 1992–93 All-Ireland Senior Club Football Championship\n",
            "Caught loop 1993–94 All-Ireland Senior Club Football Championship\n",
            "Caught loop 1994–95 All-Ireland Senior Club Football Championship\n",
            "Caught loop 1995–96 All-Ireland Senior Club Football Championship\n",
            "Caught loop 1996–97 All-Ireland Senior Club Football Championship\n",
            "Caught loop 1997–98 All-Ireland Senior Club Football Championship\n",
            "Caught loop 1998–99 All-Ireland Senior Club Football Championship\n",
            "Caught loop 1999–2000 All-Ireland Senior Club Football Championship\n",
            "Caught loop 2000-01 All-Ireland Senior Club Football Championship\n",
            "Caught loop 2000–01 All-Ireland Senior Club Football Championship\n",
            "Caught loop 2001–02 All-Ireland Senior Club Football Championship\n",
            "2002–03 All-Ireland Senior Club Football Championship\n",
            "Caught loop 1970–71 All-Ireland Senior Club Football Championship\n",
            "Caught loop 1971–72 All-Ireland Senior Club Football Championship\n",
            "Caught loop 1972–73 All-Ireland Senior Club Football Championship\n",
            "Caught loop 1973–74 All-Ireland Senior Club Football Championship\n",
            "Caught loop 1974–75 All-Ireland Senior Club Football Championship\n",
            "Caught loop 1975–76 All-Ireland Senior Club Football Championship\n",
            "Caught loop 1976–77 All-Ireland Senior Club Football Championship\n",
            "Caught loop 1977–78 All-Ireland Senior Club Football Championship\n",
            "Caught loop 1978–79 All-Ireland Senior Club Football Championship\n",
            "Caught loop 1979–80 All-Ireland Senior Club Football Championship\n",
            "Caught loop 1980–81 All-Ireland Senior Club Football Championship\n",
            "Caught loop 1981–82 All-Ireland Senior Club Football Championship\n",
            "Caught loop 1982–83 All-Ireland Senior Club Football Championship\n",
            "Caught loop 1983–84 All-Ireland Senior Club Football Championship\n",
            "Caught loop 1984–85 All-Ireland Senior Club Football Championship\n",
            "Caught loop 1985–86 All-Ireland Senior Club Football Championship\n",
            "Caught loop 1986–87 All-Ireland Senior Club Football Championship\n",
            "Caught loop 1987–88 All-Ireland Senior Club Football Championship\n",
            "Caught loop 1988–89 All-Ireland Senior Club Football Championship\n",
            "Caught loop 1989–90 All-Ireland Senior Club Football Championship\n",
            "Caught loop 1990–91 All-Ireland Senior Club Football Championship\n",
            "Caught loop 1991–92 All-Ireland Senior Club Football Championship\n",
            "Caught loop 1992–93 All-Ireland Senior Club Football Championship\n",
            "Caught loop 1993–94 All-Ireland Senior Club Football Championship\n",
            "Caught loop 1994–95 All-Ireland Senior Club Football Championship\n",
            "Caught loop 1995–96 All-Ireland Senior Club Football Championship\n",
            "Caught loop 1996–97 All-Ireland Senior Club Football Championship\n",
            "Caught loop 1997–98 All-Ireland Senior Club Football Championship\n",
            "Caught loop 1998–99 All-Ireland Senior Club Football Championship\n",
            "Caught loop 1999–2000 All-Ireland Senior Club Football Championship\n",
            "Caught loop 2000-01 All-Ireland Senior Club Football Championship\n",
            "Caught loop 2000–01 All-Ireland Senior Club Football Championship\n",
            "Caught loop 2001–02 All-Ireland Senior Club Football Championship\n",
            "Caught loop 2002–03 All-Ireland Senior Club Football Championship\n",
            "2003–04 All-Ireland Senior Club Football Championship\n",
            "Caught loop 1970–71 All-Ireland Senior Club Football Championship\n",
            "Caught loop 1971–72 All-Ireland Senior Club Football Championship\n",
            "Caught loop 1972–73 All-Ireland Senior Club Football Championship\n",
            "Caught loop 1973–74 All-Ireland Senior Club Football Championship\n",
            "Caught loop 1974–75 All-Ireland Senior Club Football Championship\n",
            "Caught loop 1975–76 All-Ireland Senior Club Football Championship\n",
            "Caught loop 1976–77 All-Ireland Senior Club Football Championship\n",
            "Caught loop 1977–78 All-Ireland Senior Club Football Championship\n",
            "Caught loop 1978–79 All-Ireland Senior Club Football Championship\n",
            "Caught loop 1979–80 All-Ireland Senior Club Football Championship\n",
            "Caught loop 1980–81 All-Ireland Senior Club Football Championship\n",
            "Caught loop 1981–82 All-Ireland Senior Club Football Championship\n",
            "Caught loop 1982–83 All-Ireland Senior Club Football Championship\n",
            "Caught loop 1983–84 All-Ireland Senior Club Football Championship\n",
            "Caught loop 1984–85 All-Ireland Senior Club Football Championship\n",
            "Caught loop 1985–86 All-Ireland Senior Club Football Championship\n",
            "Caught loop 1986–87 All-Ireland Senior Club Football Championship\n",
            "Caught loop 1987–88 All-Ireland Senior Club Football Championship\n",
            "Caught loop 1988–89 All-Ireland Senior Club Football Championship\n",
            "Caught loop 1989–90 All-Ireland Senior Club Football Championship\n",
            "Caught loop 1990–91 All-Ireland Senior Club Football Championship\n",
            "Caught loop 1991–92 All-Ireland Senior Club Football Championship\n",
            "Caught loop 1992–93 All-Ireland Senior Club Football Championship\n",
            "Caught loop 1993–94 All-Ireland Senior Club Football Championship\n",
            "Caught loop 1994–95 All-Ireland Senior Club Football Championship\n",
            "Caught loop 1995–96 All-Ireland Senior Club Football Championship\n",
            "Caught loop 1996–97 All-Ireland Senior Club Football Championship\n",
            "Caught loop 1997–98 All-Ireland Senior Club Football Championship\n",
            "Caught loop 1998–99 All-Ireland Senior Club Football Championship\n",
            "Caught loop 1999–2000 All-Ireland Senior Club Football Championship\n",
            "Caught loop 2000-01 All-Ireland Senior Club Football Championship\n",
            "Caught loop 2000–01 All-Ireland Senior Club Football Championship\n",
            "Caught loop 2001–02 All-Ireland Senior Club Football Championship\n",
            "Caught loop 2002–03 All-Ireland Senior Club Football Championship\n",
            "Caught loop 2003–04 All-Ireland Senior Club Football Championship\n",
            "2004–05 All-Ireland Senior Club Football Championship\n",
            "Caught loop 1970–71 All-Ireland Senior Club Football Championship\n",
            "Caught loop 1971–72 All-Ireland Senior Club Football Championship\n",
            "Caught loop 1972–73 All-Ireland Senior Club Football Championship\n",
            "Caught loop 1973–74 All-Ireland Senior Club Football Championship\n",
            "Caught loop 1974–75 All-Ireland Senior Club Football Championship\n",
            "Caught loop 1975–76 All-Ireland Senior Club Football Championship\n",
            "Caught loop 1976–77 All-Ireland Senior Club Football Championship\n",
            "Caught loop 1977–78 All-Ireland Senior Club Football Championship\n",
            "Caught loop 1978–79 All-Ireland Senior Club Football Championship\n",
            "Caught loop 1979–80 All-Ireland Senior Club Football Championship\n",
            "Caught loop 1980–81 All-Ireland Senior Club Football Championship\n",
            "Caught loop 1981–82 All-Ireland Senior Club Football Championship\n",
            "Caught loop 1982–83 All-Ireland Senior Club Football Championship\n",
            "Caught loop 1983–84 All-Ireland Senior Club Football Championship\n",
            "Caught loop 1984–85 All-Ireland Senior Club Football Championship\n",
            "Caught loop 1985–86 All-Ireland Senior Club Football Championship\n",
            "Caught loop 1986–87 All-Ireland Senior Club Football Championship\n",
            "Caught loop 1987–88 All-Ireland Senior Club Football Championship\n",
            "Caught loop 1988–89 All-Ireland Senior Club Football Championship\n",
            "Caught loop 1989–90 All-Ireland Senior Club Football Championship\n",
            "Caught loop 1990–91 All-Ireland Senior Club Football Championship\n",
            "Caught loop 1991–92 All-Ireland Senior Club Football Championship\n",
            "Caught loop 1992–93 All-Ireland Senior Club Football Championship\n",
            "Caught loop 1993–94 All-Ireland Senior Club Football Championship\n",
            "Caught loop 1994–95 All-Ireland Senior Club Football Championship\n",
            "Caught loop 1995–96 All-Ireland Senior Club Football Championship\n",
            "Caught loop 1996–97 All-Ireland Senior Club Football Championship\n",
            "Caught loop 1997–98 All-Ireland Senior Club Football Championship\n",
            "Caught loop 1998–99 All-Ireland Senior Club Football Championship\n",
            "Caught loop 1999–2000 All-Ireland Senior Club Football Championship\n",
            "Caught loop 2000-01 All-Ireland Senior Club Football Championship\n",
            "Caught loop 2000–01 All-Ireland Senior Club Football Championship\n",
            "Caught loop 2001–02 All-Ireland Senior Club Football Championship\n",
            "Caught loop 2002–03 All-Ireland Senior Club Football Championship\n",
            "Caught loop 2003–04 All-Ireland Senior Club Football Championship\n",
            "Caught loop 2004–05 All-Ireland Senior Club Football Championship\n",
            "2005–06 All-Ireland Senior Club Football Championship\n",
            "Caught loop 1970–71 All-Ireland Senior Club Football Championship\n",
            "Caught loop 1971–72 All-Ireland Senior Club Football Championship\n",
            "Caught loop 1972–73 All-Ireland Senior Club Football Championship\n",
            "Caught loop 1973–74 All-Ireland Senior Club Football Championship\n",
            "Caught loop 1974–75 All-Ireland Senior Club Football Championship\n",
            "Caught loop 1975–76 All-Ireland Senior Club Football Championship\n",
            "Caught loop 1976–77 All-Ireland Senior Club Football Championship\n",
            "Caught loop 1977–78 All-Ireland Senior Club Football Championship\n",
            "Caught loop 1978–79 All-Ireland Senior Club Football Championship\n",
            "Caught loop 1979–80 All-Ireland Senior Club Football Championship\n",
            "Caught loop 1980–81 All-Ireland Senior Club Football Championship\n",
            "Caught loop 1981–82 All-Ireland Senior Club Football Championship\n",
            "Caught loop 1982–83 All-Ireland Senior Club Football Championship\n",
            "Caught loop 1983–84 All-Ireland Senior Club Football Championship\n",
            "Caught loop 1984–85 All-Ireland Senior Club Football Championship\n",
            "Caught loop 1985–86 All-Ireland Senior Club Football Championship\n",
            "Caught loop 1986–87 All-Ireland Senior Club Football Championship\n",
            "Caught loop 1987–88 All-Ireland Senior Club Football Championship\n",
            "Caught loop 1988–89 All-Ireland Senior Club Football Championship\n",
            "Caught loop 1989–90 All-Ireland Senior Club Football Championship\n",
            "Caught loop 1990–91 All-Ireland Senior Club Football Championship\n",
            "Caught loop 1991–92 All-Ireland Senior Club Football Championship\n",
            "Caught loop 1992–93 All-Ireland Senior Club Football Championship\n",
            "Caught loop 1993–94 All-Ireland Senior Club Football Championship\n",
            "Caught loop 1994–95 All-Ireland Senior Club Football Championship\n",
            "Caught loop 1995–96 All-Ireland Senior Club Football Championship\n",
            "Caught loop 1996–97 All-Ireland Senior Club Football Championship\n",
            "Caught loop 1997–98 All-Ireland Senior Club Football Championship\n",
            "Caught loop 1998–99 All-Ireland Senior Club Football Championship\n",
            "Caught loop 1999–2000 All-Ireland Senior Club Football Championship\n",
            "Caught loop 2000-01 All-Ireland Senior Club Football Championship\n",
            "Caught loop 2000–01 All-Ireland Senior Club Football Championship\n",
            "Caught loop 2001–02 All-Ireland Senior Club Football Championship\n",
            "Caught loop 2002–03 All-Ireland Senior Club Football Championship\n",
            "Caught loop 2003–04 All-Ireland Senior Club Football Championship\n",
            "Caught loop 2004–05 All-Ireland Senior Club Football Championship\n",
            "Caught loop 2005–06 All-Ireland Senior Club Football Championship\n",
            "2006–07 All-Ireland Senior Club Football Championship\n",
            "Caught loop 1970–71 All-Ireland Senior Club Football Championship\n",
            "Caught loop 1971–72 All-Ireland Senior Club Football Championship\n",
            "Caught loop 1972–73 All-Ireland Senior Club Football Championship\n",
            "Caught loop 1973–74 All-Ireland Senior Club Football Championship\n",
            "Caught loop 1974–75 All-Ireland Senior Club Football Championship\n",
            "Caught loop 1975–76 All-Ireland Senior Club Football Championship\n",
            "Caught loop 1976–77 All-Ireland Senior Club Football Championship\n",
            "Caught loop 1977–78 All-Ireland Senior Club Football Championship\n",
            "Caught loop 1978–79 All-Ireland Senior Club Football Championship\n",
            "Caught loop 1979–80 All-Ireland Senior Club Football Championship\n",
            "Caught loop 1980–81 All-Ireland Senior Club Football Championship\n",
            "Caught loop 1981–82 All-Ireland Senior Club Football Championship\n",
            "Caught loop 1982–83 All-Ireland Senior Club Football Championship\n",
            "Caught loop 1983–84 All-Ireland Senior Club Football Championship\n",
            "Caught loop 1984–85 All-Ireland Senior Club Football Championship\n",
            "Caught loop 1985–86 All-Ireland Senior Club Football Championship\n",
            "Caught loop 1986–87 All-Ireland Senior Club Football Championship\n",
            "Caught loop 1987–88 All-Ireland Senior Club Football Championship\n",
            "Caught loop 1988–89 All-Ireland Senior Club Football Championship\n",
            "Caught loop 1989–90 All-Ireland Senior Club Football Championship\n",
            "Caught loop 1990–91 All-Ireland Senior Club Football Championship\n",
            "Caught loop 1991–92 All-Ireland Senior Club Football Championship\n",
            "Caught loop 1992–93 All-Ireland Senior Club Football Championship\n",
            "Caught loop 1993–94 All-Ireland Senior Club Football Championship\n",
            "Caught loop 1994–95 All-Ireland Senior Club Football Championship\n",
            "Caught loop 1995–96 All-Ireland Senior Club Football Championship\n",
            "Caught loop 1996–97 All-Ireland Senior Club Football Championship\n",
            "Caught loop 1997–98 All-Ireland Senior Club Football Championship\n",
            "Caught loop 1998–99 All-Ireland Senior Club Football Championship\n",
            "Caught loop 1999–2000 All-Ireland Senior Club Football Championship\n",
            "Caught loop 2000–01 All-Ireland Senior Club Football Championship\n",
            "Caught loop 2001–02 All-Ireland Senior Club Football Championship\n",
            "Caught loop 2002–03 All-Ireland Senior Club Football Championship\n",
            "Caught loop 2003–04 All-Ireland Senior Club Football Championship\n",
            "Caught loop 2004–05 All-Ireland Senior Club Football Championship\n",
            "2005-06 All-Ireland Senior Club Football Championship\n",
            "Caught loop 1970–71 All-Ireland Senior Club Football Championship\n",
            "Caught loop 1971–72 All-Ireland Senior Club Football Championship\n",
            "Caught loop 1972–73 All-Ireland Senior Club Football Championship\n",
            "Caught loop 1973–74 All-Ireland Senior Club Football Championship\n",
            "Caught loop 1974–75 All-Ireland Senior Club Football Championship\n",
            "Caught loop 1975–76 All-Ireland Senior Club Football Championship\n",
            "Caught loop 1976–77 All-Ireland Senior Club Football Championship\n",
            "Caught loop 1977–78 All-Ireland Senior Club Football Championship\n",
            "Caught loop 1978–79 All-Ireland Senior Club Football Championship\n",
            "Caught loop 1979–80 All-Ireland Senior Club Football Championship\n",
            "Caught loop 1980–81 All-Ireland Senior Club Football Championship\n",
            "Caught loop 1981–82 All-Ireland Senior Club Football Championship\n",
            "Caught loop 1982–83 All-Ireland Senior Club Football Championship\n",
            "Caught loop 1983–84 All-Ireland Senior Club Football Championship\n",
            "Caught loop 1984–85 All-Ireland Senior Club Football Championship\n",
            "Caught loop 1985–86 All-Ireland Senior Club Football Championship\n",
            "Caught loop 1986–87 All-Ireland Senior Club Football Championship\n",
            "Caught loop 1987–88 All-Ireland Senior Club Football Championship\n",
            "Caught loop 1988–89 All-Ireland Senior Club Football Championship\n",
            "Caught loop 1989–90 All-Ireland Senior Club Football Championship\n",
            "Caught loop 1990–91 All-Ireland Senior Club Football Championship\n",
            "Caught loop 1991–92 All-Ireland Senior Club Football Championship\n",
            "Caught loop 1992–93 All-Ireland Senior Club Football Championship\n",
            "Caught loop 1993–94 All-Ireland Senior Club Football Championship\n",
            "Caught loop 1994–95 All-Ireland Senior Club Football Championship\n",
            "Caught loop 1995–96 All-Ireland Senior Club Football Championship\n",
            "Caught loop 1996–97 All-Ireland Senior Club Football Championship\n",
            "Caught loop 1997–98 All-Ireland Senior Club Football Championship\n",
            "Caught loop 1998–99 All-Ireland Senior Club Football Championship\n",
            "Caught loop 1999–2000 All-Ireland Senior Club Football Championship\n",
            "Caught loop 2000-01 All-Ireland Senior Club Football Championship\n",
            "Caught loop 2000–01 All-Ireland Senior Club Football Championship\n",
            "Caught loop 2001–02 All-Ireland Senior Club Football Championship\n",
            "Caught loop 2002–03 All-Ireland Senior Club Football Championship\n",
            "Caught loop 2003–04 All-Ireland Senior Club Football Championship\n",
            "Caught loop 2004–05 All-Ireland Senior Club Football Championship\n",
            "Caught loop 2005–06 All-Ireland Senior Club Football Championship\n",
            "Caught loop 2006–07 All-Ireland Senior Club Football Championship\n",
            "2007–08 All-Ireland Senior Club Football Championship\n",
            "Caught loop 1970–71 All-Ireland Senior Club Football Championship\n",
            "Caught loop 1971–72 All-Ireland Senior Club Football Championship\n",
            "Caught loop 1972–73 All-Ireland Senior Club Football Championship\n",
            "Caught loop 1973–74 All-Ireland Senior Club Football Championship\n",
            "Caught loop 1974–75 All-Ireland Senior Club Football Championship\n",
            "1975-76 All-Ireland Senior Club Football Championship\n",
            "Caught loop 1970–71 All-Ireland Senior Club Football Championship\n",
            "Caught loop 1971–72 All-Ireland Senior Club Football Championship\n",
            "Caught loop 1972–73 All-Ireland Senior Club Football Championship\n",
            "Caught loop 1973–74 All-Ireland Senior Club Football Championship\n",
            "Caught loop 1974–75 All-Ireland Senior Club Football Championship\n",
            "Caught loop 1975–76 All-Ireland Senior Club Football Championship\n",
            "Caught loop 1976–77 All-Ireland Senior Club Football Championship\n",
            "Caught loop 1977–78 All-Ireland Senior Club Football Championship\n",
            "Caught loop 1978–79 All-Ireland Senior Club Football Championship\n",
            "Caught loop 1979–80 All-Ireland Senior Club Football Championship\n",
            "Caught loop 1980–81 All-Ireland Senior Club Football Championship\n",
            "Caught loop 1981–82 All-Ireland Senior Club Football Championship\n",
            "Caught loop 1982–83 All-Ireland Senior Club Football Championship\n",
            "Caught loop 1983–84 All-Ireland Senior Club Football Championship\n",
            "Caught loop 1984–85 All-Ireland Senior Club Football Championship\n",
            "Caught loop 1985–86 All-Ireland Senior Club Football Championship\n",
            "Caught loop 1986–87 All-Ireland Senior Club Football Championship\n",
            "Caught loop 1987–88 All-Ireland Senior Club Football Championship\n",
            "Caught loop 1988–89 All-Ireland Senior Club Football Championship\n",
            "Caught loop 1989–90 All-Ireland Senior Club Football Championship\n",
            "Caught loop 1990–91 All-Ireland Senior Club Football Championship\n",
            "Caught loop 1991–92 All-Ireland Senior Club Football Championship\n",
            "Caught loop 1992–93 All-Ireland Senior Club Football Championship\n",
            "Caught loop 1993–94 All-Ireland Senior Club Football Championship\n",
            "Caught loop 1994–95 All-Ireland Senior Club Football Championship\n",
            "Caught loop 1995–96 All-Ireland Senior Club Football Championship\n",
            "Caught loop 1996–97 All-Ireland Senior Club Football Championship\n",
            "Caught loop 1997–98 All-Ireland Senior Club Football Championship\n",
            "Caught loop 1998–99 All-Ireland Senior Club Football Championship\n",
            "Caught loop 1999–2000 All-Ireland Senior Club Football Championship\n",
            "Caught loop 2000-01 All-Ireland Senior Club Football Championship\n",
            "Caught loop 2000–01 All-Ireland Senior Club Football Championship\n",
            "Caught loop 2001–02 All-Ireland Senior Club Football Championship\n",
            "Caught loop 2002–03 All-Ireland Senior Club Football Championship\n",
            "Caught loop 2003–04 All-Ireland Senior Club Football Championship\n",
            "Caught loop 2004–05 All-Ireland Senior Club Football Championship\n",
            "Caught loop 2005–06 All-Ireland Senior Club Football Championship\n",
            "Caught loop 2006–07 All-Ireland Senior Club Football Championship\n",
            "Caught loop 2007–08 All-Ireland Senior Club Football Championship\n",
            "2008–09 All-Ireland Senior Club Football Championship\n",
            "Caught loop 1970–71 All-Ireland Senior Club Football Championship\n",
            "Caught loop 1971–72 All-Ireland Senior Club Football Championship\n",
            "Caught loop 1972–73 All-Ireland Senior Club Football Championship\n",
            "Caught loop 1973–74 All-Ireland Senior Club Football Championship\n",
            "Caught loop 1974–75 All-Ireland Senior Club Football Championship\n",
            "Caught loop 1975–76 All-Ireland Senior Club Football Championship\n",
            "Caught loop 1976–77 All-Ireland Senior Club Football Championship\n",
            "1977-78 All-Ireland Senior Club Football Championship\n",
            "Caught loop 1970–71 All-Ireland Senior Club Football Championship\n",
            "Caught loop 1971–72 All-Ireland Senior Club Football Championship\n",
            "Caught loop 1972–73 All-Ireland Senior Club Football Championship\n",
            "Caught loop 1973–74 All-Ireland Senior Club Football Championship\n",
            "Caught loop 1974–75 All-Ireland Senior Club Football Championship\n",
            "Caught loop 1975–76 All-Ireland Senior Club Football Championship\n",
            "Caught loop 1976–77 All-Ireland Senior Club Football Championship\n",
            "Caught loop 1977–78 All-Ireland Senior Club Football Championship\n",
            "Caught loop 1978–79 All-Ireland Senior Club Football Championship\n",
            "Caught loop 1979–80 All-Ireland Senior Club Football Championship\n",
            "Caught loop 1980–81 All-Ireland Senior Club Football Championship\n",
            "Caught loop 1981–82 All-Ireland Senior Club Football Championship\n",
            "Caught loop 1982–83 All-Ireland Senior Club Football Championship\n",
            "Caught loop 1983–84 All-Ireland Senior Club Football Championship\n",
            "Caught loop 1984–85 All-Ireland Senior Club Football Championship\n",
            "Caught loop 1985–86 All-Ireland Senior Club Football Championship\n",
            "Caught loop 1986–87 All-Ireland Senior Club Football Championship\n",
            "Caught loop 1987–88 All-Ireland Senior Club Football Championship\n",
            "Caught loop 1988–89 All-Ireland Senior Club Football Championship\n",
            "Caught loop 1989–90 All-Ireland Senior Club Football Championship\n",
            "Caught loop 1990–91 All-Ireland Senior Club Football Championship\n",
            "Caught loop 1991–92 All-Ireland Senior Club Football Championship\n",
            "Caught loop 1992–93 All-Ireland Senior Club Football Championship\n",
            "Caught loop 1993–94 All-Ireland Senior Club Football Championship\n",
            "Caught loop 1994–95 All-Ireland Senior Club Football Championship\n",
            "Caught loop 1995–96 All-Ireland Senior Club Football Championship\n",
            "Caught loop 1996–97 All-Ireland Senior Club Football Championship\n",
            "Caught loop 1997–98 All-Ireland Senior Club Football Championship\n",
            "Caught loop 1998–99 All-Ireland Senior Club Football Championship\n",
            "Caught loop 1999–2000 All-Ireland Senior Club Football Championship\n",
            "Caught loop 2000-01 All-Ireland Senior Club Football Championship\n",
            "Caught loop 2000–01 All-Ireland Senior Club Football Championship\n",
            "Caught loop 2001–02 All-Ireland Senior Club Football Championship\n",
            "Caught loop 2002–03 All-Ireland Senior Club Football Championship\n",
            "Caught loop 2003–04 All-Ireland Senior Club Football Championship\n",
            "Caught loop 2004–05 All-Ireland Senior Club Football Championship\n",
            "Caught loop 2005–06 All-Ireland Senior Club Football Championship\n",
            "Caught loop 2006–07 All-Ireland Senior Club Football Championship\n",
            "Caught loop 2007–08 All-Ireland Senior Club Football Championship\n",
            "Caught loop 2008–09 All-Ireland Senior Club Football Championship\n",
            "2009–10 All-Ireland Senior Club Football Championship\n",
            "Caught loop 1970–71 All-Ireland Senior Club Football Championship\n",
            "Caught loop 1971–72 All-Ireland Senior Club Football Championship\n",
            "Caught loop 1972–73 All-Ireland Senior Club Football Championship\n",
            "Caught loop 1973–74 All-Ireland Senior Club Football Championship\n",
            "Caught loop 1974–75 All-Ireland Senior Club Football Championship\n",
            "Caught loop 1975–76 All-Ireland Senior Club Football Championship\n",
            "Caught loop 1976–77 All-Ireland Senior Club Football Championship\n",
            "Caught loop 1977–78 All-Ireland Senior Club Football Championship\n",
            "Caught loop 1978–79 All-Ireland Senior Club Football Championship\n",
            "Caught loop 1979–80 All-Ireland Senior Club Football Championship\n",
            "Caught loop 1980–81 All-Ireland Senior Club Football Championship\n",
            "Caught loop 1981–82 All-Ireland Senior Club Football Championship\n",
            "Caught loop 1982–83 All-Ireland Senior Club Football Championship\n",
            "Caught loop 1983–84 All-Ireland Senior Club Football Championship\n",
            "Caught loop 1984–85 All-Ireland Senior Club Football Championship\n",
            "Caught loop 1985–86 All-Ireland Senior Club Football Championship\n",
            "Caught loop 1986–87 All-Ireland Senior Club Football Championship\n",
            "Caught loop 1987–88 All-Ireland Senior Club Football Championship\n",
            "Caught loop 1988–89 All-Ireland Senior Club Football Championship\n",
            "Caught loop 1989–90 All-Ireland Senior Club Football Championship\n",
            "Caught loop 1990–91 All-Ireland Senior Club Football Championship\n",
            "Caught loop 1991–92 All-Ireland Senior Club Football Championship\n",
            "Caught loop 1992–93 All-Ireland Senior Club Football Championship\n",
            "Caught loop 1993–94 All-Ireland Senior Club Football Championship\n",
            "Caught loop 1994–95 All-Ireland Senior Club Football Championship\n",
            "Caught loop 1995–96 All-Ireland Senior Club Football Championship\n",
            "Caught loop 1996–97 All-Ireland Senior Club Football Championship\n",
            "Caught loop 1997–98 All-Ireland Senior Club Football Championship\n",
            "Caught loop 1998–99 All-Ireland Senior Club Football Championship\n",
            "Caught loop 1999–2000 All-Ireland Senior Club Football Championship\n",
            "Caught loop 2000-01 All-Ireland Senior Club Football Championship\n",
            "Caught loop 2000–01 All-Ireland Senior Club Football Championship\n",
            "Caught loop 2001–02 All-Ireland Senior Club Football Championship\n",
            "Caught loop 2002–03 All-Ireland Senior Club Football Championship\n",
            "Caught loop 2003–04 All-Ireland Senior Club Football Championship\n",
            "Caught loop 2004–05 All-Ireland Senior Club Football Championship\n",
            "Caught loop 2005–06 All-Ireland Senior Club Football Championship\n",
            "Caught loop 2006–07 All-Ireland Senior Club Football Championship\n",
            "Caught loop 2007–08 All-Ireland Senior Club Football Championship\n",
            "Caught loop 2008–09 All-Ireland Senior Club Football Championship\n",
            "Caught loop 2009–10 All-Ireland Senior Club Football Championship\n",
            "2010–11 All-Ireland Senior Club Football Championship\n",
            "Caught loop 1970–71 All-Ireland Senior Club Football Championship\n",
            "Caught loop 1971–72 All-Ireland Senior Club Football Championship\n",
            "Caught loop 1972–73 All-Ireland Senior Club Football Championship\n",
            "Caught loop 1973–74 All-Ireland Senior Club Football Championship\n",
            "Caught loop 1974–75 All-Ireland Senior Club Football Championship\n",
            "Caught loop 1975–76 All-Ireland Senior Club Football Championship\n",
            "Caught loop 1976–77 All-Ireland Senior Club Football Championship\n",
            "Caught loop 1977–78 All-Ireland Senior Club Football Championship\n",
            "Caught loop 1978–79 All-Ireland Senior Club Football Championship\n",
            "Caught loop 1979–80 All-Ireland Senior Club Football Championship\n",
            "Caught loop 1980–81 All-Ireland Senior Club Football Championship\n",
            "Caught loop 1981–82 All-Ireland Senior Club Football Championship\n",
            "Caught loop 1982–83 All-Ireland Senior Club Football Championship\n",
            "Caught loop 1983–84 All-Ireland Senior Club Football Championship\n",
            "Caught loop 1984–85 All-Ireland Senior Club Football Championship\n",
            "Caught loop 1985–86 All-Ireland Senior Club Football Championship\n",
            "Caught loop 1986–87 All-Ireland Senior Club Football Championship\n",
            "Caught loop 1987–88 All-Ireland Senior Club Football Championship\n",
            "Caught loop 1988–89 All-Ireland Senior Club Football Championship\n",
            "Caught loop 1989–90 All-Ireland Senior Club Football Championship\n",
            "Caught loop 1990–91 All-Ireland Senior Club Football Championship\n",
            "Caught loop 1991–92 All-Ireland Senior Club Football Championship\n",
            "Caught loop 1992–93 All-Ireland Senior Club Football Championship\n",
            "Caught loop 1993–94 All-Ireland Senior Club Football Championship\n",
            "Caught loop 1994–95 All-Ireland Senior Club Football Championship\n",
            "Caught loop 1995–96 All-Ireland Senior Club Football Championship\n",
            "Caught loop 1996–97 All-Ireland Senior Club Football Championship\n",
            "Caught loop 1997–98 All-Ireland Senior Club Football Championship\n",
            "Caught loop 1998–99 All-Ireland Senior Club Football Championship\n",
            "Caught loop 1999–2000 All-Ireland Senior Club Football Championship\n",
            "Caught loop 2000-01 All-Ireland Senior Club Football Championship\n",
            "Caught loop 2000–01 All-Ireland Senior Club Football Championship\n",
            "Caught loop 2001–02 All-Ireland Senior Club Football Championship\n",
            "Caught loop 2002–03 All-Ireland Senior Club Football Championship\n",
            "Caught loop 2003–04 All-Ireland Senior Club Football Championship\n",
            "Caught loop 2004–05 All-Ireland Senior Club Football Championship\n",
            "Caught loop 2005–06 All-Ireland Senior Club Football Championship\n",
            "Caught loop 2006–07 All-Ireland Senior Club Football Championship\n",
            "Caught loop 2007–08 All-Ireland Senior Club Football Championship\n",
            "Caught loop 2008–09 All-Ireland Senior Club Football Championship\n",
            "Caught loop 2009–10 All-Ireland Senior Club Football Championship\n",
            "Caught loop 2010–11 All-Ireland Senior Club Football Championship\n",
            "2011–12 All-Ireland Senior Club Football Championship\n",
            "Caught loop 1970–71 All-Ireland Senior Club Football Championship\n",
            "Caught loop 1971–72 All-Ireland Senior Club Football Championship\n",
            "Caught loop 1972–73 All-Ireland Senior Club Football Championship\n",
            "Caught loop 1973–74 All-Ireland Senior Club Football Championship\n",
            "Caught loop 1974–75 All-Ireland Senior Club Football Championship\n",
            "Caught loop 1975–76 All-Ireland Senior Club Football Championship\n",
            "Caught loop 1976–77 All-Ireland Senior Club Football Championship\n",
            "Caught loop 1977–78 All-Ireland Senior Club Football Championship\n",
            "Caught loop 1978–79 All-Ireland Senior Club Football Championship\n",
            "Caught loop 1979–80 All-Ireland Senior Club Football Championship\n",
            "Caught loop 1980–81 All-Ireland Senior Club Football Championship\n",
            "Caught loop 1981–82 All-Ireland Senior Club Football Championship\n",
            "Caught loop 1982–83 All-Ireland Senior Club Football Championship\n",
            "Caught loop 1983–84 All-Ireland Senior Club Football Championship\n",
            "Caught loop 1984–85 All-Ireland Senior Club Football Championship\n",
            "Caught loop 1985–86 All-Ireland Senior Club Football Championship\n",
            "Caught loop 1986–87 All-Ireland Senior Club Football Championship\n",
            "Caught loop 1987–88 All-Ireland Senior Club Football Championship\n",
            "Caught loop 1988–89 All-Ireland Senior Club Football Championship\n",
            "Caught loop 1989–90 All-Ireland Senior Club Football Championship\n",
            "Caught loop 1990–91 All-Ireland Senior Club Football Championship\n",
            "Caught loop 1991–92 All-Ireland Senior Club Football Championship\n",
            "Caught loop 1992–93 All-Ireland Senior Club Football Championship\n",
            "Caught loop 1993–94 All-Ireland Senior Club Football Championship\n",
            "Caught loop 1994–95 All-Ireland Senior Club Football Championship\n",
            "Caught loop 1995–96 All-Ireland Senior Club Football Championship\n",
            "Caught loop 1996–97 All-Ireland Senior Club Football Championship\n",
            "Caught loop 1997–98 All-Ireland Senior Club Football Championship\n",
            "Caught loop 1998–99 All-Ireland Senior Club Football Championship\n",
            "Caught loop 1999–2000 All-Ireland Senior Club Football Championship\n",
            "Caught loop 2000-01 All-Ireland Senior Club Football Championship\n",
            "Caught loop 2000–01 All-Ireland Senior Club Football Championship\n",
            "Caught loop 2001–02 All-Ireland Senior Club Football Championship\n",
            "Caught loop 2002–03 All-Ireland Senior Club Football Championship\n",
            "Caught loop 2003–04 All-Ireland Senior Club Football Championship\n",
            "Caught loop 2004–05 All-Ireland Senior Club Football Championship\n",
            "Caught loop 2005–06 All-Ireland Senior Club Football Championship\n",
            "Caught loop 2006–07 All-Ireland Senior Club Football Championship\n",
            "Caught loop 2007–08 All-Ireland Senior Club Football Championship\n",
            "Caught loop 2008–09 All-Ireland Senior Club Football Championship\n",
            "Caught loop 2009–10 All-Ireland Senior Club Football Championship\n",
            "Caught loop 2010–11 All-Ireland Senior Club Football Championship\n",
            "Caught loop 2011–12 All-Ireland Senior Club Football Championship\n",
            "2012–13 All-Ireland Senior Club Football Championship\n",
            "Caught loop 1970–71 All-Ireland Senior Club Football Championship\n",
            "Caught loop 1971–72 All-Ireland Senior Club Football Championship\n",
            "Caught loop 1972–73 All-Ireland Senior Club Football Championship\n",
            "Caught loop 1973–74 All-Ireland Senior Club Football Championship\n",
            "Caught loop 1974–75 All-Ireland Senior Club Football Championship\n",
            "Caught loop 1975–76 All-Ireland Senior Club Football Championship\n",
            "Caught loop 1976–77 All-Ireland Senior Club Football Championship\n",
            "Caught loop 1977–78 All-Ireland Senior Club Football Championship\n",
            "Caught loop 1978–79 All-Ireland Senior Club Football Championship\n",
            "Caught loop 1979–80 All-Ireland Senior Club Football Championship\n",
            "Caught loop 1980–81 All-Ireland Senior Club Football Championship\n",
            "Caught loop 1981–82 All-Ireland Senior Club Football Championship\n",
            "Caught loop 1982–83 All-Ireland Senior Club Football Championship\n",
            "Caught loop 1983–84 All-Ireland Senior Club Football Championship\n",
            "Caught loop 1984–85 All-Ireland Senior Club Football Championship\n",
            "Caught loop 1985–86 All-Ireland Senior Club Football Championship\n",
            "Caught loop 1986–87 All-Ireland Senior Club Football Championship\n",
            "Caught loop 1987–88 All-Ireland Senior Club Football Championship\n",
            "Caught loop 1988–89 All-Ireland Senior Club Football Championship\n",
            "Caught loop 1989–90 All-Ireland Senior Club Football Championship\n",
            "Caught loop 1990–91 All-Ireland Senior Club Football Championship\n",
            "Caught loop 1991–92 All-Ireland Senior Club Football Championship\n",
            "Caught loop 1992–93 All-Ireland Senior Club Football Championship\n",
            "Caught loop 1993–94 All-Ireland Senior Club Football Championship\n",
            "Caught loop 1994–95 All-Ireland Senior Club Football Championship\n",
            "Caught loop 1995–96 All-Ireland Senior Club Football Championship\n",
            "Caught loop 1996–97 All-Ireland Senior Club Football Championship\n",
            "Caught loop 1997–98 All-Ireland Senior Club Football Championship\n",
            "Caught loop 1998–99 All-Ireland Senior Club Football Championship\n",
            "Caught loop 1999–2000 All-Ireland Senior Club Football Championship\n",
            "Caught loop 2000–01 All-Ireland Senior Club Football Championship\n",
            "Caught loop 2001–02 All-Ireland Senior Club Football Championship\n",
            "Caught loop 2002–03 All-Ireland Senior Club Football Championship\n",
            "Caught loop 2003–04 All-Ireland Senior Club Football Championship\n",
            "Caught loop 2004–05 All-Ireland Senior Club Football Championship\n",
            "Caught loop 2005–06 All-Ireland Senior Club Football Championship\n",
            "Caught loop 2006–07 All-Ireland Senior Club Football Championship\n",
            "Caught loop 2007–08 All-Ireland Senior Club Football Championship\n",
            "Caught loop 2008–09 All-Ireland Senior Club Football Championship\n",
            "Caught loop 2009–10 All-Ireland Senior Club Football Championship\n",
            "2010-11 All-Ireland Senior Club Football Championship\n",
            "Caught loop 1970–71 All-Ireland Senior Club Football Championship\n",
            "Caught loop 1971–72 All-Ireland Senior Club Football Championship\n",
            "Caught loop 1972–73 All-Ireland Senior Club Football Championship\n",
            "Caught loop 1973–74 All-Ireland Senior Club Football Championship\n",
            "Caught loop 1974–75 All-Ireland Senior Club Football Championship\n",
            "Caught loop 1975–76 All-Ireland Senior Club Football Championship\n",
            "Caught loop 1976–77 All-Ireland Senior Club Football Championship\n",
            "Caught loop 1977–78 All-Ireland Senior Club Football Championship\n",
            "Caught loop 1978–79 All-Ireland Senior Club Football Championship\n",
            "Caught loop 1979–80 All-Ireland Senior Club Football Championship\n",
            "Caught loop 1980–81 All-Ireland Senior Club Football Championship\n",
            "Caught loop 1981–82 All-Ireland Senior Club Football Championship\n",
            "Caught loop 1982–83 All-Ireland Senior Club Football Championship\n",
            "Caught loop 1983–84 All-Ireland Senior Club Football Championship\n",
            "Caught loop 1984–85 All-Ireland Senior Club Football Championship\n",
            "Caught loop 1985–86 All-Ireland Senior Club Football Championship\n",
            "Caught loop 1986–87 All-Ireland Senior Club Football Championship\n",
            "Caught loop 1987–88 All-Ireland Senior Club Football Championship\n",
            "Caught loop 1988–89 All-Ireland Senior Club Football Championship\n",
            "Caught loop 1989–90 All-Ireland Senior Club Football Championship\n",
            "Caught loop 1990–91 All-Ireland Senior Club Football Championship\n",
            "Caught loop 1991–92 All-Ireland Senior Club Football Championship\n",
            "Caught loop 1992–93 All-Ireland Senior Club Football Championship\n",
            "Caught loop 1993–94 All-Ireland Senior Club Football Championship\n",
            "Caught loop 1994–95 All-Ireland Senior Club Football Championship\n",
            "Caught loop 1995–96 All-Ireland Senior Club Football Championship\n",
            "Caught loop 1996–97 All-Ireland Senior Club Football Championship\n",
            "Caught loop 1997–98 All-Ireland Senior Club Football Championship\n",
            "Caught loop 1998–99 All-Ireland Senior Club Football Championship\n",
            "Caught loop 1999–2000 All-Ireland Senior Club Football Championship\n",
            "Caught loop 2000-01 All-Ireland Senior Club Football Championship\n",
            "Caught loop 2000–01 All-Ireland Senior Club Football Championship\n",
            "Caught loop 2001–02 All-Ireland Senior Club Football Championship\n",
            "Caught loop 2002–03 All-Ireland Senior Club Football Championship\n",
            "Caught loop 2003–04 All-Ireland Senior Club Football Championship\n",
            "Caught loop 2004–05 All-Ireland Senior Club Football Championship\n",
            "Caught loop 2005–06 All-Ireland Senior Club Football Championship\n",
            "Caught loop 2006–07 All-Ireland Senior Club Football Championship\n",
            "Caught loop 2007–08 All-Ireland Senior Club Football Championship\n",
            "Caught loop 2008–09 All-Ireland Senior Club Football Championship\n",
            "Caught loop 2009–10 All-Ireland Senior Club Football Championship\n",
            "Caught loop 2010–11 All-Ireland Senior Club Football Championship\n",
            "Caught loop 2011–12 All-Ireland Senior Club Football Championship\n",
            "Caught loop 2012–13 All-Ireland Senior Club Football Championship\n",
            "2013–14 All-Ireland Senior Club Football Championship\n",
            "Caught loop 1970–71 All-Ireland Senior Club Football Championship\n",
            "Caught loop 1971–72 All-Ireland Senior Club Football Championship\n",
            "Caught loop 1972–73 All-Ireland Senior Club Football Championship\n",
            "Caught loop 1973–74 All-Ireland Senior Club Football Championship\n",
            "Caught loop 1974–75 All-Ireland Senior Club Football Championship\n",
            "Caught loop 1975–76 All-Ireland Senior Club Football Championship\n",
            "Caught loop 1976–77 All-Ireland Senior Club Football Championship\n",
            "Caught loop 1977–78 All-Ireland Senior Club Football Championship\n",
            "Caught loop 1978–79 All-Ireland Senior Club Football Championship\n",
            "Caught loop 1979–80 All-Ireland Senior Club Football Championship\n",
            "Caught loop 1980–81 All-Ireland Senior Club Football Championship\n",
            "Caught loop 1981–82 All-Ireland Senior Club Football Championship\n",
            "Caught loop 1982–83 All-Ireland Senior Club Football Championship\n",
            "Caught loop 1983–84 All-Ireland Senior Club Football Championship\n",
            "Caught loop 1984–85 All-Ireland Senior Club Football Championship\n",
            "Caught loop 1985–86 All-Ireland Senior Club Football Championship\n",
            "Caught loop 1986–87 All-Ireland Senior Club Football Championship\n",
            "Caught loop 1987–88 All-Ireland Senior Club Football Championship\n",
            "Caught loop 1988–89 All-Ireland Senior Club Football Championship\n",
            "Caught loop 1989–90 All-Ireland Senior Club Football Championship\n",
            "Caught loop 1990–91 All-Ireland Senior Club Football Championship\n",
            "Caught loop 1991–92 All-Ireland Senior Club Football Championship\n",
            "Caught loop 1992–93 All-Ireland Senior Club Football Championship\n",
            "Caught loop 1993–94 All-Ireland Senior Club Football Championship\n",
            "Caught loop 1994–95 All-Ireland Senior Club Football Championship\n",
            "Caught loop 1995–96 All-Ireland Senior Club Football Championship\n",
            "Caught loop 1996–97 All-Ireland Senior Club Football Championship\n",
            "Caught loop 1997–98 All-Ireland Senior Club Football Championship\n",
            "Caught loop 1998–99 All-Ireland Senior Club Football Championship\n",
            "Caught loop 1999–2000 All-Ireland Senior Club Football Championship\n",
            "Caught loop 2000-01 All-Ireland Senior Club Football Championship\n",
            "Caught loop 2000–01 All-Ireland Senior Club Football Championship\n",
            "Caught loop 2001–02 All-Ireland Senior Club Football Championship\n",
            "Caught loop 2002–03 All-Ireland Senior Club Football Championship\n",
            "Caught loop 2003–04 All-Ireland Senior Club Football Championship\n",
            "Caught loop 2004–05 All-Ireland Senior Club Football Championship\n",
            "Caught loop 2005–06 All-Ireland Senior Club Football Championship\n",
            "Caught loop 2006–07 All-Ireland Senior Club Football Championship\n",
            "Caught loop 2007–08 All-Ireland Senior Club Football Championship\n",
            "Caught loop 2008–09 All-Ireland Senior Club Football Championship\n",
            "Caught loop 2009–10 All-Ireland Senior Club Football Championship\n",
            "Caught loop 2010–11 All-Ireland Senior Club Football Championship\n",
            "Caught loop 2011–12 All-Ireland Senior Club Football Championship\n",
            "Caught loop 2012–13 All-Ireland Senior Club Football Championship\n",
            "Caught loop 2013–14 All-Ireland Senior Club Football Championship\n",
            "2014–15 All-Ireland Senior Club Football Championship\n",
            "Caught loop 1970–71 All-Ireland Senior Club Football Championship\n",
            "Caught loop 1971–72 All-Ireland Senior Club Football Championship\n",
            "Caught loop 1972–73 All-Ireland Senior Club Football Championship\n",
            "Caught loop 1973–74 All-Ireland Senior Club Football Championship\n",
            "Caught loop 1974–75 All-Ireland Senior Club Football Championship\n",
            "Caught loop 1975–76 All-Ireland Senior Club Football Championship\n",
            "Caught loop 1976–77 All-Ireland Senior Club Football Championship\n",
            "Caught loop 1977–78 All-Ireland Senior Club Football Championship\n",
            "Caught loop 1978–79 All-Ireland Senior Club Football Championship\n",
            "Caught loop 1979–80 All-Ireland Senior Club Football Championship\n",
            "Caught loop 1980–81 All-Ireland Senior Club Football Championship\n",
            "Caught loop 1981–82 All-Ireland Senior Club Football Championship\n",
            "Caught loop 1982–83 All-Ireland Senior Club Football Championship\n",
            "Caught loop 1983–84 All-Ireland Senior Club Football Championship\n",
            "Caught loop 1984–85 All-Ireland Senior Club Football Championship\n",
            "Caught loop 1985–86 All-Ireland Senior Club Football Championship\n",
            "Caught loop 1986–87 All-Ireland Senior Club Football Championship\n",
            "Caught loop 1987–88 All-Ireland Senior Club Football Championship\n",
            "Caught loop 1988–89 All-Ireland Senior Club Football Championship\n",
            "Caught loop 1989–90 All-Ireland Senior Club Football Championship\n",
            "Caught loop 1990–91 All-Ireland Senior Club Football Championship\n",
            "Caught loop 1991–92 All-Ireland Senior Club Football Championship\n",
            "Caught loop 1992–93 All-Ireland Senior Club Football Championship\n",
            "Caught loop 1993–94 All-Ireland Senior Club Football Championship\n",
            "Caught loop 1994–95 All-Ireland Senior Club Football Championship\n",
            "Caught loop 1995–96 All-Ireland Senior Club Football Championship\n",
            "Caught loop 1996–97 All-Ireland Senior Club Football Championship\n",
            "Caught loop 1997–98 All-Ireland Senior Club Football Championship\n",
            "Caught loop 1998–99 All-Ireland Senior Club Football Championship\n",
            "Caught loop 1999–2000 All-Ireland Senior Club Football Championship\n",
            "Caught loop 2000-01 All-Ireland Senior Club Football Championship\n",
            "Caught loop 2000–01 All-Ireland Senior Club Football Championship\n",
            "Caught loop 2001–02 All-Ireland Senior Club Football Championship\n",
            "Caught loop 2002–03 All-Ireland Senior Club Football Championship\n",
            "Caught loop 2003–04 All-Ireland Senior Club Football Championship\n",
            "Caught loop 2004–05 All-Ireland Senior Club Football Championship\n",
            "Caught loop 2005–06 All-Ireland Senior Club Football Championship\n",
            "Caught loop 2006–07 All-Ireland Senior Club Football Championship\n",
            "Caught loop 2007–08 All-Ireland Senior Club Football Championship\n",
            "Caught loop 2008–09 All-Ireland Senior Club Football Championship\n",
            "Caught loop 2009–10 All-Ireland Senior Club Football Championship\n",
            "Caught loop 2010–11 All-Ireland Senior Club Football Championship\n",
            "Caught loop 2011–12 All-Ireland Senior Club Football Championship\n",
            "Caught loop 2012–13 All-Ireland Senior Club Football Championship\n",
            "Caught loop 2013–14 All-Ireland Senior Club Football Championship\n",
            "Caught loop 2014–15 All-Ireland Senior Club Football Championship\n",
            "2015–16 All-Ireland Senior Club Football Championship\n",
            "Caught loop 1970–71 All-Ireland Senior Club Football Championship\n",
            "Caught loop 1971–72 All-Ireland Senior Club Football Championship\n",
            "Caught loop 1972–73 All-Ireland Senior Club Football Championship\n",
            "Caught loop 1973–74 All-Ireland Senior Club Football Championship\n",
            "Caught loop 1974–75 All-Ireland Senior Club Football Championship\n",
            "Caught loop 1975–76 All-Ireland Senior Club Football Championship\n",
            "Caught loop 1976–77 All-Ireland Senior Club Football Championship\n",
            "Caught loop 1977–78 All-Ireland Senior Club Football Championship\n",
            "Caught loop 1978–79 All-Ireland Senior Club Football Championship\n",
            "Caught loop 1979–80 All-Ireland Senior Club Football Championship\n",
            "Caught loop 1980–81 All-Ireland Senior Club Football Championship\n",
            "Caught loop 1981–82 All-Ireland Senior Club Football Championship\n",
            "Caught loop 1982–83 All-Ireland Senior Club Football Championship\n",
            "Caught loop 1983–84 All-Ireland Senior Club Football Championship\n",
            "Caught loop 1984–85 All-Ireland Senior Club Football Championship\n",
            "Caught loop 1985–86 All-Ireland Senior Club Football Championship\n",
            "Caught loop 1986–87 All-Ireland Senior Club Football Championship\n",
            "Caught loop 1987–88 All-Ireland Senior Club Football Championship\n",
            "Caught loop 1988–89 All-Ireland Senior Club Football Championship\n",
            "Caught loop 1989–90 All-Ireland Senior Club Football Championship\n",
            "Caught loop 1990–91 All-Ireland Senior Club Football Championship\n",
            "Caught loop 1991–92 All-Ireland Senior Club Football Championship\n",
            "Caught loop 1992–93 All-Ireland Senior Club Football Championship\n",
            "Caught loop 1993–94 All-Ireland Senior Club Football Championship\n",
            "Caught loop 1994–95 All-Ireland Senior Club Football Championship\n",
            "Caught loop 1995–96 All-Ireland Senior Club Football Championship\n",
            "Caught loop 1996–97 All-Ireland Senior Club Football Championship\n",
            "Caught loop 1997–98 All-Ireland Senior Club Football Championship\n",
            "Caught loop 1998–99 All-Ireland Senior Club Football Championship\n",
            "Caught loop 1999–2000 All-Ireland Senior Club Football Championship\n",
            "Caught loop 2000-01 All-Ireland Senior Club Football Championship\n",
            "Caught loop 2000–01 All-Ireland Senior Club Football Championship\n",
            "Caught loop 2001–02 All-Ireland Senior Club Football Championship\n",
            "Caught loop 2002–03 All-Ireland Senior Club Football Championship\n",
            "Caught loop 2003–04 All-Ireland Senior Club Football Championship\n",
            "Caught loop 2004–05 All-Ireland Senior Club Football Championship\n",
            "Caught loop 2005–06 All-Ireland Senior Club Football Championship\n",
            "Caught loop 2006–07 All-Ireland Senior Club Football Championship\n",
            "Caught loop 2007–08 All-Ireland Senior Club Football Championship\n",
            "Caught loop 2008–09 All-Ireland Senior Club Football Championship\n",
            "Caught loop 2009–10 All-Ireland Senior Club Football Championship\n",
            "Caught loop 2010–11 All-Ireland Senior Club Football Championship\n",
            "Caught loop 2011–12 All-Ireland Senior Club Football Championship\n",
            "Caught loop 2012–13 All-Ireland Senior Club Football Championship\n",
            "Caught loop 2013–14 All-Ireland Senior Club Football Championship\n",
            "Caught loop 2014–15 All-Ireland Senior Club Football Championship\n",
            "Caught loop 2015–16 All-Ireland Senior Club Football Championship\n",
            "2016–17 All-Ireland Senior Club Football Championship\n",
            "Caught loop 1970–71 All-Ireland Senior Club Football Championship\n",
            "Caught loop 1971–72 All-Ireland Senior Club Football Championship\n",
            "Caught loop 1972–73 All-Ireland Senior Club Football Championship\n",
            "Caught loop 1973–74 All-Ireland Senior Club Football Championship\n",
            "Caught loop 1974–75 All-Ireland Senior Club Football Championship\n",
            "Caught loop 1975–76 All-Ireland Senior Club Football Championship\n",
            "Caught loop 1976–77 All-Ireland Senior Club Football Championship\n",
            "Caught loop 1977–78 All-Ireland Senior Club Football Championship\n",
            "Caught loop 1978–79 All-Ireland Senior Club Football Championship\n",
            "Caught loop 1979–80 All-Ireland Senior Club Football Championship\n",
            "Caught loop 1980–81 All-Ireland Senior Club Football Championship\n",
            "Caught loop 1981–82 All-Ireland Senior Club Football Championship\n",
            "Caught loop 1982–83 All-Ireland Senior Club Football Championship\n",
            "Caught loop 1983–84 All-Ireland Senior Club Football Championship\n",
            "Caught loop 1984–85 All-Ireland Senior Club Football Championship\n",
            "Caught loop 1985–86 All-Ireland Senior Club Football Championship\n",
            "Caught loop 1986–87 All-Ireland Senior Club Football Championship\n",
            "Caught loop 1987–88 All-Ireland Senior Club Football Championship\n",
            "Caught loop 1988–89 All-Ireland Senior Club Football Championship\n",
            "Caught loop 1989–90 All-Ireland Senior Club Football Championship\n",
            "Caught loop 1990–91 All-Ireland Senior Club Football Championship\n",
            "Caught loop 1991–92 All-Ireland Senior Club Football Championship\n",
            "Caught loop 1992–93 All-Ireland Senior Club Football Championship\n",
            "Caught loop 1993–94 All-Ireland Senior Club Football Championship\n",
            "Caught loop 1994–95 All-Ireland Senior Club Football Championship\n",
            "Caught loop 1995–96 All-Ireland Senior Club Football Championship\n",
            "Caught loop 1996–97 All-Ireland Senior Club Football Championship\n",
            "Caught loop 1997–98 All-Ireland Senior Club Football Championship\n",
            "Caught loop 1998–99 All-Ireland Senior Club Football Championship\n",
            "Caught loop 1999–2000 All-Ireland Senior Club Football Championship\n",
            "Caught loop 2000-01 All-Ireland Senior Club Football Championship\n",
            "Caught loop 2000–01 All-Ireland Senior Club Football Championship\n",
            "Caught loop 2001–02 All-Ireland Senior Club Football Championship\n",
            "Caught loop 2002–03 All-Ireland Senior Club Football Championship\n",
            "Caught loop 2003–04 All-Ireland Senior Club Football Championship\n",
            "Caught loop 2004–05 All-Ireland Senior Club Football Championship\n",
            "Caught loop 2005–06 All-Ireland Senior Club Football Championship\n",
            "Caught loop 2006–07 All-Ireland Senior Club Football Championship\n",
            "Caught loop 2007–08 All-Ireland Senior Club Football Championship\n",
            "Caught loop 2008–09 All-Ireland Senior Club Football Championship\n",
            "Caught loop 2009–10 All-Ireland Senior Club Football Championship\n",
            "Caught loop 2010–11 All-Ireland Senior Club Football Championship\n",
            "Caught loop 2011–12 All-Ireland Senior Club Football Championship\n",
            "Caught loop 2012–13 All-Ireland Senior Club Football Championship\n",
            "Caught loop 2013–14 All-Ireland Senior Club Football Championship\n",
            "Caught loop 2014–15 All-Ireland Senior Club Football Championship\n",
            "Caught loop 2015–16 All-Ireland Senior Club Football Championship\n",
            "Caught loop 2016–17 All-Ireland Senior Club Football Championship\n",
            "2017–18 All-Ireland Senior Club Football Championship\n",
            "Caught loop 1970–71 All-Ireland Senior Club Football Championship\n",
            "Caught loop 1971–72 All-Ireland Senior Club Football Championship\n",
            "Caught loop 1972–73 All-Ireland Senior Club Football Championship\n",
            "Caught loop 1973–74 All-Ireland Senior Club Football Championship\n",
            "Caught loop 1974–75 All-Ireland Senior Club Football Championship\n",
            "Caught loop 1975–76 All-Ireland Senior Club Football Championship\n",
            "Caught loop 1976–77 All-Ireland Senior Club Football Championship\n",
            "Caught loop 1977–78 All-Ireland Senior Club Football Championship\n",
            "Caught loop 1978–79 All-Ireland Senior Club Football Championship\n",
            "Caught loop 1979–80 All-Ireland Senior Club Football Championship\n",
            "Caught loop 1980–81 All-Ireland Senior Club Football Championship\n",
            "Caught loop 1981–82 All-Ireland Senior Club Football Championship\n",
            "Caught loop 1982–83 All-Ireland Senior Club Football Championship\n",
            "Caught loop 1983–84 All-Ireland Senior Club Football Championship\n",
            "Caught loop 1984–85 All-Ireland Senior Club Football Championship\n",
            "Caught loop 1985–86 All-Ireland Senior Club Football Championship\n",
            "Caught loop 1986–87 All-Ireland Senior Club Football Championship\n",
            "Caught loop 1987–88 All-Ireland Senior Club Football Championship\n",
            "Caught loop 1988–89 All-Ireland Senior Club Football Championship\n",
            "Caught loop 1989–90 All-Ireland Senior Club Football Championship\n",
            "Caught loop 1990–91 All-Ireland Senior Club Football Championship\n",
            "Caught loop 1991–92 All-Ireland Senior Club Football Championship\n",
            "Caught loop 1992–93 All-Ireland Senior Club Football Championship\n",
            "Caught loop 1993–94 All-Ireland Senior Club Football Championship\n",
            "Caught loop 1994–95 All-Ireland Senior Club Football Championship\n",
            "Caught loop 1995–96 All-Ireland Senior Club Football Championship\n",
            "Caught loop 1996–97 All-Ireland Senior Club Football Championship\n",
            "Caught loop 1997–98 All-Ireland Senior Club Football Championship\n",
            "Caught loop 1998–99 All-Ireland Senior Club Football Championship\n",
            "Caught loop 1999–2000 All-Ireland Senior Club Football Championship\n",
            "Caught loop 2000-01 All-Ireland Senior Club Football Championship\n",
            "Caught loop 2000–01 All-Ireland Senior Club Football Championship\n",
            "Caught loop 2001–02 All-Ireland Senior Club Football Championship\n",
            "Caught loop 2002–03 All-Ireland Senior Club Football Championship\n",
            "Caught loop 2003–04 All-Ireland Senior Club Football Championship\n",
            "Caught loop 2004–05 All-Ireland Senior Club Football Championship\n",
            "Caught loop 2005–06 All-Ireland Senior Club Football Championship\n",
            "Caught loop 2006–07 All-Ireland Senior Club Football Championship\n",
            "Caught loop 2007–08 All-Ireland Senior Club Football Championship\n",
            "Caught loop 2008–09 All-Ireland Senior Club Football Championship\n",
            "Caught loop 2009–10 All-Ireland Senior Club Football Championship\n",
            "Caught loop 2010–11 All-Ireland Senior Club Football Championship\n",
            "Caught loop 2011–12 All-Ireland Senior Club Football Championship\n",
            "Caught loop 2012–13 All-Ireland Senior Club Football Championship\n",
            "Caught loop 2013–14 All-Ireland Senior Club Football Championship\n",
            "Caught loop 2014–15 All-Ireland Senior Club Football Championship\n",
            "Caught loop 2015–16 All-Ireland Senior Club Football Championship\n",
            "Caught loop 2016–17 All-Ireland Senior Club Football Championship\n",
            "Caught loop 2017–18 All-Ireland Senior Club Football Championship\n",
            "2018–19 All-Ireland Senior Club Football Championship\n",
            "Caught loop 1970–71 All-Ireland Senior Club Football Championship\n",
            "Caught loop 1971–72 All-Ireland Senior Club Football Championship\n",
            "Caught loop 1972–73 All-Ireland Senior Club Football Championship\n",
            "Caught loop 1973–74 All-Ireland Senior Club Football Championship\n",
            "Caught loop 1974–75 All-Ireland Senior Club Football Championship\n",
            "Caught loop 1975–76 All-Ireland Senior Club Football Championship\n",
            "Caught loop 1976–77 All-Ireland Senior Club Football Championship\n",
            "Caught loop 1977–78 All-Ireland Senior Club Football Championship\n",
            "Caught loop 1978–79 All-Ireland Senior Club Football Championship\n",
            "Caught loop 1979–80 All-Ireland Senior Club Football Championship\n",
            "Caught loop 1980–81 All-Ireland Senior Club Football Championship\n",
            "Caught loop 1981–82 All-Ireland Senior Club Football Championship\n",
            "Caught loop 1982–83 All-Ireland Senior Club Football Championship\n",
            "Caught loop 1983–84 All-Ireland Senior Club Football Championship\n",
            "Caught loop 1984–85 All-Ireland Senior Club Football Championship\n",
            "Caught loop 1985–86 All-Ireland Senior Club Football Championship\n",
            "Caught loop 1986–87 All-Ireland Senior Club Football Championship\n",
            "Caught loop 1987–88 All-Ireland Senior Club Football Championship\n",
            "Caught loop 1988–89 All-Ireland Senior Club Football Championship\n",
            "Caught loop 1989–90 All-Ireland Senior Club Football Championship\n",
            "Caught loop 1990–91 All-Ireland Senior Club Football Championship\n",
            "Caught loop 1991–92 All-Ireland Senior Club Football Championship\n",
            "Caught loop 1992–93 All-Ireland Senior Club Football Championship\n",
            "Caught loop 1993–94 All-Ireland Senior Club Football Championship\n",
            "Caught loop 1994–95 All-Ireland Senior Club Football Championship\n",
            "Caught loop 1995–96 All-Ireland Senior Club Football Championship\n",
            "Caught loop 1996–97 All-Ireland Senior Club Football Championship\n",
            "Caught loop 1997–98 All-Ireland Senior Club Football Championship\n",
            "Caught loop 1998–99 All-Ireland Senior Club Football Championship\n",
            "Caught loop 1999–2000 All-Ireland Senior Club Football Championship\n",
            "Caught loop 2000–01 All-Ireland Senior Club Football Championship\n",
            "Caught loop 2001–02 All-Ireland Senior Club Football Championship\n",
            "Caught loop 2002–03 All-Ireland Senior Club Football Championship\n",
            "Caught loop 2003–04 All-Ireland Senior Club Football Championship\n",
            "Caught loop 2004–05 All-Ireland Senior Club Football Championship\n",
            "Caught loop 2005–06 All-Ireland Senior Club Football Championship\n",
            "Caught loop 2006–07 All-Ireland Senior Club Football Championship\n",
            "Caught loop 2007–08 All-Ireland Senior Club Football Championship\n",
            "Caught loop 2008–09 All-Ireland Senior Club Football Championship\n",
            "Caught loop 2009–10 All-Ireland Senior Club Football Championship\n",
            "Caught loop 2010–11 All-Ireland Senior Club Football Championship\n",
            "Caught loop 2011–12 All-Ireland Senior Club Football Championship\n",
            "Caught loop 2012–13 All-Ireland Senior Club Football Championship\n",
            "Caught loop 2013–14 All-Ireland Senior Club Football Championship\n",
            "Caught loop 2014–15 All-Ireland Senior Club Football Championship\n",
            "Caught loop 2015–16 All-Ireland Senior Club Football Championship\n",
            "Caught loop 2016–17 All-Ireland Senior Club Football Championship\n",
            "Caught loop 2017–18 All-Ireland Senior Club Football Championship\n",
            "2018 Antrim Senior Football Championship\n",
            "1911 All-Ireland Senior Football Championship Final\n",
            "1887 All-Ireland Senior Football Championship Final\n"
          ],
          "name": "stdout"
        },
        {
          "output_type": "error",
          "ename": "PageError",
          "evalue": "ignored",
          "traceback": [
            "\u001b[0;31m---------------------------------------------------------------------------\u001b[0m",
            "\u001b[0;31mPageError\u001b[0m                                 Traceback (most recent call last)",
            "\u001b[0;32m<ipython-input-58-97d04cf8a27f>\u001b[0m in \u001b[0;36m<module>\u001b[0;34m()\u001b[0m\n\u001b[0;32m----> 1\u001b[0;31m \u001b[0mplay_wiki_game\u001b[0m\u001b[0;34m(\u001b[0m\u001b[0;34m'Alvin M. Weinberg'\u001b[0m\u001b[0;34m,\u001b[0m \u001b[0;34m'Albuquerque, New Mexico'\u001b[0m\u001b[0;34m)\u001b[0m\u001b[0;34m\u001b[0m\u001b[0;34m\u001b[0m\u001b[0m\n\u001b[0m",
            "\u001b[0;32m<ipython-input-31-64317976da7d>\u001b[0m in \u001b[0;36mplay_wiki_game\u001b[0;34m(start_page, target_page)\u001b[0m\n\u001b[1;32m      6\u001b[0m   \u001b[0;32mwhile\u001b[0m \u001b[0mcurrent_page\u001b[0m \u001b[0;34m!=\u001b[0m \u001b[0mtarget_page\u001b[0m\u001b[0;34m:\u001b[0m\u001b[0;34m\u001b[0m\u001b[0;34m\u001b[0m\u001b[0m\n\u001b[1;32m      7\u001b[0m     \u001b[0mprint\u001b[0m\u001b[0;34m(\u001b[0m\u001b[0mcurrent_page\u001b[0m\u001b[0;34m)\u001b[0m\u001b[0;34m\u001b[0m\u001b[0;34m\u001b[0m\u001b[0m\n\u001b[0;32m----> 8\u001b[0;31m     \u001b[0mcurrent_page\u001b[0m \u001b[0;34m=\u001b[0m \u001b[0mselect_branch\u001b[0m\u001b[0;34m(\u001b[0m\u001b[0mcurrent_page\u001b[0m\u001b[0;34m,\u001b[0m \u001b[0mtarget_page\u001b[0m\u001b[0;34m,\u001b[0m \u001b[0mpath_map\u001b[0m\u001b[0;34m)\u001b[0m\u001b[0;34m\u001b[0m\u001b[0;34m\u001b[0m\u001b[0m\n\u001b[0m\u001b[1;32m      9\u001b[0m     \u001b[0mpath_map\u001b[0m\u001b[0;34m.\u001b[0m\u001b[0mappend\u001b[0m\u001b[0;34m(\u001b[0m\u001b[0mcurrent_page\u001b[0m\u001b[0;34m)\u001b[0m\u001b[0;34m\u001b[0m\u001b[0;34m\u001b[0m\u001b[0m\n\u001b[1;32m     10\u001b[0m     \u001b[0;32mcontinue\u001b[0m\u001b[0;34m\u001b[0m\u001b[0;34m\u001b[0m\u001b[0m\n",
            "\u001b[0;32m<ipython-input-32-7ba663d8f873>\u001b[0m in \u001b[0;36mselect_branch\u001b[0;34m(current_page, target_page, path_map)\u001b[0m\n\u001b[1;32m      2\u001b[0m   \u001b[0;34m\"\"\"Return the title of the next page\"\"\"\u001b[0m\u001b[0;34m\u001b[0m\u001b[0;34m\u001b[0m\u001b[0m\n\u001b[1;32m      3\u001b[0m \u001b[0;34m\u001b[0m\u001b[0m\n\u001b[0;32m----> 4\u001b[0;31m   \u001b[0mroot_page\u001b[0m \u001b[0;34m=\u001b[0m \u001b[0mwikipedia\u001b[0m\u001b[0;34m.\u001b[0m\u001b[0mpage\u001b[0m\u001b[0;34m(\u001b[0m\u001b[0mcurrent_page\u001b[0m\u001b[0;34m)\u001b[0m\u001b[0;34m\u001b[0m\u001b[0;34m\u001b[0m\u001b[0m\n\u001b[0m\u001b[1;32m      5\u001b[0m   \u001b[0mbranch_list\u001b[0m \u001b[0;34m=\u001b[0m \u001b[0mroot_page\u001b[0m\u001b[0;34m.\u001b[0m\u001b[0mlinks\u001b[0m\u001b[0;34m\u001b[0m\u001b[0;34m\u001b[0m\u001b[0m\n\u001b[1;32m      6\u001b[0m \u001b[0;34m\u001b[0m\u001b[0m\n",
            "\u001b[0;32m/usr/local/lib/python3.6/dist-packages/wikipedia/wikipedia.py\u001b[0m in \u001b[0;36mpage\u001b[0;34m(title, pageid, auto_suggest, redirect, preload)\u001b[0m\n\u001b[1;32m    274\u001b[0m         \u001b[0;31m# if there is no suggestion or search results, the page doesn't exist\u001b[0m\u001b[0;34m\u001b[0m\u001b[0;34m\u001b[0m\u001b[0;34m\u001b[0m\u001b[0m\n\u001b[1;32m    275\u001b[0m         \u001b[0;32mraise\u001b[0m \u001b[0mPageError\u001b[0m\u001b[0;34m(\u001b[0m\u001b[0mtitle\u001b[0m\u001b[0;34m)\u001b[0m\u001b[0;34m\u001b[0m\u001b[0;34m\u001b[0m\u001b[0m\n\u001b[0;32m--> 276\u001b[0;31m     \u001b[0;32mreturn\u001b[0m \u001b[0mWikipediaPage\u001b[0m\u001b[0;34m(\u001b[0m\u001b[0mtitle\u001b[0m\u001b[0;34m,\u001b[0m \u001b[0mredirect\u001b[0m\u001b[0;34m=\u001b[0m\u001b[0mredirect\u001b[0m\u001b[0;34m,\u001b[0m \u001b[0mpreload\u001b[0m\u001b[0;34m=\u001b[0m\u001b[0mpreload\u001b[0m\u001b[0;34m)\u001b[0m\u001b[0;34m\u001b[0m\u001b[0;34m\u001b[0m\u001b[0m\n\u001b[0m\u001b[1;32m    277\u001b[0m   \u001b[0;32melif\u001b[0m \u001b[0mpageid\u001b[0m \u001b[0;32mis\u001b[0m \u001b[0;32mnot\u001b[0m \u001b[0;32mNone\u001b[0m\u001b[0;34m:\u001b[0m\u001b[0;34m\u001b[0m\u001b[0;34m\u001b[0m\u001b[0m\n\u001b[1;32m    278\u001b[0m     \u001b[0;32mreturn\u001b[0m \u001b[0mWikipediaPage\u001b[0m\u001b[0;34m(\u001b[0m\u001b[0mpageid\u001b[0m\u001b[0;34m=\u001b[0m\u001b[0mpageid\u001b[0m\u001b[0;34m,\u001b[0m \u001b[0mpreload\u001b[0m\u001b[0;34m=\u001b[0m\u001b[0mpreload\u001b[0m\u001b[0;34m)\u001b[0m\u001b[0;34m\u001b[0m\u001b[0;34m\u001b[0m\u001b[0m\n",
            "\u001b[0;32m/usr/local/lib/python3.6/dist-packages/wikipedia/wikipedia.py\u001b[0m in \u001b[0;36m__init__\u001b[0;34m(self, title, pageid, redirect, preload, original_title)\u001b[0m\n\u001b[1;32m    297\u001b[0m       \u001b[0;32mraise\u001b[0m \u001b[0mValueError\u001b[0m\u001b[0;34m(\u001b[0m\u001b[0;34m\"Either a title or a pageid must be specified\"\u001b[0m\u001b[0;34m)\u001b[0m\u001b[0;34m\u001b[0m\u001b[0;34m\u001b[0m\u001b[0m\n\u001b[1;32m    298\u001b[0m \u001b[0;34m\u001b[0m\u001b[0m\n\u001b[0;32m--> 299\u001b[0;31m     \u001b[0mself\u001b[0m\u001b[0;34m.\u001b[0m\u001b[0m__load\u001b[0m\u001b[0;34m(\u001b[0m\u001b[0mredirect\u001b[0m\u001b[0;34m=\u001b[0m\u001b[0mredirect\u001b[0m\u001b[0;34m,\u001b[0m \u001b[0mpreload\u001b[0m\u001b[0;34m=\u001b[0m\u001b[0mpreload\u001b[0m\u001b[0;34m)\u001b[0m\u001b[0;34m\u001b[0m\u001b[0;34m\u001b[0m\u001b[0m\n\u001b[0m\u001b[1;32m    300\u001b[0m \u001b[0;34m\u001b[0m\u001b[0m\n\u001b[1;32m    301\u001b[0m     \u001b[0;32mif\u001b[0m \u001b[0mpreload\u001b[0m\u001b[0;34m:\u001b[0m\u001b[0;34m\u001b[0m\u001b[0;34m\u001b[0m\u001b[0m\n",
            "\u001b[0;32m/usr/local/lib/python3.6/dist-packages/wikipedia/wikipedia.py\u001b[0m in \u001b[0;36m__load\u001b[0;34m(self, redirect, preload)\u001b[0m\n\u001b[1;32m    343\u001b[0m     \u001b[0;32mif\u001b[0m \u001b[0;34m'missing'\u001b[0m \u001b[0;32min\u001b[0m \u001b[0mpage\u001b[0m\u001b[0;34m:\u001b[0m\u001b[0;34m\u001b[0m\u001b[0;34m\u001b[0m\u001b[0m\n\u001b[1;32m    344\u001b[0m       \u001b[0;32mif\u001b[0m \u001b[0mhasattr\u001b[0m\u001b[0;34m(\u001b[0m\u001b[0mself\u001b[0m\u001b[0;34m,\u001b[0m \u001b[0;34m'title'\u001b[0m\u001b[0;34m)\u001b[0m\u001b[0;34m:\u001b[0m\u001b[0;34m\u001b[0m\u001b[0;34m\u001b[0m\u001b[0m\n\u001b[0;32m--> 345\u001b[0;31m         \u001b[0;32mraise\u001b[0m \u001b[0mPageError\u001b[0m\u001b[0;34m(\u001b[0m\u001b[0mself\u001b[0m\u001b[0;34m.\u001b[0m\u001b[0mtitle\u001b[0m\u001b[0;34m)\u001b[0m\u001b[0;34m\u001b[0m\u001b[0;34m\u001b[0m\u001b[0m\n\u001b[0m\u001b[1;32m    346\u001b[0m       \u001b[0;32melse\u001b[0m\u001b[0;34m:\u001b[0m\u001b[0;34m\u001b[0m\u001b[0;34m\u001b[0m\u001b[0m\n\u001b[1;32m    347\u001b[0m         \u001b[0;32mraise\u001b[0m \u001b[0mPageError\u001b[0m\u001b[0;34m(\u001b[0m\u001b[0mpageid\u001b[0m\u001b[0;34m=\u001b[0m\u001b[0mself\u001b[0m\u001b[0;34m.\u001b[0m\u001b[0mpageid\u001b[0m\u001b[0;34m)\u001b[0m\u001b[0;34m\u001b[0m\u001b[0;34m\u001b[0m\u001b[0m\n",
            "\u001b[0;31mPageError\u001b[0m: Page id \"1897 all ireland senior football championship finals\" does not match any pages. Try another id!"
          ]
        }
      ]
    }
  ]
}